{
 "cells": [
  {
   "cell_type": "code",
   "execution_count": 2,
   "metadata": {
    "ExecuteTime": {
     "end_time": "2020-04-09T13:36:52.254168Z",
     "start_time": "2020-04-09T13:36:52.242338Z"
    }
   },
   "outputs": [],
   "source": [
    "%load_ext autoreload\n",
    "%autoreload 2"
   ]
  },
  {
   "cell_type": "code",
   "execution_count": 3,
   "metadata": {
    "ExecuteTime": {
     "end_time": "2020-04-09T13:36:53.039870Z",
     "start_time": "2020-04-09T13:36:53.018906Z"
    }
   },
   "outputs": [],
   "source": [
    "import torch"
   ]
  },
  {
   "cell_type": "code",
   "execution_count": 4,
   "metadata": {
    "ExecuteTime": {
     "end_time": "2020-04-09T13:36:55.238416Z",
     "start_time": "2020-04-09T13:36:53.536224Z"
    }
   },
   "outputs": [],
   "source": [
    "import pandas as pd\n",
    "import plotly.graph_objects as go\n",
    "from ipywidgets import interact_manual\n",
    "import ipywidgets as widgets\n",
    "import torch\n",
    "import sys\n",
    "import os\n",
    "sys.path.append(os.path.expanduser('~/Desktop/Basset_E/'))\n",
    "from sample.utils.load_model import *\n",
    "import numpy as np\n",
    "from Interpretation.utils import *\n",
    "import json\n",
    "PDBX = os.environ['PDBX_UBC']"
   ]
  },
  {
   "cell_type": "markdown",
   "metadata": {},
   "source": [
    "# Data loading"
   ]
  },
  {
   "cell_type": "markdown",
   "metadata": {},
   "source": [
    "### Load Jaspar Name -> Matrix ID"
   ]
  },
  {
   "cell_type": "code",
   "execution_count": 5,
   "metadata": {
    "ExecuteTime": {
     "end_time": "2020-04-09T13:36:55.939465Z",
     "start_time": "2020-04-09T13:36:55.885224Z"
    }
   },
   "outputs": [],
   "source": [
    "with open(PDBX+'data/vertebrates.profiles.json') as handle:\n",
    "    matrix_2_name = json.loads(handle.read())\n",
    "matrix_2_name = {k.upper(): v for k, v in matrix_2_name.items()}\n",
    "name_2_matrix = {v: k for k, v in matrix_2_name.items()}"
   ]
  },
  {
   "cell_type": "markdown",
   "metadata": {},
   "source": [
    "### Load list motif Sasha"
   ]
  },
  {
   "cell_type": "code",
   "execution_count": 6,
   "metadata": {
    "ExecuteTime": {
     "end_time": "2020-04-09T13:36:57.013671Z",
     "start_time": "2020-04-09T13:36:56.991360Z"
    }
   },
   "outputs": [],
   "source": [
    "with open(PDBX+'data/sasha_ATAC/motifs_sasha.json') as handle:\n",
    "    name_2_string = json.loads(handle.read())\n",
    "name_2_string = {k.upper() : v for k,v in name_2_string.items()}"
   ]
  },
  {
   "cell_type": "code",
   "execution_count": null,
   "metadata": {},
   "outputs": [],
   "source": [
    "# Load Model\n",
    "# Load Model ( please use the same as the one for motif generation)\n",
    "t = torch.load(os.path.expanduser(PDBX+'Models/Basset_2019-11-04_19_23_35/model_loss_0.68.tar'))\n",
    "m, _ = load_model_E()\n",
    "m.load_state_dict(t['model_state_dict'])\n",
    "m.eval();\n",
    "activation = lambda x : 8*torch.sigmoid(x)+1\n",
    "# Load Data\n",
    "x = np.load(os.path.expanduser(PDBX+\"/data/perm_one_hot_seqs.npy\")) #load permuted sequences\n",
    "x = x.astype(np.float32)"
   ]
  },
  {
   "cell_type": "markdown",
   "metadata": {},
   "source": [
    "### Load Global Counts"
   ]
  },
  {
   "cell_type": "code",
   "execution_count": 12,
   "metadata": {
    "ExecuteTime": {
     "end_time": "2020-04-09T13:38:57.897369Z",
     "start_time": "2020-04-09T13:38:57.845741Z"
    }
   },
   "outputs": [],
   "source": [
    "run = 'Run_28_11_I1'\n",
    "generated = pd.read_csv(PDBX+'data/Runs_GA/{}/global_count_motifs_sasha.csv'.format(run),index_col=0).fillna(0)"
   ]
  },
  {
   "cell_type": "markdown",
   "metadata": {},
   "source": [
    "# Analysis"
   ]
  },
  {
   "cell_type": "markdown",
   "metadata": {},
   "source": [
    "## JASPAR Motifs"
   ]
  },
  {
   "cell_type": "code",
   "execution_count": 13,
   "metadata": {
    "ExecuteTime": {
     "end_time": "2020-04-09T13:38:59.572778Z",
     "start_time": "2020-04-09T13:38:59.516569Z"
    }
   },
   "outputs": [
    {
     "data": {
      "application/vnd.jupyter.widget-view+json": {
       "model_id": "9647ebe8f47746b7930600b0c7aaf0c5",
       "version_major": 2,
       "version_minor": 0
      },
      "text/plain": [
       "interactive(children=(Dropdown(description='gtask', options=('filter1', 'filter10', 'filter102', 'filter105', …"
      ]
     },
     "metadata": {},
     "output_type": "display_data"
    }
   ],
   "source": [
    "@interact_manual\n",
    "def plot_motifs_for_cell_type(gtask=generated.index.sort_values(), sort = False, n_disp = widgets.IntSlider(min=1, max=len(generated.columns), step=1, value=10)) :\n",
    "    fig = go.Figure()\n",
    "    if sort : \n",
    "        index_disp = generated.loc[gtask].sort_values(ascending=False)[0:n_disp].index\n",
    "        print('Most frequent motif generation : '+' '.join(index_disp))\n",
    "    else : \n",
    "        index_disp =  generated.columns\n",
    "    fig.add_trace(go.Bar(x=index_disp, y=generated.loc[gtask,index_disp],name='generated'))\n",
    "    fig.show()"
   ]
  },
  {
   "cell_type": "code",
   "execution_count": 14,
   "metadata": {
    "ExecuteTime": {
     "end_time": "2020-04-09T13:39:25.642534Z",
     "start_time": "2020-04-09T13:39:25.580963Z"
    }
   },
   "outputs": [
    {
     "data": {
      "application/vnd.jupyter.widget-view+json": {
       "model_id": "6bcf4facfc314f96b47614ed319a7798",
       "version_major": 2,
       "version_minor": 0
      },
      "text/plain": [
       "interactive(children=(Combobox(value='', description='motif', ensure_option=True, options=('B', 'innate.lym', …"
      ]
     },
     "metadata": {},
     "output_type": "display_data"
    }
   ],
   "source": [
    "@interact_manual\n",
    "def plot_motifs_for_cell_type(motif=widgets.Combobox(options=list(generated.columns),ensure_option=True,disabled=False)) :\n",
    "    if name_2_matrix.get(motif) :\n",
    "        fig = go.Figure()\n",
    "        fig.add_trace(go.Bar(x=generated.index, y=generated.loc[:,motif], name='generated'))\n",
    "        fig.show()\n",
    "        h,b, _ = simulate(m, activation, x,matrix_id='MA0014.1')\n",
    "        b.show()\n",
    "        h.show()"
   ]
  }
 ],
 "metadata": {
  "kernelspec": {
   "display_name": "Python 3",
   "language": "python",
   "name": "python3"
  },
  "language_info": {
   "codemirror_mode": {
    "name": "ipython",
    "version": 3
   },
   "file_extension": ".py",
   "mimetype": "text/x-python",
   "name": "python",
   "nbconvert_exporter": "python",
   "pygments_lexer": "ipython3",
   "version": "3.6.9"
  }
 },
 "nbformat": 4,
 "nbformat_minor": 2
}
