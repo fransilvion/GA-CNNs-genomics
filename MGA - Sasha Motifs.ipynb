{
 "cells": [
  {
   "cell_type": "code",
   "execution_count": 1,
   "metadata": {
    "ExecuteTime": {
     "end_time": "2020-04-30T20:45:21.989346Z",
     "start_time": "2020-04-30T20:45:21.971378Z"
    }
   },
   "outputs": [],
   "source": [
    "%load_ext autoreload\n",
    "%autoreload 2"
   ]
  },
  {
   "cell_type": "code",
   "execution_count": 2,
   "metadata": {
    "ExecuteTime": {
     "end_time": "2020-04-30T20:45:26.053370Z",
     "start_time": "2020-04-30T20:45:22.999619Z"
    }
   },
   "outputs": [],
   "source": [
    "import pandas as pd\n",
    "import plotly.graph_objects as go\n",
    "from ipywidgets import interact_manual\n",
    "import ipywidgets as widgets\n",
    "import torch\n",
    "import sys\n",
    "import os\n",
    "sys.path.append(os.path.expanduser('~/Desktop/Basset_E/'))\n",
    "from sample.utils.load_model import load_model_E\n",
    "import numpy as np\n",
    "from Interpretation.utils import *\n",
    "import json\n",
    "import seaborn as sns\n",
    "PDBX = os.environ['PDBX_UBC']"
   ]
  },
  {
   "cell_type": "code",
   "execution_count": 3,
   "metadata": {
    "ExecuteTime": {
     "end_time": "2020-04-30T20:45:26.430870Z",
     "start_time": "2020-04-30T20:45:26.054828Z"
    }
   },
   "outputs": [],
   "source": [
    "table  = pd.read_excel(PDBX+'data/sasha_ATAC/tableS1A.xlsx',index_col=1)\n",
    "a = table.iloc[0]\n",
    "table = table[1:]\n",
    "table.columns = a"
   ]
  },
  {
   "cell_type": "markdown",
   "metadata": {},
   "source": [
    "\n",
    "# Data Loading"
   ]
  },
  {
   "cell_type": "code",
   "execution_count": null,
   "metadata": {
    "ExecuteTime": {
     "end_time": "2020-04-14T13:19:36.575644Z",
     "start_time": "2020-04-14T13:19:36.518495Z"
    }
   },
   "outputs": [],
   "source": [
    "run = '/home/emeunier/Dropbox/UBC/data/Runs_GA/Random_Population'\n",
    "run2 = '/home/emeunier/Dropbox/UBC/data/Runs_GA/Run_28_11_F_10In_100It'\n",
    "\n",
    "# Sasha motifs generated count\n",
    "generated_smotifs = pd.read_csv('{}/global_count_motifs_sasha.csv'.format(run),index_col=0)\n",
    "generated_smotifs_2 = pd.read_csv('{}/global_count_motifs_sasha.csv'.format(run2),index_col=0)\n",
    "\n",
    "# Load Model ( please use the same as the one for motif generation)\n",
    "t = torch.load(os.path.expanduser('~/Dropbox/UBC/Models/Basset_2019-11-04_19_23_35/model_loss_0.68.tar'))\n",
    "m, _ = load_model_E()\n",
    "m.load_state_dict(t['model_state_dict'])\n",
    "m.eval();\n",
    "activation = lambda x : 8*torch.sigmoid(x)+1\n",
    "# Load Data\n",
    "x = np.load(os.path.expanduser(os.path.expanduser('~/Dropbox/UBC/data/perm_one_hot_seqs.npy'))) #load permuted sequences\n",
    "x = x.astype(np.float32)"
   ]
  },
  {
   "cell_type": "code",
   "execution_count": 4,
   "metadata": {
    "ExecuteTime": {
     "end_time": "2020-04-30T20:45:32.734120Z",
     "start_time": "2020-04-30T20:45:32.694207Z"
    }
   },
   "outputs": [],
   "source": [
    "run = 'Run_FB_GAN_22_04_3Fold'\n",
    "generated_smotifs = pd.read_csv(PDBX+'data/Runs_GA/{}/global_count_motifs_sasha.csv'.format(run),index_col=0).fillna(0)\n",
    "#generated_smotifs = generated_smotifs.drop(columns=['B'])\n",
    "generated_smotifs.rename(columns={'innate.lym':'lym', 'innate.lym_shuffled':'lym_shuffled'}, inplace=True)"
   ]
  },
  {
   "cell_type": "code",
   "execution_count": 12,
   "metadata": {
    "ExecuteTime": {
     "end_time": "2020-04-22T13:16:42.358171Z",
     "start_time": "2020-04-22T13:16:42.317572Z"
    }
   },
   "outputs": [],
   "source": [
    "generated_smotifs['B'] = generated_smotifs.loc[:,['fbgan' in x for x in generated_smotifs.columns]].mean(axis=1)\n",
    "generated_smotifs['general'] = generated_smotifs.loc[:,['wgan' in x for x in generated_smotifs.columns]].mean(axis=1)"
   ]
  },
  {
   "cell_type": "code",
   "execution_count": 13,
   "metadata": {
    "ExecuteTime": {
     "end_time": "2020-04-22T13:16:53.070436Z",
     "start_time": "2020-04-22T13:16:53.035678Z"
    }
   },
   "outputs": [],
   "source": [
    "groups_publi = {'B':'B', 'myeloid':['DC','MF','Mo','GN'], 'innate.lym':'ILC', 'stem':'Stem', 'abT':'abT', 'gdT':'gdT'}\n",
    "colors_groups = {'B':\"rgb(232,177,21)\", 'myeloid':\"rgb(228,40,141)\", 'innate.lym':\"rgb(115,196,79)\", 'stem':\"rgb(201,201,201)\", 'abT':\"rgb(250,107,68)\", 'gdT':\"rgb(95,115,160)\"}"
   ]
  },
  {
   "cell_type": "code",
   "execution_count": 5,
   "metadata": {
    "ExecuteTime": {
     "end_time": "2020-04-30T20:45:43.699142Z",
     "start_time": "2020-04-30T20:45:43.646103Z"
    }
   },
   "outputs": [
    {
     "data": {
      "text/html": [
       "<div>\n",
       "<style scoped>\n",
       "    .dataframe tbody tr th:only-of-type {\n",
       "        vertical-align: middle;\n",
       "    }\n",
       "\n",
       "    .dataframe tbody tr th {\n",
       "        vertical-align: top;\n",
       "    }\n",
       "\n",
       "    .dataframe thead th {\n",
       "        text-align: right;\n",
       "    }\n",
       "</style>\n",
       "<table border=\"1\" class=\"dataframe\">\n",
       "  <thead>\n",
       "    <tr style=\"text-align: right;\">\n",
       "      <th></th>\n",
       "      <th>Best overall TF match</th>\n",
       "      <th>Motif consensus Sequence</th>\n",
       "    </tr>\n",
       "  </thead>\n",
       "  <tbody>\n",
       "    <tr>\n",
       "      <th>filter1</th>\n",
       "      <td>Atf3</td>\n",
       "      <td>TGAAGGATACGACGACATG</td>\n",
       "    </tr>\n",
       "    <tr>\n",
       "      <th>filter6</th>\n",
       "      <td>Ebf1</td>\n",
       "      <td>TTTCCCAATGGAATTTAAG</td>\n",
       "    </tr>\n",
       "    <tr>\n",
       "      <th>filter8</th>\n",
       "      <td>Zeb1</td>\n",
       "      <td>GAGGGCGCCCAGGTGAGAG</td>\n",
       "    </tr>\n",
       "    <tr>\n",
       "      <th>filter9</th>\n",
       "      <td>MOTIF NOT KNOWN</td>\n",
       "      <td>CGGCTGTACAGTGAACATC</td>\n",
       "    </tr>\n",
       "    <tr>\n",
       "      <th>filter10</th>\n",
       "      <td>Runx</td>\n",
       "      <td>TTTGTGGTTTGAATTGTAA</td>\n",
       "    </tr>\n",
       "    <tr>\n",
       "      <th>filter11</th>\n",
       "      <td>Ets1</td>\n",
       "      <td>AGACAGGAAGTGGGTGTGG</td>\n",
       "    </tr>\n",
       "    <tr>\n",
       "      <th>filter14</th>\n",
       "      <td>Sox13</td>\n",
       "      <td>GGACACACTTCTCAATCAT</td>\n",
       "    </tr>\n",
       "    <tr>\n",
       "      <th>filter15</th>\n",
       "      <td>Runx</td>\n",
       "      <td>AAACCACAAAAACAAAAAA</td>\n",
       "    </tr>\n",
       "    <tr>\n",
       "      <th>filter23</th>\n",
       "      <td>Ctcf</td>\n",
       "      <td>GCCACTAGGGGGCGCCAGA</td>\n",
       "    </tr>\n",
       "    <tr>\n",
       "      <th>filter28</th>\n",
       "      <td>Mafg</td>\n",
       "      <td>GCGGAACTGAAGAGCTCTG</td>\n",
       "    </tr>\n",
       "    <tr>\n",
       "      <th>filter34</th>\n",
       "      <td>Cebp</td>\n",
       "      <td>TGAGAAGATATTACGTAAT</td>\n",
       "    </tr>\n",
       "    <tr>\n",
       "      <th>filter35</th>\n",
       "      <td>Nfix</td>\n",
       "      <td>AGTCTTGGCACGCTGCCAA</td>\n",
       "    </tr>\n",
       "    <tr>\n",
       "      <th>filter40</th>\n",
       "      <td>MOTIF NOT KNOWN</td>\n",
       "      <td>TTTTTCCAAGTTCTTTTTT</td>\n",
       "    </tr>\n",
       "    <tr>\n",
       "      <th>filter43</th>\n",
       "      <td>bZip</td>\n",
       "      <td>TCTGGCAGCAGTGAGAAGG</td>\n",
       "    </tr>\n",
       "    <tr>\n",
       "      <th>filter44</th>\n",
       "      <td>Pouf2f</td>\n",
       "      <td>CACCAAGAATATGCATACA</td>\n",
       "    </tr>\n",
       "    <tr>\n",
       "      <th>filter47</th>\n",
       "      <td>Runx</td>\n",
       "      <td>AGAGGTGTCTGTGGTTTGT</td>\n",
       "    </tr>\n",
       "    <tr>\n",
       "      <th>filter50</th>\n",
       "      <td>Lef1</td>\n",
       "      <td>TGCCGACTTCAAAGACCAC</td>\n",
       "    </tr>\n",
       "    <tr>\n",
       "      <th>filter51</th>\n",
       "      <td>bZip</td>\n",
       "      <td>AGTTCAGCAGACTGCAGCC</td>\n",
       "    </tr>\n",
       "    <tr>\n",
       "      <th>filter65</th>\n",
       "      <td>Nfkb1</td>\n",
       "      <td>TGGAAATAACCTCTCGATT</td>\n",
       "    </tr>\n",
       "    <tr>\n",
       "      <th>filter66</th>\n",
       "      <td>MOTIF NOT KNOWN</td>\n",
       "      <td>GGCCTGCTAATCTTACCTT</td>\n",
       "    </tr>\n",
       "    <tr>\n",
       "      <th>filter67</th>\n",
       "      <td>Mzf1</td>\n",
       "      <td>ACCCTTGGGATAATAGGTG</td>\n",
       "    </tr>\n",
       "    <tr>\n",
       "      <th>filter68</th>\n",
       "      <td>Nr1d1</td>\n",
       "      <td>GTAACTAGGTCAGTGTGAA</td>\n",
       "    </tr>\n",
       "    <tr>\n",
       "      <th>filter69</th>\n",
       "      <td>Ctcf</td>\n",
       "      <td>GTCCACTAGGTGGCACTCT</td>\n",
       "    </tr>\n",
       "    <tr>\n",
       "      <th>filter70</th>\n",
       "      <td>MOTIF NOT KNOWN</td>\n",
       "      <td>GGTCCACTGGACCGTTCCA</td>\n",
       "    </tr>\n",
       "    <tr>\n",
       "      <th>filter78</th>\n",
       "      <td>Tcf3</td>\n",
       "      <td>CACACACCTGTCTCCCTGG</td>\n",
       "    </tr>\n",
       "    <tr>\n",
       "      <th>filter80</th>\n",
       "      <td>Lef1</td>\n",
       "      <td>TCAACATCAAAGGAATGAG</td>\n",
       "    </tr>\n",
       "    <tr>\n",
       "      <th>filter85</th>\n",
       "      <td>Zkscan1</td>\n",
       "      <td>ATAACGACGTACTTGTCAT</td>\n",
       "    </tr>\n",
       "    <tr>\n",
       "      <th>filter89</th>\n",
       "      <td>Irf1</td>\n",
       "      <td>GAAACTGAAACTAAAAAGA</td>\n",
       "    </tr>\n",
       "    <tr>\n",
       "      <th>filter93</th>\n",
       "      <td>Zeb1</td>\n",
       "      <td>TCCAGGTGTGTGGCGGCAC</td>\n",
       "    </tr>\n",
       "    <tr>\n",
       "      <th>filter94</th>\n",
       "      <td>Pu.1</td>\n",
       "      <td>AAACAGAAGTGGAACCTGC</td>\n",
       "    </tr>\n",
       "    <tr>\n",
       "      <th>...</th>\n",
       "      <td>...</td>\n",
       "      <td>...</td>\n",
       "    </tr>\n",
       "    <tr>\n",
       "      <th>filter218</th>\n",
       "      <td>Pouf2f</td>\n",
       "      <td>TGATACATATGCAAATCAG</td>\n",
       "    </tr>\n",
       "    <tr>\n",
       "      <th>filter219</th>\n",
       "      <td>MOTIF NOT KNOWN</td>\n",
       "      <td>TAGTACTTCTGCCAGTAGC</td>\n",
       "    </tr>\n",
       "    <tr>\n",
       "      <th>filter220</th>\n",
       "      <td>Nr2f6</td>\n",
       "      <td>TATAGGTCAGTTGGTTGTA</td>\n",
       "    </tr>\n",
       "    <tr>\n",
       "      <th>filter223</th>\n",
       "      <td>MOTIF NOT KNOWN</td>\n",
       "      <td>ATATCGGCTGGTCTGGCCA</td>\n",
       "    </tr>\n",
       "    <tr>\n",
       "      <th>filter224</th>\n",
       "      <td>Irf1</td>\n",
       "      <td>GGGAAGTGAAACCGAAAAT</td>\n",
       "    </tr>\n",
       "    <tr>\n",
       "      <th>filter227</th>\n",
       "      <td>MOTIF NOT KNOWN</td>\n",
       "      <td>AACTGGCCATTGCCTCTCT</td>\n",
       "    </tr>\n",
       "    <tr>\n",
       "      <th>filter230</th>\n",
       "      <td>Sfpi1</td>\n",
       "      <td>CTACTTCCTCTTTTTTTTT</td>\n",
       "    </tr>\n",
       "    <tr>\n",
       "      <th>filter231</th>\n",
       "      <td>Nfkb1</td>\n",
       "      <td>AGAAAGTAGGGGATTTCCC</td>\n",
       "    </tr>\n",
       "    <tr>\n",
       "      <th>filter238</th>\n",
       "      <td>Nr1d1</td>\n",
       "      <td>GCCCAGTGACCTACTTCCT</td>\n",
       "    </tr>\n",
       "    <tr>\n",
       "      <th>filter242</th>\n",
       "      <td>Sp</td>\n",
       "      <td>GGCCCCGCCCCCTCCCCCC</td>\n",
       "    </tr>\n",
       "    <tr>\n",
       "      <th>filter244</th>\n",
       "      <td>Erg</td>\n",
       "      <td>CCACCTGTTTCCTTTCCTC</td>\n",
       "    </tr>\n",
       "    <tr>\n",
       "      <th>filter247</th>\n",
       "      <td>Nfkb2</td>\n",
       "      <td>ACAAGAAATCCCCTGCTCC</td>\n",
       "    </tr>\n",
       "    <tr>\n",
       "      <th>filter250</th>\n",
       "      <td>Irf1</td>\n",
       "      <td>GGTTTCACTTTCCTAGGGT</td>\n",
       "    </tr>\n",
       "    <tr>\n",
       "      <th>filter252</th>\n",
       "      <td>Ets</td>\n",
       "      <td>CCACTTCCTGTCTCTTTTC</td>\n",
       "    </tr>\n",
       "    <tr>\n",
       "      <th>filter255</th>\n",
       "      <td>Sfpi1</td>\n",
       "      <td>AAAAAAAAAGAGGAAGTGA</td>\n",
       "    </tr>\n",
       "    <tr>\n",
       "      <th>filter257</th>\n",
       "      <td>Pax5</td>\n",
       "      <td>TTTGTTACACTTCAGTGAC</td>\n",
       "    </tr>\n",
       "    <tr>\n",
       "      <th>filter260</th>\n",
       "      <td>Ebf1</td>\n",
       "      <td>AGTCCCTAGGGACTTGAGT</td>\n",
       "    </tr>\n",
       "    <tr>\n",
       "      <th>filter264</th>\n",
       "      <td>Mafg</td>\n",
       "      <td>TGCCTCAGCTAAGATGAGC</td>\n",
       "    </tr>\n",
       "    <tr>\n",
       "      <th>filter270</th>\n",
       "      <td>MOTIF NOT KNOWN</td>\n",
       "      <td>GGCTCTAGTAGTAATTAAA</td>\n",
       "    </tr>\n",
       "    <tr>\n",
       "      <th>filter275</th>\n",
       "      <td>Ctcf</td>\n",
       "      <td>CCGCCCCCTAGTGGCCAGA</td>\n",
       "    </tr>\n",
       "    <tr>\n",
       "      <th>filter276</th>\n",
       "      <td>Sfpi1</td>\n",
       "      <td>AAATAAAAATGGGGAAGTG</td>\n",
       "    </tr>\n",
       "    <tr>\n",
       "      <th>filter279</th>\n",
       "      <td>Eomes</td>\n",
       "      <td>AGCAATTTCACACCCATGC</td>\n",
       "    </tr>\n",
       "    <tr>\n",
       "      <th>filter281</th>\n",
       "      <td>MOTIF NOT KNOWN</td>\n",
       "      <td>AGCTCCTGACAGCTGACCA</td>\n",
       "    </tr>\n",
       "    <tr>\n",
       "      <th>filter283</th>\n",
       "      <td>bZip</td>\n",
       "      <td>CGGCTGCTGACTTCACAGT</td>\n",
       "    </tr>\n",
       "    <tr>\n",
       "      <th>filter284</th>\n",
       "      <td>Homeodomain</td>\n",
       "      <td>GTGAAGCATAGCTACATCG</td>\n",
       "    </tr>\n",
       "    <tr>\n",
       "      <th>filter286</th>\n",
       "      <td>Sfpi1</td>\n",
       "      <td>CTATCTTACTTCCTCTTTT</td>\n",
       "    </tr>\n",
       "    <tr>\n",
       "      <th>filter288</th>\n",
       "      <td>Emoes</td>\n",
       "      <td>CAACTGGATTTCACACCTT</td>\n",
       "    </tr>\n",
       "    <tr>\n",
       "      <th>filter290</th>\n",
       "      <td>Mafg</td>\n",
       "      <td>TCATGCTGTGAGCATCATC</td>\n",
       "    </tr>\n",
       "    <tr>\n",
       "      <th>filter292</th>\n",
       "      <td>Fos</td>\n",
       "      <td>ATGAGTCATCACTTTACAC</td>\n",
       "    </tr>\n",
       "    <tr>\n",
       "      <th>filter297</th>\n",
       "      <td>Mecp2</td>\n",
       "      <td>CACTGACTGTGGTATTGAG</td>\n",
       "    </tr>\n",
       "  </tbody>\n",
       "</table>\n",
       "<p>99 rows × 2 columns</p>\n",
       "</div>"
      ],
      "text/plain": [
       "          Best overall TF match Motif consensus Sequence\n",
       "filter1                    Atf3      TGAAGGATACGACGACATG\n",
       "filter6                    Ebf1      TTTCCCAATGGAATTTAAG\n",
       "filter8                    Zeb1      GAGGGCGCCCAGGTGAGAG\n",
       "filter9         MOTIF NOT KNOWN      CGGCTGTACAGTGAACATC\n",
       "filter10                   Runx      TTTGTGGTTTGAATTGTAA\n",
       "filter11                   Ets1      AGACAGGAAGTGGGTGTGG\n",
       "filter14                  Sox13      GGACACACTTCTCAATCAT\n",
       "filter15                   Runx      AAACCACAAAAACAAAAAA\n",
       "filter23                   Ctcf      GCCACTAGGGGGCGCCAGA\n",
       "filter28                   Mafg      GCGGAACTGAAGAGCTCTG\n",
       "filter34                   Cebp      TGAGAAGATATTACGTAAT\n",
       "filter35                   Nfix      AGTCTTGGCACGCTGCCAA\n",
       "filter40        MOTIF NOT KNOWN      TTTTTCCAAGTTCTTTTTT\n",
       "filter43                   bZip      TCTGGCAGCAGTGAGAAGG\n",
       "filter44                 Pouf2f      CACCAAGAATATGCATACA\n",
       "filter47                   Runx      AGAGGTGTCTGTGGTTTGT\n",
       "filter50                   Lef1      TGCCGACTTCAAAGACCAC\n",
       "filter51                   bZip      AGTTCAGCAGACTGCAGCC\n",
       "filter65                  Nfkb1      TGGAAATAACCTCTCGATT\n",
       "filter66        MOTIF NOT KNOWN      GGCCTGCTAATCTTACCTT\n",
       "filter67                   Mzf1      ACCCTTGGGATAATAGGTG\n",
       "filter68                  Nr1d1      GTAACTAGGTCAGTGTGAA\n",
       "filter69                   Ctcf      GTCCACTAGGTGGCACTCT\n",
       "filter70        MOTIF NOT KNOWN      GGTCCACTGGACCGTTCCA\n",
       "filter78                   Tcf3      CACACACCTGTCTCCCTGG\n",
       "filter80                   Lef1      TCAACATCAAAGGAATGAG\n",
       "filter85                Zkscan1      ATAACGACGTACTTGTCAT\n",
       "filter89                   Irf1      GAAACTGAAACTAAAAAGA\n",
       "filter93                   Zeb1      TCCAGGTGTGTGGCGGCAC\n",
       "filter94                   Pu.1      AAACAGAAGTGGAACCTGC\n",
       "...                         ...                      ...\n",
       "filter218                Pouf2f      TGATACATATGCAAATCAG\n",
       "filter219       MOTIF NOT KNOWN      TAGTACTTCTGCCAGTAGC\n",
       "filter220                 Nr2f6      TATAGGTCAGTTGGTTGTA\n",
       "filter223       MOTIF NOT KNOWN      ATATCGGCTGGTCTGGCCA\n",
       "filter224                  Irf1      GGGAAGTGAAACCGAAAAT\n",
       "filter227       MOTIF NOT KNOWN      AACTGGCCATTGCCTCTCT\n",
       "filter230                 Sfpi1      CTACTTCCTCTTTTTTTTT\n",
       "filter231                 Nfkb1      AGAAAGTAGGGGATTTCCC\n",
       "filter238                 Nr1d1      GCCCAGTGACCTACTTCCT\n",
       "filter242                    Sp      GGCCCCGCCCCCTCCCCCC\n",
       "filter244                   Erg      CCACCTGTTTCCTTTCCTC\n",
       "filter247                 Nfkb2      ACAAGAAATCCCCTGCTCC\n",
       "filter250                  Irf1      GGTTTCACTTTCCTAGGGT\n",
       "filter252                   Ets      CCACTTCCTGTCTCTTTTC\n",
       "filter255                 Sfpi1      AAAAAAAAAGAGGAAGTGA\n",
       "filter257                  Pax5      TTTGTTACACTTCAGTGAC\n",
       "filter260                  Ebf1      AGTCCCTAGGGACTTGAGT\n",
       "filter264                  Mafg      TGCCTCAGCTAAGATGAGC\n",
       "filter270       MOTIF NOT KNOWN      GGCTCTAGTAGTAATTAAA\n",
       "filter275                  Ctcf      CCGCCCCCTAGTGGCCAGA\n",
       "filter276                 Sfpi1      AAATAAAAATGGGGAAGTG\n",
       "filter279                 Eomes      AGCAATTTCACACCCATGC\n",
       "filter281       MOTIF NOT KNOWN      AGCTCCTGACAGCTGACCA\n",
       "filter283                  bZip      CGGCTGCTGACTTCACAGT\n",
       "filter284           Homeodomain      GTGAAGCATAGCTACATCG\n",
       "filter286                 Sfpi1      CTATCTTACTTCCTCTTTT\n",
       "filter288                 Emoes      CAACTGGATTTCACACCTT\n",
       "filter290                  Mafg      TCATGCTGTGAGCATCATC\n",
       "filter292                   Fos      ATGAGTCATCACTTTACAC\n",
       "filter297                 Mecp2      CACTGACTGTGGTATTGAG\n",
       "\n",
       "[99 rows x 2 columns]"
      ]
     },
     "execution_count": 5,
     "metadata": {},
     "output_type": "execute_result"
    }
   ],
   "source": [
    "generated_smotifs"
   ]
  },
  {
   "cell_type": "markdown",
   "metadata": {},
   "source": [
    "# Analysis"
   ]
  },
  {
   "cell_type": "markdown",
   "metadata": {},
   "source": [
    "\n",
    "## Generated Sequences Analysis"
   ]
  },
  {
   "cell_type": "code",
   "execution_count": 14,
   "metadata": {
    "ExecuteTime": {
     "end_time": "2020-04-22T13:16:55.507160Z",
     "start_time": "2020-04-22T13:16:55.449899Z"
    }
   },
   "outputs": [
    {
     "data": {
      "application/vnd.jupyter.widget-view+json": {
       "model_id": "447ce7417638446b88c274791c591dad",
       "version_major": 2,
       "version_minor": 0
      },
      "text/plain": [
       "interactive(children=(Dropdown(description='ct', options=('wgan_generated_sequences_2', 'fbgan_generated_seque…"
      ]
     },
     "metadata": {},
     "output_type": "display_data"
    }
   ],
   "source": [
    "@interact_manual\n",
    "def motif_frequence_sasha(ct = generated_smotifs.drop(columns=['Best overall TF match','Motif consensus Sequence']).columns) :\n",
    "    go.Figure(go.Bar(y = generated_smotifs[ct], x =generated_smotifs.index)).show()"
   ]
  },
  {
   "cell_type": "code",
   "execution_count": 15,
   "metadata": {
    "ExecuteTime": {
     "end_time": "2020-04-22T13:16:56.283489Z",
     "start_time": "2020-04-22T13:16:56.217396Z"
    }
   },
   "outputs": [
    {
     "data": {
      "application/vnd.jupyter.widget-view+json": {
       "model_id": "05d0d1d52d76403f849d623c9aa19e10",
       "version_major": 2,
       "version_minor": 0
      },
      "text/plain": [
       "interactive(children=(Dropdown(description='motif', options=('filter247', 'filter123', 'filter260', 'filter231…"
      ]
     },
     "metadata": {},
     "output_type": "display_data"
    }
   ],
   "source": [
    "@interact_manual\n",
    "def motifs_influence_sasha(motif=generated_smotifs.drop(columns=['Best overall TF match','Motif consensus Sequence']).max(axis=1).sort_values(ascending=False).index) :\n",
    "    dfr = generated_smotifs.drop(columns= ['Best overall TF match','Motif consensus Sequence']).loc[motif]\n",
    "    fig = go.Figure()\n",
    "    fig.update_layout(title=\" Presence of the motif in Generated Sequences : \\n Filter : {} Motif : {} Length : {}\".format(motif,generated_smotifs.loc[motif,'Best overall TF match'],len(generated_smotifs.loc[motif,'Motif consensus Sequence'])))\n",
    "    fig.add_trace(go.Bar(x=dfr.index, y=dfr, name='generated'))\n",
    "    fig.update_layout({\n",
    "                           'yaxis': {'title': 'Presence', 'range': [0, 1]},\n",
    "                           'barmode': 'relative'\n",
    "                      })\n",
    "    fig.show()\n",
    "    h, b, _ = simulate(m, activation, x, motif_string=generated_smotifs.loc[motif,'Motif consensus Sequence'])\n",
    "    b.update_layout({\n",
    "                           'yaxis': {'title': 'Activation Motif', 'range': [1, 9]},\n",
    "                           'barmode': 'relative'\n",
    "                      })\n",
    "    b.update_layout(title=\"Influence of the motif on the activation score\")\n",
    "    b.show()\n",
    "    h.show()"
   ]
  },
  {
   "cell_type": "markdown",
   "metadata": {
    "heading_collapsed": true
   },
   "source": [
    "## Compare Motif Importance - Sasha Importance Score"
   ]
  },
  {
   "cell_type": "code",
   "execution_count": 10,
   "metadata": {
    "ExecuteTime": {
     "end_time": "2020-04-09T14:45:25.622439Z",
     "start_time": "2020-04-09T14:45:25.580918Z"
    },
    "hidden": true
   },
   "outputs": [],
   "source": [
    "sasha_importance = pd.read_csv(PDBX+'data/sasha_ATAC/influence_bylineage_signed.csv',index_col=0)"
   ]
  },
  {
   "cell_type": "code",
   "execution_count": 11,
   "metadata": {
    "ExecuteTime": {
     "end_time": "2020-04-09T14:45:26.777902Z",
     "start_time": "2020-04-09T14:45:26.627578Z"
    },
    "hidden": true
   },
   "outputs": [
    {
     "data": {
      "application/vnd.plotly.v1+json": {
       "config": {
        "plotlyServerURL": "https://plot.ly"
       },
       "data": [
        {
         "type": "bar",
         "x": [
          "filter1",
          "filter10",
          "filter102",
          "filter105",
          "filter106",
          "filter11",
          "filter112",
          "filter115",
          "filter120",
          "filter122",
          "filter123",
          "filter124",
          "filter127",
          "filter129",
          "filter132",
          "filter133",
          "filter135",
          "filter14",
          "filter15",
          "filter151",
          "filter154",
          "filter155",
          "filter157",
          "filter165",
          "filter166",
          "filter167",
          "filter170",
          "filter173",
          "filter174",
          "filter178",
          "filter183",
          "filter185",
          "filter186",
          "filter190",
          "filter194",
          "filter195",
          "filter196",
          "filter198",
          "filter202",
          "filter205",
          "filter209",
          "filter214",
          "filter217",
          "filter218",
          "filter219",
          "filter220",
          "filter223",
          "filter224",
          "filter227",
          "filter23",
          "filter230",
          "filter231",
          "filter238",
          "filter242",
          "filter244",
          "filter247",
          "filter250",
          "filter252",
          "filter255",
          "filter257",
          "filter260",
          "filter264",
          "filter270",
          "filter275",
          "filter276",
          "filter279",
          "filter28",
          "filter281",
          "filter283",
          "filter284",
          "filter286",
          "filter288",
          "filter290",
          "filter292",
          "filter297",
          "filter34",
          "filter35",
          "filter40",
          "filter43",
          "filter44",
          "filter47",
          "filter50",
          "filter51",
          "filter6",
          "filter65",
          "filter66",
          "filter67",
          "filter68",
          "filter69",
          "filter70",
          "filter78",
          "filter8",
          "filter80",
          "filter85",
          "filter89",
          "filter9",
          "filter93",
          "filter94",
          "filter97"
         ],
         "y": [
          39.203693,
          -402.54517000000004,
          412.90213,
          5.4272860000000005,
          -58.68184,
          -1090.8273,
          -105.569534,
          106.90898999999999,
          -269.6302,
          175.23782,
          6.974089599999999,
          39.266983,
          145.5155,
          28.971123,
          -126.98443600000002,
          6015.0874,
          -3.6725992999999995,
          62.9225,
          -385.7197,
          68.14161999999999,
          -112.63316999999999,
          40.268035999999995,
          37.789320000000004,
          794.6979,
          -134.8873,
          -106.23656000000001,
          63.113969999999995,
          295.10278,
          8623.075,
          -23.577017,
          328.21477999999996,
          29.690072999999998,
          27.466115999999996,
          -148.02827,
          460.04967999999997,
          -271.9715,
          1.8906319,
          -190.51486,
          13.997015,
          881.9212,
          159.18407,
          -39.94068,
          -157.4451,
          -96.44976,
          -133.45335,
          390.2719,
          10.593132,
          105.91546000000001,
          283.76926000000003,
          -137.49591,
          1166.76,
          -164.51413,
          356.8812,
          620.58093,
          -3.1504812,
          -59.946380000000005,
          96.586395,
          -550.0134,
          10499.1875,
          -19.060497,
          -230.21184,
          -1406.8064,
          -148.21945,
          -112.58523999999998,
          333.07358,
          70.45238499999999,
          -158.83209,
          51.96349,
          -79.38781999999999,
          38.898483,
          632.4139,
          -32.823757,
          -475.07797,
          1378.1564,
          76.926315,
          9585.634,
          77.755554,
          88.83423,
          -217.3566,
          -6.8107085000000005,
          -201.43286,
          -63.632965000000006,
          -1455.3485,
          19.288439,
          -1570.5686,
          2.055244,
          104.61475,
          -98.43805,
          -48.244614,
          21.564291,
          -3675.921,
          -464.38302999999996,
          -75.64233,
          -72.98074,
          317.0207,
          -556.3859,
          -1480.396,
          419.02423,
          11.360511
         ]
        }
       ],
       "layout": {
        "template": {
         "data": {
          "bar": [
           {
            "error_x": {
             "color": "#2a3f5f"
            },
            "error_y": {
             "color": "#2a3f5f"
            },
            "marker": {
             "line": {
              "color": "#E5ECF6",
              "width": 0.5
             }
            },
            "type": "bar"
           }
          ],
          "barpolar": [
           {
            "marker": {
             "line": {
              "color": "#E5ECF6",
              "width": 0.5
             }
            },
            "type": "barpolar"
           }
          ],
          "carpet": [
           {
            "aaxis": {
             "endlinecolor": "#2a3f5f",
             "gridcolor": "white",
             "linecolor": "white",
             "minorgridcolor": "white",
             "startlinecolor": "#2a3f5f"
            },
            "baxis": {
             "endlinecolor": "#2a3f5f",
             "gridcolor": "white",
             "linecolor": "white",
             "minorgridcolor": "white",
             "startlinecolor": "#2a3f5f"
            },
            "type": "carpet"
           }
          ],
          "choropleth": [
           {
            "colorbar": {
             "outlinewidth": 0,
             "ticks": ""
            },
            "type": "choropleth"
           }
          ],
          "contour": [
           {
            "colorbar": {
             "outlinewidth": 0,
             "ticks": ""
            },
            "colorscale": [
             [
              0,
              "#0d0887"
             ],
             [
              0.1111111111111111,
              "#46039f"
             ],
             [
              0.2222222222222222,
              "#7201a8"
             ],
             [
              0.3333333333333333,
              "#9c179e"
             ],
             [
              0.4444444444444444,
              "#bd3786"
             ],
             [
              0.5555555555555556,
              "#d8576b"
             ],
             [
              0.6666666666666666,
              "#ed7953"
             ],
             [
              0.7777777777777778,
              "#fb9f3a"
             ],
             [
              0.8888888888888888,
              "#fdca26"
             ],
             [
              1,
              "#f0f921"
             ]
            ],
            "type": "contour"
           }
          ],
          "contourcarpet": [
           {
            "colorbar": {
             "outlinewidth": 0,
             "ticks": ""
            },
            "type": "contourcarpet"
           }
          ],
          "heatmap": [
           {
            "colorbar": {
             "outlinewidth": 0,
             "ticks": ""
            },
            "colorscale": [
             [
              0,
              "#0d0887"
             ],
             [
              0.1111111111111111,
              "#46039f"
             ],
             [
              0.2222222222222222,
              "#7201a8"
             ],
             [
              0.3333333333333333,
              "#9c179e"
             ],
             [
              0.4444444444444444,
              "#bd3786"
             ],
             [
              0.5555555555555556,
              "#d8576b"
             ],
             [
              0.6666666666666666,
              "#ed7953"
             ],
             [
              0.7777777777777778,
              "#fb9f3a"
             ],
             [
              0.8888888888888888,
              "#fdca26"
             ],
             [
              1,
              "#f0f921"
             ]
            ],
            "type": "heatmap"
           }
          ],
          "heatmapgl": [
           {
            "colorbar": {
             "outlinewidth": 0,
             "ticks": ""
            },
            "colorscale": [
             [
              0,
              "#0d0887"
             ],
             [
              0.1111111111111111,
              "#46039f"
             ],
             [
              0.2222222222222222,
              "#7201a8"
             ],
             [
              0.3333333333333333,
              "#9c179e"
             ],
             [
              0.4444444444444444,
              "#bd3786"
             ],
             [
              0.5555555555555556,
              "#d8576b"
             ],
             [
              0.6666666666666666,
              "#ed7953"
             ],
             [
              0.7777777777777778,
              "#fb9f3a"
             ],
             [
              0.8888888888888888,
              "#fdca26"
             ],
             [
              1,
              "#f0f921"
             ]
            ],
            "type": "heatmapgl"
           }
          ],
          "histogram": [
           {
            "marker": {
             "colorbar": {
              "outlinewidth": 0,
              "ticks": ""
             }
            },
            "type": "histogram"
           }
          ],
          "histogram2d": [
           {
            "colorbar": {
             "outlinewidth": 0,
             "ticks": ""
            },
            "colorscale": [
             [
              0,
              "#0d0887"
             ],
             [
              0.1111111111111111,
              "#46039f"
             ],
             [
              0.2222222222222222,
              "#7201a8"
             ],
             [
              0.3333333333333333,
              "#9c179e"
             ],
             [
              0.4444444444444444,
              "#bd3786"
             ],
             [
              0.5555555555555556,
              "#d8576b"
             ],
             [
              0.6666666666666666,
              "#ed7953"
             ],
             [
              0.7777777777777778,
              "#fb9f3a"
             ],
             [
              0.8888888888888888,
              "#fdca26"
             ],
             [
              1,
              "#f0f921"
             ]
            ],
            "type": "histogram2d"
           }
          ],
          "histogram2dcontour": [
           {
            "colorbar": {
             "outlinewidth": 0,
             "ticks": ""
            },
            "colorscale": [
             [
              0,
              "#0d0887"
             ],
             [
              0.1111111111111111,
              "#46039f"
             ],
             [
              0.2222222222222222,
              "#7201a8"
             ],
             [
              0.3333333333333333,
              "#9c179e"
             ],
             [
              0.4444444444444444,
              "#bd3786"
             ],
             [
              0.5555555555555556,
              "#d8576b"
             ],
             [
              0.6666666666666666,
              "#ed7953"
             ],
             [
              0.7777777777777778,
              "#fb9f3a"
             ],
             [
              0.8888888888888888,
              "#fdca26"
             ],
             [
              1,
              "#f0f921"
             ]
            ],
            "type": "histogram2dcontour"
           }
          ],
          "mesh3d": [
           {
            "colorbar": {
             "outlinewidth": 0,
             "ticks": ""
            },
            "type": "mesh3d"
           }
          ],
          "parcoords": [
           {
            "line": {
             "colorbar": {
              "outlinewidth": 0,
              "ticks": ""
             }
            },
            "type": "parcoords"
           }
          ],
          "scatter": [
           {
            "marker": {
             "colorbar": {
              "outlinewidth": 0,
              "ticks": ""
             }
            },
            "type": "scatter"
           }
          ],
          "scatter3d": [
           {
            "line": {
             "colorbar": {
              "outlinewidth": 0,
              "ticks": ""
             }
            },
            "marker": {
             "colorbar": {
              "outlinewidth": 0,
              "ticks": ""
             }
            },
            "type": "scatter3d"
           }
          ],
          "scattercarpet": [
           {
            "marker": {
             "colorbar": {
              "outlinewidth": 0,
              "ticks": ""
             }
            },
            "type": "scattercarpet"
           }
          ],
          "scattergeo": [
           {
            "marker": {
             "colorbar": {
              "outlinewidth": 0,
              "ticks": ""
             }
            },
            "type": "scattergeo"
           }
          ],
          "scattergl": [
           {
            "marker": {
             "colorbar": {
              "outlinewidth": 0,
              "ticks": ""
             }
            },
            "type": "scattergl"
           }
          ],
          "scattermapbox": [
           {
            "marker": {
             "colorbar": {
              "outlinewidth": 0,
              "ticks": ""
             }
            },
            "type": "scattermapbox"
           }
          ],
          "scatterpolar": [
           {
            "marker": {
             "colorbar": {
              "outlinewidth": 0,
              "ticks": ""
             }
            },
            "type": "scatterpolar"
           }
          ],
          "scatterpolargl": [
           {
            "marker": {
             "colorbar": {
              "outlinewidth": 0,
              "ticks": ""
             }
            },
            "type": "scatterpolargl"
           }
          ],
          "scatterternary": [
           {
            "marker": {
             "colorbar": {
              "outlinewidth": 0,
              "ticks": ""
             }
            },
            "type": "scatterternary"
           }
          ],
          "surface": [
           {
            "colorbar": {
             "outlinewidth": 0,
             "ticks": ""
            },
            "colorscale": [
             [
              0,
              "#0d0887"
             ],
             [
              0.1111111111111111,
              "#46039f"
             ],
             [
              0.2222222222222222,
              "#7201a8"
             ],
             [
              0.3333333333333333,
              "#9c179e"
             ],
             [
              0.4444444444444444,
              "#bd3786"
             ],
             [
              0.5555555555555556,
              "#d8576b"
             ],
             [
              0.6666666666666666,
              "#ed7953"
             ],
             [
              0.7777777777777778,
              "#fb9f3a"
             ],
             [
              0.8888888888888888,
              "#fdca26"
             ],
             [
              1,
              "#f0f921"
             ]
            ],
            "type": "surface"
           }
          ],
          "table": [
           {
            "cells": {
             "fill": {
              "color": "#EBF0F8"
             },
             "line": {
              "color": "white"
             }
            },
            "header": {
             "fill": {
              "color": "#C8D4E3"
             },
             "line": {
              "color": "white"
             }
            },
            "type": "table"
           }
          ]
         },
         "layout": {
          "annotationdefaults": {
           "arrowcolor": "#2a3f5f",
           "arrowhead": 0,
           "arrowwidth": 1
          },
          "colorscale": {
           "diverging": [
            [
             0,
             "#8e0152"
            ],
            [
             0.1,
             "#c51b7d"
            ],
            [
             0.2,
             "#de77ae"
            ],
            [
             0.3,
             "#f1b6da"
            ],
            [
             0.4,
             "#fde0ef"
            ],
            [
             0.5,
             "#f7f7f7"
            ],
            [
             0.6,
             "#e6f5d0"
            ],
            [
             0.7,
             "#b8e186"
            ],
            [
             0.8,
             "#7fbc41"
            ],
            [
             0.9,
             "#4d9221"
            ],
            [
             1,
             "#276419"
            ]
           ],
           "sequential": [
            [
             0,
             "#0d0887"
            ],
            [
             0.1111111111111111,
             "#46039f"
            ],
            [
             0.2222222222222222,
             "#7201a8"
            ],
            [
             0.3333333333333333,
             "#9c179e"
            ],
            [
             0.4444444444444444,
             "#bd3786"
            ],
            [
             0.5555555555555556,
             "#d8576b"
            ],
            [
             0.6666666666666666,
             "#ed7953"
            ],
            [
             0.7777777777777778,
             "#fb9f3a"
            ],
            [
             0.8888888888888888,
             "#fdca26"
            ],
            [
             1,
             "#f0f921"
            ]
           ],
           "sequentialminus": [
            [
             0,
             "#0d0887"
            ],
            [
             0.1111111111111111,
             "#46039f"
            ],
            [
             0.2222222222222222,
             "#7201a8"
            ],
            [
             0.3333333333333333,
             "#9c179e"
            ],
            [
             0.4444444444444444,
             "#bd3786"
            ],
            [
             0.5555555555555556,
             "#d8576b"
            ],
            [
             0.6666666666666666,
             "#ed7953"
            ],
            [
             0.7777777777777778,
             "#fb9f3a"
            ],
            [
             0.8888888888888888,
             "#fdca26"
            ],
            [
             1,
             "#f0f921"
            ]
           ]
          },
          "colorway": [
           "#636efa",
           "#EF553B",
           "#00cc96",
           "#ab63fa",
           "#FFA15A",
           "#19d3f3",
           "#FF6692",
           "#B6E880",
           "#FF97FF",
           "#FECB52"
          ],
          "font": {
           "color": "#2a3f5f"
          },
          "geo": {
           "bgcolor": "white",
           "lakecolor": "white",
           "landcolor": "#E5ECF6",
           "showlakes": true,
           "showland": true,
           "subunitcolor": "white"
          },
          "hoverlabel": {
           "align": "left"
          },
          "hovermode": "closest",
          "mapbox": {
           "style": "light"
          },
          "paper_bgcolor": "white",
          "plot_bgcolor": "#E5ECF6",
          "polar": {
           "angularaxis": {
            "gridcolor": "white",
            "linecolor": "white",
            "ticks": ""
           },
           "bgcolor": "#E5ECF6",
           "radialaxis": {
            "gridcolor": "white",
            "linecolor": "white",
            "ticks": ""
           }
          },
          "scene": {
           "xaxis": {
            "backgroundcolor": "#E5ECF6",
            "gridcolor": "white",
            "gridwidth": 2,
            "linecolor": "white",
            "showbackground": true,
            "ticks": "",
            "zerolinecolor": "white"
           },
           "yaxis": {
            "backgroundcolor": "#E5ECF6",
            "gridcolor": "white",
            "gridwidth": 2,
            "linecolor": "white",
            "showbackground": true,
            "ticks": "",
            "zerolinecolor": "white"
           },
           "zaxis": {
            "backgroundcolor": "#E5ECF6",
            "gridcolor": "white",
            "gridwidth": 2,
            "linecolor": "white",
            "showbackground": true,
            "ticks": "",
            "zerolinecolor": "white"
           }
          },
          "shapedefaults": {
           "line": {
            "color": "#2a3f5f"
           }
          },
          "ternary": {
           "aaxis": {
            "gridcolor": "white",
            "linecolor": "white",
            "ticks": ""
           },
           "baxis": {
            "gridcolor": "white",
            "linecolor": "white",
            "ticks": ""
           },
           "bgcolor": "#E5ECF6",
           "caxis": {
            "gridcolor": "white",
            "linecolor": "white",
            "ticks": ""
           }
          },
          "title": {
           "x": 0.05
          },
          "xaxis": {
           "automargin": true,
           "gridcolor": "white",
           "linecolor": "white",
           "ticks": "",
           "zerolinecolor": "white",
           "zerolinewidth": 2
          },
          "yaxis": {
           "automargin": true,
           "gridcolor": "white",
           "linecolor": "white",
           "ticks": "",
           "zerolinecolor": "white",
           "zerolinewidth": 2
          }
         }
        },
        "xaxis": {
         "title": {
          "text": "Filter"
         }
        },
        "yaxis": {
         "title": {
          "text": "Importance im Sasha's model"
         }
        }
       }
      },
      "text/html": [
       "<div>\n",
       "        \n",
       "        \n",
       "            <div id=\"b5228dfc-65d0-4559-93f1-c7263cfbcbf5\" class=\"plotly-graph-div\" style=\"height:525px; width:100%;\"></div>\n",
       "            <script type=\"text/javascript\">\n",
       "                require([\"plotly\"], function(Plotly) {\n",
       "                    window.PLOTLYENV=window.PLOTLYENV || {};\n",
       "                    \n",
       "                if (document.getElementById(\"b5228dfc-65d0-4559-93f1-c7263cfbcbf5\")) {\n",
       "                    Plotly.newPlot(\n",
       "                        'b5228dfc-65d0-4559-93f1-c7263cfbcbf5',\n",
       "                        [{\"type\": \"bar\", \"x\": [\"filter1\", \"filter10\", \"filter102\", \"filter105\", \"filter106\", \"filter11\", \"filter112\", \"filter115\", \"filter120\", \"filter122\", \"filter123\", \"filter124\", \"filter127\", \"filter129\", \"filter132\", \"filter133\", \"filter135\", \"filter14\", \"filter15\", \"filter151\", \"filter154\", \"filter155\", \"filter157\", \"filter165\", \"filter166\", \"filter167\", \"filter170\", \"filter173\", \"filter174\", \"filter178\", \"filter183\", \"filter185\", \"filter186\", \"filter190\", \"filter194\", \"filter195\", \"filter196\", \"filter198\", \"filter202\", \"filter205\", \"filter209\", \"filter214\", \"filter217\", \"filter218\", \"filter219\", \"filter220\", \"filter223\", \"filter224\", \"filter227\", \"filter23\", \"filter230\", \"filter231\", \"filter238\", \"filter242\", \"filter244\", \"filter247\", \"filter250\", \"filter252\", \"filter255\", \"filter257\", \"filter260\", \"filter264\", \"filter270\", \"filter275\", \"filter276\", \"filter279\", \"filter28\", \"filter281\", \"filter283\", \"filter284\", \"filter286\", \"filter288\", \"filter290\", \"filter292\", \"filter297\", \"filter34\", \"filter35\", \"filter40\", \"filter43\", \"filter44\", \"filter47\", \"filter50\", \"filter51\", \"filter6\", \"filter65\", \"filter66\", \"filter67\", \"filter68\", \"filter69\", \"filter70\", \"filter78\", \"filter8\", \"filter80\", \"filter85\", \"filter89\", \"filter9\", \"filter93\", \"filter94\", \"filter97\"], \"y\": [39.203693, -402.54517000000004, 412.90213, 5.4272860000000005, -58.68184, -1090.8273, -105.569534, 106.90898999999999, -269.6302, 175.23782, 6.974089599999999, 39.266983, 145.5155, 28.971123, -126.98443600000002, 6015.0874, -3.6725992999999995, 62.9225, -385.7197, 68.14161999999999, -112.63316999999999, 40.268035999999995, 37.789320000000004, 794.6979, -134.8873, -106.23656000000001, 63.113969999999995, 295.10278, 8623.075, -23.577017, 328.21477999999996, 29.690072999999998, 27.466115999999996, -148.02827, 460.04967999999997, -271.9715, 1.8906319, -190.51486, 13.997015, 881.9212, 159.18407, -39.94068, -157.4451, -96.44976, -133.45335, 390.2719, 10.593132, 105.91546000000001, 283.76926000000003, -137.49591, 1166.76, -164.51413, 356.8812, 620.58093, -3.1504812, -59.946380000000005, 96.586395, -550.0134, 10499.1875, -19.060497, -230.21184, -1406.8064, -148.21945, -112.58523999999998, 333.07358, 70.45238499999999, -158.83209, 51.96349, -79.38781999999999, 38.898483, 632.4139, -32.823757, -475.07797, 1378.1564, 76.926315, 9585.634, 77.755554, 88.83423, -217.3566, -6.8107085000000005, -201.43286, -63.632965000000006, -1455.3485, 19.288439, -1570.5686, 2.055244, 104.61475, -98.43805, -48.244614, 21.564291, -3675.921, -464.38302999999996, -75.64233, -72.98074, 317.0207, -556.3859, -1480.396, 419.02423, 11.360511]}],\n",
       "                        {\"template\": {\"data\": {\"bar\": [{\"error_x\": {\"color\": \"#2a3f5f\"}, \"error_y\": {\"color\": \"#2a3f5f\"}, \"marker\": {\"line\": {\"color\": \"#E5ECF6\", \"width\": 0.5}}, \"type\": \"bar\"}], \"barpolar\": [{\"marker\": {\"line\": {\"color\": \"#E5ECF6\", \"width\": 0.5}}, \"type\": \"barpolar\"}], \"carpet\": [{\"aaxis\": {\"endlinecolor\": \"#2a3f5f\", \"gridcolor\": \"white\", \"linecolor\": \"white\", \"minorgridcolor\": \"white\", \"startlinecolor\": \"#2a3f5f\"}, \"baxis\": {\"endlinecolor\": \"#2a3f5f\", \"gridcolor\": \"white\", \"linecolor\": \"white\", \"minorgridcolor\": \"white\", \"startlinecolor\": \"#2a3f5f\"}, \"type\": \"carpet\"}], \"choropleth\": [{\"colorbar\": {\"outlinewidth\": 0, \"ticks\": \"\"}, \"type\": \"choropleth\"}], \"contour\": [{\"colorbar\": {\"outlinewidth\": 0, \"ticks\": \"\"}, \"colorscale\": [[0.0, \"#0d0887\"], [0.1111111111111111, \"#46039f\"], [0.2222222222222222, \"#7201a8\"], [0.3333333333333333, \"#9c179e\"], [0.4444444444444444, \"#bd3786\"], [0.5555555555555556, \"#d8576b\"], [0.6666666666666666, \"#ed7953\"], [0.7777777777777778, \"#fb9f3a\"], [0.8888888888888888, \"#fdca26\"], [1.0, \"#f0f921\"]], \"type\": \"contour\"}], \"contourcarpet\": [{\"colorbar\": {\"outlinewidth\": 0, \"ticks\": \"\"}, \"type\": \"contourcarpet\"}], \"heatmap\": [{\"colorbar\": {\"outlinewidth\": 0, \"ticks\": \"\"}, \"colorscale\": [[0.0, \"#0d0887\"], [0.1111111111111111, \"#46039f\"], [0.2222222222222222, \"#7201a8\"], [0.3333333333333333, \"#9c179e\"], [0.4444444444444444, \"#bd3786\"], [0.5555555555555556, \"#d8576b\"], [0.6666666666666666, \"#ed7953\"], [0.7777777777777778, \"#fb9f3a\"], [0.8888888888888888, \"#fdca26\"], [1.0, \"#f0f921\"]], \"type\": \"heatmap\"}], \"heatmapgl\": [{\"colorbar\": {\"outlinewidth\": 0, \"ticks\": \"\"}, \"colorscale\": [[0.0, \"#0d0887\"], [0.1111111111111111, \"#46039f\"], [0.2222222222222222, \"#7201a8\"], [0.3333333333333333, \"#9c179e\"], [0.4444444444444444, \"#bd3786\"], [0.5555555555555556, \"#d8576b\"], [0.6666666666666666, \"#ed7953\"], [0.7777777777777778, \"#fb9f3a\"], [0.8888888888888888, \"#fdca26\"], [1.0, \"#f0f921\"]], \"type\": \"heatmapgl\"}], \"histogram\": [{\"marker\": {\"colorbar\": {\"outlinewidth\": 0, \"ticks\": \"\"}}, \"type\": \"histogram\"}], \"histogram2d\": [{\"colorbar\": {\"outlinewidth\": 0, \"ticks\": \"\"}, \"colorscale\": [[0.0, \"#0d0887\"], [0.1111111111111111, \"#46039f\"], [0.2222222222222222, \"#7201a8\"], [0.3333333333333333, \"#9c179e\"], [0.4444444444444444, \"#bd3786\"], [0.5555555555555556, \"#d8576b\"], [0.6666666666666666, \"#ed7953\"], [0.7777777777777778, \"#fb9f3a\"], [0.8888888888888888, \"#fdca26\"], [1.0, \"#f0f921\"]], \"type\": \"histogram2d\"}], \"histogram2dcontour\": [{\"colorbar\": {\"outlinewidth\": 0, \"ticks\": \"\"}, \"colorscale\": [[0.0, \"#0d0887\"], [0.1111111111111111, \"#46039f\"], [0.2222222222222222, \"#7201a8\"], [0.3333333333333333, \"#9c179e\"], [0.4444444444444444, \"#bd3786\"], [0.5555555555555556, \"#d8576b\"], [0.6666666666666666, \"#ed7953\"], [0.7777777777777778, \"#fb9f3a\"], [0.8888888888888888, \"#fdca26\"], [1.0, \"#f0f921\"]], \"type\": \"histogram2dcontour\"}], \"mesh3d\": [{\"colorbar\": {\"outlinewidth\": 0, \"ticks\": \"\"}, \"type\": \"mesh3d\"}], \"parcoords\": [{\"line\": {\"colorbar\": {\"outlinewidth\": 0, \"ticks\": \"\"}}, \"type\": \"parcoords\"}], \"scatter\": [{\"marker\": {\"colorbar\": {\"outlinewidth\": 0, \"ticks\": \"\"}}, \"type\": \"scatter\"}], \"scatter3d\": [{\"line\": {\"colorbar\": {\"outlinewidth\": 0, \"ticks\": \"\"}}, \"marker\": {\"colorbar\": {\"outlinewidth\": 0, \"ticks\": \"\"}}, \"type\": \"scatter3d\"}], \"scattercarpet\": [{\"marker\": {\"colorbar\": {\"outlinewidth\": 0, \"ticks\": \"\"}}, \"type\": \"scattercarpet\"}], \"scattergeo\": [{\"marker\": {\"colorbar\": {\"outlinewidth\": 0, \"ticks\": \"\"}}, \"type\": \"scattergeo\"}], \"scattergl\": [{\"marker\": {\"colorbar\": {\"outlinewidth\": 0, \"ticks\": \"\"}}, \"type\": \"scattergl\"}], \"scattermapbox\": [{\"marker\": {\"colorbar\": {\"outlinewidth\": 0, \"ticks\": \"\"}}, \"type\": \"scattermapbox\"}], \"scatterpolar\": [{\"marker\": {\"colorbar\": {\"outlinewidth\": 0, \"ticks\": \"\"}}, \"type\": \"scatterpolar\"}], \"scatterpolargl\": [{\"marker\": {\"colorbar\": {\"outlinewidth\": 0, \"ticks\": \"\"}}, \"type\": \"scatterpolargl\"}], \"scatterternary\": [{\"marker\": {\"colorbar\": {\"outlinewidth\": 0, \"ticks\": \"\"}}, \"type\": \"scatterternary\"}], \"surface\": [{\"colorbar\": {\"outlinewidth\": 0, \"ticks\": \"\"}, \"colorscale\": [[0.0, \"#0d0887\"], [0.1111111111111111, \"#46039f\"], [0.2222222222222222, \"#7201a8\"], [0.3333333333333333, \"#9c179e\"], [0.4444444444444444, \"#bd3786\"], [0.5555555555555556, \"#d8576b\"], [0.6666666666666666, \"#ed7953\"], [0.7777777777777778, \"#fb9f3a\"], [0.8888888888888888, \"#fdca26\"], [1.0, \"#f0f921\"]], \"type\": \"surface\"}], \"table\": [{\"cells\": {\"fill\": {\"color\": \"#EBF0F8\"}, \"line\": {\"color\": \"white\"}}, \"header\": {\"fill\": {\"color\": \"#C8D4E3\"}, \"line\": {\"color\": \"white\"}}, \"type\": \"table\"}]}, \"layout\": {\"annotationdefaults\": {\"arrowcolor\": \"#2a3f5f\", \"arrowhead\": 0, \"arrowwidth\": 1}, \"colorscale\": {\"diverging\": [[0, \"#8e0152\"], [0.1, \"#c51b7d\"], [0.2, \"#de77ae\"], [0.3, \"#f1b6da\"], [0.4, \"#fde0ef\"], [0.5, \"#f7f7f7\"], [0.6, \"#e6f5d0\"], [0.7, \"#b8e186\"], [0.8, \"#7fbc41\"], [0.9, \"#4d9221\"], [1, \"#276419\"]], \"sequential\": [[0.0, \"#0d0887\"], [0.1111111111111111, \"#46039f\"], [0.2222222222222222, \"#7201a8\"], [0.3333333333333333, \"#9c179e\"], [0.4444444444444444, \"#bd3786\"], [0.5555555555555556, \"#d8576b\"], [0.6666666666666666, \"#ed7953\"], [0.7777777777777778, \"#fb9f3a\"], [0.8888888888888888, \"#fdca26\"], [1.0, \"#f0f921\"]], \"sequentialminus\": [[0.0, \"#0d0887\"], [0.1111111111111111, \"#46039f\"], [0.2222222222222222, \"#7201a8\"], [0.3333333333333333, \"#9c179e\"], [0.4444444444444444, \"#bd3786\"], [0.5555555555555556, \"#d8576b\"], [0.6666666666666666, \"#ed7953\"], [0.7777777777777778, \"#fb9f3a\"], [0.8888888888888888, \"#fdca26\"], [1.0, \"#f0f921\"]]}, \"colorway\": [\"#636efa\", \"#EF553B\", \"#00cc96\", \"#ab63fa\", \"#FFA15A\", \"#19d3f3\", \"#FF6692\", \"#B6E880\", \"#FF97FF\", \"#FECB52\"], \"font\": {\"color\": \"#2a3f5f\"}, \"geo\": {\"bgcolor\": \"white\", \"lakecolor\": \"white\", \"landcolor\": \"#E5ECF6\", \"showlakes\": true, \"showland\": true, \"subunitcolor\": \"white\"}, \"hoverlabel\": {\"align\": \"left\"}, \"hovermode\": \"closest\", \"mapbox\": {\"style\": \"light\"}, \"paper_bgcolor\": \"white\", \"plot_bgcolor\": \"#E5ECF6\", \"polar\": {\"angularaxis\": {\"gridcolor\": \"white\", \"linecolor\": \"white\", \"ticks\": \"\"}, \"bgcolor\": \"#E5ECF6\", \"radialaxis\": {\"gridcolor\": \"white\", \"linecolor\": \"white\", \"ticks\": \"\"}}, \"scene\": {\"xaxis\": {\"backgroundcolor\": \"#E5ECF6\", \"gridcolor\": \"white\", \"gridwidth\": 2, \"linecolor\": \"white\", \"showbackground\": true, \"ticks\": \"\", \"zerolinecolor\": \"white\"}, \"yaxis\": {\"backgroundcolor\": \"#E5ECF6\", \"gridcolor\": \"white\", \"gridwidth\": 2, \"linecolor\": \"white\", \"showbackground\": true, \"ticks\": \"\", \"zerolinecolor\": \"white\"}, \"zaxis\": {\"backgroundcolor\": \"#E5ECF6\", \"gridcolor\": \"white\", \"gridwidth\": 2, \"linecolor\": \"white\", \"showbackground\": true, \"ticks\": \"\", \"zerolinecolor\": \"white\"}}, \"shapedefaults\": {\"line\": {\"color\": \"#2a3f5f\"}}, \"ternary\": {\"aaxis\": {\"gridcolor\": \"white\", \"linecolor\": \"white\", \"ticks\": \"\"}, \"baxis\": {\"gridcolor\": \"white\", \"linecolor\": \"white\", \"ticks\": \"\"}, \"bgcolor\": \"#E5ECF6\", \"caxis\": {\"gridcolor\": \"white\", \"linecolor\": \"white\", \"ticks\": \"\"}}, \"title\": {\"x\": 0.05}, \"xaxis\": {\"automargin\": true, \"gridcolor\": \"white\", \"linecolor\": \"white\", \"ticks\": \"\", \"zerolinecolor\": \"white\", \"zerolinewidth\": 2}, \"yaxis\": {\"automargin\": true, \"gridcolor\": \"white\", \"linecolor\": \"white\", \"ticks\": \"\", \"zerolinecolor\": \"white\", \"zerolinewidth\": 2}}}, \"xaxis\": {\"title\": {\"text\": \"Filter\"}}, \"yaxis\": {\"title\": {\"text\": \"Importance im Sasha's model\"}}},\n",
       "                        {\"responsive\": true}\n",
       "                    ).then(function(){\n",
       "                            \n",
       "var gd = document.getElementById('b5228dfc-65d0-4559-93f1-c7263cfbcbf5');\n",
       "var x = new MutationObserver(function (mutations, observer) {{\n",
       "        var display = window.getComputedStyle(gd).display;\n",
       "        if (!display || display === 'none') {{\n",
       "            console.log([gd, 'removed!']);\n",
       "            Plotly.purge(gd);\n",
       "            observer.disconnect();\n",
       "        }}\n",
       "}});\n",
       "\n",
       "// Listen for the removal of the full notebook cells\n",
       "var notebookContainer = gd.closest('#notebook-container');\n",
       "if (notebookContainer) {{\n",
       "    x.observe(notebookContainer, {childList: true});\n",
       "}}\n",
       "\n",
       "// Listen for the clearing of the current output cell\n",
       "var outputEl = gd.closest('.output');\n",
       "if (outputEl) {{\n",
       "    x.observe(outputEl, {childList: true});\n",
       "}}\n",
       "\n",
       "                        })\n",
       "                };\n",
       "                });\n",
       "            </script>\n",
       "        </div>"
      ]
     },
     "metadata": {},
     "output_type": "display_data"
    }
   ],
   "source": [
    "fig = go.Figure(go.Bar(x=sasha_importance.index, y=sasha_importance['myeloid']))\n",
    "fig.update_layout(yaxis_title=\"Importance im Sasha's model\",\n",
    "                      xaxis_title =\"Filter\")\n",
    "fig.show()"
   ]
  },
  {
   "cell_type": "code",
   "execution_count": 12,
   "metadata": {
    "ExecuteTime": {
     "end_time": "2020-04-09T14:45:37.849094Z",
     "start_time": "2020-04-09T14:45:37.807532Z"
    },
    "hidden": true
   },
   "outputs": [
    {
     "name": "stdout",
     "output_type": "stream",
     "text": [
      "Number of Motif found : 99/99\n",
      "Number of Motif found in less than 5% of the lineages: 6/99\n"
     ]
    }
   ],
   "source": [
    "print('Number of Motif found : {}/99'.format(len(generated_smotifs.index)))\n",
    "print('Number of Motif found in less than 5% of the lineages: {}/{}'.format(len(generated_smotifs[generated_smotifs.drop(columns=['Best overall TF match','Motif consensus Sequence']).max(1) < 0.05 ].index),len(generated_smotifs.index)))"
   ]
  },
  {
   "cell_type": "code",
   "execution_count": 13,
   "metadata": {
    "ExecuteTime": {
     "end_time": "2020-04-09T14:45:43.398284Z",
     "start_time": "2020-04-09T14:45:43.356065Z"
    },
    "hidden": true
   },
   "outputs": [],
   "source": [
    "sasha_importance = sasha_importance.loc[sorted(sasha_importance.index,key = lambda x : int(x.replace('filter','')))]\n",
    "sasha_importance.rename(columns={'lym':'innate.lym'}, inplace=True)\n",
    "#sasha_importance[sasha_importance < 0] = 0\n",
    "#n_sasha_importance = (sasha_importance  - sasha_importance.min(0))/(sasha_importance.max(0)-sasha_importance.min(0))\n",
    "comparaison = pd.merge(sasha_importance, generated_smotifs, left_index=True, right_index=True, suffixes=('_sasha','_generated'), how='left')\n",
    "comparaison = comparaison.fillna(0)"
   ]
  },
  {
   "cell_type": "markdown",
   "metadata": {
    "heading_collapsed": true,
    "hidden": true
   },
   "source": [
    "### Global Importance ( Not Specific to cell types )"
   ]
  },
  {
   "cell_type": "code",
   "execution_count": 32,
   "metadata": {
    "hidden": true
   },
   "outputs": [
    {
     "data": {
      "application/vnd.plotly.v1+json": {
       "config": {
        "plotlyServerURL": "https://plot.ly"
       },
       "data": [
        {
         "type": "bar",
         "x": [
          "filter1",
          "filter6",
          "filter8",
          "filter9",
          "filter10",
          "filter11",
          "filter14",
          "filter15",
          "filter23",
          "filter28",
          "filter34",
          "filter35",
          "filter40",
          "filter43",
          "filter44",
          "filter47",
          "filter50",
          "filter51",
          "filter65",
          "filter66",
          "filter67",
          "filter68",
          "filter69",
          "filter70",
          "filter78",
          "filter80",
          "filter85",
          "filter89",
          "filter93",
          "filter94",
          "filter97",
          "filter102",
          "filter105",
          "filter106",
          "filter112",
          "filter115",
          "filter120",
          "filter122",
          "filter123",
          "filter124",
          "filter127",
          "filter129",
          "filter132",
          "filter133",
          "filter135",
          "filter151",
          "filter154",
          "filter155",
          "filter157",
          "filter165",
          "filter166",
          "filter167",
          "filter170",
          "filter173",
          "filter174",
          "filter178",
          "filter183",
          "filter185",
          "filter186",
          "filter190",
          "filter194",
          "filter195",
          "filter196",
          "filter198",
          "filter202",
          "filter205",
          "filter209",
          "filter214",
          "filter217",
          "filter218",
          "filter219",
          "filter220",
          "filter223",
          "filter224",
          "filter227",
          "filter230",
          "filter231",
          "filter238",
          "filter242",
          "filter244",
          "filter247",
          "filter250",
          "filter252",
          "filter255",
          "filter257",
          "filter260",
          "filter264",
          "filter270",
          "filter275",
          "filter276",
          "filter279",
          "filter281",
          "filter283",
          "filter284",
          "filter286",
          "filter288",
          "filter290",
          "filter292",
          "filter297"
         ],
         "y": [
          null,
          null,
          null,
          null,
          null,
          null,
          null,
          null,
          null,
          null,
          null,
          null,
          null,
          null,
          null,
          null,
          null,
          null,
          null,
          null,
          null,
          null,
          null,
          null,
          null,
          null,
          null,
          null,
          null,
          null,
          null,
          null,
          null,
          null,
          null,
          null,
          null,
          null,
          null,
          null,
          null,
          null,
          null,
          null,
          null,
          null,
          null,
          null,
          null,
          null,
          null,
          null,
          null,
          null,
          null,
          null,
          null,
          null,
          null,
          null,
          null,
          null,
          null,
          null,
          null,
          null,
          null,
          null,
          null,
          null,
          null,
          null,
          null,
          null,
          null,
          null,
          null,
          null,
          null,
          null,
          null,
          null,
          null,
          null,
          null,
          null,
          null,
          null,
          null,
          null,
          null,
          null,
          null,
          null,
          null,
          null,
          null,
          null,
          null
         ]
        },
        {
         "type": "bar",
         "x": [
          "filter1",
          "filter6",
          "filter8",
          "filter9",
          "filter10",
          "filter11",
          "filter14",
          "filter15",
          "filter23",
          "filter28",
          "filter34",
          "filter35",
          "filter40",
          "filter43",
          "filter44",
          "filter47",
          "filter50",
          "filter51",
          "filter65",
          "filter66",
          "filter67",
          "filter68",
          "filter69",
          "filter70",
          "filter78",
          "filter80",
          "filter85",
          "filter89",
          "filter93",
          "filter94",
          "filter97",
          "filter102",
          "filter105",
          "filter106",
          "filter112",
          "filter115",
          "filter120",
          "filter122",
          "filter123",
          "filter124",
          "filter127",
          "filter129",
          "filter132",
          "filter133",
          "filter135",
          "filter151",
          "filter154",
          "filter155",
          "filter157",
          "filter165",
          "filter166",
          "filter167",
          "filter170",
          "filter173",
          "filter174",
          "filter178",
          "filter183",
          "filter185",
          "filter186",
          "filter190",
          "filter194",
          "filter195",
          "filter196",
          "filter198",
          "filter202",
          "filter205",
          "filter209",
          "filter214",
          "filter217",
          "filter218",
          "filter219",
          "filter220",
          "filter223",
          "filter224",
          "filter227",
          "filter230",
          "filter231",
          "filter238",
          "filter242",
          "filter244",
          "filter247",
          "filter250",
          "filter252",
          "filter255",
          "filter257",
          "filter260",
          "filter264",
          "filter270",
          "filter275",
          "filter276",
          "filter279",
          "filter281",
          "filter283",
          "filter284",
          "filter286",
          "filter288",
          "filter290",
          "filter292",
          "filter297"
         ],
         "y": [
          null,
          null,
          null,
          null,
          null,
          null,
          null,
          null,
          null,
          null,
          null,
          null,
          null,
          null,
          null,
          null,
          null,
          null,
          null,
          null,
          null,
          null,
          null,
          null,
          null,
          null,
          null,
          null,
          null,
          null,
          null,
          null,
          null,
          null,
          null,
          null,
          null,
          null,
          null,
          null,
          null,
          null,
          null,
          null,
          null,
          null,
          null,
          null,
          null,
          null,
          null,
          null,
          null,
          null,
          null,
          null,
          null,
          null,
          null,
          null,
          null,
          null,
          null,
          null,
          null,
          null,
          null,
          null,
          null,
          null,
          null,
          null,
          null,
          null,
          null,
          null,
          null,
          null,
          null,
          null,
          null,
          null,
          null,
          null,
          null,
          null,
          null,
          null,
          null,
          null,
          null,
          null,
          null,
          null,
          null,
          null,
          null,
          null,
          null
         ]
        }
       ],
       "layout": {
        "template": {
         "data": {
          "bar": [
           {
            "error_x": {
             "color": "#2a3f5f"
            },
            "error_y": {
             "color": "#2a3f5f"
            },
            "marker": {
             "line": {
              "color": "#E5ECF6",
              "width": 0.5
             }
            },
            "type": "bar"
           }
          ],
          "barpolar": [
           {
            "marker": {
             "line": {
              "color": "#E5ECF6",
              "width": 0.5
             }
            },
            "type": "barpolar"
           }
          ],
          "carpet": [
           {
            "aaxis": {
             "endlinecolor": "#2a3f5f",
             "gridcolor": "white",
             "linecolor": "white",
             "minorgridcolor": "white",
             "startlinecolor": "#2a3f5f"
            },
            "baxis": {
             "endlinecolor": "#2a3f5f",
             "gridcolor": "white",
             "linecolor": "white",
             "minorgridcolor": "white",
             "startlinecolor": "#2a3f5f"
            },
            "type": "carpet"
           }
          ],
          "choropleth": [
           {
            "colorbar": {
             "outlinewidth": 0,
             "ticks": ""
            },
            "type": "choropleth"
           }
          ],
          "contour": [
           {
            "colorbar": {
             "outlinewidth": 0,
             "ticks": ""
            },
            "colorscale": [
             [
              0,
              "#0d0887"
             ],
             [
              0.1111111111111111,
              "#46039f"
             ],
             [
              0.2222222222222222,
              "#7201a8"
             ],
             [
              0.3333333333333333,
              "#9c179e"
             ],
             [
              0.4444444444444444,
              "#bd3786"
             ],
             [
              0.5555555555555556,
              "#d8576b"
             ],
             [
              0.6666666666666666,
              "#ed7953"
             ],
             [
              0.7777777777777778,
              "#fb9f3a"
             ],
             [
              0.8888888888888888,
              "#fdca26"
             ],
             [
              1,
              "#f0f921"
             ]
            ],
            "type": "contour"
           }
          ],
          "contourcarpet": [
           {
            "colorbar": {
             "outlinewidth": 0,
             "ticks": ""
            },
            "type": "contourcarpet"
           }
          ],
          "heatmap": [
           {
            "colorbar": {
             "outlinewidth": 0,
             "ticks": ""
            },
            "colorscale": [
             [
              0,
              "#0d0887"
             ],
             [
              0.1111111111111111,
              "#46039f"
             ],
             [
              0.2222222222222222,
              "#7201a8"
             ],
             [
              0.3333333333333333,
              "#9c179e"
             ],
             [
              0.4444444444444444,
              "#bd3786"
             ],
             [
              0.5555555555555556,
              "#d8576b"
             ],
             [
              0.6666666666666666,
              "#ed7953"
             ],
             [
              0.7777777777777778,
              "#fb9f3a"
             ],
             [
              0.8888888888888888,
              "#fdca26"
             ],
             [
              1,
              "#f0f921"
             ]
            ],
            "type": "heatmap"
           }
          ],
          "heatmapgl": [
           {
            "colorbar": {
             "outlinewidth": 0,
             "ticks": ""
            },
            "colorscale": [
             [
              0,
              "#0d0887"
             ],
             [
              0.1111111111111111,
              "#46039f"
             ],
             [
              0.2222222222222222,
              "#7201a8"
             ],
             [
              0.3333333333333333,
              "#9c179e"
             ],
             [
              0.4444444444444444,
              "#bd3786"
             ],
             [
              0.5555555555555556,
              "#d8576b"
             ],
             [
              0.6666666666666666,
              "#ed7953"
             ],
             [
              0.7777777777777778,
              "#fb9f3a"
             ],
             [
              0.8888888888888888,
              "#fdca26"
             ],
             [
              1,
              "#f0f921"
             ]
            ],
            "type": "heatmapgl"
           }
          ],
          "histogram": [
           {
            "marker": {
             "colorbar": {
              "outlinewidth": 0,
              "ticks": ""
             }
            },
            "type": "histogram"
           }
          ],
          "histogram2d": [
           {
            "colorbar": {
             "outlinewidth": 0,
             "ticks": ""
            },
            "colorscale": [
             [
              0,
              "#0d0887"
             ],
             [
              0.1111111111111111,
              "#46039f"
             ],
             [
              0.2222222222222222,
              "#7201a8"
             ],
             [
              0.3333333333333333,
              "#9c179e"
             ],
             [
              0.4444444444444444,
              "#bd3786"
             ],
             [
              0.5555555555555556,
              "#d8576b"
             ],
             [
              0.6666666666666666,
              "#ed7953"
             ],
             [
              0.7777777777777778,
              "#fb9f3a"
             ],
             [
              0.8888888888888888,
              "#fdca26"
             ],
             [
              1,
              "#f0f921"
             ]
            ],
            "type": "histogram2d"
           }
          ],
          "histogram2dcontour": [
           {
            "colorbar": {
             "outlinewidth": 0,
             "ticks": ""
            },
            "colorscale": [
             [
              0,
              "#0d0887"
             ],
             [
              0.1111111111111111,
              "#46039f"
             ],
             [
              0.2222222222222222,
              "#7201a8"
             ],
             [
              0.3333333333333333,
              "#9c179e"
             ],
             [
              0.4444444444444444,
              "#bd3786"
             ],
             [
              0.5555555555555556,
              "#d8576b"
             ],
             [
              0.6666666666666666,
              "#ed7953"
             ],
             [
              0.7777777777777778,
              "#fb9f3a"
             ],
             [
              0.8888888888888888,
              "#fdca26"
             ],
             [
              1,
              "#f0f921"
             ]
            ],
            "type": "histogram2dcontour"
           }
          ],
          "mesh3d": [
           {
            "colorbar": {
             "outlinewidth": 0,
             "ticks": ""
            },
            "type": "mesh3d"
           }
          ],
          "parcoords": [
           {
            "line": {
             "colorbar": {
              "outlinewidth": 0,
              "ticks": ""
             }
            },
            "type": "parcoords"
           }
          ],
          "pie": [
           {
            "automargin": true,
            "type": "pie"
           }
          ],
          "scatter": [
           {
            "marker": {
             "colorbar": {
              "outlinewidth": 0,
              "ticks": ""
             }
            },
            "type": "scatter"
           }
          ],
          "scatter3d": [
           {
            "line": {
             "colorbar": {
              "outlinewidth": 0,
              "ticks": ""
             }
            },
            "marker": {
             "colorbar": {
              "outlinewidth": 0,
              "ticks": ""
             }
            },
            "type": "scatter3d"
           }
          ],
          "scattercarpet": [
           {
            "marker": {
             "colorbar": {
              "outlinewidth": 0,
              "ticks": ""
             }
            },
            "type": "scattercarpet"
           }
          ],
          "scattergeo": [
           {
            "marker": {
             "colorbar": {
              "outlinewidth": 0,
              "ticks": ""
             }
            },
            "type": "scattergeo"
           }
          ],
          "scattergl": [
           {
            "marker": {
             "colorbar": {
              "outlinewidth": 0,
              "ticks": ""
             }
            },
            "type": "scattergl"
           }
          ],
          "scattermapbox": [
           {
            "marker": {
             "colorbar": {
              "outlinewidth": 0,
              "ticks": ""
             }
            },
            "type": "scattermapbox"
           }
          ],
          "scatterpolar": [
           {
            "marker": {
             "colorbar": {
              "outlinewidth": 0,
              "ticks": ""
             }
            },
            "type": "scatterpolar"
           }
          ],
          "scatterpolargl": [
           {
            "marker": {
             "colorbar": {
              "outlinewidth": 0,
              "ticks": ""
             }
            },
            "type": "scatterpolargl"
           }
          ],
          "scatterternary": [
           {
            "marker": {
             "colorbar": {
              "outlinewidth": 0,
              "ticks": ""
             }
            },
            "type": "scatterternary"
           }
          ],
          "surface": [
           {
            "colorbar": {
             "outlinewidth": 0,
             "ticks": ""
            },
            "colorscale": [
             [
              0,
              "#0d0887"
             ],
             [
              0.1111111111111111,
              "#46039f"
             ],
             [
              0.2222222222222222,
              "#7201a8"
             ],
             [
              0.3333333333333333,
              "#9c179e"
             ],
             [
              0.4444444444444444,
              "#bd3786"
             ],
             [
              0.5555555555555556,
              "#d8576b"
             ],
             [
              0.6666666666666666,
              "#ed7953"
             ],
             [
              0.7777777777777778,
              "#fb9f3a"
             ],
             [
              0.8888888888888888,
              "#fdca26"
             ],
             [
              1,
              "#f0f921"
             ]
            ],
            "type": "surface"
           }
          ],
          "table": [
           {
            "cells": {
             "fill": {
              "color": "#EBF0F8"
             },
             "line": {
              "color": "white"
             }
            },
            "header": {
             "fill": {
              "color": "#C8D4E3"
             },
             "line": {
              "color": "white"
             }
            },
            "type": "table"
           }
          ]
         },
         "layout": {
          "annotationdefaults": {
           "arrowcolor": "#2a3f5f",
           "arrowhead": 0,
           "arrowwidth": 1
          },
          "coloraxis": {
           "colorbar": {
            "outlinewidth": 0,
            "ticks": ""
           }
          },
          "colorscale": {
           "diverging": [
            [
             0,
             "#8e0152"
            ],
            [
             0.1,
             "#c51b7d"
            ],
            [
             0.2,
             "#de77ae"
            ],
            [
             0.3,
             "#f1b6da"
            ],
            [
             0.4,
             "#fde0ef"
            ],
            [
             0.5,
             "#f7f7f7"
            ],
            [
             0.6,
             "#e6f5d0"
            ],
            [
             0.7,
             "#b8e186"
            ],
            [
             0.8,
             "#7fbc41"
            ],
            [
             0.9,
             "#4d9221"
            ],
            [
             1,
             "#276419"
            ]
           ],
           "sequential": [
            [
             0,
             "#0d0887"
            ],
            [
             0.1111111111111111,
             "#46039f"
            ],
            [
             0.2222222222222222,
             "#7201a8"
            ],
            [
             0.3333333333333333,
             "#9c179e"
            ],
            [
             0.4444444444444444,
             "#bd3786"
            ],
            [
             0.5555555555555556,
             "#d8576b"
            ],
            [
             0.6666666666666666,
             "#ed7953"
            ],
            [
             0.7777777777777778,
             "#fb9f3a"
            ],
            [
             0.8888888888888888,
             "#fdca26"
            ],
            [
             1,
             "#f0f921"
            ]
           ],
           "sequentialminus": [
            [
             0,
             "#0d0887"
            ],
            [
             0.1111111111111111,
             "#46039f"
            ],
            [
             0.2222222222222222,
             "#7201a8"
            ],
            [
             0.3333333333333333,
             "#9c179e"
            ],
            [
             0.4444444444444444,
             "#bd3786"
            ],
            [
             0.5555555555555556,
             "#d8576b"
            ],
            [
             0.6666666666666666,
             "#ed7953"
            ],
            [
             0.7777777777777778,
             "#fb9f3a"
            ],
            [
             0.8888888888888888,
             "#fdca26"
            ],
            [
             1,
             "#f0f921"
            ]
           ]
          },
          "colorway": [
           "#636efa",
           "#EF553B",
           "#00cc96",
           "#ab63fa",
           "#FFA15A",
           "#19d3f3",
           "#FF6692",
           "#B6E880",
           "#FF97FF",
           "#FECB52"
          ],
          "font": {
           "color": "#2a3f5f"
          },
          "geo": {
           "bgcolor": "white",
           "lakecolor": "white",
           "landcolor": "#E5ECF6",
           "showlakes": true,
           "showland": true,
           "subunitcolor": "white"
          },
          "hoverlabel": {
           "align": "left"
          },
          "hovermode": "closest",
          "mapbox": {
           "style": "light"
          },
          "paper_bgcolor": "white",
          "plot_bgcolor": "#E5ECF6",
          "polar": {
           "angularaxis": {
            "gridcolor": "white",
            "linecolor": "white",
            "ticks": ""
           },
           "bgcolor": "#E5ECF6",
           "radialaxis": {
            "gridcolor": "white",
            "linecolor": "white",
            "ticks": ""
           }
          },
          "scene": {
           "xaxis": {
            "backgroundcolor": "#E5ECF6",
            "gridcolor": "white",
            "gridwidth": 2,
            "linecolor": "white",
            "showbackground": true,
            "ticks": "",
            "zerolinecolor": "white"
           },
           "yaxis": {
            "backgroundcolor": "#E5ECF6",
            "gridcolor": "white",
            "gridwidth": 2,
            "linecolor": "white",
            "showbackground": true,
            "ticks": "",
            "zerolinecolor": "white"
           },
           "zaxis": {
            "backgroundcolor": "#E5ECF6",
            "gridcolor": "white",
            "gridwidth": 2,
            "linecolor": "white",
            "showbackground": true,
            "ticks": "",
            "zerolinecolor": "white"
           }
          },
          "shapedefaults": {
           "line": {
            "color": "#2a3f5f"
           }
          },
          "ternary": {
           "aaxis": {
            "gridcolor": "white",
            "linecolor": "white",
            "ticks": ""
           },
           "baxis": {
            "gridcolor": "white",
            "linecolor": "white",
            "ticks": ""
           },
           "bgcolor": "#E5ECF6",
           "caxis": {
            "gridcolor": "white",
            "linecolor": "white",
            "ticks": ""
           }
          },
          "title": {
           "x": 0.05
          },
          "xaxis": {
           "automargin": true,
           "gridcolor": "white",
           "linecolor": "white",
           "ticks": "",
           "title": {
            "standoff": 15
           },
           "zerolinecolor": "white",
           "zerolinewidth": 2
          },
          "yaxis": {
           "automargin": true,
           "gridcolor": "white",
           "linecolor": "white",
           "ticks": "",
           "title": {
            "standoff": 15
           },
           "zerolinecolor": "white",
           "zerolinewidth": 2
          }
         }
        }
       }
      },
      "text/html": [
       "<div>\n",
       "        \n",
       "        \n",
       "            <div id=\"6018b050-26f8-4e57-89fd-f3bb3144be25\" class=\"plotly-graph-div\" style=\"height:525px; width:100%;\"></div>\n",
       "            <script type=\"text/javascript\">\n",
       "                require([\"plotly\"], function(Plotly) {\n",
       "                    window.PLOTLYENV=window.PLOTLYENV || {};\n",
       "                    \n",
       "                if (document.getElementById(\"6018b050-26f8-4e57-89fd-f3bb3144be25\")) {\n",
       "                    Plotly.newPlot(\n",
       "                        '6018b050-26f8-4e57-89fd-f3bb3144be25',\n",
       "                        [{\"type\": \"bar\", \"x\": [\"filter1\", \"filter6\", \"filter8\", \"filter9\", \"filter10\", \"filter11\", \"filter14\", \"filter15\", \"filter23\", \"filter28\", \"filter34\", \"filter35\", \"filter40\", \"filter43\", \"filter44\", \"filter47\", \"filter50\", \"filter51\", \"filter65\", \"filter66\", \"filter67\", \"filter68\", \"filter69\", \"filter70\", \"filter78\", \"filter80\", \"filter85\", \"filter89\", \"filter93\", \"filter94\", \"filter97\", \"filter102\", \"filter105\", \"filter106\", \"filter112\", \"filter115\", \"filter120\", \"filter122\", \"filter123\", \"filter124\", \"filter127\", \"filter129\", \"filter132\", \"filter133\", \"filter135\", \"filter151\", \"filter154\", \"filter155\", \"filter157\", \"filter165\", \"filter166\", \"filter167\", \"filter170\", \"filter173\", \"filter174\", \"filter178\", \"filter183\", \"filter185\", \"filter186\", \"filter190\", \"filter194\", \"filter195\", \"filter196\", \"filter198\", \"filter202\", \"filter205\", \"filter209\", \"filter214\", \"filter217\", \"filter218\", \"filter219\", \"filter220\", \"filter223\", \"filter224\", \"filter227\", \"filter230\", \"filter231\", \"filter238\", \"filter242\", \"filter244\", \"filter247\", \"filter250\", \"filter252\", \"filter255\", \"filter257\", \"filter260\", \"filter264\", \"filter270\", \"filter275\", \"filter276\", \"filter279\", \"filter281\", \"filter283\", \"filter284\", \"filter286\", \"filter288\", \"filter290\", \"filter292\", \"filter297\"], \"y\": [null, null, null, null, null, null, null, null, null, null, null, null, null, null, null, null, null, null, null, null, null, null, null, null, null, null, null, null, null, null, null, null, null, null, null, null, null, null, null, null, null, null, null, null, null, null, null, null, null, null, null, null, null, null, null, null, null, null, null, null, null, null, null, null, null, null, null, null, null, null, null, null, null, null, null, null, null, null, null, null, null, null, null, null, null, null, null, null, null, null, null, null, null, null, null, null, null, null, null]}, {\"type\": \"bar\", \"x\": [\"filter1\", \"filter6\", \"filter8\", \"filter9\", \"filter10\", \"filter11\", \"filter14\", \"filter15\", \"filter23\", \"filter28\", \"filter34\", \"filter35\", \"filter40\", \"filter43\", \"filter44\", \"filter47\", \"filter50\", \"filter51\", \"filter65\", \"filter66\", \"filter67\", \"filter68\", \"filter69\", \"filter70\", \"filter78\", \"filter80\", \"filter85\", \"filter89\", \"filter93\", \"filter94\", \"filter97\", \"filter102\", \"filter105\", \"filter106\", \"filter112\", \"filter115\", \"filter120\", \"filter122\", \"filter123\", \"filter124\", \"filter127\", \"filter129\", \"filter132\", \"filter133\", \"filter135\", \"filter151\", \"filter154\", \"filter155\", \"filter157\", \"filter165\", \"filter166\", \"filter167\", \"filter170\", \"filter173\", \"filter174\", \"filter178\", \"filter183\", \"filter185\", \"filter186\", \"filter190\", \"filter194\", \"filter195\", \"filter196\", \"filter198\", \"filter202\", \"filter205\", \"filter209\", \"filter214\", \"filter217\", \"filter218\", \"filter219\", \"filter220\", \"filter223\", \"filter224\", \"filter227\", \"filter230\", \"filter231\", \"filter238\", \"filter242\", \"filter244\", \"filter247\", \"filter250\", \"filter252\", \"filter255\", \"filter257\", \"filter260\", \"filter264\", \"filter270\", \"filter275\", \"filter276\", \"filter279\", \"filter281\", \"filter283\", \"filter284\", \"filter286\", \"filter288\", \"filter290\", \"filter292\", \"filter297\"], \"y\": [null, null, null, null, null, null, null, null, null, null, null, null, null, null, null, null, null, null, null, null, null, null, null, null, null, null, null, null, null, null, null, null, null, null, null, null, null, null, null, null, null, null, null, null, null, null, null, null, null, null, null, null, null, null, null, null, null, null, null, null, null, null, null, null, null, null, null, null, null, null, null, null, null, null, null, null, null, null, null, null, null, null, null, null, null, null, null, null, null, null, null, null, null, null, null, null, null, null, null]}],\n",
       "                        {\"template\": {\"data\": {\"bar\": [{\"error_x\": {\"color\": \"#2a3f5f\"}, \"error_y\": {\"color\": \"#2a3f5f\"}, \"marker\": {\"line\": {\"color\": \"#E5ECF6\", \"width\": 0.5}}, \"type\": \"bar\"}], \"barpolar\": [{\"marker\": {\"line\": {\"color\": \"#E5ECF6\", \"width\": 0.5}}, \"type\": \"barpolar\"}], \"carpet\": [{\"aaxis\": {\"endlinecolor\": \"#2a3f5f\", \"gridcolor\": \"white\", \"linecolor\": \"white\", \"minorgridcolor\": \"white\", \"startlinecolor\": \"#2a3f5f\"}, \"baxis\": {\"endlinecolor\": \"#2a3f5f\", \"gridcolor\": \"white\", \"linecolor\": \"white\", \"minorgridcolor\": \"white\", \"startlinecolor\": \"#2a3f5f\"}, \"type\": \"carpet\"}], \"choropleth\": [{\"colorbar\": {\"outlinewidth\": 0, \"ticks\": \"\"}, \"type\": \"choropleth\"}], \"contour\": [{\"colorbar\": {\"outlinewidth\": 0, \"ticks\": \"\"}, \"colorscale\": [[0.0, \"#0d0887\"], [0.1111111111111111, \"#46039f\"], [0.2222222222222222, \"#7201a8\"], [0.3333333333333333, \"#9c179e\"], [0.4444444444444444, \"#bd3786\"], [0.5555555555555556, \"#d8576b\"], [0.6666666666666666, \"#ed7953\"], [0.7777777777777778, \"#fb9f3a\"], [0.8888888888888888, \"#fdca26\"], [1.0, \"#f0f921\"]], \"type\": \"contour\"}], \"contourcarpet\": [{\"colorbar\": {\"outlinewidth\": 0, \"ticks\": \"\"}, \"type\": \"contourcarpet\"}], \"heatmap\": [{\"colorbar\": {\"outlinewidth\": 0, \"ticks\": \"\"}, \"colorscale\": [[0.0, \"#0d0887\"], [0.1111111111111111, \"#46039f\"], [0.2222222222222222, \"#7201a8\"], [0.3333333333333333, \"#9c179e\"], [0.4444444444444444, \"#bd3786\"], [0.5555555555555556, \"#d8576b\"], [0.6666666666666666, \"#ed7953\"], [0.7777777777777778, \"#fb9f3a\"], [0.8888888888888888, \"#fdca26\"], [1.0, \"#f0f921\"]], \"type\": \"heatmap\"}], \"heatmapgl\": [{\"colorbar\": {\"outlinewidth\": 0, \"ticks\": \"\"}, \"colorscale\": [[0.0, \"#0d0887\"], [0.1111111111111111, \"#46039f\"], [0.2222222222222222, \"#7201a8\"], [0.3333333333333333, \"#9c179e\"], [0.4444444444444444, \"#bd3786\"], [0.5555555555555556, \"#d8576b\"], [0.6666666666666666, \"#ed7953\"], [0.7777777777777778, \"#fb9f3a\"], [0.8888888888888888, \"#fdca26\"], [1.0, \"#f0f921\"]], \"type\": \"heatmapgl\"}], \"histogram\": [{\"marker\": {\"colorbar\": {\"outlinewidth\": 0, \"ticks\": \"\"}}, \"type\": \"histogram\"}], \"histogram2d\": [{\"colorbar\": {\"outlinewidth\": 0, \"ticks\": \"\"}, \"colorscale\": [[0.0, \"#0d0887\"], [0.1111111111111111, \"#46039f\"], [0.2222222222222222, \"#7201a8\"], [0.3333333333333333, \"#9c179e\"], [0.4444444444444444, \"#bd3786\"], [0.5555555555555556, \"#d8576b\"], [0.6666666666666666, \"#ed7953\"], [0.7777777777777778, \"#fb9f3a\"], [0.8888888888888888, \"#fdca26\"], [1.0, \"#f0f921\"]], \"type\": \"histogram2d\"}], \"histogram2dcontour\": [{\"colorbar\": {\"outlinewidth\": 0, \"ticks\": \"\"}, \"colorscale\": [[0.0, \"#0d0887\"], [0.1111111111111111, \"#46039f\"], [0.2222222222222222, \"#7201a8\"], [0.3333333333333333, \"#9c179e\"], [0.4444444444444444, \"#bd3786\"], [0.5555555555555556, \"#d8576b\"], [0.6666666666666666, \"#ed7953\"], [0.7777777777777778, \"#fb9f3a\"], [0.8888888888888888, \"#fdca26\"], [1.0, \"#f0f921\"]], \"type\": \"histogram2dcontour\"}], \"mesh3d\": [{\"colorbar\": {\"outlinewidth\": 0, \"ticks\": \"\"}, \"type\": \"mesh3d\"}], \"parcoords\": [{\"line\": {\"colorbar\": {\"outlinewidth\": 0, \"ticks\": \"\"}}, \"type\": \"parcoords\"}], \"pie\": [{\"automargin\": true, \"type\": \"pie\"}], \"scatter\": [{\"marker\": {\"colorbar\": {\"outlinewidth\": 0, \"ticks\": \"\"}}, \"type\": \"scatter\"}], \"scatter3d\": [{\"line\": {\"colorbar\": {\"outlinewidth\": 0, \"ticks\": \"\"}}, \"marker\": {\"colorbar\": {\"outlinewidth\": 0, \"ticks\": \"\"}}, \"type\": \"scatter3d\"}], \"scattercarpet\": [{\"marker\": {\"colorbar\": {\"outlinewidth\": 0, \"ticks\": \"\"}}, \"type\": \"scattercarpet\"}], \"scattergeo\": [{\"marker\": {\"colorbar\": {\"outlinewidth\": 0, \"ticks\": \"\"}}, \"type\": \"scattergeo\"}], \"scattergl\": [{\"marker\": {\"colorbar\": {\"outlinewidth\": 0, \"ticks\": \"\"}}, \"type\": \"scattergl\"}], \"scattermapbox\": [{\"marker\": {\"colorbar\": {\"outlinewidth\": 0, \"ticks\": \"\"}}, \"type\": \"scattermapbox\"}], \"scatterpolar\": [{\"marker\": {\"colorbar\": {\"outlinewidth\": 0, \"ticks\": \"\"}}, \"type\": \"scatterpolar\"}], \"scatterpolargl\": [{\"marker\": {\"colorbar\": {\"outlinewidth\": 0, \"ticks\": \"\"}}, \"type\": \"scatterpolargl\"}], \"scatterternary\": [{\"marker\": {\"colorbar\": {\"outlinewidth\": 0, \"ticks\": \"\"}}, \"type\": \"scatterternary\"}], \"surface\": [{\"colorbar\": {\"outlinewidth\": 0, \"ticks\": \"\"}, \"colorscale\": [[0.0, \"#0d0887\"], [0.1111111111111111, \"#46039f\"], [0.2222222222222222, \"#7201a8\"], [0.3333333333333333, \"#9c179e\"], [0.4444444444444444, \"#bd3786\"], [0.5555555555555556, \"#d8576b\"], [0.6666666666666666, \"#ed7953\"], [0.7777777777777778, \"#fb9f3a\"], [0.8888888888888888, \"#fdca26\"], [1.0, \"#f0f921\"]], \"type\": \"surface\"}], \"table\": [{\"cells\": {\"fill\": {\"color\": \"#EBF0F8\"}, \"line\": {\"color\": \"white\"}}, \"header\": {\"fill\": {\"color\": \"#C8D4E3\"}, \"line\": {\"color\": \"white\"}}, \"type\": \"table\"}]}, \"layout\": {\"annotationdefaults\": {\"arrowcolor\": \"#2a3f5f\", \"arrowhead\": 0, \"arrowwidth\": 1}, \"coloraxis\": {\"colorbar\": {\"outlinewidth\": 0, \"ticks\": \"\"}}, \"colorscale\": {\"diverging\": [[0, \"#8e0152\"], [0.1, \"#c51b7d\"], [0.2, \"#de77ae\"], [0.3, \"#f1b6da\"], [0.4, \"#fde0ef\"], [0.5, \"#f7f7f7\"], [0.6, \"#e6f5d0\"], [0.7, \"#b8e186\"], [0.8, \"#7fbc41\"], [0.9, \"#4d9221\"], [1, \"#276419\"]], \"sequential\": [[0.0, \"#0d0887\"], [0.1111111111111111, \"#46039f\"], [0.2222222222222222, \"#7201a8\"], [0.3333333333333333, \"#9c179e\"], [0.4444444444444444, \"#bd3786\"], [0.5555555555555556, \"#d8576b\"], [0.6666666666666666, \"#ed7953\"], [0.7777777777777778, \"#fb9f3a\"], [0.8888888888888888, \"#fdca26\"], [1.0, \"#f0f921\"]], \"sequentialminus\": [[0.0, \"#0d0887\"], [0.1111111111111111, \"#46039f\"], [0.2222222222222222, \"#7201a8\"], [0.3333333333333333, \"#9c179e\"], [0.4444444444444444, \"#bd3786\"], [0.5555555555555556, \"#d8576b\"], [0.6666666666666666, \"#ed7953\"], [0.7777777777777778, \"#fb9f3a\"], [0.8888888888888888, \"#fdca26\"], [1.0, \"#f0f921\"]]}, \"colorway\": [\"#636efa\", \"#EF553B\", \"#00cc96\", \"#ab63fa\", \"#FFA15A\", \"#19d3f3\", \"#FF6692\", \"#B6E880\", \"#FF97FF\", \"#FECB52\"], \"font\": {\"color\": \"#2a3f5f\"}, \"geo\": {\"bgcolor\": \"white\", \"lakecolor\": \"white\", \"landcolor\": \"#E5ECF6\", \"showlakes\": true, \"showland\": true, \"subunitcolor\": \"white\"}, \"hoverlabel\": {\"align\": \"left\"}, \"hovermode\": \"closest\", \"mapbox\": {\"style\": \"light\"}, \"paper_bgcolor\": \"white\", \"plot_bgcolor\": \"#E5ECF6\", \"polar\": {\"angularaxis\": {\"gridcolor\": \"white\", \"linecolor\": \"white\", \"ticks\": \"\"}, \"bgcolor\": \"#E5ECF6\", \"radialaxis\": {\"gridcolor\": \"white\", \"linecolor\": \"white\", \"ticks\": \"\"}}, \"scene\": {\"xaxis\": {\"backgroundcolor\": \"#E5ECF6\", \"gridcolor\": \"white\", \"gridwidth\": 2, \"linecolor\": \"white\", \"showbackground\": true, \"ticks\": \"\", \"zerolinecolor\": \"white\"}, \"yaxis\": {\"backgroundcolor\": \"#E5ECF6\", \"gridcolor\": \"white\", \"gridwidth\": 2, \"linecolor\": \"white\", \"showbackground\": true, \"ticks\": \"\", \"zerolinecolor\": \"white\"}, \"zaxis\": {\"backgroundcolor\": \"#E5ECF6\", \"gridcolor\": \"white\", \"gridwidth\": 2, \"linecolor\": \"white\", \"showbackground\": true, \"ticks\": \"\", \"zerolinecolor\": \"white\"}}, \"shapedefaults\": {\"line\": {\"color\": \"#2a3f5f\"}}, \"ternary\": {\"aaxis\": {\"gridcolor\": \"white\", \"linecolor\": \"white\", \"ticks\": \"\"}, \"baxis\": {\"gridcolor\": \"white\", \"linecolor\": \"white\", \"ticks\": \"\"}, \"bgcolor\": \"#E5ECF6\", \"caxis\": {\"gridcolor\": \"white\", \"linecolor\": \"white\", \"ticks\": \"\"}}, \"title\": {\"x\": 0.05}, \"xaxis\": {\"automargin\": true, \"gridcolor\": \"white\", \"linecolor\": \"white\", \"ticks\": \"\", \"title\": {\"standoff\": 15}, \"zerolinecolor\": \"white\", \"zerolinewidth\": 2}, \"yaxis\": {\"automargin\": true, \"gridcolor\": \"white\", \"linecolor\": \"white\", \"ticks\": \"\", \"title\": {\"standoff\": 15}, \"zerolinecolor\": \"white\", \"zerolinewidth\": 2}}}},\n",
       "                        {\"responsive\": true}\n",
       "                    ).then(function(){\n",
       "                            \n",
       "var gd = document.getElementById('6018b050-26f8-4e57-89fd-f3bb3144be25');\n",
       "var x = new MutationObserver(function (mutations, observer) {{\n",
       "        var display = window.getComputedStyle(gd).display;\n",
       "        if (!display || display === 'none') {{\n",
       "            console.log([gd, 'removed!']);\n",
       "            Plotly.purge(gd);\n",
       "            observer.disconnect();\n",
       "        }}\n",
       "}});\n",
       "\n",
       "// Listen for the removal of the full notebook cells\n",
       "var notebookContainer = gd.closest('#notebook-container');\n",
       "if (notebookContainer) {{\n",
       "    x.observe(notebookContainer, {childList: true});\n",
       "}}\n",
       "\n",
       "// Listen for the clearing of the current output cell\n",
       "var outputEl = gd.closest('.output');\n",
       "if (outputEl) {{\n",
       "    x.observe(outputEl, {childList: true});\n",
       "}}\n",
       "\n",
       "                        })\n",
       "                };\n",
       "                });\n",
       "            </script>\n",
       "        </div>"
      ]
     },
     "metadata": {},
     "output_type": "display_data"
    },
    {
     "data": {
      "application/vnd.plotly.v1+json": {
       "config": {
        "plotlyServerURL": "https://plot.ly"
       },
       "data": [
        {
         "mode": "markers",
         "text": [
          "filter1",
          "filter6",
          "filter8",
          "filter9",
          "filter10",
          "filter11",
          "filter14",
          "filter15",
          "filter23",
          "filter28",
          "filter34",
          "filter35",
          "filter40",
          "filter43",
          "filter44",
          "filter47",
          "filter50",
          "filter51",
          "filter65",
          "filter66",
          "filter67",
          "filter68",
          "filter69",
          "filter70",
          "filter78",
          "filter80",
          "filter85",
          "filter89",
          "filter93",
          "filter94",
          "filter97",
          "filter102",
          "filter105",
          "filter106",
          "filter112",
          "filter115",
          "filter120",
          "filter122",
          "filter123",
          "filter124",
          "filter127",
          "filter129",
          "filter132",
          "filter133",
          "filter135",
          "filter151",
          "filter154",
          "filter155",
          "filter157",
          "filter165",
          "filter166",
          "filter167",
          "filter170",
          "filter173",
          "filter174",
          "filter178",
          "filter183",
          "filter185",
          "filter186",
          "filter190",
          "filter194",
          "filter195",
          "filter196",
          "filter198",
          "filter202",
          "filter205",
          "filter209",
          "filter214",
          "filter217",
          "filter218",
          "filter219",
          "filter220",
          "filter223",
          "filter224",
          "filter227",
          "filter230",
          "filter231",
          "filter238",
          "filter242",
          "filter244",
          "filter247",
          "filter250",
          "filter252",
          "filter255",
          "filter257",
          "filter260",
          "filter264",
          "filter270",
          "filter275",
          "filter276",
          "filter279",
          "filter281",
          "filter283",
          "filter284",
          "filter286",
          "filter288",
          "filter290",
          "filter292",
          "filter297"
         ],
         "type": "scatter",
         "x": [
          null,
          null,
          null,
          null,
          null,
          null,
          null,
          null,
          null,
          null,
          null,
          null,
          null,
          null,
          null,
          null,
          null,
          null,
          null,
          null,
          null,
          null,
          null,
          null,
          null,
          null,
          null,
          null,
          null,
          null,
          null,
          null,
          null,
          null,
          null,
          null,
          null,
          null,
          null,
          null,
          null,
          null,
          null,
          null,
          null,
          null,
          null,
          null,
          null,
          null,
          null,
          null,
          null,
          null,
          null,
          null,
          null,
          null,
          null,
          null,
          null,
          null,
          null,
          null,
          null,
          null,
          null,
          null,
          null,
          null,
          null,
          null,
          null,
          null,
          null,
          null,
          null,
          null,
          null,
          null,
          null,
          null,
          null,
          null,
          null,
          null,
          null,
          null,
          null,
          null,
          null,
          null,
          null,
          null,
          null,
          null,
          null,
          null,
          null
         ],
         "y": [
          null,
          null,
          null,
          null,
          null,
          null,
          null,
          null,
          null,
          null,
          null,
          null,
          null,
          null,
          null,
          null,
          null,
          null,
          null,
          null,
          null,
          null,
          null,
          null,
          null,
          null,
          null,
          null,
          null,
          null,
          null,
          null,
          null,
          null,
          null,
          null,
          null,
          null,
          null,
          null,
          null,
          null,
          null,
          null,
          null,
          null,
          null,
          null,
          null,
          null,
          null,
          null,
          null,
          null,
          null,
          null,
          null,
          null,
          null,
          null,
          null,
          null,
          null,
          null,
          null,
          null,
          null,
          null,
          null,
          null,
          null,
          null,
          null,
          null,
          null,
          null,
          null,
          null,
          null,
          null,
          null,
          null,
          null,
          null,
          null,
          null,
          null,
          null,
          null,
          null,
          null,
          null,
          null,
          null,
          null,
          null,
          null,
          null,
          null
         ]
        }
       ],
       "layout": {
        "template": {
         "data": {
          "bar": [
           {
            "error_x": {
             "color": "#2a3f5f"
            },
            "error_y": {
             "color": "#2a3f5f"
            },
            "marker": {
             "line": {
              "color": "#E5ECF6",
              "width": 0.5
             }
            },
            "type": "bar"
           }
          ],
          "barpolar": [
           {
            "marker": {
             "line": {
              "color": "#E5ECF6",
              "width": 0.5
             }
            },
            "type": "barpolar"
           }
          ],
          "carpet": [
           {
            "aaxis": {
             "endlinecolor": "#2a3f5f",
             "gridcolor": "white",
             "linecolor": "white",
             "minorgridcolor": "white",
             "startlinecolor": "#2a3f5f"
            },
            "baxis": {
             "endlinecolor": "#2a3f5f",
             "gridcolor": "white",
             "linecolor": "white",
             "minorgridcolor": "white",
             "startlinecolor": "#2a3f5f"
            },
            "type": "carpet"
           }
          ],
          "choropleth": [
           {
            "colorbar": {
             "outlinewidth": 0,
             "ticks": ""
            },
            "type": "choropleth"
           }
          ],
          "contour": [
           {
            "colorbar": {
             "outlinewidth": 0,
             "ticks": ""
            },
            "colorscale": [
             [
              0,
              "#0d0887"
             ],
             [
              0.1111111111111111,
              "#46039f"
             ],
             [
              0.2222222222222222,
              "#7201a8"
             ],
             [
              0.3333333333333333,
              "#9c179e"
             ],
             [
              0.4444444444444444,
              "#bd3786"
             ],
             [
              0.5555555555555556,
              "#d8576b"
             ],
             [
              0.6666666666666666,
              "#ed7953"
             ],
             [
              0.7777777777777778,
              "#fb9f3a"
             ],
             [
              0.8888888888888888,
              "#fdca26"
             ],
             [
              1,
              "#f0f921"
             ]
            ],
            "type": "contour"
           }
          ],
          "contourcarpet": [
           {
            "colorbar": {
             "outlinewidth": 0,
             "ticks": ""
            },
            "type": "contourcarpet"
           }
          ],
          "heatmap": [
           {
            "colorbar": {
             "outlinewidth": 0,
             "ticks": ""
            },
            "colorscale": [
             [
              0,
              "#0d0887"
             ],
             [
              0.1111111111111111,
              "#46039f"
             ],
             [
              0.2222222222222222,
              "#7201a8"
             ],
             [
              0.3333333333333333,
              "#9c179e"
             ],
             [
              0.4444444444444444,
              "#bd3786"
             ],
             [
              0.5555555555555556,
              "#d8576b"
             ],
             [
              0.6666666666666666,
              "#ed7953"
             ],
             [
              0.7777777777777778,
              "#fb9f3a"
             ],
             [
              0.8888888888888888,
              "#fdca26"
             ],
             [
              1,
              "#f0f921"
             ]
            ],
            "type": "heatmap"
           }
          ],
          "heatmapgl": [
           {
            "colorbar": {
             "outlinewidth": 0,
             "ticks": ""
            },
            "colorscale": [
             [
              0,
              "#0d0887"
             ],
             [
              0.1111111111111111,
              "#46039f"
             ],
             [
              0.2222222222222222,
              "#7201a8"
             ],
             [
              0.3333333333333333,
              "#9c179e"
             ],
             [
              0.4444444444444444,
              "#bd3786"
             ],
             [
              0.5555555555555556,
              "#d8576b"
             ],
             [
              0.6666666666666666,
              "#ed7953"
             ],
             [
              0.7777777777777778,
              "#fb9f3a"
             ],
             [
              0.8888888888888888,
              "#fdca26"
             ],
             [
              1,
              "#f0f921"
             ]
            ],
            "type": "heatmapgl"
           }
          ],
          "histogram": [
           {
            "marker": {
             "colorbar": {
              "outlinewidth": 0,
              "ticks": ""
             }
            },
            "type": "histogram"
           }
          ],
          "histogram2d": [
           {
            "colorbar": {
             "outlinewidth": 0,
             "ticks": ""
            },
            "colorscale": [
             [
              0,
              "#0d0887"
             ],
             [
              0.1111111111111111,
              "#46039f"
             ],
             [
              0.2222222222222222,
              "#7201a8"
             ],
             [
              0.3333333333333333,
              "#9c179e"
             ],
             [
              0.4444444444444444,
              "#bd3786"
             ],
             [
              0.5555555555555556,
              "#d8576b"
             ],
             [
              0.6666666666666666,
              "#ed7953"
             ],
             [
              0.7777777777777778,
              "#fb9f3a"
             ],
             [
              0.8888888888888888,
              "#fdca26"
             ],
             [
              1,
              "#f0f921"
             ]
            ],
            "type": "histogram2d"
           }
          ],
          "histogram2dcontour": [
           {
            "colorbar": {
             "outlinewidth": 0,
             "ticks": ""
            },
            "colorscale": [
             [
              0,
              "#0d0887"
             ],
             [
              0.1111111111111111,
              "#46039f"
             ],
             [
              0.2222222222222222,
              "#7201a8"
             ],
             [
              0.3333333333333333,
              "#9c179e"
             ],
             [
              0.4444444444444444,
              "#bd3786"
             ],
             [
              0.5555555555555556,
              "#d8576b"
             ],
             [
              0.6666666666666666,
              "#ed7953"
             ],
             [
              0.7777777777777778,
              "#fb9f3a"
             ],
             [
              0.8888888888888888,
              "#fdca26"
             ],
             [
              1,
              "#f0f921"
             ]
            ],
            "type": "histogram2dcontour"
           }
          ],
          "mesh3d": [
           {
            "colorbar": {
             "outlinewidth": 0,
             "ticks": ""
            },
            "type": "mesh3d"
           }
          ],
          "parcoords": [
           {
            "line": {
             "colorbar": {
              "outlinewidth": 0,
              "ticks": ""
             }
            },
            "type": "parcoords"
           }
          ],
          "pie": [
           {
            "automargin": true,
            "type": "pie"
           }
          ],
          "scatter": [
           {
            "marker": {
             "colorbar": {
              "outlinewidth": 0,
              "ticks": ""
             }
            },
            "type": "scatter"
           }
          ],
          "scatter3d": [
           {
            "line": {
             "colorbar": {
              "outlinewidth": 0,
              "ticks": ""
             }
            },
            "marker": {
             "colorbar": {
              "outlinewidth": 0,
              "ticks": ""
             }
            },
            "type": "scatter3d"
           }
          ],
          "scattercarpet": [
           {
            "marker": {
             "colorbar": {
              "outlinewidth": 0,
              "ticks": ""
             }
            },
            "type": "scattercarpet"
           }
          ],
          "scattergeo": [
           {
            "marker": {
             "colorbar": {
              "outlinewidth": 0,
              "ticks": ""
             }
            },
            "type": "scattergeo"
           }
          ],
          "scattergl": [
           {
            "marker": {
             "colorbar": {
              "outlinewidth": 0,
              "ticks": ""
             }
            },
            "type": "scattergl"
           }
          ],
          "scattermapbox": [
           {
            "marker": {
             "colorbar": {
              "outlinewidth": 0,
              "ticks": ""
             }
            },
            "type": "scattermapbox"
           }
          ],
          "scatterpolar": [
           {
            "marker": {
             "colorbar": {
              "outlinewidth": 0,
              "ticks": ""
             }
            },
            "type": "scatterpolar"
           }
          ],
          "scatterpolargl": [
           {
            "marker": {
             "colorbar": {
              "outlinewidth": 0,
              "ticks": ""
             }
            },
            "type": "scatterpolargl"
           }
          ],
          "scatterternary": [
           {
            "marker": {
             "colorbar": {
              "outlinewidth": 0,
              "ticks": ""
             }
            },
            "type": "scatterternary"
           }
          ],
          "surface": [
           {
            "colorbar": {
             "outlinewidth": 0,
             "ticks": ""
            },
            "colorscale": [
             [
              0,
              "#0d0887"
             ],
             [
              0.1111111111111111,
              "#46039f"
             ],
             [
              0.2222222222222222,
              "#7201a8"
             ],
             [
              0.3333333333333333,
              "#9c179e"
             ],
             [
              0.4444444444444444,
              "#bd3786"
             ],
             [
              0.5555555555555556,
              "#d8576b"
             ],
             [
              0.6666666666666666,
              "#ed7953"
             ],
             [
              0.7777777777777778,
              "#fb9f3a"
             ],
             [
              0.8888888888888888,
              "#fdca26"
             ],
             [
              1,
              "#f0f921"
             ]
            ],
            "type": "surface"
           }
          ],
          "table": [
           {
            "cells": {
             "fill": {
              "color": "#EBF0F8"
             },
             "line": {
              "color": "white"
             }
            },
            "header": {
             "fill": {
              "color": "#C8D4E3"
             },
             "line": {
              "color": "white"
             }
            },
            "type": "table"
           }
          ]
         },
         "layout": {
          "annotationdefaults": {
           "arrowcolor": "#2a3f5f",
           "arrowhead": 0,
           "arrowwidth": 1
          },
          "coloraxis": {
           "colorbar": {
            "outlinewidth": 0,
            "ticks": ""
           }
          },
          "colorscale": {
           "diverging": [
            [
             0,
             "#8e0152"
            ],
            [
             0.1,
             "#c51b7d"
            ],
            [
             0.2,
             "#de77ae"
            ],
            [
             0.3,
             "#f1b6da"
            ],
            [
             0.4,
             "#fde0ef"
            ],
            [
             0.5,
             "#f7f7f7"
            ],
            [
             0.6,
             "#e6f5d0"
            ],
            [
             0.7,
             "#b8e186"
            ],
            [
             0.8,
             "#7fbc41"
            ],
            [
             0.9,
             "#4d9221"
            ],
            [
             1,
             "#276419"
            ]
           ],
           "sequential": [
            [
             0,
             "#0d0887"
            ],
            [
             0.1111111111111111,
             "#46039f"
            ],
            [
             0.2222222222222222,
             "#7201a8"
            ],
            [
             0.3333333333333333,
             "#9c179e"
            ],
            [
             0.4444444444444444,
             "#bd3786"
            ],
            [
             0.5555555555555556,
             "#d8576b"
            ],
            [
             0.6666666666666666,
             "#ed7953"
            ],
            [
             0.7777777777777778,
             "#fb9f3a"
            ],
            [
             0.8888888888888888,
             "#fdca26"
            ],
            [
             1,
             "#f0f921"
            ]
           ],
           "sequentialminus": [
            [
             0,
             "#0d0887"
            ],
            [
             0.1111111111111111,
             "#46039f"
            ],
            [
             0.2222222222222222,
             "#7201a8"
            ],
            [
             0.3333333333333333,
             "#9c179e"
            ],
            [
             0.4444444444444444,
             "#bd3786"
            ],
            [
             0.5555555555555556,
             "#d8576b"
            ],
            [
             0.6666666666666666,
             "#ed7953"
            ],
            [
             0.7777777777777778,
             "#fb9f3a"
            ],
            [
             0.8888888888888888,
             "#fdca26"
            ],
            [
             1,
             "#f0f921"
            ]
           ]
          },
          "colorway": [
           "#636efa",
           "#EF553B",
           "#00cc96",
           "#ab63fa",
           "#FFA15A",
           "#19d3f3",
           "#FF6692",
           "#B6E880",
           "#FF97FF",
           "#FECB52"
          ],
          "font": {
           "color": "#2a3f5f"
          },
          "geo": {
           "bgcolor": "white",
           "lakecolor": "white",
           "landcolor": "#E5ECF6",
           "showlakes": true,
           "showland": true,
           "subunitcolor": "white"
          },
          "hoverlabel": {
           "align": "left"
          },
          "hovermode": "closest",
          "mapbox": {
           "style": "light"
          },
          "paper_bgcolor": "white",
          "plot_bgcolor": "#E5ECF6",
          "polar": {
           "angularaxis": {
            "gridcolor": "white",
            "linecolor": "white",
            "ticks": ""
           },
           "bgcolor": "#E5ECF6",
           "radialaxis": {
            "gridcolor": "white",
            "linecolor": "white",
            "ticks": ""
           }
          },
          "scene": {
           "xaxis": {
            "backgroundcolor": "#E5ECF6",
            "gridcolor": "white",
            "gridwidth": 2,
            "linecolor": "white",
            "showbackground": true,
            "ticks": "",
            "zerolinecolor": "white"
           },
           "yaxis": {
            "backgroundcolor": "#E5ECF6",
            "gridcolor": "white",
            "gridwidth": 2,
            "linecolor": "white",
            "showbackground": true,
            "ticks": "",
            "zerolinecolor": "white"
           },
           "zaxis": {
            "backgroundcolor": "#E5ECF6",
            "gridcolor": "white",
            "gridwidth": 2,
            "linecolor": "white",
            "showbackground": true,
            "ticks": "",
            "zerolinecolor": "white"
           }
          },
          "shapedefaults": {
           "line": {
            "color": "#2a3f5f"
           }
          },
          "ternary": {
           "aaxis": {
            "gridcolor": "white",
            "linecolor": "white",
            "ticks": ""
           },
           "baxis": {
            "gridcolor": "white",
            "linecolor": "white",
            "ticks": ""
           },
           "bgcolor": "#E5ECF6",
           "caxis": {
            "gridcolor": "white",
            "linecolor": "white",
            "ticks": ""
           }
          },
          "title": {
           "x": 0.05
          },
          "xaxis": {
           "automargin": true,
           "gridcolor": "white",
           "linecolor": "white",
           "ticks": "",
           "title": {
            "standoff": 15
           },
           "zerolinecolor": "white",
           "zerolinewidth": 2
          },
          "yaxis": {
           "automargin": true,
           "gridcolor": "white",
           "linecolor": "white",
           "ticks": "",
           "title": {
            "standoff": 15
           },
           "zerolinecolor": "white",
           "zerolinewidth": 2
          }
         }
        }
       }
      },
      "text/html": [
       "<div>\n",
       "        \n",
       "        \n",
       "            <div id=\"6589a958-532b-473e-9270-3dc6b1e2bb1a\" class=\"plotly-graph-div\" style=\"height:525px; width:100%;\"></div>\n",
       "            <script type=\"text/javascript\">\n",
       "                require([\"plotly\"], function(Plotly) {\n",
       "                    window.PLOTLYENV=window.PLOTLYENV || {};\n",
       "                    \n",
       "                if (document.getElementById(\"6589a958-532b-473e-9270-3dc6b1e2bb1a\")) {\n",
       "                    Plotly.newPlot(\n",
       "                        '6589a958-532b-473e-9270-3dc6b1e2bb1a',\n",
       "                        [{\"mode\": \"markers\", \"text\": [\"filter1\", \"filter6\", \"filter8\", \"filter9\", \"filter10\", \"filter11\", \"filter14\", \"filter15\", \"filter23\", \"filter28\", \"filter34\", \"filter35\", \"filter40\", \"filter43\", \"filter44\", \"filter47\", \"filter50\", \"filter51\", \"filter65\", \"filter66\", \"filter67\", \"filter68\", \"filter69\", \"filter70\", \"filter78\", \"filter80\", \"filter85\", \"filter89\", \"filter93\", \"filter94\", \"filter97\", \"filter102\", \"filter105\", \"filter106\", \"filter112\", \"filter115\", \"filter120\", \"filter122\", \"filter123\", \"filter124\", \"filter127\", \"filter129\", \"filter132\", \"filter133\", \"filter135\", \"filter151\", \"filter154\", \"filter155\", \"filter157\", \"filter165\", \"filter166\", \"filter167\", \"filter170\", \"filter173\", \"filter174\", \"filter178\", \"filter183\", \"filter185\", \"filter186\", \"filter190\", \"filter194\", \"filter195\", \"filter196\", \"filter198\", \"filter202\", \"filter205\", \"filter209\", \"filter214\", \"filter217\", \"filter218\", \"filter219\", \"filter220\", \"filter223\", \"filter224\", \"filter227\", \"filter230\", \"filter231\", \"filter238\", \"filter242\", \"filter244\", \"filter247\", \"filter250\", \"filter252\", \"filter255\", \"filter257\", \"filter260\", \"filter264\", \"filter270\", \"filter275\", \"filter276\", \"filter279\", \"filter281\", \"filter283\", \"filter284\", \"filter286\", \"filter288\", \"filter290\", \"filter292\", \"filter297\"], \"type\": \"scatter\", \"x\": [null, null, null, null, null, null, null, null, null, null, null, null, null, null, null, null, null, null, null, null, null, null, null, null, null, null, null, null, null, null, null, null, null, null, null, null, null, null, null, null, null, null, null, null, null, null, null, null, null, null, null, null, null, null, null, null, null, null, null, null, null, null, null, null, null, null, null, null, null, null, null, null, null, null, null, null, null, null, null, null, null, null, null, null, null, null, null, null, null, null, null, null, null, null, null, null, null, null, null], \"y\": [null, null, null, null, null, null, null, null, null, null, null, null, null, null, null, null, null, null, null, null, null, null, null, null, null, null, null, null, null, null, null, null, null, null, null, null, null, null, null, null, null, null, null, null, null, null, null, null, null, null, null, null, null, null, null, null, null, null, null, null, null, null, null, null, null, null, null, null, null, null, null, null, null, null, null, null, null, null, null, null, null, null, null, null, null, null, null, null, null, null, null, null, null, null, null, null, null, null, null]}],\n",
       "                        {\"template\": {\"data\": {\"bar\": [{\"error_x\": {\"color\": \"#2a3f5f\"}, \"error_y\": {\"color\": \"#2a3f5f\"}, \"marker\": {\"line\": {\"color\": \"#E5ECF6\", \"width\": 0.5}}, \"type\": \"bar\"}], \"barpolar\": [{\"marker\": {\"line\": {\"color\": \"#E5ECF6\", \"width\": 0.5}}, \"type\": \"barpolar\"}], \"carpet\": [{\"aaxis\": {\"endlinecolor\": \"#2a3f5f\", \"gridcolor\": \"white\", \"linecolor\": \"white\", \"minorgridcolor\": \"white\", \"startlinecolor\": \"#2a3f5f\"}, \"baxis\": {\"endlinecolor\": \"#2a3f5f\", \"gridcolor\": \"white\", \"linecolor\": \"white\", \"minorgridcolor\": \"white\", \"startlinecolor\": \"#2a3f5f\"}, \"type\": \"carpet\"}], \"choropleth\": [{\"colorbar\": {\"outlinewidth\": 0, \"ticks\": \"\"}, \"type\": \"choropleth\"}], \"contour\": [{\"colorbar\": {\"outlinewidth\": 0, \"ticks\": \"\"}, \"colorscale\": [[0.0, \"#0d0887\"], [0.1111111111111111, \"#46039f\"], [0.2222222222222222, \"#7201a8\"], [0.3333333333333333, \"#9c179e\"], [0.4444444444444444, \"#bd3786\"], [0.5555555555555556, \"#d8576b\"], [0.6666666666666666, \"#ed7953\"], [0.7777777777777778, \"#fb9f3a\"], [0.8888888888888888, \"#fdca26\"], [1.0, \"#f0f921\"]], \"type\": \"contour\"}], \"contourcarpet\": [{\"colorbar\": {\"outlinewidth\": 0, \"ticks\": \"\"}, \"type\": \"contourcarpet\"}], \"heatmap\": [{\"colorbar\": {\"outlinewidth\": 0, \"ticks\": \"\"}, \"colorscale\": [[0.0, \"#0d0887\"], [0.1111111111111111, \"#46039f\"], [0.2222222222222222, \"#7201a8\"], [0.3333333333333333, \"#9c179e\"], [0.4444444444444444, \"#bd3786\"], [0.5555555555555556, \"#d8576b\"], [0.6666666666666666, \"#ed7953\"], [0.7777777777777778, \"#fb9f3a\"], [0.8888888888888888, \"#fdca26\"], [1.0, \"#f0f921\"]], \"type\": \"heatmap\"}], \"heatmapgl\": [{\"colorbar\": {\"outlinewidth\": 0, \"ticks\": \"\"}, \"colorscale\": [[0.0, \"#0d0887\"], [0.1111111111111111, \"#46039f\"], [0.2222222222222222, \"#7201a8\"], [0.3333333333333333, \"#9c179e\"], [0.4444444444444444, \"#bd3786\"], [0.5555555555555556, \"#d8576b\"], [0.6666666666666666, \"#ed7953\"], [0.7777777777777778, \"#fb9f3a\"], [0.8888888888888888, \"#fdca26\"], [1.0, \"#f0f921\"]], \"type\": \"heatmapgl\"}], \"histogram\": [{\"marker\": {\"colorbar\": {\"outlinewidth\": 0, \"ticks\": \"\"}}, \"type\": \"histogram\"}], \"histogram2d\": [{\"colorbar\": {\"outlinewidth\": 0, \"ticks\": \"\"}, \"colorscale\": [[0.0, \"#0d0887\"], [0.1111111111111111, \"#46039f\"], [0.2222222222222222, \"#7201a8\"], [0.3333333333333333, \"#9c179e\"], [0.4444444444444444, \"#bd3786\"], [0.5555555555555556, \"#d8576b\"], [0.6666666666666666, \"#ed7953\"], [0.7777777777777778, \"#fb9f3a\"], [0.8888888888888888, \"#fdca26\"], [1.0, \"#f0f921\"]], \"type\": \"histogram2d\"}], \"histogram2dcontour\": [{\"colorbar\": {\"outlinewidth\": 0, \"ticks\": \"\"}, \"colorscale\": [[0.0, \"#0d0887\"], [0.1111111111111111, \"#46039f\"], [0.2222222222222222, \"#7201a8\"], [0.3333333333333333, \"#9c179e\"], [0.4444444444444444, \"#bd3786\"], [0.5555555555555556, \"#d8576b\"], [0.6666666666666666, \"#ed7953\"], [0.7777777777777778, \"#fb9f3a\"], [0.8888888888888888, \"#fdca26\"], [1.0, \"#f0f921\"]], \"type\": \"histogram2dcontour\"}], \"mesh3d\": [{\"colorbar\": {\"outlinewidth\": 0, \"ticks\": \"\"}, \"type\": \"mesh3d\"}], \"parcoords\": [{\"line\": {\"colorbar\": {\"outlinewidth\": 0, \"ticks\": \"\"}}, \"type\": \"parcoords\"}], \"pie\": [{\"automargin\": true, \"type\": \"pie\"}], \"scatter\": [{\"marker\": {\"colorbar\": {\"outlinewidth\": 0, \"ticks\": \"\"}}, \"type\": \"scatter\"}], \"scatter3d\": [{\"line\": {\"colorbar\": {\"outlinewidth\": 0, \"ticks\": \"\"}}, \"marker\": {\"colorbar\": {\"outlinewidth\": 0, \"ticks\": \"\"}}, \"type\": \"scatter3d\"}], \"scattercarpet\": [{\"marker\": {\"colorbar\": {\"outlinewidth\": 0, \"ticks\": \"\"}}, \"type\": \"scattercarpet\"}], \"scattergeo\": [{\"marker\": {\"colorbar\": {\"outlinewidth\": 0, \"ticks\": \"\"}}, \"type\": \"scattergeo\"}], \"scattergl\": [{\"marker\": {\"colorbar\": {\"outlinewidth\": 0, \"ticks\": \"\"}}, \"type\": \"scattergl\"}], \"scattermapbox\": [{\"marker\": {\"colorbar\": {\"outlinewidth\": 0, \"ticks\": \"\"}}, \"type\": \"scattermapbox\"}], \"scatterpolar\": [{\"marker\": {\"colorbar\": {\"outlinewidth\": 0, \"ticks\": \"\"}}, \"type\": \"scatterpolar\"}], \"scatterpolargl\": [{\"marker\": {\"colorbar\": {\"outlinewidth\": 0, \"ticks\": \"\"}}, \"type\": \"scatterpolargl\"}], \"scatterternary\": [{\"marker\": {\"colorbar\": {\"outlinewidth\": 0, \"ticks\": \"\"}}, \"type\": \"scatterternary\"}], \"surface\": [{\"colorbar\": {\"outlinewidth\": 0, \"ticks\": \"\"}, \"colorscale\": [[0.0, \"#0d0887\"], [0.1111111111111111, \"#46039f\"], [0.2222222222222222, \"#7201a8\"], [0.3333333333333333, \"#9c179e\"], [0.4444444444444444, \"#bd3786\"], [0.5555555555555556, \"#d8576b\"], [0.6666666666666666, \"#ed7953\"], [0.7777777777777778, \"#fb9f3a\"], [0.8888888888888888, \"#fdca26\"], [1.0, \"#f0f921\"]], \"type\": \"surface\"}], \"table\": [{\"cells\": {\"fill\": {\"color\": \"#EBF0F8\"}, \"line\": {\"color\": \"white\"}}, \"header\": {\"fill\": {\"color\": \"#C8D4E3\"}, \"line\": {\"color\": \"white\"}}, \"type\": \"table\"}]}, \"layout\": {\"annotationdefaults\": {\"arrowcolor\": \"#2a3f5f\", \"arrowhead\": 0, \"arrowwidth\": 1}, \"coloraxis\": {\"colorbar\": {\"outlinewidth\": 0, \"ticks\": \"\"}}, \"colorscale\": {\"diverging\": [[0, \"#8e0152\"], [0.1, \"#c51b7d\"], [0.2, \"#de77ae\"], [0.3, \"#f1b6da\"], [0.4, \"#fde0ef\"], [0.5, \"#f7f7f7\"], [0.6, \"#e6f5d0\"], [0.7, \"#b8e186\"], [0.8, \"#7fbc41\"], [0.9, \"#4d9221\"], [1, \"#276419\"]], \"sequential\": [[0.0, \"#0d0887\"], [0.1111111111111111, \"#46039f\"], [0.2222222222222222, \"#7201a8\"], [0.3333333333333333, \"#9c179e\"], [0.4444444444444444, \"#bd3786\"], [0.5555555555555556, \"#d8576b\"], [0.6666666666666666, \"#ed7953\"], [0.7777777777777778, \"#fb9f3a\"], [0.8888888888888888, \"#fdca26\"], [1.0, \"#f0f921\"]], \"sequentialminus\": [[0.0, \"#0d0887\"], [0.1111111111111111, \"#46039f\"], [0.2222222222222222, \"#7201a8\"], [0.3333333333333333, \"#9c179e\"], [0.4444444444444444, \"#bd3786\"], [0.5555555555555556, \"#d8576b\"], [0.6666666666666666, \"#ed7953\"], [0.7777777777777778, \"#fb9f3a\"], [0.8888888888888888, \"#fdca26\"], [1.0, \"#f0f921\"]]}, \"colorway\": [\"#636efa\", \"#EF553B\", \"#00cc96\", \"#ab63fa\", \"#FFA15A\", \"#19d3f3\", \"#FF6692\", \"#B6E880\", \"#FF97FF\", \"#FECB52\"], \"font\": {\"color\": \"#2a3f5f\"}, \"geo\": {\"bgcolor\": \"white\", \"lakecolor\": \"white\", \"landcolor\": \"#E5ECF6\", \"showlakes\": true, \"showland\": true, \"subunitcolor\": \"white\"}, \"hoverlabel\": {\"align\": \"left\"}, \"hovermode\": \"closest\", \"mapbox\": {\"style\": \"light\"}, \"paper_bgcolor\": \"white\", \"plot_bgcolor\": \"#E5ECF6\", \"polar\": {\"angularaxis\": {\"gridcolor\": \"white\", \"linecolor\": \"white\", \"ticks\": \"\"}, \"bgcolor\": \"#E5ECF6\", \"radialaxis\": {\"gridcolor\": \"white\", \"linecolor\": \"white\", \"ticks\": \"\"}}, \"scene\": {\"xaxis\": {\"backgroundcolor\": \"#E5ECF6\", \"gridcolor\": \"white\", \"gridwidth\": 2, \"linecolor\": \"white\", \"showbackground\": true, \"ticks\": \"\", \"zerolinecolor\": \"white\"}, \"yaxis\": {\"backgroundcolor\": \"#E5ECF6\", \"gridcolor\": \"white\", \"gridwidth\": 2, \"linecolor\": \"white\", \"showbackground\": true, \"ticks\": \"\", \"zerolinecolor\": \"white\"}, \"zaxis\": {\"backgroundcolor\": \"#E5ECF6\", \"gridcolor\": \"white\", \"gridwidth\": 2, \"linecolor\": \"white\", \"showbackground\": true, \"ticks\": \"\", \"zerolinecolor\": \"white\"}}, \"shapedefaults\": {\"line\": {\"color\": \"#2a3f5f\"}}, \"ternary\": {\"aaxis\": {\"gridcolor\": \"white\", \"linecolor\": \"white\", \"ticks\": \"\"}, \"baxis\": {\"gridcolor\": \"white\", \"linecolor\": \"white\", \"ticks\": \"\"}, \"bgcolor\": \"#E5ECF6\", \"caxis\": {\"gridcolor\": \"white\", \"linecolor\": \"white\", \"ticks\": \"\"}}, \"title\": {\"x\": 0.05}, \"xaxis\": {\"automargin\": true, \"gridcolor\": \"white\", \"linecolor\": \"white\", \"ticks\": \"\", \"title\": {\"standoff\": 15}, \"zerolinecolor\": \"white\", \"zerolinewidth\": 2}, \"yaxis\": {\"automargin\": true, \"gridcolor\": \"white\", \"linecolor\": \"white\", \"ticks\": \"\", \"title\": {\"standoff\": 15}, \"zerolinecolor\": \"white\", \"zerolinewidth\": 2}}}},\n",
       "                        {\"responsive\": true}\n",
       "                    ).then(function(){\n",
       "                            \n",
       "var gd = document.getElementById('6589a958-532b-473e-9270-3dc6b1e2bb1a');\n",
       "var x = new MutationObserver(function (mutations, observer) {{\n",
       "        var display = window.getComputedStyle(gd).display;\n",
       "        if (!display || display === 'none') {{\n",
       "            console.log([gd, 'removed!']);\n",
       "            Plotly.purge(gd);\n",
       "            observer.disconnect();\n",
       "        }}\n",
       "}});\n",
       "\n",
       "// Listen for the removal of the full notebook cells\n",
       "var notebookContainer = gd.closest('#notebook-container');\n",
       "if (notebookContainer) {{\n",
       "    x.observe(notebookContainer, {childList: true});\n",
       "}}\n",
       "\n",
       "// Listen for the clearing of the current output cell\n",
       "var outputEl = gd.closest('.output');\n",
       "if (outputEl) {{\n",
       "    x.observe(outputEl, {childList: true});\n",
       "}}\n",
       "\n",
       "                        })\n",
       "                };\n",
       "                });\n",
       "            </script>\n",
       "        </div>"
      ]
     },
     "metadata": {},
     "output_type": "display_data"
    }
   ],
   "source": [
    "fig = go.Figure()\n",
    "fig.add_trace(go.Bar(x=comparaison.index, y=comparaison[[c for c in comparaison.columns if 'sasha' in c]].max(1)))\n",
    "fig.add_trace(go.Bar(x = comparaison.index, y=comparaison[[c for c in comparaison.columns if 'generated' in c]].max(1)))\n",
    "fig.show()\n",
    "go.Figure(go.Scatter(x = comparaison[[c for c in comparaison.columns if 'generated' in c]].max(1),\n",
    "                     y = comparaison[[c for c in comparaison.columns if 'sasha' in c]].max(1),\n",
    "                     mode='markers', text = comparaison.index))"
   ]
  },
  {
   "cell_type": "markdown",
   "metadata": {
    "hidden": true
   },
   "source": [
    "### Importance by cell type"
   ]
  },
  {
   "cell_type": "code",
   "execution_count": 43,
   "metadata": {
    "hidden": true
   },
   "outputs": [
    {
     "data": {
      "application/vnd.jupyter.widget-view+json": {
       "model_id": "f0d88d45bbd04d578b5ee0ef3ff39c54",
       "version_major": 2,
       "version_minor": 0
      },
      "text/plain": [
       "interactive(children=(Dropdown(description='ct', options=('abT', 'stem', 'gdT', 'B', 'innate.lym', 'myeloid'),…"
      ]
     },
     "metadata": {},
     "output_type": "display_data"
    }
   ],
   "source": [
    "@interact_manual\n",
    "def motifs_influence_sasha(ct=generated_smotifs.drop(columns=['Best overall TF match','Motif consensus Sequence']).columns) :\n",
    "    fig = go.Figure(go.Scatter(y = comparaison['{}_generated'.format(ct)],\n",
    "                         x = comparaison['{}_sasha'.format(ct)],\n",
    "                         mode='markers+text',\n",
    "                         text = comparaison['Best overall TF match'],\n",
    "                         hovertext=comparaison.index,\n",
    "                         textposition=\"bottom left\"))\n",
    "    fig.update_layout(title=\"Comparaison of feature importance for Lineage : {}\".format(ct),\n",
    "                      yaxis_title='Generated Motifs',\n",
    "                      xaxis_title =\"Sashas's motif importance\")\n",
    "    fig.show()\n"
   ]
  },
  {
   "cell_type": "markdown",
   "metadata": {
    "heading_collapsed": true,
    "hidden": true
   },
   "source": [
    "### Heatmaps"
   ]
  },
  {
   "cell_type": "code",
   "execution_count": 19,
   "metadata": {
    "hidden": true
   },
   "outputs": [
    {
     "data": {
      "application/vnd.plotly.v1+json": {
       "config": {
        "plotlyServerURL": "https://plot.ly"
       },
       "data": [
        {
         "type": "heatmap",
         "x": [
          "B.",
          "myeloid.",
          "innate.lym.",
          "abT.",
          "stem.",
          "gdT."
         ],
         "y": [
          "filter1",
          "filter6",
          "filter8",
          "filter10",
          "filter11",
          "filter14",
          "filter15",
          "filter23",
          "filter28",
          "filter34",
          "filter35",
          "filter43",
          "filter44",
          "filter47",
          "filter50",
          "filter51",
          "filter65",
          "filter67",
          "filter68",
          "filter69",
          "filter78",
          "filter80",
          "filter85",
          "filter89",
          "filter93",
          "filter94",
          "filter97",
          "filter106",
          "filter112",
          "filter115",
          "filter120",
          "filter122",
          "filter123",
          "filter129",
          "filter133",
          "filter135",
          "filter154",
          "filter165",
          "filter166",
          "filter167",
          "filter173",
          "filter174",
          "filter178",
          "filter190",
          "filter195",
          "filter198",
          "filter205",
          "filter217",
          "filter218",
          "filter220",
          "filter224",
          "filter230",
          "filter231",
          "filter238",
          "filter242",
          "filter244",
          "filter247",
          "filter250",
          "filter252",
          "filter255",
          "filter257",
          "filter260",
          "filter264",
          "filter275",
          "filter276",
          "filter279",
          "filter283",
          "filter284",
          "filter286",
          "filter288",
          "filter290",
          "filter292",
          "filter297"
         ],
         "z": [
          [
           0,
           0.017,
           0.018000000000000002,
           0.035,
           0.003,
           0.001
          ],
          [
           0.006,
           0.15,
           0.003,
           0.002,
           0.013999999999999999,
           0.003
          ],
          [
           0.226,
           0.015,
           0.242,
           0.183,
           0.008,
           0.021
          ],
          [
           0.009000000000000001,
           0,
           0.996,
           0.048,
           0.804,
           0.095
          ],
          [
           0.054000000000000006,
           1,
           0.924,
           0.087,
           0.937,
           0.064
          ],
          [
           0.16399999999999998,
           0.025,
           0.057,
           0.01,
           0.064,
           0
          ],
          [
           0.022000000000000002,
           0,
           0.9940000000000001,
           0.046,
           0.868,
           0.115
          ],
          [
           0.046,
           0.131,
           0.087,
           0.03,
           0.035,
           0
          ],
          [
           0.069,
           0.034,
           0.128,
           0.08800000000000001,
           0.14,
           0.026000000000000002
          ],
          [
           0.003,
           0.006,
           0,
           0,
           0.003,
           0
          ],
          [
           0.003,
           0.006,
           0.045,
           0.006999999999999999,
           0.054000000000000006,
           0
          ],
          [
           0.013000000000000001,
           0.036000000000000004,
           0.076,
           0.04,
           0.267,
           0
          ],
          [
           0.006999999999999999,
           0,
           0.002,
           0.015,
           0.03,
           0.012
          ],
          [
           0.034,
           0.012,
           1,
           0.075,
           0.757,
           0.086
          ],
          [
           0.004,
           0.021,
           0.125,
           0.716,
           0.009000000000000001,
           0.7759999999999999
          ],
          [
           0.03,
           0.026000000000000002,
           0.081,
           0.033,
           0.525,
           0.005
          ],
          [
           0.045,
           0.027999999999999997,
           0.013999999999999999,
           0.039,
           0.204,
           0.004
          ],
          [
           0.005,
           0.061,
           0.01,
           0.027999999999999997,
           0.011000000000000001,
           0.005
          ],
          [
           0.015,
           0.021,
           0.055,
           0.035,
           0.021,
           0.102
          ],
          [
           0.015,
           0.016,
           0.131,
           0.004,
           0.045,
           0.004
          ],
          [
           0.361,
           0.001,
           0.129,
           0.006,
           0.048,
           0
          ],
          [
           0.27,
           0.237,
           0.004,
           0.764,
           0.24600000000000002,
           0.995
          ],
          [
           0,
           0.045,
           0.065,
           0.021,
           0.006,
           0
          ],
          [
           1,
           0.193,
           0.022000000000000002,
           0.027000000000000003,
           0.146,
           0.171
          ],
          [
           0.166,
           0.002,
           0.142,
           0.017,
           0.022000000000000002,
           0
          ],
          [
           1,
           0.958,
           0.035,
           0.02,
           0.247,
           0.247
          ],
          [
           0.019,
           0.045,
           0.23399999999999999,
           0.127,
           0.006,
           0.008
          ],
          [
           0.745,
           0.152,
           0.022000000000000002,
           0.11800000000000001,
           0.017,
           0.073
          ],
          [
           0.009000000000000001,
           0.001,
           0.006999999999999999,
           0,
           0.09300000000000001,
           0
          ],
          [
           0.013999999999999999,
           0.008,
           0.032,
           0.062,
           0.035,
           0.021
          ],
          [
           0.017,
           0.5770000000000001,
           0.9359999999999999,
           0.14800000000000002,
           0.674,
           0
          ],
          [
           0.40399999999999997,
           0.992,
           0.759,
           0.016,
           0.847,
           0.006
          ],
          [
           0.027000000000000003,
           0.09300000000000001,
           0.016,
           0.013000000000000001,
           0.018000000000000002,
           0
          ],
          [
           0.038,
           0.05,
           0.297,
           0.013999999999999999,
           0.047,
           0.001
          ],
          [
           1,
           1,
           0.069,
           0.011000000000000001,
           0.024,
           0.036000000000000004
          ],
          [
           0.002,
           0.001,
           0.022000000000000002,
           0.036000000000000004,
           0.081,
           0.004
          ],
          [
           0.003,
           0.054000000000000006,
           0.87,
           0.195,
           0.016,
           0
          ],
          [
           1,
           0.163,
           0.012,
           0.032,
           0.16699999999999998,
           0.235
          ],
          [
           0.13699999999999998,
           0.031,
           0.071,
           0.922,
           0.026000000000000002,
           1
          ],
          [
           0.004,
           0.043,
           0.061,
           0.008,
           0.051,
           0
          ],
          [
           0,
           0.04,
           0.20800000000000002,
           0,
           0.028999999999999998,
           0
          ],
          [
           0.003,
           0,
           0,
           0.005,
           0.003,
           0.001
          ],
          [
           0.057999999999999996,
           0.353,
           0.336,
           0.2,
           0.006,
           0.023
          ],
          [
           0.022000000000000002,
           0,
           0,
           0.008,
           0.07200000000000001,
           0.013000000000000001
          ],
          [
           0.004,
           0.001,
           0.013000000000000001,
           0.235,
           0.011000000000000001,
           0.10099999999999999
          ],
          [
           0.033,
           0.025,
           0.08199999999999999,
           0.017,
           0.065,
           0.013000000000000001
          ],
          [
           1,
           1,
           0.851,
           0.021,
           0.113,
           0.016
          ],
          [
           0.006,
           0.03,
           0.091,
           0.023,
           0.045,
           0
          ],
          [
           0.019,
           0,
           0,
           0.009000000000000001,
           0.045,
           0.009000000000000001
          ],
          [
           0.006999999999999999,
           0.02,
           0.996,
           0.001,
           0.06,
           0
          ],
          [
           1,
           0.145,
           0.005,
           0.063,
           0.152,
           0.158
          ],
          [
           1,
           1,
           0.449,
           0.013000000000000001,
           0.522,
           0.048
          ],
          [
           0.008,
           0.125,
           0,
           0.004,
           0.009000000000000001,
           0
          ],
          [
           0.005,
           0.038,
           0.728,
           0.003,
           0.037000000000000005,
           0.001
          ],
          [
           0.013999999999999999,
           0.107,
           0.27899999999999997,
           0.171,
           0.011000000000000001,
           0.002
          ],
          [
           0.27,
           0.963,
           0.29100000000000004,
           0.08800000000000001,
           0.667,
           0.068
          ],
          [
           0.066,
           0.138,
           0.048,
           0.053,
           0.026000000000000002,
           0
          ],
          [
           1,
           0.126,
           0.027000000000000003,
           0.019,
           0.084,
           0.05
          ],
          [
           0.071,
           0.986,
           0.914,
           0.083,
           0.9520000000000001,
           0.11900000000000001
          ],
          [
           1,
           1,
           0.092,
           0.013999999999999999,
           0.055,
           0.023
          ],
          [
           0.385,
           0.061,
           0.08,
           0.009000000000000001,
           0.027999999999999997,
           0.002
          ],
          [
           0.002,
           0.025,
           0.008,
           0.002,
           0.001,
           0
          ],
          [
           0.005,
           0.023,
           0.185,
           0.035,
           0.376,
           0
          ],
          [
           0.015,
           0.142,
           0.153,
           0.048,
           0.033,
           0
          ],
          [
           0.996,
           0.975,
           0.008,
           0.004,
           0.1,
           0.28800000000000003
          ],
          [
           0.001,
           0.011000000000000001,
           0.156,
           0.12300000000000001,
           0.003,
           0.013999999999999999
          ],
          [
           0.006999999999999999,
           0.022000000000000002,
           0.146,
           0.034,
           0.7290000000000001,
           0
          ],
          [
           0.006999999999999999,
           0.025,
           0.005,
           0.051,
           0.013999999999999999,
           0.022000000000000002
          ],
          [
           1,
           0.998,
           0.005,
           0.017,
           0.21,
           0.259
          ],
          [
           0.135,
           0.028999999999999998,
           0.033,
           0.14800000000000002,
           0.006,
           0.040999999999999995
          ],
          [
           0.013999999999999999,
           0.021,
           0.038,
           0.019,
           0.316,
           0.001
          ],
          [
           0.01,
           0.013000000000000001,
           0.009000000000000001,
           0.002,
           1,
           0.003
          ],
          [
           0.005,
           0.01,
           0.214,
           0.003,
           0.081,
           0.006
          ]
         ]
        }
       ],
       "layout": {
        "template": {
         "data": {
          "bar": [
           {
            "error_x": {
             "color": "#2a3f5f"
            },
            "error_y": {
             "color": "#2a3f5f"
            },
            "marker": {
             "line": {
              "color": "#E5ECF6",
              "width": 0.5
             }
            },
            "type": "bar"
           }
          ],
          "barpolar": [
           {
            "marker": {
             "line": {
              "color": "#E5ECF6",
              "width": 0.5
             }
            },
            "type": "barpolar"
           }
          ],
          "carpet": [
           {
            "aaxis": {
             "endlinecolor": "#2a3f5f",
             "gridcolor": "white",
             "linecolor": "white",
             "minorgridcolor": "white",
             "startlinecolor": "#2a3f5f"
            },
            "baxis": {
             "endlinecolor": "#2a3f5f",
             "gridcolor": "white",
             "linecolor": "white",
             "minorgridcolor": "white",
             "startlinecolor": "#2a3f5f"
            },
            "type": "carpet"
           }
          ],
          "choropleth": [
           {
            "colorbar": {
             "outlinewidth": 0,
             "ticks": ""
            },
            "type": "choropleth"
           }
          ],
          "contour": [
           {
            "colorbar": {
             "outlinewidth": 0,
             "ticks": ""
            },
            "colorscale": [
             [
              0,
              "#0d0887"
             ],
             [
              0.1111111111111111,
              "#46039f"
             ],
             [
              0.2222222222222222,
              "#7201a8"
             ],
             [
              0.3333333333333333,
              "#9c179e"
             ],
             [
              0.4444444444444444,
              "#bd3786"
             ],
             [
              0.5555555555555556,
              "#d8576b"
             ],
             [
              0.6666666666666666,
              "#ed7953"
             ],
             [
              0.7777777777777778,
              "#fb9f3a"
             ],
             [
              0.8888888888888888,
              "#fdca26"
             ],
             [
              1,
              "#f0f921"
             ]
            ],
            "type": "contour"
           }
          ],
          "contourcarpet": [
           {
            "colorbar": {
             "outlinewidth": 0,
             "ticks": ""
            },
            "type": "contourcarpet"
           }
          ],
          "heatmap": [
           {
            "colorbar": {
             "outlinewidth": 0,
             "ticks": ""
            },
            "colorscale": [
             [
              0,
              "#0d0887"
             ],
             [
              0.1111111111111111,
              "#46039f"
             ],
             [
              0.2222222222222222,
              "#7201a8"
             ],
             [
              0.3333333333333333,
              "#9c179e"
             ],
             [
              0.4444444444444444,
              "#bd3786"
             ],
             [
              0.5555555555555556,
              "#d8576b"
             ],
             [
              0.6666666666666666,
              "#ed7953"
             ],
             [
              0.7777777777777778,
              "#fb9f3a"
             ],
             [
              0.8888888888888888,
              "#fdca26"
             ],
             [
              1,
              "#f0f921"
             ]
            ],
            "type": "heatmap"
           }
          ],
          "heatmapgl": [
           {
            "colorbar": {
             "outlinewidth": 0,
             "ticks": ""
            },
            "colorscale": [
             [
              0,
              "#0d0887"
             ],
             [
              0.1111111111111111,
              "#46039f"
             ],
             [
              0.2222222222222222,
              "#7201a8"
             ],
             [
              0.3333333333333333,
              "#9c179e"
             ],
             [
              0.4444444444444444,
              "#bd3786"
             ],
             [
              0.5555555555555556,
              "#d8576b"
             ],
             [
              0.6666666666666666,
              "#ed7953"
             ],
             [
              0.7777777777777778,
              "#fb9f3a"
             ],
             [
              0.8888888888888888,
              "#fdca26"
             ],
             [
              1,
              "#f0f921"
             ]
            ],
            "type": "heatmapgl"
           }
          ],
          "histogram": [
           {
            "marker": {
             "colorbar": {
              "outlinewidth": 0,
              "ticks": ""
             }
            },
            "type": "histogram"
           }
          ],
          "histogram2d": [
           {
            "colorbar": {
             "outlinewidth": 0,
             "ticks": ""
            },
            "colorscale": [
             [
              0,
              "#0d0887"
             ],
             [
              0.1111111111111111,
              "#46039f"
             ],
             [
              0.2222222222222222,
              "#7201a8"
             ],
             [
              0.3333333333333333,
              "#9c179e"
             ],
             [
              0.4444444444444444,
              "#bd3786"
             ],
             [
              0.5555555555555556,
              "#d8576b"
             ],
             [
              0.6666666666666666,
              "#ed7953"
             ],
             [
              0.7777777777777778,
              "#fb9f3a"
             ],
             [
              0.8888888888888888,
              "#fdca26"
             ],
             [
              1,
              "#f0f921"
             ]
            ],
            "type": "histogram2d"
           }
          ],
          "histogram2dcontour": [
           {
            "colorbar": {
             "outlinewidth": 0,
             "ticks": ""
            },
            "colorscale": [
             [
              0,
              "#0d0887"
             ],
             [
              0.1111111111111111,
              "#46039f"
             ],
             [
              0.2222222222222222,
              "#7201a8"
             ],
             [
              0.3333333333333333,
              "#9c179e"
             ],
             [
              0.4444444444444444,
              "#bd3786"
             ],
             [
              0.5555555555555556,
              "#d8576b"
             ],
             [
              0.6666666666666666,
              "#ed7953"
             ],
             [
              0.7777777777777778,
              "#fb9f3a"
             ],
             [
              0.8888888888888888,
              "#fdca26"
             ],
             [
              1,
              "#f0f921"
             ]
            ],
            "type": "histogram2dcontour"
           }
          ],
          "mesh3d": [
           {
            "colorbar": {
             "outlinewidth": 0,
             "ticks": ""
            },
            "type": "mesh3d"
           }
          ],
          "parcoords": [
           {
            "line": {
             "colorbar": {
              "outlinewidth": 0,
              "ticks": ""
             }
            },
            "type": "parcoords"
           }
          ],
          "pie": [
           {
            "automargin": true,
            "type": "pie"
           }
          ],
          "scatter": [
           {
            "marker": {
             "colorbar": {
              "outlinewidth": 0,
              "ticks": ""
             }
            },
            "type": "scatter"
           }
          ],
          "scatter3d": [
           {
            "line": {
             "colorbar": {
              "outlinewidth": 0,
              "ticks": ""
             }
            },
            "marker": {
             "colorbar": {
              "outlinewidth": 0,
              "ticks": ""
             }
            },
            "type": "scatter3d"
           }
          ],
          "scattercarpet": [
           {
            "marker": {
             "colorbar": {
              "outlinewidth": 0,
              "ticks": ""
             }
            },
            "type": "scattercarpet"
           }
          ],
          "scattergeo": [
           {
            "marker": {
             "colorbar": {
              "outlinewidth": 0,
              "ticks": ""
             }
            },
            "type": "scattergeo"
           }
          ],
          "scattergl": [
           {
            "marker": {
             "colorbar": {
              "outlinewidth": 0,
              "ticks": ""
             }
            },
            "type": "scattergl"
           }
          ],
          "scattermapbox": [
           {
            "marker": {
             "colorbar": {
              "outlinewidth": 0,
              "ticks": ""
             }
            },
            "type": "scattermapbox"
           }
          ],
          "scatterpolar": [
           {
            "marker": {
             "colorbar": {
              "outlinewidth": 0,
              "ticks": ""
             }
            },
            "type": "scatterpolar"
           }
          ],
          "scatterpolargl": [
           {
            "marker": {
             "colorbar": {
              "outlinewidth": 0,
              "ticks": ""
             }
            },
            "type": "scatterpolargl"
           }
          ],
          "scatterternary": [
           {
            "marker": {
             "colorbar": {
              "outlinewidth": 0,
              "ticks": ""
             }
            },
            "type": "scatterternary"
           }
          ],
          "surface": [
           {
            "colorbar": {
             "outlinewidth": 0,
             "ticks": ""
            },
            "colorscale": [
             [
              0,
              "#0d0887"
             ],
             [
              0.1111111111111111,
              "#46039f"
             ],
             [
              0.2222222222222222,
              "#7201a8"
             ],
             [
              0.3333333333333333,
              "#9c179e"
             ],
             [
              0.4444444444444444,
              "#bd3786"
             ],
             [
              0.5555555555555556,
              "#d8576b"
             ],
             [
              0.6666666666666666,
              "#ed7953"
             ],
             [
              0.7777777777777778,
              "#fb9f3a"
             ],
             [
              0.8888888888888888,
              "#fdca26"
             ],
             [
              1,
              "#f0f921"
             ]
            ],
            "type": "surface"
           }
          ],
          "table": [
           {
            "cells": {
             "fill": {
              "color": "#EBF0F8"
             },
             "line": {
              "color": "white"
             }
            },
            "header": {
             "fill": {
              "color": "#C8D4E3"
             },
             "line": {
              "color": "white"
             }
            },
            "type": "table"
           }
          ]
         },
         "layout": {
          "annotationdefaults": {
           "arrowcolor": "#2a3f5f",
           "arrowhead": 0,
           "arrowwidth": 1
          },
          "coloraxis": {
           "colorbar": {
            "outlinewidth": 0,
            "ticks": ""
           }
          },
          "colorscale": {
           "diverging": [
            [
             0,
             "#8e0152"
            ],
            [
             0.1,
             "#c51b7d"
            ],
            [
             0.2,
             "#de77ae"
            ],
            [
             0.3,
             "#f1b6da"
            ],
            [
             0.4,
             "#fde0ef"
            ],
            [
             0.5,
             "#f7f7f7"
            ],
            [
             0.6,
             "#e6f5d0"
            ],
            [
             0.7,
             "#b8e186"
            ],
            [
             0.8,
             "#7fbc41"
            ],
            [
             0.9,
             "#4d9221"
            ],
            [
             1,
             "#276419"
            ]
           ],
           "sequential": [
            [
             0,
             "#0d0887"
            ],
            [
             0.1111111111111111,
             "#46039f"
            ],
            [
             0.2222222222222222,
             "#7201a8"
            ],
            [
             0.3333333333333333,
             "#9c179e"
            ],
            [
             0.4444444444444444,
             "#bd3786"
            ],
            [
             0.5555555555555556,
             "#d8576b"
            ],
            [
             0.6666666666666666,
             "#ed7953"
            ],
            [
             0.7777777777777778,
             "#fb9f3a"
            ],
            [
             0.8888888888888888,
             "#fdca26"
            ],
            [
             1,
             "#f0f921"
            ]
           ],
           "sequentialminus": [
            [
             0,
             "#0d0887"
            ],
            [
             0.1111111111111111,
             "#46039f"
            ],
            [
             0.2222222222222222,
             "#7201a8"
            ],
            [
             0.3333333333333333,
             "#9c179e"
            ],
            [
             0.4444444444444444,
             "#bd3786"
            ],
            [
             0.5555555555555556,
             "#d8576b"
            ],
            [
             0.6666666666666666,
             "#ed7953"
            ],
            [
             0.7777777777777778,
             "#fb9f3a"
            ],
            [
             0.8888888888888888,
             "#fdca26"
            ],
            [
             1,
             "#f0f921"
            ]
           ]
          },
          "colorway": [
           "#636efa",
           "#EF553B",
           "#00cc96",
           "#ab63fa",
           "#FFA15A",
           "#19d3f3",
           "#FF6692",
           "#B6E880",
           "#FF97FF",
           "#FECB52"
          ],
          "font": {
           "color": "#2a3f5f"
          },
          "geo": {
           "bgcolor": "white",
           "lakecolor": "white",
           "landcolor": "#E5ECF6",
           "showlakes": true,
           "showland": true,
           "subunitcolor": "white"
          },
          "hoverlabel": {
           "align": "left"
          },
          "hovermode": "closest",
          "mapbox": {
           "style": "light"
          },
          "paper_bgcolor": "white",
          "plot_bgcolor": "#E5ECF6",
          "polar": {
           "angularaxis": {
            "gridcolor": "white",
            "linecolor": "white",
            "ticks": ""
           },
           "bgcolor": "#E5ECF6",
           "radialaxis": {
            "gridcolor": "white",
            "linecolor": "white",
            "ticks": ""
           }
          },
          "scene": {
           "xaxis": {
            "backgroundcolor": "#E5ECF6",
            "gridcolor": "white",
            "gridwidth": 2,
            "linecolor": "white",
            "showbackground": true,
            "ticks": "",
            "zerolinecolor": "white"
           },
           "yaxis": {
            "backgroundcolor": "#E5ECF6",
            "gridcolor": "white",
            "gridwidth": 2,
            "linecolor": "white",
            "showbackground": true,
            "ticks": "",
            "zerolinecolor": "white"
           },
           "zaxis": {
            "backgroundcolor": "#E5ECF6",
            "gridcolor": "white",
            "gridwidth": 2,
            "linecolor": "white",
            "showbackground": true,
            "ticks": "",
            "zerolinecolor": "white"
           }
          },
          "shapedefaults": {
           "line": {
            "color": "#2a3f5f"
           }
          },
          "ternary": {
           "aaxis": {
            "gridcolor": "white",
            "linecolor": "white",
            "ticks": ""
           },
           "baxis": {
            "gridcolor": "white",
            "linecolor": "white",
            "ticks": ""
           },
           "bgcolor": "#E5ECF6",
           "caxis": {
            "gridcolor": "white",
            "linecolor": "white",
            "ticks": ""
           }
          },
          "title": {
           "x": 0.05
          },
          "xaxis": {
           "automargin": true,
           "gridcolor": "white",
           "linecolor": "white",
           "ticks": "",
           "title": {
            "standoff": 15
           },
           "zerolinecolor": "white",
           "zerolinewidth": 2
          },
          "yaxis": {
           "automargin": true,
           "gridcolor": "white",
           "linecolor": "white",
           "ticks": "",
           "title": {
            "standoff": 15
           },
           "zerolinecolor": "white",
           "zerolinewidth": 2
          }
         }
        },
        "title": {
         "text": "Proportion of the motif in the GA results"
        }
       }
      },
      "text/html": [
       "<div>\n",
       "        \n",
       "        \n",
       "            <div id=\"bb345b4b-b690-4496-8598-58a65636b54b\" class=\"plotly-graph-div\" style=\"height:525px; width:100%;\"></div>\n",
       "            <script type=\"text/javascript\">\n",
       "                require([\"plotly\"], function(Plotly) {\n",
       "                    window.PLOTLYENV=window.PLOTLYENV || {};\n",
       "                    \n",
       "                if (document.getElementById(\"bb345b4b-b690-4496-8598-58a65636b54b\")) {\n",
       "                    Plotly.newPlot(\n",
       "                        'bb345b4b-b690-4496-8598-58a65636b54b',\n",
       "                        [{\"type\": \"heatmap\", \"x\": [\"B.\", \"myeloid.\", \"innate.lym.\", \"abT.\", \"stem.\", \"gdT.\"], \"y\": [\"filter1\", \"filter6\", \"filter8\", \"filter10\", \"filter11\", \"filter14\", \"filter15\", \"filter23\", \"filter28\", \"filter34\", \"filter35\", \"filter43\", \"filter44\", \"filter47\", \"filter50\", \"filter51\", \"filter65\", \"filter67\", \"filter68\", \"filter69\", \"filter78\", \"filter80\", \"filter85\", \"filter89\", \"filter93\", \"filter94\", \"filter97\", \"filter106\", \"filter112\", \"filter115\", \"filter120\", \"filter122\", \"filter123\", \"filter129\", \"filter133\", \"filter135\", \"filter154\", \"filter165\", \"filter166\", \"filter167\", \"filter173\", \"filter174\", \"filter178\", \"filter190\", \"filter195\", \"filter198\", \"filter205\", \"filter217\", \"filter218\", \"filter220\", \"filter224\", \"filter230\", \"filter231\", \"filter238\", \"filter242\", \"filter244\", \"filter247\", \"filter250\", \"filter252\", \"filter255\", \"filter257\", \"filter260\", \"filter264\", \"filter275\", \"filter276\", \"filter279\", \"filter283\", \"filter284\", \"filter286\", \"filter288\", \"filter290\", \"filter292\", \"filter297\"], \"z\": [[0.0, 0.017, 0.018000000000000002, 0.035, 0.003, 0.001], [0.006, 0.15, 0.003, 0.002, 0.013999999999999999, 0.003], [0.226, 0.015, 0.242, 0.183, 0.008, 0.021], [0.009000000000000001, 0.0, 0.996, 0.048, 0.804, 0.095], [0.054000000000000006, 1.0, 0.924, 0.087, 0.937, 0.064], [0.16399999999999998, 0.025, 0.057, 0.01, 0.064, 0.0], [0.022000000000000002, 0.0, 0.9940000000000001, 0.046, 0.868, 0.115], [0.046, 0.131, 0.087, 0.03, 0.035, 0.0], [0.069, 0.034, 0.128, 0.08800000000000001, 0.14, 0.026000000000000002], [0.003, 0.006, 0.0, 0.0, 0.003, 0.0], [0.003, 0.006, 0.045, 0.006999999999999999, 0.054000000000000006, 0.0], [0.013000000000000001, 0.036000000000000004, 0.076, 0.04, 0.267, 0.0], [0.006999999999999999, 0.0, 0.002, 0.015, 0.03, 0.012], [0.034, 0.012, 1.0, 0.075, 0.757, 0.086], [0.004, 0.021, 0.125, 0.716, 0.009000000000000001, 0.7759999999999999], [0.03, 0.026000000000000002, 0.081, 0.033, 0.525, 0.005], [0.045, 0.027999999999999997, 0.013999999999999999, 0.039, 0.204, 0.004], [0.005, 0.061, 0.01, 0.027999999999999997, 0.011000000000000001, 0.005], [0.015, 0.021, 0.055, 0.035, 0.021, 0.102], [0.015, 0.016, 0.131, 0.004, 0.045, 0.004], [0.361, 0.001, 0.129, 0.006, 0.048, 0.0], [0.27, 0.237, 0.004, 0.764, 0.24600000000000002, 0.995], [0.0, 0.045, 0.065, 0.021, 0.006, 0.0], [1.0, 0.193, 0.022000000000000002, 0.027000000000000003, 0.146, 0.171], [0.166, 0.002, 0.142, 0.017, 0.022000000000000002, 0.0], [1.0, 0.958, 0.035, 0.02, 0.247, 0.247], [0.019, 0.045, 0.23399999999999999, 0.127, 0.006, 0.008], [0.745, 0.152, 0.022000000000000002, 0.11800000000000001, 0.017, 0.073], [0.009000000000000001, 0.001, 0.006999999999999999, 0.0, 0.09300000000000001, 0.0], [0.013999999999999999, 0.008, 0.032, 0.062, 0.035, 0.021], [0.017, 0.5770000000000001, 0.9359999999999999, 0.14800000000000002, 0.674, 0.0], [0.40399999999999997, 0.992, 0.759, 0.016, 0.847, 0.006], [0.027000000000000003, 0.09300000000000001, 0.016, 0.013000000000000001, 0.018000000000000002, 0.0], [0.038, 0.05, 0.297, 0.013999999999999999, 0.047, 0.001], [1.0, 1.0, 0.069, 0.011000000000000001, 0.024, 0.036000000000000004], [0.002, 0.001, 0.022000000000000002, 0.036000000000000004, 0.081, 0.004], [0.003, 0.054000000000000006, 0.87, 0.195, 0.016, 0.0], [1.0, 0.163, 0.012, 0.032, 0.16699999999999998, 0.235], [0.13699999999999998, 0.031, 0.071, 0.922, 0.026000000000000002, 1.0], [0.004, 0.043, 0.061, 0.008, 0.051, 0.0], [0.0, 0.04, 0.20800000000000002, 0.0, 0.028999999999999998, 0.0], [0.003, 0.0, 0.0, 0.005, 0.003, 0.001], [0.057999999999999996, 0.353, 0.336, 0.2, 0.006, 0.023], [0.022000000000000002, 0.0, 0.0, 0.008, 0.07200000000000001, 0.013000000000000001], [0.004, 0.001, 0.013000000000000001, 0.235, 0.011000000000000001, 0.10099999999999999], [0.033, 0.025, 0.08199999999999999, 0.017, 0.065, 0.013000000000000001], [1.0, 1.0, 0.851, 0.021, 0.113, 0.016], [0.006, 0.03, 0.091, 0.023, 0.045, 0.0], [0.019, 0.0, 0.0, 0.009000000000000001, 0.045, 0.009000000000000001], [0.006999999999999999, 0.02, 0.996, 0.001, 0.06, 0.0], [1.0, 0.145, 0.005, 0.063, 0.152, 0.158], [1.0, 1.0, 0.449, 0.013000000000000001, 0.522, 0.048], [0.008, 0.125, 0.0, 0.004, 0.009000000000000001, 0.0], [0.005, 0.038, 0.728, 0.003, 0.037000000000000005, 0.001], [0.013999999999999999, 0.107, 0.27899999999999997, 0.171, 0.011000000000000001, 0.002], [0.27, 0.963, 0.29100000000000004, 0.08800000000000001, 0.667, 0.068], [0.066, 0.138, 0.048, 0.053, 0.026000000000000002, 0.0], [1.0, 0.126, 0.027000000000000003, 0.019, 0.084, 0.05], [0.071, 0.986, 0.914, 0.083, 0.9520000000000001, 0.11900000000000001], [1.0, 1.0, 0.092, 0.013999999999999999, 0.055, 0.023], [0.385, 0.061, 0.08, 0.009000000000000001, 0.027999999999999997, 0.002], [0.002, 0.025, 0.008, 0.002, 0.001, 0.0], [0.005, 0.023, 0.185, 0.035, 0.376, 0.0], [0.015, 0.142, 0.153, 0.048, 0.033, 0.0], [0.996, 0.975, 0.008, 0.004, 0.1, 0.28800000000000003], [0.001, 0.011000000000000001, 0.156, 0.12300000000000001, 0.003, 0.013999999999999999], [0.006999999999999999, 0.022000000000000002, 0.146, 0.034, 0.7290000000000001, 0.0], [0.006999999999999999, 0.025, 0.005, 0.051, 0.013999999999999999, 0.022000000000000002], [1.0, 0.998, 0.005, 0.017, 0.21, 0.259], [0.135, 0.028999999999999998, 0.033, 0.14800000000000002, 0.006, 0.040999999999999995], [0.013999999999999999, 0.021, 0.038, 0.019, 0.316, 0.001], [0.01, 0.013000000000000001, 0.009000000000000001, 0.002, 1.0, 0.003], [0.005, 0.01, 0.214, 0.003, 0.081, 0.006]]}],\n",
       "                        {\"template\": {\"data\": {\"bar\": [{\"error_x\": {\"color\": \"#2a3f5f\"}, \"error_y\": {\"color\": \"#2a3f5f\"}, \"marker\": {\"line\": {\"color\": \"#E5ECF6\", \"width\": 0.5}}, \"type\": \"bar\"}], \"barpolar\": [{\"marker\": {\"line\": {\"color\": \"#E5ECF6\", \"width\": 0.5}}, \"type\": \"barpolar\"}], \"carpet\": [{\"aaxis\": {\"endlinecolor\": \"#2a3f5f\", \"gridcolor\": \"white\", \"linecolor\": \"white\", \"minorgridcolor\": \"white\", \"startlinecolor\": \"#2a3f5f\"}, \"baxis\": {\"endlinecolor\": \"#2a3f5f\", \"gridcolor\": \"white\", \"linecolor\": \"white\", \"minorgridcolor\": \"white\", \"startlinecolor\": \"#2a3f5f\"}, \"type\": \"carpet\"}], \"choropleth\": [{\"colorbar\": {\"outlinewidth\": 0, \"ticks\": \"\"}, \"type\": \"choropleth\"}], \"contour\": [{\"colorbar\": {\"outlinewidth\": 0, \"ticks\": \"\"}, \"colorscale\": [[0.0, \"#0d0887\"], [0.1111111111111111, \"#46039f\"], [0.2222222222222222, \"#7201a8\"], [0.3333333333333333, \"#9c179e\"], [0.4444444444444444, \"#bd3786\"], [0.5555555555555556, \"#d8576b\"], [0.6666666666666666, \"#ed7953\"], [0.7777777777777778, \"#fb9f3a\"], [0.8888888888888888, \"#fdca26\"], [1.0, \"#f0f921\"]], \"type\": \"contour\"}], \"contourcarpet\": [{\"colorbar\": {\"outlinewidth\": 0, \"ticks\": \"\"}, \"type\": \"contourcarpet\"}], \"heatmap\": [{\"colorbar\": {\"outlinewidth\": 0, \"ticks\": \"\"}, \"colorscale\": [[0.0, \"#0d0887\"], [0.1111111111111111, \"#46039f\"], [0.2222222222222222, \"#7201a8\"], [0.3333333333333333, \"#9c179e\"], [0.4444444444444444, \"#bd3786\"], [0.5555555555555556, \"#d8576b\"], [0.6666666666666666, \"#ed7953\"], [0.7777777777777778, \"#fb9f3a\"], [0.8888888888888888, \"#fdca26\"], [1.0, \"#f0f921\"]], \"type\": \"heatmap\"}], \"heatmapgl\": [{\"colorbar\": {\"outlinewidth\": 0, \"ticks\": \"\"}, \"colorscale\": [[0.0, \"#0d0887\"], [0.1111111111111111, \"#46039f\"], [0.2222222222222222, \"#7201a8\"], [0.3333333333333333, \"#9c179e\"], [0.4444444444444444, \"#bd3786\"], [0.5555555555555556, \"#d8576b\"], [0.6666666666666666, \"#ed7953\"], [0.7777777777777778, \"#fb9f3a\"], [0.8888888888888888, \"#fdca26\"], [1.0, \"#f0f921\"]], \"type\": \"heatmapgl\"}], \"histogram\": [{\"marker\": {\"colorbar\": {\"outlinewidth\": 0, \"ticks\": \"\"}}, \"type\": \"histogram\"}], \"histogram2d\": [{\"colorbar\": {\"outlinewidth\": 0, \"ticks\": \"\"}, \"colorscale\": [[0.0, \"#0d0887\"], [0.1111111111111111, \"#46039f\"], [0.2222222222222222, \"#7201a8\"], [0.3333333333333333, \"#9c179e\"], [0.4444444444444444, \"#bd3786\"], [0.5555555555555556, \"#d8576b\"], [0.6666666666666666, \"#ed7953\"], [0.7777777777777778, \"#fb9f3a\"], [0.8888888888888888, \"#fdca26\"], [1.0, \"#f0f921\"]], \"type\": \"histogram2d\"}], \"histogram2dcontour\": [{\"colorbar\": {\"outlinewidth\": 0, \"ticks\": \"\"}, \"colorscale\": [[0.0, \"#0d0887\"], [0.1111111111111111, \"#46039f\"], [0.2222222222222222, \"#7201a8\"], [0.3333333333333333, \"#9c179e\"], [0.4444444444444444, \"#bd3786\"], [0.5555555555555556, \"#d8576b\"], [0.6666666666666666, \"#ed7953\"], [0.7777777777777778, \"#fb9f3a\"], [0.8888888888888888, \"#fdca26\"], [1.0, \"#f0f921\"]], \"type\": \"histogram2dcontour\"}], \"mesh3d\": [{\"colorbar\": {\"outlinewidth\": 0, \"ticks\": \"\"}, \"type\": \"mesh3d\"}], \"parcoords\": [{\"line\": {\"colorbar\": {\"outlinewidth\": 0, \"ticks\": \"\"}}, \"type\": \"parcoords\"}], \"pie\": [{\"automargin\": true, \"type\": \"pie\"}], \"scatter\": [{\"marker\": {\"colorbar\": {\"outlinewidth\": 0, \"ticks\": \"\"}}, \"type\": \"scatter\"}], \"scatter3d\": [{\"line\": {\"colorbar\": {\"outlinewidth\": 0, \"ticks\": \"\"}}, \"marker\": {\"colorbar\": {\"outlinewidth\": 0, \"ticks\": \"\"}}, \"type\": \"scatter3d\"}], \"scattercarpet\": [{\"marker\": {\"colorbar\": {\"outlinewidth\": 0, \"ticks\": \"\"}}, \"type\": \"scattercarpet\"}], \"scattergeo\": [{\"marker\": {\"colorbar\": {\"outlinewidth\": 0, \"ticks\": \"\"}}, \"type\": \"scattergeo\"}], \"scattergl\": [{\"marker\": {\"colorbar\": {\"outlinewidth\": 0, \"ticks\": \"\"}}, \"type\": \"scattergl\"}], \"scattermapbox\": [{\"marker\": {\"colorbar\": {\"outlinewidth\": 0, \"ticks\": \"\"}}, \"type\": \"scattermapbox\"}], \"scatterpolar\": [{\"marker\": {\"colorbar\": {\"outlinewidth\": 0, \"ticks\": \"\"}}, \"type\": \"scatterpolar\"}], \"scatterpolargl\": [{\"marker\": {\"colorbar\": {\"outlinewidth\": 0, \"ticks\": \"\"}}, \"type\": \"scatterpolargl\"}], \"scatterternary\": [{\"marker\": {\"colorbar\": {\"outlinewidth\": 0, \"ticks\": \"\"}}, \"type\": \"scatterternary\"}], \"surface\": [{\"colorbar\": {\"outlinewidth\": 0, \"ticks\": \"\"}, \"colorscale\": [[0.0, \"#0d0887\"], [0.1111111111111111, \"#46039f\"], [0.2222222222222222, \"#7201a8\"], [0.3333333333333333, \"#9c179e\"], [0.4444444444444444, \"#bd3786\"], [0.5555555555555556, \"#d8576b\"], [0.6666666666666666, \"#ed7953\"], [0.7777777777777778, \"#fb9f3a\"], [0.8888888888888888, \"#fdca26\"], [1.0, \"#f0f921\"]], \"type\": \"surface\"}], \"table\": [{\"cells\": {\"fill\": {\"color\": \"#EBF0F8\"}, \"line\": {\"color\": \"white\"}}, \"header\": {\"fill\": {\"color\": \"#C8D4E3\"}, \"line\": {\"color\": \"white\"}}, \"type\": \"table\"}]}, \"layout\": {\"annotationdefaults\": {\"arrowcolor\": \"#2a3f5f\", \"arrowhead\": 0, \"arrowwidth\": 1}, \"coloraxis\": {\"colorbar\": {\"outlinewidth\": 0, \"ticks\": \"\"}}, \"colorscale\": {\"diverging\": [[0, \"#8e0152\"], [0.1, \"#c51b7d\"], [0.2, \"#de77ae\"], [0.3, \"#f1b6da\"], [0.4, \"#fde0ef\"], [0.5, \"#f7f7f7\"], [0.6, \"#e6f5d0\"], [0.7, \"#b8e186\"], [0.8, \"#7fbc41\"], [0.9, \"#4d9221\"], [1, \"#276419\"]], \"sequential\": [[0.0, \"#0d0887\"], [0.1111111111111111, \"#46039f\"], [0.2222222222222222, \"#7201a8\"], [0.3333333333333333, \"#9c179e\"], [0.4444444444444444, \"#bd3786\"], [0.5555555555555556, \"#d8576b\"], [0.6666666666666666, \"#ed7953\"], [0.7777777777777778, \"#fb9f3a\"], [0.8888888888888888, \"#fdca26\"], [1.0, \"#f0f921\"]], \"sequentialminus\": [[0.0, \"#0d0887\"], [0.1111111111111111, \"#46039f\"], [0.2222222222222222, \"#7201a8\"], [0.3333333333333333, \"#9c179e\"], [0.4444444444444444, \"#bd3786\"], [0.5555555555555556, \"#d8576b\"], [0.6666666666666666, \"#ed7953\"], [0.7777777777777778, \"#fb9f3a\"], [0.8888888888888888, \"#fdca26\"], [1.0, \"#f0f921\"]]}, \"colorway\": [\"#636efa\", \"#EF553B\", \"#00cc96\", \"#ab63fa\", \"#FFA15A\", \"#19d3f3\", \"#FF6692\", \"#B6E880\", \"#FF97FF\", \"#FECB52\"], \"font\": {\"color\": \"#2a3f5f\"}, \"geo\": {\"bgcolor\": \"white\", \"lakecolor\": \"white\", \"landcolor\": \"#E5ECF6\", \"showlakes\": true, \"showland\": true, \"subunitcolor\": \"white\"}, \"hoverlabel\": {\"align\": \"left\"}, \"hovermode\": \"closest\", \"mapbox\": {\"style\": \"light\"}, \"paper_bgcolor\": \"white\", \"plot_bgcolor\": \"#E5ECF6\", \"polar\": {\"angularaxis\": {\"gridcolor\": \"white\", \"linecolor\": \"white\", \"ticks\": \"\"}, \"bgcolor\": \"#E5ECF6\", \"radialaxis\": {\"gridcolor\": \"white\", \"linecolor\": \"white\", \"ticks\": \"\"}}, \"scene\": {\"xaxis\": {\"backgroundcolor\": \"#E5ECF6\", \"gridcolor\": \"white\", \"gridwidth\": 2, \"linecolor\": \"white\", \"showbackground\": true, \"ticks\": \"\", \"zerolinecolor\": \"white\"}, \"yaxis\": {\"backgroundcolor\": \"#E5ECF6\", \"gridcolor\": \"white\", \"gridwidth\": 2, \"linecolor\": \"white\", \"showbackground\": true, \"ticks\": \"\", \"zerolinecolor\": \"white\"}, \"zaxis\": {\"backgroundcolor\": \"#E5ECF6\", \"gridcolor\": \"white\", \"gridwidth\": 2, \"linecolor\": \"white\", \"showbackground\": true, \"ticks\": \"\", \"zerolinecolor\": \"white\"}}, \"shapedefaults\": {\"line\": {\"color\": \"#2a3f5f\"}}, \"ternary\": {\"aaxis\": {\"gridcolor\": \"white\", \"linecolor\": \"white\", \"ticks\": \"\"}, \"baxis\": {\"gridcolor\": \"white\", \"linecolor\": \"white\", \"ticks\": \"\"}, \"bgcolor\": \"#E5ECF6\", \"caxis\": {\"gridcolor\": \"white\", \"linecolor\": \"white\", \"ticks\": \"\"}}, \"title\": {\"x\": 0.05}, \"xaxis\": {\"automargin\": true, \"gridcolor\": \"white\", \"linecolor\": \"white\", \"ticks\": \"\", \"title\": {\"standoff\": 15}, \"zerolinecolor\": \"white\", \"zerolinewidth\": 2}, \"yaxis\": {\"automargin\": true, \"gridcolor\": \"white\", \"linecolor\": \"white\", \"ticks\": \"\", \"title\": {\"standoff\": 15}, \"zerolinecolor\": \"white\", \"zerolinewidth\": 2}}}, \"title\": {\"text\": \"Proportion of the motif in the GA results\"}},\n",
       "                        {\"responsive\": true}\n",
       "                    ).then(function(){\n",
       "                            \n",
       "var gd = document.getElementById('bb345b4b-b690-4496-8598-58a65636b54b');\n",
       "var x = new MutationObserver(function (mutations, observer) {{\n",
       "        var display = window.getComputedStyle(gd).display;\n",
       "        if (!display || display === 'none') {{\n",
       "            console.log([gd, 'removed!']);\n",
       "            Plotly.purge(gd);\n",
       "            observer.disconnect();\n",
       "        }}\n",
       "}});\n",
       "\n",
       "// Listen for the removal of the full notebook cells\n",
       "var notebookContainer = gd.closest('#notebook-container');\n",
       "if (notebookContainer) {{\n",
       "    x.observe(notebookContainer, {childList: true});\n",
       "}}\n",
       "\n",
       "// Listen for the clearing of the current output cell\n",
       "var outputEl = gd.closest('.output');\n",
       "if (outputEl) {{\n",
       "    x.observe(outputEl, {childList: true});\n",
       "}}\n",
       "\n",
       "                        })\n",
       "                };\n",
       "                });\n",
       "            </script>\n",
       "        </div>"
      ]
     },
     "metadata": {},
     "output_type": "display_data"
    }
   ],
   "source": [
    "ht_map = generated_smotifs[['B.','myeloid.','innate.lym.','abT.','stem.','gdT.']]\n",
    "fig = go.Figure(go.Heatmap(z=ht_map,\n",
    "                     x = ht_map.columns,\n",
    "                     y=ht_map.index))\n",
    "fig.update_layout(title=\"Proportion of the motif in the GA results\")\n",
    "fig.show()"
   ]
  },
  {
   "cell_type": "code",
   "execution_count": 30,
   "metadata": {
    "hidden": true
   },
   "outputs": [
    {
     "data": {
      "application/vnd.plotly.v1+json": {
       "config": {
        "plotlyServerURL": "https://plot.ly"
       },
       "data": [
        {
         "type": "heatmap",
         "x": [
          "B",
          "abT",
          "gdT",
          "myeloid",
          "lym",
          "stem"
         ],
         "y": [
          "filter1",
          "filter10",
          "filter102",
          "filter105",
          "filter106",
          "filter11",
          "filter112",
          "filter115",
          "filter120",
          "filter122",
          "filter123",
          "filter124",
          "filter127",
          "filter129",
          "filter132",
          "filter133",
          "filter135",
          "filter14",
          "filter15",
          "filter151",
          "filter154",
          "filter155",
          "filter157",
          "filter165",
          "filter166",
          "filter167",
          "filter170",
          "filter173",
          "filter174",
          "filter178",
          "filter183",
          "filter185",
          "filter186",
          "filter190",
          "filter194",
          "filter195",
          "filter196",
          "filter198",
          "filter202",
          "filter205",
          "filter209",
          "filter214",
          "filter217",
          "filter218",
          "filter219",
          "filter220",
          "filter223",
          "filter224",
          "filter227",
          "filter23",
          "filter230",
          "filter231",
          "filter238",
          "filter242",
          "filter244",
          "filter247",
          "filter250",
          "filter252",
          "filter255",
          "filter257",
          "filter260",
          "filter264",
          "filter270",
          "filter275",
          "filter276",
          "filter279",
          "filter28",
          "filter281",
          "filter283",
          "filter284",
          "filter286",
          "filter288",
          "filter290",
          "filter292",
          "filter297",
          "filter34",
          "filter35",
          "filter40",
          "filter43",
          "filter44",
          "filter47",
          "filter50",
          "filter51",
          "filter6",
          "filter65",
          "filter66",
          "filter67",
          "filter68",
          "filter69",
          "filter70",
          "filter78",
          "filter8",
          "filter80",
          "filter85",
          "filter89",
          "filter9",
          "filter93",
          "filter94",
          "filter97"
         ],
         "z": [
          [
           2.875371,
           3.9346212999999994,
           4.0304150000000005,
           -39.203693,
           -14.286764000000002,
           3.6450093
          ],
          [
           298.71567000000005,
           -289.61334,
           -302.80753,
           402.54517000000004,
           -1702.5756,
           -735.2234
          ],
          [
           92.42553000000001,
           41.33782,
           34.300816,
           -412.90213,
           53.25833000000001,
           129.69725
          ],
          [
           -32.01562,
           -1.1843241000000002,
           0.5776170999999999,
           -5.4272860000000005,
           25.466425,
           -21.060986
          ],
          [
           -41.98417,
           29.547127000000003,
           59.325343999999994,
           58.68184,
           -1786.195,
           86.32869000000001
          ],
          [
           -6.453993,
           -461.4455,
           -590.3121,
           1090.8273,
           -2191.3308,
           -1178.5892
          ],
          [
           -852.5956,
           -134.86874,
           110.139404,
           105.569534,
           671.7246,
           493.89786
          ],
          [
           -105.17132600000001,
           -27.599287,
           132.36914,
           -106.90898999999999,
           337.56,
           -140.80875
          ],
          [
           30.515359999999998,
           -76.0759,
           -108.65993,
           269.6302,
           -487.6399,
           -163.6227
          ],
          [
           -9.672769,
           40.47968,
           42.842506,
           -175.23782,
           16.898901000000002,
           -64.30067
          ],
          [
           -88.14145,
           23.249561,
           16.129984,
           -6.974089599999999,
           22.452538,
           5.8433003
          ],
          [
           -25.351303,
           16.841412,
           18.122477,
           -39.266983,
           -8.058703999999999,
           -28.216183
          ],
          [
           65.94771999999999,
           27.171114000000003,
           23.22736,
           -145.5155,
           43.861195,
           -192.77358999999998
          ],
          [
           -0.57814664,
           6.52048,
           5.1774926,
           -28.971123,
           13.183141,
           -3.6617646
          ],
          [
           87.23099,
           -145.63362,
           -129.83226000000002,
           126.98443600000002,
           32.712092999999996,
           283.83606000000003
          ],
          [
           -982.28937,
           1782.8942,
           1883.1989999999998,
           -6015.0874,
           1897.4763,
           -1038.7161
          ],
          [
           -56.52545500000001,
           13.946659,
           12.708846000000001,
           3.6725992999999995,
           12.630256,
           7.168982000000001
          ],
          [
           17.820396,
           -48.697514,
           34.152355,
           -62.9225,
           146.83954,
           92.80409
          ],
          [
           249.60692999999998,
           -251.2152,
           -273.05664,
           385.7197,
           -1908.3039999999999,
           -571.7208
          ],
          [
           10.509944,
           5.551601,
           24.869066,
           -68.14161999999999,
           7.906298,
           -75.671616
          ],
          [
           -96.89787,
           -49.982994,
           -62.770244999999996,
           112.63316999999999,
           -168.58267,
           198.72507
          ],
          [
           44.93608,
           10.602892,
           20.294264000000002,
           -40.268035999999995,
           40.468533,
           -68.63794
          ],
          [
           -15.118513,
           14.729373,
           13.494385999999999,
           -37.789320000000004,
           60.167457999999996,
           -17.837822
          ],
          [
           -978.6188400000001,
           461.2893,
           503.30276,
           -794.6979,
           410.6668,
           307.71576
          ],
          [
           77.91861999999999,
           -191.05176,
           -323.40292,
           134.8873,
           -10.721625999999999,
           154.2161
          ],
          [
           -679.5834,
           68.411446,
           61.337031999999994,
           106.23656000000001,
           98.015045,
           81.32871999999999
          ],
          [
           8.274828,
           19.265488,
           14.357793,
           -63.113969999999995,
           -12.419596,
           -99.46294
          ],
          [
           21.936926,
           136.05626999999998,
           270.56528,
           -295.10278,
           -365.20264,
           135.0806
          ],
          [
           830.19727,
           657.9736,
           614.5108,
           -8623.075,
           541.9498,
           518.65594
          ],
          [
           -4.0418906,
           -3.1622486000000003,
           -9.829589,
           23.577017,
           -75.77614,
           21.060776
          ],
          [
           41.131508000000004,
           33.218765000000005,
           37.74024,
           -328.21477999999996,
           4.718585,
           11.325796
          ],
          [
           -18.606942999999998,
           11.603423,
           12.42925,
           -29.690072999999998,
           16.103296,
           -41.672527
          ],
          [
           2.1586522999999995,
           5.539841,
           3.569842,
           -27.466115999999996,
           17.133808,
           5.2535872
          ],
          [
           -615.7492,
           53.569786,
           53.377087,
           148.02827,
           92.08008000000001,
           75.61241
          ],
          [
           115.74386000000001,
           47.681847,
           49.47619,
           -460.04967999999997,
           67.50632,
           14.238406
          ],
          [
           144.73178000000001,
           -67.76269,
           -177.47086000000002,
           271.9715,
           -2.2216277,
           -311.83032000000003
          ],
          [
           -1.5526173,
           0.6944844,
           1.2845528,
           -1.8906319,
           -8.151205000000001,
           2.708259
          ],
          [
           -68.72208,
           -6.0832787,
           -11.98585,
           190.51486,
           -3.3049362,
           2.801627
          ],
          [
           1.369039,
           11.121573,
           6.062551,
           -13.997015,
           -19.757313,
           -25.880676
          ],
          [
           -410.28024,
           312.68878,
           314.5166,
           -881.9212,
           275.43695,
           173.24062
          ],
          [
           85.76847,
           16.289939999999998,
           14.501348000000002,
           -159.18407,
           27.412755999999998,
           1.8742737
          ],
          [
           4.1092005,
           2.4192498,
           -10.978034,
           39.94068,
           -38.34448,
           7.9691515
          ],
          [
           -956.4583,
           97.20345999999999,
           82.58686,
           157.4451,
           143.74857,
           133.83011000000002
          ],
          [
           -515.40753,
           47.847854999999996,
           49.213257,
           96.44976,
           61.932359999999996,
           89.86236600000001
          ],
          [
           -13.783714999999999,
           -98.48196,
           -61.679446999999996,
           133.45335,
           264.23367,
           -26.295746
          ],
          [
           65.08426999999999,
           151.84322,
           100.141655,
           -390.2719,
           -1056.9376,
           145.91673
          ],
          [
           -4.769538,
           -1.6069988000000002,
           -0.7249922,
           -10.593132,
           10.587489999999999,
           8.870686
          ],
          [
           -309.4107,
           109.60441999999999,
           115.86507399999999,
           -105.91546000000001,
           79.90119,
           76.0094
          ],
          [
           22.136389,
           93.592636,
           84.405754,
           -283.76926000000003,
           -213.46489,
           116.88371000000001
          ],
          [
           65.36966,
           -51.1755,
           -73.925896,
           137.49591,
           78.53768000000001,
           -55.21801
          ],
          [
           -116.63456000000001,
           322.78662,
           354.3854,
           -1166.76,
           321.38318,
           -690.53107
          ],
          [
           -89.49701999999999,
           -6.2611403,
           8.707947,
           164.51413,
           -171.8992,
           53.116690000000006
          ],
          [
           77.45571,
           172.85733000000002,
           94.50603000000001,
           -356.8812,
           -1716.4332,
           145.05591
          ],
          [
           -74.42113499999999,
           61.971405000000004,
           86.944016,
           -620.58093,
           263.32602,
           14.872617000000002
          ],
          [
           -6.793510400000001,
           -9.231607,
           -9.960932000000001,
           3.1504812,
           12.430098,
           -30.292571999999996
          ],
          [
           -26.670586,
           0.47928017,
           -0.4596495,
           59.946380000000005,
           -5.3203096,
           -9.628695500000001
          ],
          [
           -47.747723,
           36.158253,
           41.125885,
           -96.586395,
           1.8004563999999998,
           -7.248819999999999
          ],
          [
           -7.5025395999999995,
           -215.61035,
           -257.21857,
           550.0134,
           -727.6862,
           -290.2746
          ],
          [
           -1311.5651,
           2661.625,
           2802.7852,
           -10499.1875,
           3112.6540000000005,
           -1346.9187
          ],
          [
           -109.43628999999999,
           13.018632,
           10.990909,
           19.060497,
           21.976264999999998,
           20.667362
          ],
          [
           -1288.9545,
           130.36592,
           104.24067,
           230.21184,
           97.99096,
           197.4504
          ],
          [
           166.45515,
           -295.49627999999996,
           -335.4565,
           1406.8064,
           -189.48672,
           176.3597
          ],
          [
           42.344498,
           -118.59494,
           -93.41314,
           148.21945,
           210.74419,
           114.1308
          ],
          [
           23.294815,
           -18.587194,
           -38.86153,
           112.58523999999998,
           28.387445,
           -56.559948
          ],
          [
           -124.84432,
           112.83663,
           141.29315,
           -333.07358,
           174.14427,
           -220.3461
          ],
          [
           74.53602,
           -4.4874220000000005,
           36.06588,
           -70.45238499999999,
           -1704.5735,
           178.30261000000002
          ],
          [
           0.10717222,
           -29.010346999999996,
           -4.845888599999999,
           158.83209,
           21.36179,
           136.06465
          ],
          [
           8.220982000000001,
           12.492963,
           14.8917265,
           -51.96349,
           -104.63204,
           42.21046
          ],
          [
           -10.051777000000001,
           5.051767,
           0.3741402,
           79.38781999999999,
           -103.65584,
           14.071451000000001
          ],
          [
           -9.497314999999999,
           12.193401,
           33.85329,
           -38.898483,
           38.013103,
           -97.44308000000001
          ],
          [
           -260.0933,
           266.95364,
           329.84238,
           -632.4139,
           328.47638,
           -675.3043
          ],
          [
           43.28844,
           17.227524,
           52.165863,
           32.823757,
           -2063.2166,
           88.62923
          ],
          [
           -96.19494,
           14.877727499999999,
           28.236103000000004,
           475.07797,
           -157.13194,
           2.7679259999999997
          ],
          [
           311.86072,
           2.67312,
           139.76001000000002,
           -1378.1564,
           -135.31673999999998,
           -1092.1965
          ],
          [
           116.06926999999999,
           -98.90478,
           -40.613673999999996,
           -76.926315,
           -181.87599999999998,
           -75.47821
          ],
          [
           915.3367,
           748.16437,
           713.56335,
           -9585.634,
           691.0921,
           584.28015
          ],
          [
           31.910172999999997,
           19.169653,
           26.673384000000002,
           -77.755554,
           -19.01965,
           -923.5097699999999
          ],
          [
           -641.2795,
           71.97745,
           17.192854,
           -88.83423,
           -1123.6521,
           406.00897000000003
          ],
          [
           -20.755856,
           -11.402614999999999,
           -18.480116,
           217.3566,
           -164.02158,
           198.02202
          ],
          [
           -11.798959,
           4.1147966,
           5.0589260000000005,
           6.8107085000000005,
           4.6320752999999995,
           7.9189367
          ],
          [
           -61.494305000000004,
           -23.920881,
           -24.290056,
           201.43286,
           -234.7692,
           -127.40028999999998
          ],
          [
           16.719501,
           -48.388706,
           -84.97381999999999,
           63.632965000000006,
           -64.004906,
           60.15955699999999
          ],
          [
           -39.972935,
           -378.25766,
           -192.61836,
           1455.3485,
           543.4158,
           349.86652000000004
          ],
          [
           -36.521698,
           12.93343,
           12.417781,
           -19.288439,
           26.009624,
           7.069177000000001
          ],
          [
           48.007509999999996,
           -329.86453,
           -359.67093,
           1570.5686,
           165.65308000000002,
           -169.50592
          ],
          [
           -6.433173,
           5.486496,
           6.738842999999999,
           -2.055244,
           -1.2083734,
           -26.38587
          ],
          [
           48.66933,
           25.464073000000003,
           28.033094000000002,
           -104.61475,
           128.5012,
           31.734283
          ],
          [
           1.2005633999999998,
           12.120286,
           -42.50524,
           98.43805,
           -1060.475,
           54.336372
          ],
          [
           -0.28455803,
           -6.8722243,
           -8.983022,
           48.244614,
           -50.394115,
           -9.556643
          ],
          [
           -7.738241,
           26.184729,
           21.224115,
           -21.564291,
           -62.997780000000006,
           10.721879
          ],
          [
           -364.8111,
           -382.72107,
           -350.2578,
           3675.921,
           -223.13785,
           309.84045
          ],
          [
           -35.533825,
           -80.36155,
           -67.39686999999999,
           464.38302999999996,
           -50.63212,
           103.63086
          ],
          [
           22.151861,
           -65.889626,
           -112.31501999999999,
           75.64233,
           12.619161,
           44.010838
          ],
          [
           -61.78423299999999,
           37.783226,
           8.967288,
           72.98074,
           63.36040500000001,
           -511.06145999999995
          ],
          [
           -912.2847,
           326.81122,
           369.42438,
           -317.0207,
           192.54478,
           224.06535
          ],
          [
           -60.308758,
           -284.07596,
           -244.07426,
           556.3859,
           681.3944,
           -118.931175
          ],
          [
           -126.47016,
           -152.93884,
           -133.17193999999998,
           1480.396,
           10.595131,
           150.04918
          ],
          [
           -299.65112,
           190.43254,
           209.271,
           -419.02423,
           181.08324,
           -38.178112
          ],
          [
           30.439213,
           16.077204000000002,
           45.085762,
           -11.360511,
           -1435.1262,
           115.95828999999999
          ]
         ]
        }
       ],
       "layout": {
        "template": {
         "data": {
          "bar": [
           {
            "error_x": {
             "color": "#2a3f5f"
            },
            "error_y": {
             "color": "#2a3f5f"
            },
            "marker": {
             "line": {
              "color": "#E5ECF6",
              "width": 0.5
             }
            },
            "type": "bar"
           }
          ],
          "barpolar": [
           {
            "marker": {
             "line": {
              "color": "#E5ECF6",
              "width": 0.5
             }
            },
            "type": "barpolar"
           }
          ],
          "carpet": [
           {
            "aaxis": {
             "endlinecolor": "#2a3f5f",
             "gridcolor": "white",
             "linecolor": "white",
             "minorgridcolor": "white",
             "startlinecolor": "#2a3f5f"
            },
            "baxis": {
             "endlinecolor": "#2a3f5f",
             "gridcolor": "white",
             "linecolor": "white",
             "minorgridcolor": "white",
             "startlinecolor": "#2a3f5f"
            },
            "type": "carpet"
           }
          ],
          "choropleth": [
           {
            "colorbar": {
             "outlinewidth": 0,
             "ticks": ""
            },
            "type": "choropleth"
           }
          ],
          "contour": [
           {
            "colorbar": {
             "outlinewidth": 0,
             "ticks": ""
            },
            "colorscale": [
             [
              0,
              "#0d0887"
             ],
             [
              0.1111111111111111,
              "#46039f"
             ],
             [
              0.2222222222222222,
              "#7201a8"
             ],
             [
              0.3333333333333333,
              "#9c179e"
             ],
             [
              0.4444444444444444,
              "#bd3786"
             ],
             [
              0.5555555555555556,
              "#d8576b"
             ],
             [
              0.6666666666666666,
              "#ed7953"
             ],
             [
              0.7777777777777778,
              "#fb9f3a"
             ],
             [
              0.8888888888888888,
              "#fdca26"
             ],
             [
              1,
              "#f0f921"
             ]
            ],
            "type": "contour"
           }
          ],
          "contourcarpet": [
           {
            "colorbar": {
             "outlinewidth": 0,
             "ticks": ""
            },
            "type": "contourcarpet"
           }
          ],
          "heatmap": [
           {
            "colorbar": {
             "outlinewidth": 0,
             "ticks": ""
            },
            "colorscale": [
             [
              0,
              "#0d0887"
             ],
             [
              0.1111111111111111,
              "#46039f"
             ],
             [
              0.2222222222222222,
              "#7201a8"
             ],
             [
              0.3333333333333333,
              "#9c179e"
             ],
             [
              0.4444444444444444,
              "#bd3786"
             ],
             [
              0.5555555555555556,
              "#d8576b"
             ],
             [
              0.6666666666666666,
              "#ed7953"
             ],
             [
              0.7777777777777778,
              "#fb9f3a"
             ],
             [
              0.8888888888888888,
              "#fdca26"
             ],
             [
              1,
              "#f0f921"
             ]
            ],
            "type": "heatmap"
           }
          ],
          "heatmapgl": [
           {
            "colorbar": {
             "outlinewidth": 0,
             "ticks": ""
            },
            "colorscale": [
             [
              0,
              "#0d0887"
             ],
             [
              0.1111111111111111,
              "#46039f"
             ],
             [
              0.2222222222222222,
              "#7201a8"
             ],
             [
              0.3333333333333333,
              "#9c179e"
             ],
             [
              0.4444444444444444,
              "#bd3786"
             ],
             [
              0.5555555555555556,
              "#d8576b"
             ],
             [
              0.6666666666666666,
              "#ed7953"
             ],
             [
              0.7777777777777778,
              "#fb9f3a"
             ],
             [
              0.8888888888888888,
              "#fdca26"
             ],
             [
              1,
              "#f0f921"
             ]
            ],
            "type": "heatmapgl"
           }
          ],
          "histogram": [
           {
            "marker": {
             "colorbar": {
              "outlinewidth": 0,
              "ticks": ""
             }
            },
            "type": "histogram"
           }
          ],
          "histogram2d": [
           {
            "colorbar": {
             "outlinewidth": 0,
             "ticks": ""
            },
            "colorscale": [
             [
              0,
              "#0d0887"
             ],
             [
              0.1111111111111111,
              "#46039f"
             ],
             [
              0.2222222222222222,
              "#7201a8"
             ],
             [
              0.3333333333333333,
              "#9c179e"
             ],
             [
              0.4444444444444444,
              "#bd3786"
             ],
             [
              0.5555555555555556,
              "#d8576b"
             ],
             [
              0.6666666666666666,
              "#ed7953"
             ],
             [
              0.7777777777777778,
              "#fb9f3a"
             ],
             [
              0.8888888888888888,
              "#fdca26"
             ],
             [
              1,
              "#f0f921"
             ]
            ],
            "type": "histogram2d"
           }
          ],
          "histogram2dcontour": [
           {
            "colorbar": {
             "outlinewidth": 0,
             "ticks": ""
            },
            "colorscale": [
             [
              0,
              "#0d0887"
             ],
             [
              0.1111111111111111,
              "#46039f"
             ],
             [
              0.2222222222222222,
              "#7201a8"
             ],
             [
              0.3333333333333333,
              "#9c179e"
             ],
             [
              0.4444444444444444,
              "#bd3786"
             ],
             [
              0.5555555555555556,
              "#d8576b"
             ],
             [
              0.6666666666666666,
              "#ed7953"
             ],
             [
              0.7777777777777778,
              "#fb9f3a"
             ],
             [
              0.8888888888888888,
              "#fdca26"
             ],
             [
              1,
              "#f0f921"
             ]
            ],
            "type": "histogram2dcontour"
           }
          ],
          "mesh3d": [
           {
            "colorbar": {
             "outlinewidth": 0,
             "ticks": ""
            },
            "type": "mesh3d"
           }
          ],
          "parcoords": [
           {
            "line": {
             "colorbar": {
              "outlinewidth": 0,
              "ticks": ""
             }
            },
            "type": "parcoords"
           }
          ],
          "pie": [
           {
            "automargin": true,
            "type": "pie"
           }
          ],
          "scatter": [
           {
            "marker": {
             "colorbar": {
              "outlinewidth": 0,
              "ticks": ""
             }
            },
            "type": "scatter"
           }
          ],
          "scatter3d": [
           {
            "line": {
             "colorbar": {
              "outlinewidth": 0,
              "ticks": ""
             }
            },
            "marker": {
             "colorbar": {
              "outlinewidth": 0,
              "ticks": ""
             }
            },
            "type": "scatter3d"
           }
          ],
          "scattercarpet": [
           {
            "marker": {
             "colorbar": {
              "outlinewidth": 0,
              "ticks": ""
             }
            },
            "type": "scattercarpet"
           }
          ],
          "scattergeo": [
           {
            "marker": {
             "colorbar": {
              "outlinewidth": 0,
              "ticks": ""
             }
            },
            "type": "scattergeo"
           }
          ],
          "scattergl": [
           {
            "marker": {
             "colorbar": {
              "outlinewidth": 0,
              "ticks": ""
             }
            },
            "type": "scattergl"
           }
          ],
          "scattermapbox": [
           {
            "marker": {
             "colorbar": {
              "outlinewidth": 0,
              "ticks": ""
             }
            },
            "type": "scattermapbox"
           }
          ],
          "scatterpolar": [
           {
            "marker": {
             "colorbar": {
              "outlinewidth": 0,
              "ticks": ""
             }
            },
            "type": "scatterpolar"
           }
          ],
          "scatterpolargl": [
           {
            "marker": {
             "colorbar": {
              "outlinewidth": 0,
              "ticks": ""
             }
            },
            "type": "scatterpolargl"
           }
          ],
          "scatterternary": [
           {
            "marker": {
             "colorbar": {
              "outlinewidth": 0,
              "ticks": ""
             }
            },
            "type": "scatterternary"
           }
          ],
          "surface": [
           {
            "colorbar": {
             "outlinewidth": 0,
             "ticks": ""
            },
            "colorscale": [
             [
              0,
              "#0d0887"
             ],
             [
              0.1111111111111111,
              "#46039f"
             ],
             [
              0.2222222222222222,
              "#7201a8"
             ],
             [
              0.3333333333333333,
              "#9c179e"
             ],
             [
              0.4444444444444444,
              "#bd3786"
             ],
             [
              0.5555555555555556,
              "#d8576b"
             ],
             [
              0.6666666666666666,
              "#ed7953"
             ],
             [
              0.7777777777777778,
              "#fb9f3a"
             ],
             [
              0.8888888888888888,
              "#fdca26"
             ],
             [
              1,
              "#f0f921"
             ]
            ],
            "type": "surface"
           }
          ],
          "table": [
           {
            "cells": {
             "fill": {
              "color": "#EBF0F8"
             },
             "line": {
              "color": "white"
             }
            },
            "header": {
             "fill": {
              "color": "#C8D4E3"
             },
             "line": {
              "color": "white"
             }
            },
            "type": "table"
           }
          ]
         },
         "layout": {
          "annotationdefaults": {
           "arrowcolor": "#2a3f5f",
           "arrowhead": 0,
           "arrowwidth": 1
          },
          "coloraxis": {
           "colorbar": {
            "outlinewidth": 0,
            "ticks": ""
           }
          },
          "colorscale": {
           "diverging": [
            [
             0,
             "#8e0152"
            ],
            [
             0.1,
             "#c51b7d"
            ],
            [
             0.2,
             "#de77ae"
            ],
            [
             0.3,
             "#f1b6da"
            ],
            [
             0.4,
             "#fde0ef"
            ],
            [
             0.5,
             "#f7f7f7"
            ],
            [
             0.6,
             "#e6f5d0"
            ],
            [
             0.7,
             "#b8e186"
            ],
            [
             0.8,
             "#7fbc41"
            ],
            [
             0.9,
             "#4d9221"
            ],
            [
             1,
             "#276419"
            ]
           ],
           "sequential": [
            [
             0,
             "#0d0887"
            ],
            [
             0.1111111111111111,
             "#46039f"
            ],
            [
             0.2222222222222222,
             "#7201a8"
            ],
            [
             0.3333333333333333,
             "#9c179e"
            ],
            [
             0.4444444444444444,
             "#bd3786"
            ],
            [
             0.5555555555555556,
             "#d8576b"
            ],
            [
             0.6666666666666666,
             "#ed7953"
            ],
            [
             0.7777777777777778,
             "#fb9f3a"
            ],
            [
             0.8888888888888888,
             "#fdca26"
            ],
            [
             1,
             "#f0f921"
            ]
           ],
           "sequentialminus": [
            [
             0,
             "#0d0887"
            ],
            [
             0.1111111111111111,
             "#46039f"
            ],
            [
             0.2222222222222222,
             "#7201a8"
            ],
            [
             0.3333333333333333,
             "#9c179e"
            ],
            [
             0.4444444444444444,
             "#bd3786"
            ],
            [
             0.5555555555555556,
             "#d8576b"
            ],
            [
             0.6666666666666666,
             "#ed7953"
            ],
            [
             0.7777777777777778,
             "#fb9f3a"
            ],
            [
             0.8888888888888888,
             "#fdca26"
            ],
            [
             1,
             "#f0f921"
            ]
           ]
          },
          "colorway": [
           "#636efa",
           "#EF553B",
           "#00cc96",
           "#ab63fa",
           "#FFA15A",
           "#19d3f3",
           "#FF6692",
           "#B6E880",
           "#FF97FF",
           "#FECB52"
          ],
          "font": {
           "color": "#2a3f5f"
          },
          "geo": {
           "bgcolor": "white",
           "lakecolor": "white",
           "landcolor": "#E5ECF6",
           "showlakes": true,
           "showland": true,
           "subunitcolor": "white"
          },
          "hoverlabel": {
           "align": "left"
          },
          "hovermode": "closest",
          "mapbox": {
           "style": "light"
          },
          "paper_bgcolor": "white",
          "plot_bgcolor": "#E5ECF6",
          "polar": {
           "angularaxis": {
            "gridcolor": "white",
            "linecolor": "white",
            "ticks": ""
           },
           "bgcolor": "#E5ECF6",
           "radialaxis": {
            "gridcolor": "white",
            "linecolor": "white",
            "ticks": ""
           }
          },
          "scene": {
           "xaxis": {
            "backgroundcolor": "#E5ECF6",
            "gridcolor": "white",
            "gridwidth": 2,
            "linecolor": "white",
            "showbackground": true,
            "ticks": "",
            "zerolinecolor": "white"
           },
           "yaxis": {
            "backgroundcolor": "#E5ECF6",
            "gridcolor": "white",
            "gridwidth": 2,
            "linecolor": "white",
            "showbackground": true,
            "ticks": "",
            "zerolinecolor": "white"
           },
           "zaxis": {
            "backgroundcolor": "#E5ECF6",
            "gridcolor": "white",
            "gridwidth": 2,
            "linecolor": "white",
            "showbackground": true,
            "ticks": "",
            "zerolinecolor": "white"
           }
          },
          "shapedefaults": {
           "line": {
            "color": "#2a3f5f"
           }
          },
          "ternary": {
           "aaxis": {
            "gridcolor": "white",
            "linecolor": "white",
            "ticks": ""
           },
           "baxis": {
            "gridcolor": "white",
            "linecolor": "white",
            "ticks": ""
           },
           "bgcolor": "#E5ECF6",
           "caxis": {
            "gridcolor": "white",
            "linecolor": "white",
            "ticks": ""
           }
          },
          "title": {
           "x": 0.05
          },
          "xaxis": {
           "automargin": true,
           "gridcolor": "white",
           "linecolor": "white",
           "ticks": "",
           "title": {
            "standoff": 15
           },
           "zerolinecolor": "white",
           "zerolinewidth": 2
          },
          "yaxis": {
           "automargin": true,
           "gridcolor": "white",
           "linecolor": "white",
           "ticks": "",
           "title": {
            "standoff": 15
           },
           "zerolinecolor": "white",
           "zerolinewidth": 2
          }
         }
        },
        "title": {
         "text": "Proportion of the motif in the GA results"
        }
       }
      },
      "text/html": [
       "<div>\n",
       "        \n",
       "        \n",
       "            <div id=\"4bdbeeda-0e1c-49a3-804e-69a8c5badaa3\" class=\"plotly-graph-div\" style=\"height:525px; width:100%;\"></div>\n",
       "            <script type=\"text/javascript\">\n",
       "                require([\"plotly\"], function(Plotly) {\n",
       "                    window.PLOTLYENV=window.PLOTLYENV || {};\n",
       "                    \n",
       "                if (document.getElementById(\"4bdbeeda-0e1c-49a3-804e-69a8c5badaa3\")) {\n",
       "                    Plotly.newPlot(\n",
       "                        '4bdbeeda-0e1c-49a3-804e-69a8c5badaa3',\n",
       "                        [{\"type\": \"heatmap\", \"x\": [\"B\", \"abT\", \"gdT\", \"myeloid\", \"lym\", \"stem\"], \"y\": [\"filter1\", \"filter10\", \"filter102\", \"filter105\", \"filter106\", \"filter11\", \"filter112\", \"filter115\", \"filter120\", \"filter122\", \"filter123\", \"filter124\", \"filter127\", \"filter129\", \"filter132\", \"filter133\", \"filter135\", \"filter14\", \"filter15\", \"filter151\", \"filter154\", \"filter155\", \"filter157\", \"filter165\", \"filter166\", \"filter167\", \"filter170\", \"filter173\", \"filter174\", \"filter178\", \"filter183\", \"filter185\", \"filter186\", \"filter190\", \"filter194\", \"filter195\", \"filter196\", \"filter198\", \"filter202\", \"filter205\", \"filter209\", \"filter214\", \"filter217\", \"filter218\", \"filter219\", \"filter220\", \"filter223\", \"filter224\", \"filter227\", \"filter23\", \"filter230\", \"filter231\", \"filter238\", \"filter242\", \"filter244\", \"filter247\", \"filter250\", \"filter252\", \"filter255\", \"filter257\", \"filter260\", \"filter264\", \"filter270\", \"filter275\", \"filter276\", \"filter279\", \"filter28\", \"filter281\", \"filter283\", \"filter284\", \"filter286\", \"filter288\", \"filter290\", \"filter292\", \"filter297\", \"filter34\", \"filter35\", \"filter40\", \"filter43\", \"filter44\", \"filter47\", \"filter50\", \"filter51\", \"filter6\", \"filter65\", \"filter66\", \"filter67\", \"filter68\", \"filter69\", \"filter70\", \"filter78\", \"filter8\", \"filter80\", \"filter85\", \"filter89\", \"filter9\", \"filter93\", \"filter94\", \"filter97\"], \"z\": [[2.875371, 3.9346212999999994, 4.0304150000000005, -39.203693, -14.286764000000002, 3.6450093], [298.71567000000005, -289.61334, -302.80753, 402.54517000000004, -1702.5756, -735.2234], [92.42553000000001, 41.33782, 34.300816, -412.90213, 53.25833000000001, 129.69725], [-32.01562, -1.1843241000000002, 0.5776170999999999, -5.4272860000000005, 25.466425, -21.060986], [-41.98417, 29.547127000000003, 59.325343999999994, 58.68184, -1786.195, 86.32869000000001], [-6.453993, -461.4455, -590.3121, 1090.8273, -2191.3308, -1178.5892], [-852.5956, -134.86874, 110.139404, 105.569534, 671.7246, 493.89786], [-105.17132600000001, -27.599287, 132.36914, -106.90898999999999, 337.56, -140.80875], [30.515359999999998, -76.0759, -108.65993, 269.6302, -487.6399, -163.6227], [-9.672769, 40.47968, 42.842506, -175.23782, 16.898901000000002, -64.30067], [-88.14145, 23.249561, 16.129984, -6.974089599999999, 22.452538, 5.8433003], [-25.351303, 16.841412, 18.122477, -39.266983, -8.058703999999999, -28.216183], [65.94771999999999, 27.171114000000003, 23.22736, -145.5155, 43.861195, -192.77358999999998], [-0.57814664, 6.52048, 5.1774926, -28.971123, 13.183141, -3.6617646], [87.23099, -145.63362, -129.83226000000002, 126.98443600000002, 32.712092999999996, 283.83606000000003], [-982.28937, 1782.8942, 1883.1989999999998, -6015.0874, 1897.4763, -1038.7161], [-56.52545500000001, 13.946659, 12.708846000000001, 3.6725992999999995, 12.630256, 7.168982000000001], [17.820396, -48.697514, 34.152355, -62.9225, 146.83954, 92.80409], [249.60692999999998, -251.2152, -273.05664, 385.7197, -1908.3039999999999, -571.7208], [10.509944, 5.551601, 24.869066, -68.14161999999999, 7.906298, -75.671616], [-96.89787, -49.982994, -62.770244999999996, 112.63316999999999, -168.58267, 198.72507], [44.93608, 10.602892, 20.294264000000002, -40.268035999999995, 40.468533, -68.63794], [-15.118513, 14.729373, 13.494385999999999, -37.789320000000004, 60.167457999999996, -17.837822], [-978.6188400000001, 461.2893, 503.30276, -794.6979, 410.6668, 307.71576], [77.91861999999999, -191.05176, -323.40292, 134.8873, -10.721625999999999, 154.2161], [-679.5834, 68.411446, 61.337031999999994, 106.23656000000001, 98.015045, 81.32871999999999], [8.274828, 19.265488, 14.357793, -63.113969999999995, -12.419596, -99.46294], [21.936926, 136.05626999999998, 270.56528, -295.10278, -365.20264, 135.0806], [830.19727, 657.9736, 614.5108, -8623.075, 541.9498, 518.65594], [-4.0418906, -3.1622486000000003, -9.829589, 23.577017, -75.77614, 21.060776], [41.131508000000004, 33.218765000000005, 37.74024, -328.21477999999996, 4.718585, 11.325796], [-18.606942999999998, 11.603423, 12.42925, -29.690072999999998, 16.103296, -41.672527], [2.1586522999999995, 5.539841, 3.569842, -27.466115999999996, 17.133808, 5.2535872], [-615.7492, 53.569786, 53.377087, 148.02827, 92.08008000000001, 75.61241], [115.74386000000001, 47.681847, 49.47619, -460.04967999999997, 67.50632, 14.238406], [144.73178000000001, -67.76269, -177.47086000000002, 271.9715, -2.2216277, -311.83032000000003], [-1.5526173, 0.6944844, 1.2845528, -1.8906319, -8.151205000000001, 2.708259], [-68.72208, -6.0832787, -11.98585, 190.51486, -3.3049362, 2.801627], [1.369039, 11.121573, 6.062551, -13.997015, -19.757313, -25.880676], [-410.28024, 312.68878, 314.5166, -881.9212, 275.43695, 173.24062], [85.76847, 16.289939999999998, 14.501348000000002, -159.18407, 27.412755999999998, 1.8742737], [4.1092005, 2.4192498, -10.978034, 39.94068, -38.34448, 7.9691515], [-956.4583, 97.20345999999999, 82.58686, 157.4451, 143.74857, 133.83011000000002], [-515.40753, 47.847854999999996, 49.213257, 96.44976, 61.932359999999996, 89.86236600000001], [-13.783714999999999, -98.48196, -61.679446999999996, 133.45335, 264.23367, -26.295746], [65.08426999999999, 151.84322, 100.141655, -390.2719, -1056.9376, 145.91673], [-4.769538, -1.6069988000000002, -0.7249922, -10.593132, 10.587489999999999, 8.870686], [-309.4107, 109.60441999999999, 115.86507399999999, -105.91546000000001, 79.90119, 76.0094], [22.136389, 93.592636, 84.405754, -283.76926000000003, -213.46489, 116.88371000000001], [65.36966, -51.1755, -73.925896, 137.49591, 78.53768000000001, -55.21801], [-116.63456000000001, 322.78662, 354.3854, -1166.76, 321.38318, -690.53107], [-89.49701999999999, -6.2611403, 8.707947, 164.51413, -171.8992, 53.116690000000006], [77.45571, 172.85733000000002, 94.50603000000001, -356.8812, -1716.4332, 145.05591], [-74.42113499999999, 61.971405000000004, 86.944016, -620.58093, 263.32602, 14.872617000000002], [-6.793510400000001, -9.231607, -9.960932000000001, 3.1504812, 12.430098, -30.292571999999996], [-26.670586, 0.47928017, -0.4596495, 59.946380000000005, -5.3203096, -9.628695500000001], [-47.747723, 36.158253, 41.125885, -96.586395, 1.8004563999999998, -7.248819999999999], [-7.5025395999999995, -215.61035, -257.21857, 550.0134, -727.6862, -290.2746], [-1311.5651, 2661.625, 2802.7852, -10499.1875, 3112.6540000000005, -1346.9187], [-109.43628999999999, 13.018632, 10.990909, 19.060497, 21.976264999999998, 20.667362], [-1288.9545, 130.36592, 104.24067, 230.21184, 97.99096, 197.4504], [166.45515, -295.49627999999996, -335.4565, 1406.8064, -189.48672, 176.3597], [42.344498, -118.59494, -93.41314, 148.21945, 210.74419, 114.1308], [23.294815, -18.587194, -38.86153, 112.58523999999998, 28.387445, -56.559948], [-124.84432, 112.83663, 141.29315, -333.07358, 174.14427, -220.3461], [74.53602, -4.4874220000000005, 36.06588, -70.45238499999999, -1704.5735, 178.30261000000002], [0.10717222, -29.010346999999996, -4.845888599999999, 158.83209, 21.36179, 136.06465], [8.220982000000001, 12.492963, 14.8917265, -51.96349, -104.63204, 42.21046], [-10.051777000000001, 5.051767, 0.3741402, 79.38781999999999, -103.65584, 14.071451000000001], [-9.497314999999999, 12.193401, 33.85329, -38.898483, 38.013103, -97.44308000000001], [-260.0933, 266.95364, 329.84238, -632.4139, 328.47638, -675.3043], [43.28844, 17.227524, 52.165863, 32.823757, -2063.2166, 88.62923], [-96.19494, 14.877727499999999, 28.236103000000004, 475.07797, -157.13194, 2.7679259999999997], [311.86072, 2.67312, 139.76001000000002, -1378.1564, -135.31673999999998, -1092.1965], [116.06926999999999, -98.90478, -40.613673999999996, -76.926315, -181.87599999999998, -75.47821], [915.3367, 748.16437, 713.56335, -9585.634, 691.0921, 584.28015], [31.910172999999997, 19.169653, 26.673384000000002, -77.755554, -19.01965, -923.5097699999999], [-641.2795, 71.97745, 17.192854, -88.83423, -1123.6521, 406.00897000000003], [-20.755856, -11.402614999999999, -18.480116, 217.3566, -164.02158, 198.02202], [-11.798959, 4.1147966, 5.0589260000000005, 6.8107085000000005, 4.6320752999999995, 7.9189367], [-61.494305000000004, -23.920881, -24.290056, 201.43286, -234.7692, -127.40028999999998], [16.719501, -48.388706, -84.97381999999999, 63.632965000000006, -64.004906, 60.15955699999999], [-39.972935, -378.25766, -192.61836, 1455.3485, 543.4158, 349.86652000000004], [-36.521698, 12.93343, 12.417781, -19.288439, 26.009624, 7.069177000000001], [48.007509999999996, -329.86453, -359.67093, 1570.5686, 165.65308000000002, -169.50592], [-6.433173, 5.486496, 6.738842999999999, -2.055244, -1.2083734, -26.38587], [48.66933, 25.464073000000003, 28.033094000000002, -104.61475, 128.5012, 31.734283], [1.2005633999999998, 12.120286, -42.50524, 98.43805, -1060.475, 54.336372], [-0.28455803, -6.8722243, -8.983022, 48.244614, -50.394115, -9.556643], [-7.738241, 26.184729, 21.224115, -21.564291, -62.997780000000006, 10.721879], [-364.8111, -382.72107, -350.2578, 3675.921, -223.13785, 309.84045], [-35.533825, -80.36155, -67.39686999999999, 464.38302999999996, -50.63212, 103.63086], [22.151861, -65.889626, -112.31501999999999, 75.64233, 12.619161, 44.010838], [-61.78423299999999, 37.783226, 8.967288, 72.98074, 63.36040500000001, -511.06145999999995], [-912.2847, 326.81122, 369.42438, -317.0207, 192.54478, 224.06535], [-60.308758, -284.07596, -244.07426, 556.3859, 681.3944, -118.931175], [-126.47016, -152.93884, -133.17193999999998, 1480.396, 10.595131, 150.04918], [-299.65112, 190.43254, 209.271, -419.02423, 181.08324, -38.178112], [30.439213, 16.077204000000002, 45.085762, -11.360511, -1435.1262, 115.95828999999999]]}],\n",
       "                        {\"template\": {\"data\": {\"bar\": [{\"error_x\": {\"color\": \"#2a3f5f\"}, \"error_y\": {\"color\": \"#2a3f5f\"}, \"marker\": {\"line\": {\"color\": \"#E5ECF6\", \"width\": 0.5}}, \"type\": \"bar\"}], \"barpolar\": [{\"marker\": {\"line\": {\"color\": \"#E5ECF6\", \"width\": 0.5}}, \"type\": \"barpolar\"}], \"carpet\": [{\"aaxis\": {\"endlinecolor\": \"#2a3f5f\", \"gridcolor\": \"white\", \"linecolor\": \"white\", \"minorgridcolor\": \"white\", \"startlinecolor\": \"#2a3f5f\"}, \"baxis\": {\"endlinecolor\": \"#2a3f5f\", \"gridcolor\": \"white\", \"linecolor\": \"white\", \"minorgridcolor\": \"white\", \"startlinecolor\": \"#2a3f5f\"}, \"type\": \"carpet\"}], \"choropleth\": [{\"colorbar\": {\"outlinewidth\": 0, \"ticks\": \"\"}, \"type\": \"choropleth\"}], \"contour\": [{\"colorbar\": {\"outlinewidth\": 0, \"ticks\": \"\"}, \"colorscale\": [[0.0, \"#0d0887\"], [0.1111111111111111, \"#46039f\"], [0.2222222222222222, \"#7201a8\"], [0.3333333333333333, \"#9c179e\"], [0.4444444444444444, \"#bd3786\"], [0.5555555555555556, \"#d8576b\"], [0.6666666666666666, \"#ed7953\"], [0.7777777777777778, \"#fb9f3a\"], [0.8888888888888888, \"#fdca26\"], [1.0, \"#f0f921\"]], \"type\": \"contour\"}], \"contourcarpet\": [{\"colorbar\": {\"outlinewidth\": 0, \"ticks\": \"\"}, \"type\": \"contourcarpet\"}], \"heatmap\": [{\"colorbar\": {\"outlinewidth\": 0, \"ticks\": \"\"}, \"colorscale\": [[0.0, \"#0d0887\"], [0.1111111111111111, \"#46039f\"], [0.2222222222222222, \"#7201a8\"], [0.3333333333333333, \"#9c179e\"], [0.4444444444444444, \"#bd3786\"], [0.5555555555555556, \"#d8576b\"], [0.6666666666666666, \"#ed7953\"], [0.7777777777777778, \"#fb9f3a\"], [0.8888888888888888, \"#fdca26\"], [1.0, \"#f0f921\"]], \"type\": \"heatmap\"}], \"heatmapgl\": [{\"colorbar\": {\"outlinewidth\": 0, \"ticks\": \"\"}, \"colorscale\": [[0.0, \"#0d0887\"], [0.1111111111111111, \"#46039f\"], [0.2222222222222222, \"#7201a8\"], [0.3333333333333333, \"#9c179e\"], [0.4444444444444444, \"#bd3786\"], [0.5555555555555556, \"#d8576b\"], [0.6666666666666666, \"#ed7953\"], [0.7777777777777778, \"#fb9f3a\"], [0.8888888888888888, \"#fdca26\"], [1.0, \"#f0f921\"]], \"type\": \"heatmapgl\"}], \"histogram\": [{\"marker\": {\"colorbar\": {\"outlinewidth\": 0, \"ticks\": \"\"}}, \"type\": \"histogram\"}], \"histogram2d\": [{\"colorbar\": {\"outlinewidth\": 0, \"ticks\": \"\"}, \"colorscale\": [[0.0, \"#0d0887\"], [0.1111111111111111, \"#46039f\"], [0.2222222222222222, \"#7201a8\"], [0.3333333333333333, \"#9c179e\"], [0.4444444444444444, \"#bd3786\"], [0.5555555555555556, \"#d8576b\"], [0.6666666666666666, \"#ed7953\"], [0.7777777777777778, \"#fb9f3a\"], [0.8888888888888888, \"#fdca26\"], [1.0, \"#f0f921\"]], \"type\": \"histogram2d\"}], \"histogram2dcontour\": [{\"colorbar\": {\"outlinewidth\": 0, \"ticks\": \"\"}, \"colorscale\": [[0.0, \"#0d0887\"], [0.1111111111111111, \"#46039f\"], [0.2222222222222222, \"#7201a8\"], [0.3333333333333333, \"#9c179e\"], [0.4444444444444444, \"#bd3786\"], [0.5555555555555556, \"#d8576b\"], [0.6666666666666666, \"#ed7953\"], [0.7777777777777778, \"#fb9f3a\"], [0.8888888888888888, \"#fdca26\"], [1.0, \"#f0f921\"]], \"type\": \"histogram2dcontour\"}], \"mesh3d\": [{\"colorbar\": {\"outlinewidth\": 0, \"ticks\": \"\"}, \"type\": \"mesh3d\"}], \"parcoords\": [{\"line\": {\"colorbar\": {\"outlinewidth\": 0, \"ticks\": \"\"}}, \"type\": \"parcoords\"}], \"pie\": [{\"automargin\": true, \"type\": \"pie\"}], \"scatter\": [{\"marker\": {\"colorbar\": {\"outlinewidth\": 0, \"ticks\": \"\"}}, \"type\": \"scatter\"}], \"scatter3d\": [{\"line\": {\"colorbar\": {\"outlinewidth\": 0, \"ticks\": \"\"}}, \"marker\": {\"colorbar\": {\"outlinewidth\": 0, \"ticks\": \"\"}}, \"type\": \"scatter3d\"}], \"scattercarpet\": [{\"marker\": {\"colorbar\": {\"outlinewidth\": 0, \"ticks\": \"\"}}, \"type\": \"scattercarpet\"}], \"scattergeo\": [{\"marker\": {\"colorbar\": {\"outlinewidth\": 0, \"ticks\": \"\"}}, \"type\": \"scattergeo\"}], \"scattergl\": [{\"marker\": {\"colorbar\": {\"outlinewidth\": 0, \"ticks\": \"\"}}, \"type\": \"scattergl\"}], \"scattermapbox\": [{\"marker\": {\"colorbar\": {\"outlinewidth\": 0, \"ticks\": \"\"}}, \"type\": \"scattermapbox\"}], \"scatterpolar\": [{\"marker\": {\"colorbar\": {\"outlinewidth\": 0, \"ticks\": \"\"}}, \"type\": \"scatterpolar\"}], \"scatterpolargl\": [{\"marker\": {\"colorbar\": {\"outlinewidth\": 0, \"ticks\": \"\"}}, \"type\": \"scatterpolargl\"}], \"scatterternary\": [{\"marker\": {\"colorbar\": {\"outlinewidth\": 0, \"ticks\": \"\"}}, \"type\": \"scatterternary\"}], \"surface\": [{\"colorbar\": {\"outlinewidth\": 0, \"ticks\": \"\"}, \"colorscale\": [[0.0, \"#0d0887\"], [0.1111111111111111, \"#46039f\"], [0.2222222222222222, \"#7201a8\"], [0.3333333333333333, \"#9c179e\"], [0.4444444444444444, \"#bd3786\"], [0.5555555555555556, \"#d8576b\"], [0.6666666666666666, \"#ed7953\"], [0.7777777777777778, \"#fb9f3a\"], [0.8888888888888888, \"#fdca26\"], [1.0, \"#f0f921\"]], \"type\": \"surface\"}], \"table\": [{\"cells\": {\"fill\": {\"color\": \"#EBF0F8\"}, \"line\": {\"color\": \"white\"}}, \"header\": {\"fill\": {\"color\": \"#C8D4E3\"}, \"line\": {\"color\": \"white\"}}, \"type\": \"table\"}]}, \"layout\": {\"annotationdefaults\": {\"arrowcolor\": \"#2a3f5f\", \"arrowhead\": 0, \"arrowwidth\": 1}, \"coloraxis\": {\"colorbar\": {\"outlinewidth\": 0, \"ticks\": \"\"}}, \"colorscale\": {\"diverging\": [[0, \"#8e0152\"], [0.1, \"#c51b7d\"], [0.2, \"#de77ae\"], [0.3, \"#f1b6da\"], [0.4, \"#fde0ef\"], [0.5, \"#f7f7f7\"], [0.6, \"#e6f5d0\"], [0.7, \"#b8e186\"], [0.8, \"#7fbc41\"], [0.9, \"#4d9221\"], [1, \"#276419\"]], \"sequential\": [[0.0, \"#0d0887\"], [0.1111111111111111, \"#46039f\"], [0.2222222222222222, \"#7201a8\"], [0.3333333333333333, \"#9c179e\"], [0.4444444444444444, \"#bd3786\"], [0.5555555555555556, \"#d8576b\"], [0.6666666666666666, \"#ed7953\"], [0.7777777777777778, \"#fb9f3a\"], [0.8888888888888888, \"#fdca26\"], [1.0, \"#f0f921\"]], \"sequentialminus\": [[0.0, \"#0d0887\"], [0.1111111111111111, \"#46039f\"], [0.2222222222222222, \"#7201a8\"], [0.3333333333333333, \"#9c179e\"], [0.4444444444444444, \"#bd3786\"], [0.5555555555555556, \"#d8576b\"], [0.6666666666666666, \"#ed7953\"], [0.7777777777777778, \"#fb9f3a\"], [0.8888888888888888, \"#fdca26\"], [1.0, \"#f0f921\"]]}, \"colorway\": [\"#636efa\", \"#EF553B\", \"#00cc96\", \"#ab63fa\", \"#FFA15A\", \"#19d3f3\", \"#FF6692\", \"#B6E880\", \"#FF97FF\", \"#FECB52\"], \"font\": {\"color\": \"#2a3f5f\"}, \"geo\": {\"bgcolor\": \"white\", \"lakecolor\": \"white\", \"landcolor\": \"#E5ECF6\", \"showlakes\": true, \"showland\": true, \"subunitcolor\": \"white\"}, \"hoverlabel\": {\"align\": \"left\"}, \"hovermode\": \"closest\", \"mapbox\": {\"style\": \"light\"}, \"paper_bgcolor\": \"white\", \"plot_bgcolor\": \"#E5ECF6\", \"polar\": {\"angularaxis\": {\"gridcolor\": \"white\", \"linecolor\": \"white\", \"ticks\": \"\"}, \"bgcolor\": \"#E5ECF6\", \"radialaxis\": {\"gridcolor\": \"white\", \"linecolor\": \"white\", \"ticks\": \"\"}}, \"scene\": {\"xaxis\": {\"backgroundcolor\": \"#E5ECF6\", \"gridcolor\": \"white\", \"gridwidth\": 2, \"linecolor\": \"white\", \"showbackground\": true, \"ticks\": \"\", \"zerolinecolor\": \"white\"}, \"yaxis\": {\"backgroundcolor\": \"#E5ECF6\", \"gridcolor\": \"white\", \"gridwidth\": 2, \"linecolor\": \"white\", \"showbackground\": true, \"ticks\": \"\", \"zerolinecolor\": \"white\"}, \"zaxis\": {\"backgroundcolor\": \"#E5ECF6\", \"gridcolor\": \"white\", \"gridwidth\": 2, \"linecolor\": \"white\", \"showbackground\": true, \"ticks\": \"\", \"zerolinecolor\": \"white\"}}, \"shapedefaults\": {\"line\": {\"color\": \"#2a3f5f\"}}, \"ternary\": {\"aaxis\": {\"gridcolor\": \"white\", \"linecolor\": \"white\", \"ticks\": \"\"}, \"baxis\": {\"gridcolor\": \"white\", \"linecolor\": \"white\", \"ticks\": \"\"}, \"bgcolor\": \"#E5ECF6\", \"caxis\": {\"gridcolor\": \"white\", \"linecolor\": \"white\", \"ticks\": \"\"}}, \"title\": {\"x\": 0.05}, \"xaxis\": {\"automargin\": true, \"gridcolor\": \"white\", \"linecolor\": \"white\", \"ticks\": \"\", \"title\": {\"standoff\": 15}, \"zerolinecolor\": \"white\", \"zerolinewidth\": 2}, \"yaxis\": {\"automargin\": true, \"gridcolor\": \"white\", \"linecolor\": \"white\", \"ticks\": \"\", \"title\": {\"standoff\": 15}, \"zerolinecolor\": \"white\", \"zerolinewidth\": 2}}}, \"title\": {\"text\": \"Proportion of the motif in the GA results\"}},\n",
       "                        {\"responsive\": true}\n",
       "                    ).then(function(){\n",
       "                            \n",
       "var gd = document.getElementById('4bdbeeda-0e1c-49a3-804e-69a8c5badaa3');\n",
       "var x = new MutationObserver(function (mutations, observer) {{\n",
       "        var display = window.getComputedStyle(gd).display;\n",
       "        if (!display || display === 'none') {{\n",
       "            console.log([gd, 'removed!']);\n",
       "            Plotly.purge(gd);\n",
       "            observer.disconnect();\n",
       "        }}\n",
       "}});\n",
       "\n",
       "// Listen for the removal of the full notebook cells\n",
       "var notebookContainer = gd.closest('#notebook-container');\n",
       "if (notebookContainer) {{\n",
       "    x.observe(notebookContainer, {childList: true});\n",
       "}}\n",
       "\n",
       "// Listen for the clearing of the current output cell\n",
       "var outputEl = gd.closest('.output');\n",
       "if (outputEl) {{\n",
       "    x.observe(outputEl, {childList: true});\n",
       "}}\n",
       "\n",
       "                        })\n",
       "                };\n",
       "                });\n",
       "            </script>\n",
       "        </div>"
      ]
     },
     "metadata": {},
     "output_type": "display_data"
    }
   ],
   "source": [
    "fig = go.Figure(go.Heatmap(z=sasha_importance,\n",
    "                     x = sasha_importance.columns,\n",
    "                     y=sasha_importance.index))\n",
    "fig.update_layout(title=\"Proportion of the motif in the GA results\")\n",
    "fig.show()"
   ]
  },
  {
   "cell_type": "markdown",
   "metadata": {
    "heading_collapsed": true
   },
   "source": [
    "## Compare Motif Importance - BassetE Importance Score"
   ]
  },
  {
   "cell_type": "code",
   "execution_count": 103,
   "metadata": {
    "ExecuteTime": {
     "end_time": "2020-04-09T14:41:41.118414Z",
     "start_time": "2020-04-09T14:41:41.074691Z"
    },
    "hidden": true
   },
   "outputs": [],
   "source": [
    "be_importance = pd.read_csv(PDBX+'data/sasha_ATAC/Activation_BassetE_FilterS.csv',index_col=0).drop(columns=['Best overall TF match','Motif consensus Sequence'])\n",
    "#be_importance = (be_importance - 1)/8\n",
    "be_importance['mean_importance'] =  be_importance.mean(axis=1)\n",
    "comparaison_be = pd.merge(be_importance,\n",
    "                       generated_smotifs,\n",
    "                       left_index=True, right_index=True, suffixes=('_be','_generated'), how='left')\n",
    "comparaison_be = comparaison_be.fillna(0)"
   ]
  },
  {
   "cell_type": "code",
   "execution_count": 106,
   "metadata": {
    "ExecuteTime": {
     "end_time": "2020-04-09T14:42:10.924637Z",
     "start_time": "2020-04-09T14:42:10.836005Z"
    },
    "hidden": true,
    "scrolled": false
   },
   "outputs": [
    {
     "ename": "KeyError",
     "evalue": "'Random'",
     "output_type": "error",
     "traceback": [
      "\u001b[0;31m---------------------------------------------------------------------------\u001b[0m",
      "\u001b[0;31mKeyError\u001b[0m                                  Traceback (most recent call last)",
      "\u001b[0;32m/usr/local/lib/python3.6/dist-packages/pandas/core/indexes/base.py\u001b[0m in \u001b[0;36mget_loc\u001b[0;34m(self, key, method, tolerance)\u001b[0m\n\u001b[1;32m   2655\u001b[0m             \u001b[0;32mtry\u001b[0m\u001b[0;34m:\u001b[0m\u001b[0;34m\u001b[0m\u001b[0;34m\u001b[0m\u001b[0m\n\u001b[0;32m-> 2656\u001b[0;31m                 \u001b[0;32mreturn\u001b[0m \u001b[0mself\u001b[0m\u001b[0;34m.\u001b[0m\u001b[0m_engine\u001b[0m\u001b[0;34m.\u001b[0m\u001b[0mget_loc\u001b[0m\u001b[0;34m(\u001b[0m\u001b[0mkey\u001b[0m\u001b[0;34m)\u001b[0m\u001b[0;34m\u001b[0m\u001b[0;34m\u001b[0m\u001b[0m\n\u001b[0m\u001b[1;32m   2657\u001b[0m             \u001b[0;32mexcept\u001b[0m \u001b[0mKeyError\u001b[0m\u001b[0;34m:\u001b[0m\u001b[0;34m\u001b[0m\u001b[0;34m\u001b[0m\u001b[0m\n",
      "\u001b[0;32mpandas/_libs/index.pyx\u001b[0m in \u001b[0;36mpandas._libs.index.IndexEngine.get_loc\u001b[0;34m()\u001b[0m\n",
      "\u001b[0;32mpandas/_libs/index.pyx\u001b[0m in \u001b[0;36mpandas._libs.index.IndexEngine.get_loc\u001b[0;34m()\u001b[0m\n",
      "\u001b[0;32mpandas/_libs/hashtable_class_helper.pxi\u001b[0m in \u001b[0;36mpandas._libs.hashtable.PyObjectHashTable.get_item\u001b[0;34m()\u001b[0m\n",
      "\u001b[0;32mpandas/_libs/hashtable_class_helper.pxi\u001b[0m in \u001b[0;36mpandas._libs.hashtable.PyObjectHashTable.get_item\u001b[0;34m()\u001b[0m\n",
      "\u001b[0;31mKeyError\u001b[0m: 'Random'",
      "\nDuring handling of the above exception, another exception occurred:\n",
      "\u001b[0;31mKeyError\u001b[0m                                  Traceback (most recent call last)",
      "\u001b[0;32m<ipython-input-106-b9b427ed3a7b>\u001b[0m in \u001b[0;36m<module>\u001b[0;34m\u001b[0m\n\u001b[0;32m----> 1\u001b[0;31m fig = go.Figure(go.Scatter(y = comparaison_be['Random'],\n\u001b[0m\u001b[1;32m      2\u001b[0m                      \u001b[0mx\u001b[0m \u001b[0;34m=\u001b[0m \u001b[0mcomparaison_be\u001b[0m\u001b[0;34m[\u001b[0m\u001b[0;34m'memoryview'\u001b[0m\u001b[0;34m]\u001b[0m\u001b[0;34m,\u001b[0m\u001b[0;34m\u001b[0m\u001b[0;34m\u001b[0m\u001b[0m\n\u001b[1;32m      3\u001b[0m                      \u001b[0mmode\u001b[0m\u001b[0;34m=\u001b[0m\u001b[0;34m'markers+text'\u001b[0m\u001b[0;34m,\u001b[0m\u001b[0;34m\u001b[0m\u001b[0;34m\u001b[0m\u001b[0m\n\u001b[1;32m      4\u001b[0m                      \u001b[0mtext\u001b[0m \u001b[0;34m=\u001b[0m \u001b[0mcomparaison_be\u001b[0m\u001b[0;34m[\u001b[0m\u001b[0;34m'Best overall TF match'\u001b[0m\u001b[0;34m]\u001b[0m\u001b[0;34m,\u001b[0m\u001b[0;34m\u001b[0m\u001b[0;34m\u001b[0m\u001b[0m\n\u001b[1;32m      5\u001b[0m                      \u001b[0mhovertext\u001b[0m\u001b[0;34m=\u001b[0m\u001b[0mcomparaison_be\u001b[0m\u001b[0;34m.\u001b[0m\u001b[0mindex\u001b[0m\u001b[0;34m,\u001b[0m\u001b[0;34m\u001b[0m\u001b[0;34m\u001b[0m\u001b[0m\n",
      "\u001b[0;32m/usr/local/lib/python3.6/dist-packages/pandas/core/frame.py\u001b[0m in \u001b[0;36m__getitem__\u001b[0;34m(self, key)\u001b[0m\n\u001b[1;32m   2925\u001b[0m             \u001b[0;32mif\u001b[0m \u001b[0mself\u001b[0m\u001b[0;34m.\u001b[0m\u001b[0mcolumns\u001b[0m\u001b[0;34m.\u001b[0m\u001b[0mnlevels\u001b[0m \u001b[0;34m>\u001b[0m \u001b[0;36m1\u001b[0m\u001b[0;34m:\u001b[0m\u001b[0;34m\u001b[0m\u001b[0;34m\u001b[0m\u001b[0m\n\u001b[1;32m   2926\u001b[0m                 \u001b[0;32mreturn\u001b[0m \u001b[0mself\u001b[0m\u001b[0;34m.\u001b[0m\u001b[0m_getitem_multilevel\u001b[0m\u001b[0;34m(\u001b[0m\u001b[0mkey\u001b[0m\u001b[0;34m)\u001b[0m\u001b[0;34m\u001b[0m\u001b[0;34m\u001b[0m\u001b[0m\n\u001b[0;32m-> 2927\u001b[0;31m             \u001b[0mindexer\u001b[0m \u001b[0;34m=\u001b[0m \u001b[0mself\u001b[0m\u001b[0;34m.\u001b[0m\u001b[0mcolumns\u001b[0m\u001b[0;34m.\u001b[0m\u001b[0mget_loc\u001b[0m\u001b[0;34m(\u001b[0m\u001b[0mkey\u001b[0m\u001b[0;34m)\u001b[0m\u001b[0;34m\u001b[0m\u001b[0;34m\u001b[0m\u001b[0m\n\u001b[0m\u001b[1;32m   2928\u001b[0m             \u001b[0;32mif\u001b[0m \u001b[0mis_integer\u001b[0m\u001b[0;34m(\u001b[0m\u001b[0mindexer\u001b[0m\u001b[0;34m)\u001b[0m\u001b[0;34m:\u001b[0m\u001b[0;34m\u001b[0m\u001b[0;34m\u001b[0m\u001b[0m\n\u001b[1;32m   2929\u001b[0m                 \u001b[0mindexer\u001b[0m \u001b[0;34m=\u001b[0m \u001b[0;34m[\u001b[0m\u001b[0mindexer\u001b[0m\u001b[0;34m]\u001b[0m\u001b[0;34m\u001b[0m\u001b[0;34m\u001b[0m\u001b[0m\n",
      "\u001b[0;32m/usr/local/lib/python3.6/dist-packages/pandas/core/indexes/base.py\u001b[0m in \u001b[0;36mget_loc\u001b[0;34m(self, key, method, tolerance)\u001b[0m\n\u001b[1;32m   2656\u001b[0m                 \u001b[0;32mreturn\u001b[0m \u001b[0mself\u001b[0m\u001b[0;34m.\u001b[0m\u001b[0m_engine\u001b[0m\u001b[0;34m.\u001b[0m\u001b[0mget_loc\u001b[0m\u001b[0;34m(\u001b[0m\u001b[0mkey\u001b[0m\u001b[0;34m)\u001b[0m\u001b[0;34m\u001b[0m\u001b[0;34m\u001b[0m\u001b[0m\n\u001b[1;32m   2657\u001b[0m             \u001b[0;32mexcept\u001b[0m \u001b[0mKeyError\u001b[0m\u001b[0;34m:\u001b[0m\u001b[0;34m\u001b[0m\u001b[0;34m\u001b[0m\u001b[0m\n\u001b[0;32m-> 2658\u001b[0;31m                 \u001b[0;32mreturn\u001b[0m \u001b[0mself\u001b[0m\u001b[0;34m.\u001b[0m\u001b[0m_engine\u001b[0m\u001b[0;34m.\u001b[0m\u001b[0mget_loc\u001b[0m\u001b[0;34m(\u001b[0m\u001b[0mself\u001b[0m\u001b[0;34m.\u001b[0m\u001b[0m_maybe_cast_indexer\u001b[0m\u001b[0;34m(\u001b[0m\u001b[0mkey\u001b[0m\u001b[0;34m)\u001b[0m\u001b[0;34m)\u001b[0m\u001b[0;34m\u001b[0m\u001b[0;34m\u001b[0m\u001b[0m\n\u001b[0m\u001b[1;32m   2659\u001b[0m         \u001b[0mindexer\u001b[0m \u001b[0;34m=\u001b[0m \u001b[0mself\u001b[0m\u001b[0;34m.\u001b[0m\u001b[0mget_indexer\u001b[0m\u001b[0;34m(\u001b[0m\u001b[0;34m[\u001b[0m\u001b[0mkey\u001b[0m\u001b[0;34m]\u001b[0m\u001b[0;34m,\u001b[0m \u001b[0mmethod\u001b[0m\u001b[0;34m=\u001b[0m\u001b[0mmethod\u001b[0m\u001b[0;34m,\u001b[0m \u001b[0mtolerance\u001b[0m\u001b[0;34m=\u001b[0m\u001b[0mtolerance\u001b[0m\u001b[0;34m)\u001b[0m\u001b[0;34m\u001b[0m\u001b[0;34m\u001b[0m\u001b[0m\n\u001b[1;32m   2660\u001b[0m         \u001b[0;32mif\u001b[0m \u001b[0mindexer\u001b[0m\u001b[0;34m.\u001b[0m\u001b[0mndim\u001b[0m \u001b[0;34m>\u001b[0m \u001b[0;36m1\u001b[0m \u001b[0;32mor\u001b[0m \u001b[0mindexer\u001b[0m\u001b[0;34m.\u001b[0m\u001b[0msize\u001b[0m \u001b[0;34m>\u001b[0m \u001b[0;36m1\u001b[0m\u001b[0;34m:\u001b[0m\u001b[0;34m\u001b[0m\u001b[0;34m\u001b[0m\u001b[0m\n",
      "\u001b[0;32mpandas/_libs/index.pyx\u001b[0m in \u001b[0;36mpandas._libs.index.IndexEngine.get_loc\u001b[0;34m()\u001b[0m\n",
      "\u001b[0;32mpandas/_libs/index.pyx\u001b[0m in \u001b[0;36mpandas._libs.index.IndexEngine.get_loc\u001b[0;34m()\u001b[0m\n",
      "\u001b[0;32mpandas/_libs/hashtable_class_helper.pxi\u001b[0m in \u001b[0;36mpandas._libs.hashtable.PyObjectHashTable.get_item\u001b[0;34m()\u001b[0m\n",
      "\u001b[0;32mpandas/_libs/hashtable_class_helper.pxi\u001b[0m in \u001b[0;36mpandas._libs.hashtable.PyObjectHashTable.get_item\u001b[0;34m()\u001b[0m\n",
      "\u001b[0;31mKeyError\u001b[0m: 'Random'"
     ]
    }
   ],
   "source": [
    "fig = go.Figure(go.Scatter(y = comparaison_be['Random'],\n",
    "                     x = comparaison_be['memoryview'],\n",
    "                     mode='markers+text',\n",
    "                     text = comparaison_be['Best overall TF match'],\n",
    "                     hovertext=comparaison_be.index,\n",
    "                     textposition=\"bottom left\"))\n",
    "fig.update_layout(title=\"Comparaison of feature importance for Lineage : {}\".format('B'),\n",
    "                  yaxis_title='Generated Motifs',\n",
    "                  xaxis_title =\"BassetE's motif importance\")\n",
    "fig.show()"
   ]
  },
  {
   "cell_type": "code",
   "execution_count": 109,
   "metadata": {
    "ExecuteTime": {
     "end_time": "2020-04-09T14:43:16.910301Z",
     "start_time": "2020-04-09T14:43:16.833774Z"
    },
    "hidden": true
   },
   "outputs": [
    {
     "data": {
      "application/vnd.jupyter.widget-view+json": {
       "model_id": "4c6c60e4e1264c82acc55329850d40a4",
       "version_major": 2,
       "version_minor": 0
      },
      "text/plain": [
       "interactive(children=(Dropdown(description='ct', options=('B', 'innate.lym', 'abT', 'gdT', 'stem', 'myeloid'),…"
      ]
     },
     "metadata": {},
     "output_type": "display_data"
    }
   ],
   "source": [
    "@interact_manual\n",
    "def motifs_influence_sasha(ct=generated_smotifs.drop(columns=['Best overall TF match','Motif consensus Sequence']).columns) :\n",
    "    fig = go.Figure(go.Scatter(y = comparaison_be['{}_generated'.format(ct)],\n",
    "                         x = comparaison_be['{}_be'.format(ct)],\n",
    "                         mode='markers+text',\n",
    "                         text = comparaison_be['Best overall TF match'],\n",
    "                         hovertext=comparaison_be.index,\n",
    "                         textposition=\"bottom left\"))\n",
    "    fig.update_layout(title=\"Comparaison of feature importance for Lineage : {}\".format(ct),\n",
    "                      yaxis_title='Generated Motifs',\n",
    "                      xaxis_title =\"BassetE's motif importance\")\n",
    "    fig.show()\n"
   ]
  },
  {
   "cell_type": "markdown",
   "metadata": {},
   "source": [
    "# Graph Poster"
   ]
  },
  {
   "cell_type": "code",
   "execution_count": 16,
   "metadata": {
    "ExecuteTime": {
     "end_time": "2020-04-22T13:16:59.750718Z",
     "start_time": "2020-04-22T13:16:59.698938Z"
    }
   },
   "outputs": [],
   "source": [
    "def draw_scatter_importance(data, x_field, y_field, x_lbl, y_lbl) :\n",
    "    plt.figure(figsize=(20,15))\n",
    "    p1 = sns.scatterplot(x=x_field, y=y_field, hue='Reproducibility', palette=sns.color_palette('rainbow',3), s=40, linewidth=0,legend='full',data=aga)\n",
    "\n",
    "\n",
    "    for line in range(0,aga.shape[0]):\n",
    "         if aga['Best overall TF match'][line] != 'MOTIF NOT KNOWN' and ( aga[x_field][line] >  4 or aga[y_field][line] > 0.3 or aga[x_field][line] <  -500 ) :\n",
    "             p1.text(aga[x_field][line]+np.random.rand()/30, aga[y_field][line]+(np.random.rand()-0.5)/30, \n",
    "             aga['Best overall TF match'][line], horizontalalignment='left', \n",
    "             size='medium', color='black', weight='semibold')\n",
    "    plt.xlabel(x_lbl, fontsize=15)\n",
    "    plt.ylabel(y_lbl, fontsize=15)\n",
    "    plt.ylim([0,1])"
   ]
  },
  {
   "cell_type": "code",
   "execution_count": 21,
   "metadata": {
    "ExecuteTime": {
     "end_time": "2020-04-22T13:24:23.719176Z",
     "start_time": "2020-04-22T13:24:23.659300Z"
    }
   },
   "outputs": [
    {
     "data": {
      "text/html": [
       "<div>\n",
       "<style scoped>\n",
       "    .dataframe tbody tr th:only-of-type {\n",
       "        vertical-align: middle;\n",
       "    }\n",
       "\n",
       "    .dataframe tbody tr th {\n",
       "        vertical-align: top;\n",
       "    }\n",
       "\n",
       "    .dataframe thead th {\n",
       "        text-align: right;\n",
       "    }\n",
       "</style>\n",
       "<table border=\"1\" class=\"dataframe\">\n",
       "  <thead>\n",
       "    <tr style=\"text-align: right;\">\n",
       "      <th></th>\n",
       "      <th>B_be</th>\n",
       "      <th>abT</th>\n",
       "      <th>gdT</th>\n",
       "      <th>myeloid</th>\n",
       "      <th>lym</th>\n",
       "      <th>stem</th>\n",
       "      <th>wgan_generated_sequences_2</th>\n",
       "      <th>fbgan_generated_sequences_1</th>\n",
       "      <th>wgan_generated_sequences_3</th>\n",
       "      <th>wgan_generated_sequences_1</th>\n",
       "      <th>fbgan_generated_sequences_2</th>\n",
       "      <th>fbgan_generated_sequences_3</th>\n",
       "      <th>Best overall TF match</th>\n",
       "      <th>Motif consensus Sequence</th>\n",
       "      <th>B_generated</th>\n",
       "      <th>general</th>\n",
       "    </tr>\n",
       "  </thead>\n",
       "  <tbody>\n",
       "    <tr>\n",
       "      <th>filter1</th>\n",
       "      <td>-2.875371</td>\n",
       "      <td>-3.934621</td>\n",
       "      <td>-4.030415</td>\n",
       "      <td>39.203693</td>\n",
       "      <td>14.286764</td>\n",
       "      <td>-3.645009</td>\n",
       "      <td>0.000000</td>\n",
       "      <td>0.000000</td>\n",
       "      <td>0.000000</td>\n",
       "      <td>0.000000</td>\n",
       "      <td>0.000000</td>\n",
       "      <td>0.000000</td>\n",
       "      <td>Atf3</td>\n",
       "      <td>TGAAGGATACGACGACATG</td>\n",
       "      <td>0.000000</td>\n",
       "      <td>0.000000</td>\n",
       "    </tr>\n",
       "    <tr>\n",
       "      <th>filter10</th>\n",
       "      <td>-298.715670</td>\n",
       "      <td>289.613340</td>\n",
       "      <td>302.807530</td>\n",
       "      <td>-402.545170</td>\n",
       "      <td>1702.575600</td>\n",
       "      <td>735.223400</td>\n",
       "      <td>0.000000</td>\n",
       "      <td>0.000000</td>\n",
       "      <td>0.000000</td>\n",
       "      <td>0.000000</td>\n",
       "      <td>0.000000</td>\n",
       "      <td>0.000000</td>\n",
       "      <td>Runx</td>\n",
       "      <td>TTTGTGGTTTGAATTGTAA</td>\n",
       "      <td>0.000000</td>\n",
       "      <td>0.000000</td>\n",
       "    </tr>\n",
       "    <tr>\n",
       "      <th>filter102</th>\n",
       "      <td>-92.425530</td>\n",
       "      <td>-41.337820</td>\n",
       "      <td>-34.300816</td>\n",
       "      <td>412.902130</td>\n",
       "      <td>-53.258330</td>\n",
       "      <td>-129.697250</td>\n",
       "      <td>0.000000</td>\n",
       "      <td>0.000000</td>\n",
       "      <td>0.226406</td>\n",
       "      <td>0.000313</td>\n",
       "      <td>0.000000</td>\n",
       "      <td>0.015938</td>\n",
       "      <td>MOTIF NOT KNOWN</td>\n",
       "      <td>CACCTCCCAGCCTTCTCCC</td>\n",
       "      <td>0.005313</td>\n",
       "      <td>0.075573</td>\n",
       "    </tr>\n",
       "    <tr>\n",
       "      <th>filter105</th>\n",
       "      <td>32.015620</td>\n",
       "      <td>1.184324</td>\n",
       "      <td>-0.577617</td>\n",
       "      <td>5.427286</td>\n",
       "      <td>-25.466425</td>\n",
       "      <td>21.060986</td>\n",
       "      <td>0.000156</td>\n",
       "      <td>0.000000</td>\n",
       "      <td>0.000000</td>\n",
       "      <td>0.000000</td>\n",
       "      <td>0.000000</td>\n",
       "      <td>0.000000</td>\n",
       "      <td>MOTIF NOT KNOWN</td>\n",
       "      <td>AAGAAGAAGAAAGAAAGGA</td>\n",
       "      <td>0.000000</td>\n",
       "      <td>0.000052</td>\n",
       "    </tr>\n",
       "    <tr>\n",
       "      <th>filter106</th>\n",
       "      <td>41.984170</td>\n",
       "      <td>-29.547127</td>\n",
       "      <td>-59.325344</td>\n",
       "      <td>-58.681840</td>\n",
       "      <td>1786.195000</td>\n",
       "      <td>-86.328690</td>\n",
       "      <td>0.000000</td>\n",
       "      <td>0.000000</td>\n",
       "      <td>0.000156</td>\n",
       "      <td>0.000000</td>\n",
       "      <td>0.000000</td>\n",
       "      <td>0.000000</td>\n",
       "      <td>Tbx21</td>\n",
       "      <td>GAAAAAAAGGAAGTGTGAA</td>\n",
       "      <td>0.000000</td>\n",
       "      <td>0.000052</td>\n",
       "    </tr>\n",
       "    <tr>\n",
       "      <th>filter11</th>\n",
       "      <td>6.453993</td>\n",
       "      <td>461.445500</td>\n",
       "      <td>590.312100</td>\n",
       "      <td>-1090.827300</td>\n",
       "      <td>2191.330800</td>\n",
       "      <td>1178.589200</td>\n",
       "      <td>0.000156</td>\n",
       "      <td>0.000000</td>\n",
       "      <td>0.000313</td>\n",
       "      <td>0.000313</td>\n",
       "      <td>0.000000</td>\n",
       "      <td>0.016250</td>\n",
       "      <td>Ets1</td>\n",
       "      <td>AGACAGGAAGTGGGTGTGG</td>\n",
       "      <td>0.005417</td>\n",
       "      <td>0.000260</td>\n",
       "    </tr>\n",
       "    <tr>\n",
       "      <th>filter112</th>\n",
       "      <td>852.595600</td>\n",
       "      <td>134.868740</td>\n",
       "      <td>-110.139404</td>\n",
       "      <td>-105.569534</td>\n",
       "      <td>-671.724600</td>\n",
       "      <td>-493.897860</td>\n",
       "      <td>0.000313</td>\n",
       "      <td>0.038437</td>\n",
       "      <td>0.000000</td>\n",
       "      <td>0.000000</td>\n",
       "      <td>0.000000</td>\n",
       "      <td>0.887656</td>\n",
       "      <td>Tcf3</td>\n",
       "      <td>AGCCGAAGCAGCTGTTCGC</td>\n",
       "      <td>0.308698</td>\n",
       "      <td>0.000104</td>\n",
       "    </tr>\n",
       "    <tr>\n",
       "      <th>filter115</th>\n",
       "      <td>105.171326</td>\n",
       "      <td>27.599287</td>\n",
       "      <td>-132.369140</td>\n",
       "      <td>106.908990</td>\n",
       "      <td>-337.560000</td>\n",
       "      <td>140.808750</td>\n",
       "      <td>0.000000</td>\n",
       "      <td>0.000000</td>\n",
       "      <td>0.000000</td>\n",
       "      <td>0.000000</td>\n",
       "      <td>0.000000</td>\n",
       "      <td>0.000000</td>\n",
       "      <td>Hlx</td>\n",
       "      <td>AGCCCTCAGAGTCATTCAA</td>\n",
       "      <td>0.000000</td>\n",
       "      <td>0.000000</td>\n",
       "    </tr>\n",
       "    <tr>\n",
       "      <th>filter120</th>\n",
       "      <td>-30.515360</td>\n",
       "      <td>76.075900</td>\n",
       "      <td>108.659930</td>\n",
       "      <td>-269.630200</td>\n",
       "      <td>487.639900</td>\n",
       "      <td>163.622700</td>\n",
       "      <td>0.000000</td>\n",
       "      <td>0.000000</td>\n",
       "      <td>0.000000</td>\n",
       "      <td>0.000000</td>\n",
       "      <td>0.000000</td>\n",
       "      <td>0.000000</td>\n",
       "      <td>Ets</td>\n",
       "      <td>CCCACCCACTTCCGGTCTG</td>\n",
       "      <td>0.000000</td>\n",
       "      <td>0.000000</td>\n",
       "    </tr>\n",
       "    <tr>\n",
       "      <th>filter122</th>\n",
       "      <td>9.672769</td>\n",
       "      <td>-40.479680</td>\n",
       "      <td>-42.842506</td>\n",
       "      <td>175.237820</td>\n",
       "      <td>-16.898901</td>\n",
       "      <td>64.300670</td>\n",
       "      <td>0.000000</td>\n",
       "      <td>0.000000</td>\n",
       "      <td>0.019531</td>\n",
       "      <td>0.000000</td>\n",
       "      <td>0.000000</td>\n",
       "      <td>0.003438</td>\n",
       "      <td>Ellf1</td>\n",
       "      <td>TCAGGAAGTGACAGGGATG</td>\n",
       "      <td>0.001146</td>\n",
       "      <td>0.006510</td>\n",
       "    </tr>\n",
       "    <tr>\n",
       "      <th>filter123</th>\n",
       "      <td>88.141450</td>\n",
       "      <td>-23.249561</td>\n",
       "      <td>-16.129984</td>\n",
       "      <td>6.974090</td>\n",
       "      <td>-22.452538</td>\n",
       "      <td>-5.843300</td>\n",
       "      <td>0.009375</td>\n",
       "      <td>0.999687</td>\n",
       "      <td>0.013594</td>\n",
       "      <td>0.000156</td>\n",
       "      <td>0.999687</td>\n",
       "      <td>0.309844</td>\n",
       "      <td>Ebf1</td>\n",
       "      <td>CCTGAGGCCTCCAGGGGGG</td>\n",
       "      <td>0.769740</td>\n",
       "      <td>0.007708</td>\n",
       "    </tr>\n",
       "    <tr>\n",
       "      <th>filter124</th>\n",
       "      <td>25.351303</td>\n",
       "      <td>-16.841412</td>\n",
       "      <td>-18.122477</td>\n",
       "      <td>39.266983</td>\n",
       "      <td>8.058704</td>\n",
       "      <td>28.216183</td>\n",
       "      <td>0.000000</td>\n",
       "      <td>0.000000</td>\n",
       "      <td>0.000000</td>\n",
       "      <td>0.000000</td>\n",
       "      <td>0.000000</td>\n",
       "      <td>0.000000</td>\n",
       "      <td>MOTIF NOT KNOWN</td>\n",
       "      <td>TACCCTAAAGTAATGAACC</td>\n",
       "      <td>0.000000</td>\n",
       "      <td>0.000000</td>\n",
       "    </tr>\n",
       "    <tr>\n",
       "      <th>filter127</th>\n",
       "      <td>-65.947720</td>\n",
       "      <td>-27.171114</td>\n",
       "      <td>-23.227360</td>\n",
       "      <td>145.515500</td>\n",
       "      <td>-43.861195</td>\n",
       "      <td>192.773590</td>\n",
       "      <td>0.000000</td>\n",
       "      <td>0.000000</td>\n",
       "      <td>0.000000</td>\n",
       "      <td>0.000000</td>\n",
       "      <td>0.005625</td>\n",
       "      <td>0.014687</td>\n",
       "      <td>MOTIF NOT KNOWN</td>\n",
       "      <td>TGGGCCCCGTTCCAGATGT</td>\n",
       "      <td>0.006771</td>\n",
       "      <td>0.000000</td>\n",
       "    </tr>\n",
       "    <tr>\n",
       "      <th>filter129</th>\n",
       "      <td>0.578147</td>\n",
       "      <td>-6.520480</td>\n",
       "      <td>-5.177493</td>\n",
       "      <td>28.971123</td>\n",
       "      <td>-13.183141</td>\n",
       "      <td>3.661765</td>\n",
       "      <td>0.000156</td>\n",
       "      <td>0.000000</td>\n",
       "      <td>0.000156</td>\n",
       "      <td>0.000000</td>\n",
       "      <td>0.000000</td>\n",
       "      <td>0.000000</td>\n",
       "      <td>Nr2f6</td>\n",
       "      <td>CCAGGTCAGTCATTGGACC</td>\n",
       "      <td>0.000000</td>\n",
       "      <td>0.000104</td>\n",
       "    </tr>\n",
       "    <tr>\n",
       "      <th>filter132</th>\n",
       "      <td>-87.230990</td>\n",
       "      <td>145.633620</td>\n",
       "      <td>129.832260</td>\n",
       "      <td>-126.984436</td>\n",
       "      <td>-32.712093</td>\n",
       "      <td>-283.836060</td>\n",
       "      <td>0.000000</td>\n",
       "      <td>0.000000</td>\n",
       "      <td>0.000000</td>\n",
       "      <td>0.000000</td>\n",
       "      <td>0.000000</td>\n",
       "      <td>0.568750</td>\n",
       "      <td>MOTIF NOT KNOWN</td>\n",
       "      <td>TATCTAGAGCAGCAGCTGC</td>\n",
       "      <td>0.189583</td>\n",
       "      <td>0.000000</td>\n",
       "    </tr>\n",
       "    <tr>\n",
       "      <th>filter133</th>\n",
       "      <td>982.289370</td>\n",
       "      <td>-1782.894200</td>\n",
       "      <td>-1883.199000</td>\n",
       "      <td>6015.087400</td>\n",
       "      <td>-1897.476300</td>\n",
       "      <td>1038.716100</td>\n",
       "      <td>0.000000</td>\n",
       "      <td>0.000000</td>\n",
       "      <td>0.000000</td>\n",
       "      <td>0.000000</td>\n",
       "      <td>0.000000</td>\n",
       "      <td>0.000000</td>\n",
       "      <td>Sfpi1</td>\n",
       "      <td>TTTTCACTTCCCCTTTTTT</td>\n",
       "      <td>0.000000</td>\n",
       "      <td>0.000000</td>\n",
       "    </tr>\n",
       "    <tr>\n",
       "      <th>filter135</th>\n",
       "      <td>56.525455</td>\n",
       "      <td>-13.946659</td>\n",
       "      <td>-12.708846</td>\n",
       "      <td>-3.672599</td>\n",
       "      <td>-12.630256</td>\n",
       "      <td>-7.168982</td>\n",
       "      <td>0.000000</td>\n",
       "      <td>0.000000</td>\n",
       "      <td>0.000000</td>\n",
       "      <td>0.000000</td>\n",
       "      <td>0.000000</td>\n",
       "      <td>0.000000</td>\n",
       "      <td>Pou2f2</td>\n",
       "      <td>CTCCTTCATGCAAATAACC</td>\n",
       "      <td>0.000000</td>\n",
       "      <td>0.000000</td>\n",
       "    </tr>\n",
       "    <tr>\n",
       "      <th>filter14</th>\n",
       "      <td>-17.820396</td>\n",
       "      <td>48.697514</td>\n",
       "      <td>-34.152355</td>\n",
       "      <td>62.922500</td>\n",
       "      <td>-146.839540</td>\n",
       "      <td>-92.804090</td>\n",
       "      <td>0.000000</td>\n",
       "      <td>0.000000</td>\n",
       "      <td>0.000000</td>\n",
       "      <td>0.000000</td>\n",
       "      <td>0.000000</td>\n",
       "      <td>0.000000</td>\n",
       "      <td>Sox13</td>\n",
       "      <td>GGACACACTTCTCAATCAT</td>\n",
       "      <td>0.000000</td>\n",
       "      <td>0.000000</td>\n",
       "    </tr>\n",
       "    <tr>\n",
       "      <th>filter15</th>\n",
       "      <td>-249.606930</td>\n",
       "      <td>251.215200</td>\n",
       "      <td>273.056640</td>\n",
       "      <td>-385.719700</td>\n",
       "      <td>1908.304000</td>\n",
       "      <td>571.720800</td>\n",
       "      <td>0.000000</td>\n",
       "      <td>0.000000</td>\n",
       "      <td>0.000000</td>\n",
       "      <td>0.000156</td>\n",
       "      <td>0.000000</td>\n",
       "      <td>0.000000</td>\n",
       "      <td>Runx</td>\n",
       "      <td>AAACCACAAAAACAAAAAA</td>\n",
       "      <td>0.000000</td>\n",
       "      <td>0.000052</td>\n",
       "    </tr>\n",
       "    <tr>\n",
       "      <th>filter151</th>\n",
       "      <td>-10.509944</td>\n",
       "      <td>-5.551601</td>\n",
       "      <td>-24.869066</td>\n",
       "      <td>68.141620</td>\n",
       "      <td>-7.906298</td>\n",
       "      <td>75.671616</td>\n",
       "      <td>0.000000</td>\n",
       "      <td>0.000000</td>\n",
       "      <td>0.000000</td>\n",
       "      <td>0.000000</td>\n",
       "      <td>0.000313</td>\n",
       "      <td>0.012031</td>\n",
       "      <td>MOTIF NOT KNOWN</td>\n",
       "      <td>CGCTGAGGCAGCAGGTTCC</td>\n",
       "      <td>0.004115</td>\n",
       "      <td>0.000000</td>\n",
       "    </tr>\n",
       "    <tr>\n",
       "      <th>filter154</th>\n",
       "      <td>96.897870</td>\n",
       "      <td>49.982994</td>\n",
       "      <td>62.770245</td>\n",
       "      <td>-112.633170</td>\n",
       "      <td>168.582670</td>\n",
       "      <td>-198.725070</td>\n",
       "      <td>0.000000</td>\n",
       "      <td>0.000000</td>\n",
       "      <td>0.403125</td>\n",
       "      <td>0.024688</td>\n",
       "      <td>0.000000</td>\n",
       "      <td>0.000000</td>\n",
       "      <td>Sp</td>\n",
       "      <td>GGGGGGGGGGTGGGGGGGT</td>\n",
       "      <td>0.000000</td>\n",
       "      <td>0.142604</td>\n",
       "    </tr>\n",
       "    <tr>\n",
       "      <th>filter155</th>\n",
       "      <td>-44.936080</td>\n",
       "      <td>-10.602892</td>\n",
       "      <td>-20.294264</td>\n",
       "      <td>40.268036</td>\n",
       "      <td>-40.468533</td>\n",
       "      <td>68.637940</td>\n",
       "      <td>0.001719</td>\n",
       "      <td>0.000156</td>\n",
       "      <td>0.000156</td>\n",
       "      <td>0.000469</td>\n",
       "      <td>0.003281</td>\n",
       "      <td>0.005938</td>\n",
       "      <td>MOTIF NOT KNOWN</td>\n",
       "      <td>CAGTCAGGAGAGTGATGCA</td>\n",
       "      <td>0.003125</td>\n",
       "      <td>0.000781</td>\n",
       "    </tr>\n",
       "    <tr>\n",
       "      <th>filter157</th>\n",
       "      <td>15.118513</td>\n",
       "      <td>-14.729373</td>\n",
       "      <td>-13.494386</td>\n",
       "      <td>37.789320</td>\n",
       "      <td>-60.167458</td>\n",
       "      <td>17.837822</td>\n",
       "      <td>0.000000</td>\n",
       "      <td>0.000000</td>\n",
       "      <td>0.000000</td>\n",
       "      <td>0.000000</td>\n",
       "      <td>0.000156</td>\n",
       "      <td>0.000000</td>\n",
       "      <td>MOTIF NOT KNOWN</td>\n",
       "      <td>TTCCTCTTGTCAAGAGGCC</td>\n",
       "      <td>0.000052</td>\n",
       "      <td>0.000000</td>\n",
       "    </tr>\n",
       "    <tr>\n",
       "      <th>filter165</th>\n",
       "      <td>978.618840</td>\n",
       "      <td>-461.289300</td>\n",
       "      <td>-503.302760</td>\n",
       "      <td>794.697900</td>\n",
       "      <td>-410.666800</td>\n",
       "      <td>-307.715760</td>\n",
       "      <td>0.000000</td>\n",
       "      <td>0.000000</td>\n",
       "      <td>0.000000</td>\n",
       "      <td>0.000000</td>\n",
       "      <td>0.000000</td>\n",
       "      <td>0.000000</td>\n",
       "      <td>Irf1</td>\n",
       "      <td>TAGTTTCAGTTCCTCTTTT</td>\n",
       "      <td>0.000000</td>\n",
       "      <td>0.000000</td>\n",
       "    </tr>\n",
       "    <tr>\n",
       "      <th>filter166</th>\n",
       "      <td>-77.918620</td>\n",
       "      <td>191.051760</td>\n",
       "      <td>323.402920</td>\n",
       "      <td>-134.887300</td>\n",
       "      <td>10.721626</td>\n",
       "      <td>-154.216100</td>\n",
       "      <td>0.000000</td>\n",
       "      <td>0.000000</td>\n",
       "      <td>0.000000</td>\n",
       "      <td>0.000000</td>\n",
       "      <td>0.000000</td>\n",
       "      <td>0.000000</td>\n",
       "      <td>Lef1</td>\n",
       "      <td>TTAATTCCTTTGATGTGGT</td>\n",
       "      <td>0.000000</td>\n",
       "      <td>0.000000</td>\n",
       "    </tr>\n",
       "    <tr>\n",
       "      <th>filter167</th>\n",
       "      <td>679.583400</td>\n",
       "      <td>-68.411446</td>\n",
       "      <td>-61.337032</td>\n",
       "      <td>-106.236560</td>\n",
       "      <td>-98.015045</td>\n",
       "      <td>-81.328720</td>\n",
       "      <td>0.000000</td>\n",
       "      <td>0.000000</td>\n",
       "      <td>0.000000</td>\n",
       "      <td>0.000000</td>\n",
       "      <td>0.000000</td>\n",
       "      <td>0.000000</td>\n",
       "      <td>Pax5</td>\n",
       "      <td>TGGTCACTCAAGCGTGACA</td>\n",
       "      <td>0.000000</td>\n",
       "      <td>0.000000</td>\n",
       "    </tr>\n",
       "    <tr>\n",
       "      <th>filter170</th>\n",
       "      <td>-8.274828</td>\n",
       "      <td>-19.265488</td>\n",
       "      <td>-14.357793</td>\n",
       "      <td>63.113970</td>\n",
       "      <td>12.419596</td>\n",
       "      <td>99.462940</td>\n",
       "      <td>0.000000</td>\n",
       "      <td>0.000000</td>\n",
       "      <td>0.000000</td>\n",
       "      <td>0.000000</td>\n",
       "      <td>0.000000</td>\n",
       "      <td>0.000000</td>\n",
       "      <td>MOTIF NOT KNOWN</td>\n",
       "      <td>CACAACACTTGATATGATG</td>\n",
       "      <td>0.000000</td>\n",
       "      <td>0.000000</td>\n",
       "    </tr>\n",
       "    <tr>\n",
       "      <th>filter173</th>\n",
       "      <td>-21.936926</td>\n",
       "      <td>-136.056270</td>\n",
       "      <td>-270.565280</td>\n",
       "      <td>295.102780</td>\n",
       "      <td>365.202640</td>\n",
       "      <td>-135.080600</td>\n",
       "      <td>0.000781</td>\n",
       "      <td>0.000000</td>\n",
       "      <td>0.013750</td>\n",
       "      <td>0.000000</td>\n",
       "      <td>0.849375</td>\n",
       "      <td>0.982812</td>\n",
       "      <td>C2H2 ZF</td>\n",
       "      <td>GTGGCCAGCGGGGGGGGGC</td>\n",
       "      <td>0.610729</td>\n",
       "      <td>0.004844</td>\n",
       "    </tr>\n",
       "    <tr>\n",
       "      <th>filter174</th>\n",
       "      <td>-830.197270</td>\n",
       "      <td>-657.973600</td>\n",
       "      <td>-614.510800</td>\n",
       "      <td>8623.075000</td>\n",
       "      <td>-541.949800</td>\n",
       "      <td>-518.655940</td>\n",
       "      <td>0.000000</td>\n",
       "      <td>0.000000</td>\n",
       "      <td>0.000000</td>\n",
       "      <td>0.000000</td>\n",
       "      <td>0.000000</td>\n",
       "      <td>0.000000</td>\n",
       "      <td>Cebp</td>\n",
       "      <td>TATTGCGCAATACTTTATT</td>\n",
       "      <td>0.000000</td>\n",
       "      <td>0.000000</td>\n",
       "    </tr>\n",
       "    <tr>\n",
       "      <th>filter178</th>\n",
       "      <td>4.041891</td>\n",
       "      <td>3.162249</td>\n",
       "      <td>9.829589</td>\n",
       "      <td>-23.577017</td>\n",
       "      <td>75.776140</td>\n",
       "      <td>-21.060776</td>\n",
       "      <td>0.000000</td>\n",
       "      <td>0.000000</td>\n",
       "      <td>0.545469</td>\n",
       "      <td>0.005156</td>\n",
       "      <td>0.000156</td>\n",
       "      <td>0.001875</td>\n",
       "      <td>Sp</td>\n",
       "      <td>CGAAGGAGGTGGGGCAGGT</td>\n",
       "      <td>0.000677</td>\n",
       "      <td>0.183542</td>\n",
       "    </tr>\n",
       "    <tr>\n",
       "      <th>...</th>\n",
       "      <td>...</td>\n",
       "      <td>...</td>\n",
       "      <td>...</td>\n",
       "      <td>...</td>\n",
       "      <td>...</td>\n",
       "      <td>...</td>\n",
       "      <td>...</td>\n",
       "      <td>...</td>\n",
       "      <td>...</td>\n",
       "      <td>...</td>\n",
       "      <td>...</td>\n",
       "      <td>...</td>\n",
       "      <td>...</td>\n",
       "      <td>...</td>\n",
       "      <td>...</td>\n",
       "      <td>...</td>\n",
       "    </tr>\n",
       "    <tr>\n",
       "      <th>filter284</th>\n",
       "      <td>9.497315</td>\n",
       "      <td>-12.193401</td>\n",
       "      <td>-33.853290</td>\n",
       "      <td>38.898483</td>\n",
       "      <td>-38.013103</td>\n",
       "      <td>97.443080</td>\n",
       "      <td>0.000000</td>\n",
       "      <td>0.000000</td>\n",
       "      <td>0.000000</td>\n",
       "      <td>0.000000</td>\n",
       "      <td>0.000000</td>\n",
       "      <td>0.000000</td>\n",
       "      <td>Homeodomain</td>\n",
       "      <td>GTGAAGCATAGCTACATCG</td>\n",
       "      <td>0.000000</td>\n",
       "      <td>0.000000</td>\n",
       "    </tr>\n",
       "    <tr>\n",
       "      <th>filter286</th>\n",
       "      <td>260.093300</td>\n",
       "      <td>-266.953640</td>\n",
       "      <td>-329.842380</td>\n",
       "      <td>632.413900</td>\n",
       "      <td>-328.476380</td>\n",
       "      <td>675.304300</td>\n",
       "      <td>0.000000</td>\n",
       "      <td>0.000000</td>\n",
       "      <td>0.000000</td>\n",
       "      <td>0.000000</td>\n",
       "      <td>0.000000</td>\n",
       "      <td>0.000000</td>\n",
       "      <td>Sfpi1</td>\n",
       "      <td>CTATCTTACTTCCTCTTTT</td>\n",
       "      <td>0.000000</td>\n",
       "      <td>0.000000</td>\n",
       "    </tr>\n",
       "    <tr>\n",
       "      <th>filter288</th>\n",
       "      <td>-43.288440</td>\n",
       "      <td>-17.227524</td>\n",
       "      <td>-52.165863</td>\n",
       "      <td>-32.823757</td>\n",
       "      <td>2063.216600</td>\n",
       "      <td>-88.629230</td>\n",
       "      <td>0.000469</td>\n",
       "      <td>0.000000</td>\n",
       "      <td>0.000000</td>\n",
       "      <td>0.000156</td>\n",
       "      <td>0.000000</td>\n",
       "      <td>0.000000</td>\n",
       "      <td>Emoes</td>\n",
       "      <td>CAACTGGATTTCACACCTT</td>\n",
       "      <td>0.000000</td>\n",
       "      <td>0.000208</td>\n",
       "    </tr>\n",
       "    <tr>\n",
       "      <th>filter290</th>\n",
       "      <td>96.194940</td>\n",
       "      <td>-14.877727</td>\n",
       "      <td>-28.236103</td>\n",
       "      <td>-475.077970</td>\n",
       "      <td>157.131940</td>\n",
       "      <td>-2.767926</td>\n",
       "      <td>0.000469</td>\n",
       "      <td>0.000000</td>\n",
       "      <td>0.000000</td>\n",
       "      <td>0.000313</td>\n",
       "      <td>0.368281</td>\n",
       "      <td>0.040469</td>\n",
       "      <td>Mafg</td>\n",
       "      <td>TCATGCTGTGAGCATCATC</td>\n",
       "      <td>0.136250</td>\n",
       "      <td>0.000260</td>\n",
       "    </tr>\n",
       "    <tr>\n",
       "      <th>filter292</th>\n",
       "      <td>-311.860720</td>\n",
       "      <td>-2.673120</td>\n",
       "      <td>-139.760010</td>\n",
       "      <td>1378.156400</td>\n",
       "      <td>135.316740</td>\n",
       "      <td>1092.196500</td>\n",
       "      <td>0.000000</td>\n",
       "      <td>0.000000</td>\n",
       "      <td>0.000000</td>\n",
       "      <td>0.000000</td>\n",
       "      <td>0.000000</td>\n",
       "      <td>0.000000</td>\n",
       "      <td>Fos</td>\n",
       "      <td>ATGAGTCATCACTTTACAC</td>\n",
       "      <td>0.000000</td>\n",
       "      <td>0.000000</td>\n",
       "    </tr>\n",
       "    <tr>\n",
       "      <th>filter297</th>\n",
       "      <td>-116.069270</td>\n",
       "      <td>98.904780</td>\n",
       "      <td>40.613674</td>\n",
       "      <td>76.926315</td>\n",
       "      <td>181.876000</td>\n",
       "      <td>75.478210</td>\n",
       "      <td>0.000000</td>\n",
       "      <td>0.000313</td>\n",
       "      <td>0.000000</td>\n",
       "      <td>0.000000</td>\n",
       "      <td>0.014687</td>\n",
       "      <td>0.001875</td>\n",
       "      <td>Mecp2</td>\n",
       "      <td>CACTGACTGTGGTATTGAG</td>\n",
       "      <td>0.005625</td>\n",
       "      <td>0.000000</td>\n",
       "    </tr>\n",
       "    <tr>\n",
       "      <th>filter34</th>\n",
       "      <td>-915.336700</td>\n",
       "      <td>-748.164370</td>\n",
       "      <td>-713.563350</td>\n",
       "      <td>9585.634000</td>\n",
       "      <td>-691.092100</td>\n",
       "      <td>-584.280150</td>\n",
       "      <td>0.000000</td>\n",
       "      <td>0.000000</td>\n",
       "      <td>0.000000</td>\n",
       "      <td>0.000000</td>\n",
       "      <td>0.000000</td>\n",
       "      <td>0.000000</td>\n",
       "      <td>Cebp</td>\n",
       "      <td>TGAGAAGATATTACGTAAT</td>\n",
       "      <td>0.000000</td>\n",
       "      <td>0.000000</td>\n",
       "    </tr>\n",
       "    <tr>\n",
       "      <th>filter35</th>\n",
       "      <td>-31.910173</td>\n",
       "      <td>-19.169653</td>\n",
       "      <td>-26.673384</td>\n",
       "      <td>77.755554</td>\n",
       "      <td>19.019650</td>\n",
       "      <td>923.509770</td>\n",
       "      <td>0.000156</td>\n",
       "      <td>0.000000</td>\n",
       "      <td>0.001563</td>\n",
       "      <td>0.000156</td>\n",
       "      <td>0.000000</td>\n",
       "      <td>0.097187</td>\n",
       "      <td>Nfix</td>\n",
       "      <td>AGTCTTGGCACGCTGCCAA</td>\n",
       "      <td>0.032396</td>\n",
       "      <td>0.000625</td>\n",
       "    </tr>\n",
       "    <tr>\n",
       "      <th>filter40</th>\n",
       "      <td>641.279500</td>\n",
       "      <td>-71.977450</td>\n",
       "      <td>-17.192854</td>\n",
       "      <td>88.834230</td>\n",
       "      <td>1123.652100</td>\n",
       "      <td>-406.008970</td>\n",
       "      <td>0.000000</td>\n",
       "      <td>0.000000</td>\n",
       "      <td>0.000000</td>\n",
       "      <td>0.000000</td>\n",
       "      <td>0.000000</td>\n",
       "      <td>0.000000</td>\n",
       "      <td>MOTIF NOT KNOWN</td>\n",
       "      <td>TTTTTCCAAGTTCTTTTTT</td>\n",
       "      <td>0.000000</td>\n",
       "      <td>0.000000</td>\n",
       "    </tr>\n",
       "    <tr>\n",
       "      <th>filter43</th>\n",
       "      <td>20.755856</td>\n",
       "      <td>11.402615</td>\n",
       "      <td>18.480116</td>\n",
       "      <td>-217.356600</td>\n",
       "      <td>164.021580</td>\n",
       "      <td>-198.022020</td>\n",
       "      <td>0.000000</td>\n",
       "      <td>0.000000</td>\n",
       "      <td>0.000156</td>\n",
       "      <td>0.000000</td>\n",
       "      <td>0.001875</td>\n",
       "      <td>0.287500</td>\n",
       "      <td>bZip</td>\n",
       "      <td>TCTGGCAGCAGTGAGAAGG</td>\n",
       "      <td>0.096458</td>\n",
       "      <td>0.000052</td>\n",
       "    </tr>\n",
       "    <tr>\n",
       "      <th>filter44</th>\n",
       "      <td>11.798959</td>\n",
       "      <td>-4.114797</td>\n",
       "      <td>-5.058926</td>\n",
       "      <td>-6.810709</td>\n",
       "      <td>-4.632075</td>\n",
       "      <td>-7.918937</td>\n",
       "      <td>0.000000</td>\n",
       "      <td>0.000000</td>\n",
       "      <td>0.000000</td>\n",
       "      <td>0.000000</td>\n",
       "      <td>0.000000</td>\n",
       "      <td>0.000000</td>\n",
       "      <td>Pouf2f</td>\n",
       "      <td>CACCAAGAATATGCATACA</td>\n",
       "      <td>0.000000</td>\n",
       "      <td>0.000000</td>\n",
       "    </tr>\n",
       "    <tr>\n",
       "      <th>filter47</th>\n",
       "      <td>61.494305</td>\n",
       "      <td>23.920881</td>\n",
       "      <td>24.290056</td>\n",
       "      <td>-201.432860</td>\n",
       "      <td>234.769200</td>\n",
       "      <td>127.400290</td>\n",
       "      <td>0.000000</td>\n",
       "      <td>0.001094</td>\n",
       "      <td>0.000000</td>\n",
       "      <td>0.000000</td>\n",
       "      <td>0.000000</td>\n",
       "      <td>0.000000</td>\n",
       "      <td>Runx</td>\n",
       "      <td>AGAGGTGTCTGTGGTTTGT</td>\n",
       "      <td>0.000365</td>\n",
       "      <td>0.000000</td>\n",
       "    </tr>\n",
       "    <tr>\n",
       "      <th>filter50</th>\n",
       "      <td>-16.719501</td>\n",
       "      <td>48.388706</td>\n",
       "      <td>84.973820</td>\n",
       "      <td>-63.632965</td>\n",
       "      <td>64.004906</td>\n",
       "      <td>-60.159557</td>\n",
       "      <td>0.000000</td>\n",
       "      <td>0.000000</td>\n",
       "      <td>0.000000</td>\n",
       "      <td>0.000000</td>\n",
       "      <td>0.000000</td>\n",
       "      <td>0.000000</td>\n",
       "      <td>Lef1</td>\n",
       "      <td>TGCCGACTTCAAAGACCAC</td>\n",
       "      <td>0.000000</td>\n",
       "      <td>0.000000</td>\n",
       "    </tr>\n",
       "    <tr>\n",
       "      <th>filter51</th>\n",
       "      <td>39.972935</td>\n",
       "      <td>378.257660</td>\n",
       "      <td>192.618360</td>\n",
       "      <td>-1455.348500</td>\n",
       "      <td>-543.415800</td>\n",
       "      <td>-349.866520</td>\n",
       "      <td>0.000469</td>\n",
       "      <td>0.000000</td>\n",
       "      <td>0.000469</td>\n",
       "      <td>0.000000</td>\n",
       "      <td>0.000469</td>\n",
       "      <td>0.761875</td>\n",
       "      <td>bZip</td>\n",
       "      <td>AGTTCAGCAGACTGCAGCC</td>\n",
       "      <td>0.254115</td>\n",
       "      <td>0.000313</td>\n",
       "    </tr>\n",
       "    <tr>\n",
       "      <th>filter6</th>\n",
       "      <td>36.521698</td>\n",
       "      <td>-12.933430</td>\n",
       "      <td>-12.417781</td>\n",
       "      <td>19.288439</td>\n",
       "      <td>-26.009624</td>\n",
       "      <td>-7.069177</td>\n",
       "      <td>0.000000</td>\n",
       "      <td>0.988281</td>\n",
       "      <td>0.000156</td>\n",
       "      <td>0.000000</td>\n",
       "      <td>0.000000</td>\n",
       "      <td>0.000000</td>\n",
       "      <td>Ebf1</td>\n",
       "      <td>TTTCCCAATGGAATTTAAG</td>\n",
       "      <td>0.329427</td>\n",
       "      <td>0.000052</td>\n",
       "    </tr>\n",
       "    <tr>\n",
       "      <th>filter65</th>\n",
       "      <td>-48.007510</td>\n",
       "      <td>329.864530</td>\n",
       "      <td>359.670930</td>\n",
       "      <td>-1570.568600</td>\n",
       "      <td>-165.653080</td>\n",
       "      <td>169.505920</td>\n",
       "      <td>0.000000</td>\n",
       "      <td>0.000000</td>\n",
       "      <td>0.000000</td>\n",
       "      <td>0.000156</td>\n",
       "      <td>0.000000</td>\n",
       "      <td>0.000000</td>\n",
       "      <td>Nfkb1</td>\n",
       "      <td>TGGAAATAACCTCTCGATT</td>\n",
       "      <td>0.000000</td>\n",
       "      <td>0.000052</td>\n",
       "    </tr>\n",
       "    <tr>\n",
       "      <th>filter66</th>\n",
       "      <td>6.433173</td>\n",
       "      <td>-5.486496</td>\n",
       "      <td>-6.738843</td>\n",
       "      <td>2.055244</td>\n",
       "      <td>1.208373</td>\n",
       "      <td>26.385870</td>\n",
       "      <td>0.000000</td>\n",
       "      <td>0.000000</td>\n",
       "      <td>0.000000</td>\n",
       "      <td>0.000000</td>\n",
       "      <td>0.000000</td>\n",
       "      <td>0.092500</td>\n",
       "      <td>MOTIF NOT KNOWN</td>\n",
       "      <td>GGCCTGCTAATCTTACCTT</td>\n",
       "      <td>0.030833</td>\n",
       "      <td>0.000000</td>\n",
       "    </tr>\n",
       "    <tr>\n",
       "      <th>filter67</th>\n",
       "      <td>-48.669330</td>\n",
       "      <td>-25.464073</td>\n",
       "      <td>-28.033094</td>\n",
       "      <td>104.614750</td>\n",
       "      <td>-128.501200</td>\n",
       "      <td>-31.734283</td>\n",
       "      <td>0.000000</td>\n",
       "      <td>0.987812</td>\n",
       "      <td>0.000313</td>\n",
       "      <td>0.000000</td>\n",
       "      <td>0.000000</td>\n",
       "      <td>0.000000</td>\n",
       "      <td>Mzf1</td>\n",
       "      <td>ACCCTTGGGATAATAGGTG</td>\n",
       "      <td>0.329271</td>\n",
       "      <td>0.000104</td>\n",
       "    </tr>\n",
       "    <tr>\n",
       "      <th>filter68</th>\n",
       "      <td>-1.200563</td>\n",
       "      <td>-12.120286</td>\n",
       "      <td>42.505240</td>\n",
       "      <td>-98.438050</td>\n",
       "      <td>1060.475000</td>\n",
       "      <td>-54.336372</td>\n",
       "      <td>0.000000</td>\n",
       "      <td>0.000000</td>\n",
       "      <td>0.000000</td>\n",
       "      <td>0.000000</td>\n",
       "      <td>0.000000</td>\n",
       "      <td>0.000000</td>\n",
       "      <td>Nr1d1</td>\n",
       "      <td>GTAACTAGGTCAGTGTGAA</td>\n",
       "      <td>0.000000</td>\n",
       "      <td>0.000000</td>\n",
       "    </tr>\n",
       "    <tr>\n",
       "      <th>filter69</th>\n",
       "      <td>0.284558</td>\n",
       "      <td>6.872224</td>\n",
       "      <td>8.983022</td>\n",
       "      <td>-48.244614</td>\n",
       "      <td>50.394115</td>\n",
       "      <td>9.556643</td>\n",
       "      <td>0.000000</td>\n",
       "      <td>0.000000</td>\n",
       "      <td>0.000000</td>\n",
       "      <td>0.000000</td>\n",
       "      <td>0.000000</td>\n",
       "      <td>0.000000</td>\n",
       "      <td>Ctcf</td>\n",
       "      <td>GTCCACTAGGTGGCACTCT</td>\n",
       "      <td>0.000000</td>\n",
       "      <td>0.000000</td>\n",
       "    </tr>\n",
       "    <tr>\n",
       "      <th>filter70</th>\n",
       "      <td>7.738241</td>\n",
       "      <td>-26.184729</td>\n",
       "      <td>-21.224115</td>\n",
       "      <td>21.564291</td>\n",
       "      <td>62.997780</td>\n",
       "      <td>-10.721879</td>\n",
       "      <td>0.000313</td>\n",
       "      <td>0.001406</td>\n",
       "      <td>0.000000</td>\n",
       "      <td>0.000000</td>\n",
       "      <td>0.035937</td>\n",
       "      <td>0.081719</td>\n",
       "      <td>MOTIF NOT KNOWN</td>\n",
       "      <td>GGTCCACTGGACCGTTCCA</td>\n",
       "      <td>0.039688</td>\n",
       "      <td>0.000104</td>\n",
       "    </tr>\n",
       "    <tr>\n",
       "      <th>filter78</th>\n",
       "      <td>364.811100</td>\n",
       "      <td>382.721070</td>\n",
       "      <td>350.257800</td>\n",
       "      <td>-3675.921000</td>\n",
       "      <td>223.137850</td>\n",
       "      <td>-309.840450</td>\n",
       "      <td>0.001094</td>\n",
       "      <td>0.048750</td>\n",
       "      <td>0.002656</td>\n",
       "      <td>0.000000</td>\n",
       "      <td>0.034688</td>\n",
       "      <td>0.666875</td>\n",
       "      <td>Tcf3</td>\n",
       "      <td>CACACACCTGTCTCCCTGG</td>\n",
       "      <td>0.250104</td>\n",
       "      <td>0.001250</td>\n",
       "    </tr>\n",
       "    <tr>\n",
       "      <th>filter8</th>\n",
       "      <td>35.533825</td>\n",
       "      <td>80.361550</td>\n",
       "      <td>67.396870</td>\n",
       "      <td>-464.383030</td>\n",
       "      <td>50.632120</td>\n",
       "      <td>-103.630860</td>\n",
       "      <td>0.004063</td>\n",
       "      <td>0.093281</td>\n",
       "      <td>0.002344</td>\n",
       "      <td>0.000000</td>\n",
       "      <td>0.063281</td>\n",
       "      <td>0.383125</td>\n",
       "      <td>Zeb1</td>\n",
       "      <td>GAGGGCGCCCAGGTGAGAG</td>\n",
       "      <td>0.179896</td>\n",
       "      <td>0.002135</td>\n",
       "    </tr>\n",
       "    <tr>\n",
       "      <th>filter80</th>\n",
       "      <td>-22.151861</td>\n",
       "      <td>65.889626</td>\n",
       "      <td>112.315020</td>\n",
       "      <td>-75.642330</td>\n",
       "      <td>-12.619161</td>\n",
       "      <td>-44.010838</td>\n",
       "      <td>0.000156</td>\n",
       "      <td>0.000000</td>\n",
       "      <td>0.000000</td>\n",
       "      <td>0.000000</td>\n",
       "      <td>0.000000</td>\n",
       "      <td>0.000000</td>\n",
       "      <td>Lef1</td>\n",
       "      <td>TCAACATCAAAGGAATGAG</td>\n",
       "      <td>0.000000</td>\n",
       "      <td>0.000052</td>\n",
       "    </tr>\n",
       "    <tr>\n",
       "      <th>filter85</th>\n",
       "      <td>61.784233</td>\n",
       "      <td>-37.783226</td>\n",
       "      <td>-8.967288</td>\n",
       "      <td>-72.980740</td>\n",
       "      <td>-63.360405</td>\n",
       "      <td>511.061460</td>\n",
       "      <td>0.000000</td>\n",
       "      <td>0.000000</td>\n",
       "      <td>0.000000</td>\n",
       "      <td>0.000000</td>\n",
       "      <td>0.000000</td>\n",
       "      <td>0.000000</td>\n",
       "      <td>Zkscan1</td>\n",
       "      <td>ATAACGACGTACTTGTCAT</td>\n",
       "      <td>0.000000</td>\n",
       "      <td>0.000000</td>\n",
       "    </tr>\n",
       "    <tr>\n",
       "      <th>filter89</th>\n",
       "      <td>912.284700</td>\n",
       "      <td>-326.811220</td>\n",
       "      <td>-369.424380</td>\n",
       "      <td>317.020700</td>\n",
       "      <td>-192.544780</td>\n",
       "      <td>-224.065350</td>\n",
       "      <td>0.000000</td>\n",
       "      <td>0.000000</td>\n",
       "      <td>0.000000</td>\n",
       "      <td>0.000000</td>\n",
       "      <td>0.000000</td>\n",
       "      <td>0.000000</td>\n",
       "      <td>Irf1</td>\n",
       "      <td>GAAACTGAAACTAAAAAGA</td>\n",
       "      <td>0.000000</td>\n",
       "      <td>0.000000</td>\n",
       "    </tr>\n",
       "    <tr>\n",
       "      <th>filter9</th>\n",
       "      <td>60.308758</td>\n",
       "      <td>284.075960</td>\n",
       "      <td>244.074260</td>\n",
       "      <td>-556.385900</td>\n",
       "      <td>-681.394400</td>\n",
       "      <td>118.931175</td>\n",
       "      <td>0.000156</td>\n",
       "      <td>0.000000</td>\n",
       "      <td>0.000000</td>\n",
       "      <td>0.000000</td>\n",
       "      <td>0.000000</td>\n",
       "      <td>0.000000</td>\n",
       "      <td>MOTIF NOT KNOWN</td>\n",
       "      <td>CGGCTGTACAGTGAACATC</td>\n",
       "      <td>0.000000</td>\n",
       "      <td>0.000052</td>\n",
       "    </tr>\n",
       "    <tr>\n",
       "      <th>filter93</th>\n",
       "      <td>126.470160</td>\n",
       "      <td>152.938840</td>\n",
       "      <td>133.171940</td>\n",
       "      <td>-1480.396000</td>\n",
       "      <td>-10.595131</td>\n",
       "      <td>-150.049180</td>\n",
       "      <td>0.000000</td>\n",
       "      <td>0.053281</td>\n",
       "      <td>0.000313</td>\n",
       "      <td>0.000000</td>\n",
       "      <td>0.000156</td>\n",
       "      <td>0.582812</td>\n",
       "      <td>Zeb1</td>\n",
       "      <td>TCCAGGTGTGTGGCGGCAC</td>\n",
       "      <td>0.212083</td>\n",
       "      <td>0.000104</td>\n",
       "    </tr>\n",
       "    <tr>\n",
       "      <th>filter94</th>\n",
       "      <td>299.651120</td>\n",
       "      <td>-190.432540</td>\n",
       "      <td>-209.271000</td>\n",
       "      <td>419.024230</td>\n",
       "      <td>-181.083240</td>\n",
       "      <td>38.178112</td>\n",
       "      <td>0.000000</td>\n",
       "      <td>0.000000</td>\n",
       "      <td>0.000000</td>\n",
       "      <td>0.000000</td>\n",
       "      <td>0.000000</td>\n",
       "      <td>0.000000</td>\n",
       "      <td>Pu.1</td>\n",
       "      <td>AAACAGAAGTGGAACCTGC</td>\n",
       "      <td>0.000000</td>\n",
       "      <td>0.000000</td>\n",
       "    </tr>\n",
       "    <tr>\n",
       "      <th>filter97</th>\n",
       "      <td>-30.439213</td>\n",
       "      <td>-16.077204</td>\n",
       "      <td>-45.085762</td>\n",
       "      <td>11.360511</td>\n",
       "      <td>1435.126200</td>\n",
       "      <td>-115.958290</td>\n",
       "      <td>0.000000</td>\n",
       "      <td>0.000000</td>\n",
       "      <td>0.000000</td>\n",
       "      <td>0.000156</td>\n",
       "      <td>0.000000</td>\n",
       "      <td>0.000000</td>\n",
       "      <td>Emoes</td>\n",
       "      <td>GTTAGGGACAAAGGTGTGA</td>\n",
       "      <td>0.000000</td>\n",
       "      <td>0.000052</td>\n",
       "    </tr>\n",
       "  </tbody>\n",
       "</table>\n",
       "<p>99 rows × 16 columns</p>\n",
       "</div>"
      ],
      "text/plain": [
       "                 B_be          abT          gdT      myeloid          lym  \\\n",
       "filter1     -2.875371    -3.934621    -4.030415    39.203693    14.286764   \n",
       "filter10  -298.715670   289.613340   302.807530  -402.545170  1702.575600   \n",
       "filter102  -92.425530   -41.337820   -34.300816   412.902130   -53.258330   \n",
       "filter105   32.015620     1.184324    -0.577617     5.427286   -25.466425   \n",
       "filter106   41.984170   -29.547127   -59.325344   -58.681840  1786.195000   \n",
       "filter11     6.453993   461.445500   590.312100 -1090.827300  2191.330800   \n",
       "filter112  852.595600   134.868740  -110.139404  -105.569534  -671.724600   \n",
       "filter115  105.171326    27.599287  -132.369140   106.908990  -337.560000   \n",
       "filter120  -30.515360    76.075900   108.659930  -269.630200   487.639900   \n",
       "filter122    9.672769   -40.479680   -42.842506   175.237820   -16.898901   \n",
       "filter123   88.141450   -23.249561   -16.129984     6.974090   -22.452538   \n",
       "filter124   25.351303   -16.841412   -18.122477    39.266983     8.058704   \n",
       "filter127  -65.947720   -27.171114   -23.227360   145.515500   -43.861195   \n",
       "filter129    0.578147    -6.520480    -5.177493    28.971123   -13.183141   \n",
       "filter132  -87.230990   145.633620   129.832260  -126.984436   -32.712093   \n",
       "filter133  982.289370 -1782.894200 -1883.199000  6015.087400 -1897.476300   \n",
       "filter135   56.525455   -13.946659   -12.708846    -3.672599   -12.630256   \n",
       "filter14   -17.820396    48.697514   -34.152355    62.922500  -146.839540   \n",
       "filter15  -249.606930   251.215200   273.056640  -385.719700  1908.304000   \n",
       "filter151  -10.509944    -5.551601   -24.869066    68.141620    -7.906298   \n",
       "filter154   96.897870    49.982994    62.770245  -112.633170   168.582670   \n",
       "filter155  -44.936080   -10.602892   -20.294264    40.268036   -40.468533   \n",
       "filter157   15.118513   -14.729373   -13.494386    37.789320   -60.167458   \n",
       "filter165  978.618840  -461.289300  -503.302760   794.697900  -410.666800   \n",
       "filter166  -77.918620   191.051760   323.402920  -134.887300    10.721626   \n",
       "filter167  679.583400   -68.411446   -61.337032  -106.236560   -98.015045   \n",
       "filter170   -8.274828   -19.265488   -14.357793    63.113970    12.419596   \n",
       "filter173  -21.936926  -136.056270  -270.565280   295.102780   365.202640   \n",
       "filter174 -830.197270  -657.973600  -614.510800  8623.075000  -541.949800   \n",
       "filter178    4.041891     3.162249     9.829589   -23.577017    75.776140   \n",
       "...               ...          ...          ...          ...          ...   \n",
       "filter284    9.497315   -12.193401   -33.853290    38.898483   -38.013103   \n",
       "filter286  260.093300  -266.953640  -329.842380   632.413900  -328.476380   \n",
       "filter288  -43.288440   -17.227524   -52.165863   -32.823757  2063.216600   \n",
       "filter290   96.194940   -14.877727   -28.236103  -475.077970   157.131940   \n",
       "filter292 -311.860720    -2.673120  -139.760010  1378.156400   135.316740   \n",
       "filter297 -116.069270    98.904780    40.613674    76.926315   181.876000   \n",
       "filter34  -915.336700  -748.164370  -713.563350  9585.634000  -691.092100   \n",
       "filter35   -31.910173   -19.169653   -26.673384    77.755554    19.019650   \n",
       "filter40   641.279500   -71.977450   -17.192854    88.834230  1123.652100   \n",
       "filter43    20.755856    11.402615    18.480116  -217.356600   164.021580   \n",
       "filter44    11.798959    -4.114797    -5.058926    -6.810709    -4.632075   \n",
       "filter47    61.494305    23.920881    24.290056  -201.432860   234.769200   \n",
       "filter50   -16.719501    48.388706    84.973820   -63.632965    64.004906   \n",
       "filter51    39.972935   378.257660   192.618360 -1455.348500  -543.415800   \n",
       "filter6     36.521698   -12.933430   -12.417781    19.288439   -26.009624   \n",
       "filter65   -48.007510   329.864530   359.670930 -1570.568600  -165.653080   \n",
       "filter66     6.433173    -5.486496    -6.738843     2.055244     1.208373   \n",
       "filter67   -48.669330   -25.464073   -28.033094   104.614750  -128.501200   \n",
       "filter68    -1.200563   -12.120286    42.505240   -98.438050  1060.475000   \n",
       "filter69     0.284558     6.872224     8.983022   -48.244614    50.394115   \n",
       "filter70     7.738241   -26.184729   -21.224115    21.564291    62.997780   \n",
       "filter78   364.811100   382.721070   350.257800 -3675.921000   223.137850   \n",
       "filter8     35.533825    80.361550    67.396870  -464.383030    50.632120   \n",
       "filter80   -22.151861    65.889626   112.315020   -75.642330   -12.619161   \n",
       "filter85    61.784233   -37.783226    -8.967288   -72.980740   -63.360405   \n",
       "filter89   912.284700  -326.811220  -369.424380   317.020700  -192.544780   \n",
       "filter9     60.308758   284.075960   244.074260  -556.385900  -681.394400   \n",
       "filter93   126.470160   152.938840   133.171940 -1480.396000   -10.595131   \n",
       "filter94   299.651120  -190.432540  -209.271000   419.024230  -181.083240   \n",
       "filter97   -30.439213   -16.077204   -45.085762    11.360511  1435.126200   \n",
       "\n",
       "                  stem  wgan_generated_sequences_2  \\\n",
       "filter1      -3.645009                    0.000000   \n",
       "filter10    735.223400                    0.000000   \n",
       "filter102  -129.697250                    0.000000   \n",
       "filter105    21.060986                    0.000156   \n",
       "filter106   -86.328690                    0.000000   \n",
       "filter11   1178.589200                    0.000156   \n",
       "filter112  -493.897860                    0.000313   \n",
       "filter115   140.808750                    0.000000   \n",
       "filter120   163.622700                    0.000000   \n",
       "filter122    64.300670                    0.000000   \n",
       "filter123    -5.843300                    0.009375   \n",
       "filter124    28.216183                    0.000000   \n",
       "filter127   192.773590                    0.000000   \n",
       "filter129     3.661765                    0.000156   \n",
       "filter132  -283.836060                    0.000000   \n",
       "filter133  1038.716100                    0.000000   \n",
       "filter135    -7.168982                    0.000000   \n",
       "filter14    -92.804090                    0.000000   \n",
       "filter15    571.720800                    0.000000   \n",
       "filter151    75.671616                    0.000000   \n",
       "filter154  -198.725070                    0.000000   \n",
       "filter155    68.637940                    0.001719   \n",
       "filter157    17.837822                    0.000000   \n",
       "filter165  -307.715760                    0.000000   \n",
       "filter166  -154.216100                    0.000000   \n",
       "filter167   -81.328720                    0.000000   \n",
       "filter170    99.462940                    0.000000   \n",
       "filter173  -135.080600                    0.000781   \n",
       "filter174  -518.655940                    0.000000   \n",
       "filter178   -21.060776                    0.000000   \n",
       "...                ...                         ...   \n",
       "filter284    97.443080                    0.000000   \n",
       "filter286   675.304300                    0.000000   \n",
       "filter288   -88.629230                    0.000469   \n",
       "filter290    -2.767926                    0.000469   \n",
       "filter292  1092.196500                    0.000000   \n",
       "filter297    75.478210                    0.000000   \n",
       "filter34   -584.280150                    0.000000   \n",
       "filter35    923.509770                    0.000156   \n",
       "filter40   -406.008970                    0.000000   \n",
       "filter43   -198.022020                    0.000000   \n",
       "filter44     -7.918937                    0.000000   \n",
       "filter47    127.400290                    0.000000   \n",
       "filter50    -60.159557                    0.000000   \n",
       "filter51   -349.866520                    0.000469   \n",
       "filter6      -7.069177                    0.000000   \n",
       "filter65    169.505920                    0.000000   \n",
       "filter66     26.385870                    0.000000   \n",
       "filter67    -31.734283                    0.000000   \n",
       "filter68    -54.336372                    0.000000   \n",
       "filter69      9.556643                    0.000000   \n",
       "filter70    -10.721879                    0.000313   \n",
       "filter78   -309.840450                    0.001094   \n",
       "filter8    -103.630860                    0.004063   \n",
       "filter80    -44.010838                    0.000156   \n",
       "filter85    511.061460                    0.000000   \n",
       "filter89   -224.065350                    0.000000   \n",
       "filter9     118.931175                    0.000156   \n",
       "filter93   -150.049180                    0.000000   \n",
       "filter94     38.178112                    0.000000   \n",
       "filter97   -115.958290                    0.000000   \n",
       "\n",
       "           fbgan_generated_sequences_1  wgan_generated_sequences_3  \\\n",
       "filter1                       0.000000                    0.000000   \n",
       "filter10                      0.000000                    0.000000   \n",
       "filter102                     0.000000                    0.226406   \n",
       "filter105                     0.000000                    0.000000   \n",
       "filter106                     0.000000                    0.000156   \n",
       "filter11                      0.000000                    0.000313   \n",
       "filter112                     0.038437                    0.000000   \n",
       "filter115                     0.000000                    0.000000   \n",
       "filter120                     0.000000                    0.000000   \n",
       "filter122                     0.000000                    0.019531   \n",
       "filter123                     0.999687                    0.013594   \n",
       "filter124                     0.000000                    0.000000   \n",
       "filter127                     0.000000                    0.000000   \n",
       "filter129                     0.000000                    0.000156   \n",
       "filter132                     0.000000                    0.000000   \n",
       "filter133                     0.000000                    0.000000   \n",
       "filter135                     0.000000                    0.000000   \n",
       "filter14                      0.000000                    0.000000   \n",
       "filter15                      0.000000                    0.000000   \n",
       "filter151                     0.000000                    0.000000   \n",
       "filter154                     0.000000                    0.403125   \n",
       "filter155                     0.000156                    0.000156   \n",
       "filter157                     0.000000                    0.000000   \n",
       "filter165                     0.000000                    0.000000   \n",
       "filter166                     0.000000                    0.000000   \n",
       "filter167                     0.000000                    0.000000   \n",
       "filter170                     0.000000                    0.000000   \n",
       "filter173                     0.000000                    0.013750   \n",
       "filter174                     0.000000                    0.000000   \n",
       "filter178                     0.000000                    0.545469   \n",
       "...                                ...                         ...   \n",
       "filter284                     0.000000                    0.000000   \n",
       "filter286                     0.000000                    0.000000   \n",
       "filter288                     0.000000                    0.000000   \n",
       "filter290                     0.000000                    0.000000   \n",
       "filter292                     0.000000                    0.000000   \n",
       "filter297                     0.000313                    0.000000   \n",
       "filter34                      0.000000                    0.000000   \n",
       "filter35                      0.000000                    0.001563   \n",
       "filter40                      0.000000                    0.000000   \n",
       "filter43                      0.000000                    0.000156   \n",
       "filter44                      0.000000                    0.000000   \n",
       "filter47                      0.001094                    0.000000   \n",
       "filter50                      0.000000                    0.000000   \n",
       "filter51                      0.000000                    0.000469   \n",
       "filter6                       0.988281                    0.000156   \n",
       "filter65                      0.000000                    0.000000   \n",
       "filter66                      0.000000                    0.000000   \n",
       "filter67                      0.987812                    0.000313   \n",
       "filter68                      0.000000                    0.000000   \n",
       "filter69                      0.000000                    0.000000   \n",
       "filter70                      0.001406                    0.000000   \n",
       "filter78                      0.048750                    0.002656   \n",
       "filter8                       0.093281                    0.002344   \n",
       "filter80                      0.000000                    0.000000   \n",
       "filter85                      0.000000                    0.000000   \n",
       "filter89                      0.000000                    0.000000   \n",
       "filter9                       0.000000                    0.000000   \n",
       "filter93                      0.053281                    0.000313   \n",
       "filter94                      0.000000                    0.000000   \n",
       "filter97                      0.000000                    0.000000   \n",
       "\n",
       "           wgan_generated_sequences_1  fbgan_generated_sequences_2  \\\n",
       "filter1                      0.000000                     0.000000   \n",
       "filter10                     0.000000                     0.000000   \n",
       "filter102                    0.000313                     0.000000   \n",
       "filter105                    0.000000                     0.000000   \n",
       "filter106                    0.000000                     0.000000   \n",
       "filter11                     0.000313                     0.000000   \n",
       "filter112                    0.000000                     0.000000   \n",
       "filter115                    0.000000                     0.000000   \n",
       "filter120                    0.000000                     0.000000   \n",
       "filter122                    0.000000                     0.000000   \n",
       "filter123                    0.000156                     0.999687   \n",
       "filter124                    0.000000                     0.000000   \n",
       "filter127                    0.000000                     0.005625   \n",
       "filter129                    0.000000                     0.000000   \n",
       "filter132                    0.000000                     0.000000   \n",
       "filter133                    0.000000                     0.000000   \n",
       "filter135                    0.000000                     0.000000   \n",
       "filter14                     0.000000                     0.000000   \n",
       "filter15                     0.000156                     0.000000   \n",
       "filter151                    0.000000                     0.000313   \n",
       "filter154                    0.024688                     0.000000   \n",
       "filter155                    0.000469                     0.003281   \n",
       "filter157                    0.000000                     0.000156   \n",
       "filter165                    0.000000                     0.000000   \n",
       "filter166                    0.000000                     0.000000   \n",
       "filter167                    0.000000                     0.000000   \n",
       "filter170                    0.000000                     0.000000   \n",
       "filter173                    0.000000                     0.849375   \n",
       "filter174                    0.000000                     0.000000   \n",
       "filter178                    0.005156                     0.000156   \n",
       "...                               ...                          ...   \n",
       "filter284                    0.000000                     0.000000   \n",
       "filter286                    0.000000                     0.000000   \n",
       "filter288                    0.000156                     0.000000   \n",
       "filter290                    0.000313                     0.368281   \n",
       "filter292                    0.000000                     0.000000   \n",
       "filter297                    0.000000                     0.014687   \n",
       "filter34                     0.000000                     0.000000   \n",
       "filter35                     0.000156                     0.000000   \n",
       "filter40                     0.000000                     0.000000   \n",
       "filter43                     0.000000                     0.001875   \n",
       "filter44                     0.000000                     0.000000   \n",
       "filter47                     0.000000                     0.000000   \n",
       "filter50                     0.000000                     0.000000   \n",
       "filter51                     0.000000                     0.000469   \n",
       "filter6                      0.000000                     0.000000   \n",
       "filter65                     0.000156                     0.000000   \n",
       "filter66                     0.000000                     0.000000   \n",
       "filter67                     0.000000                     0.000000   \n",
       "filter68                     0.000000                     0.000000   \n",
       "filter69                     0.000000                     0.000000   \n",
       "filter70                     0.000000                     0.035937   \n",
       "filter78                     0.000000                     0.034688   \n",
       "filter8                      0.000000                     0.063281   \n",
       "filter80                     0.000000                     0.000000   \n",
       "filter85                     0.000000                     0.000000   \n",
       "filter89                     0.000000                     0.000000   \n",
       "filter9                      0.000000                     0.000000   \n",
       "filter93                     0.000000                     0.000156   \n",
       "filter94                     0.000000                     0.000000   \n",
       "filter97                     0.000156                     0.000000   \n",
       "\n",
       "           fbgan_generated_sequences_3 Best overall TF match  \\\n",
       "filter1                       0.000000                  Atf3   \n",
       "filter10                      0.000000                  Runx   \n",
       "filter102                     0.015938       MOTIF NOT KNOWN   \n",
       "filter105                     0.000000       MOTIF NOT KNOWN   \n",
       "filter106                     0.000000                 Tbx21   \n",
       "filter11                      0.016250                  Ets1   \n",
       "filter112                     0.887656                  Tcf3   \n",
       "filter115                     0.000000                   Hlx   \n",
       "filter120                     0.000000                   Ets   \n",
       "filter122                     0.003438                 Ellf1   \n",
       "filter123                     0.309844                  Ebf1   \n",
       "filter124                     0.000000       MOTIF NOT KNOWN   \n",
       "filter127                     0.014687       MOTIF NOT KNOWN   \n",
       "filter129                     0.000000                 Nr2f6   \n",
       "filter132                     0.568750       MOTIF NOT KNOWN   \n",
       "filter133                     0.000000                 Sfpi1   \n",
       "filter135                     0.000000                Pou2f2   \n",
       "filter14                      0.000000                 Sox13   \n",
       "filter15                      0.000000                  Runx   \n",
       "filter151                     0.012031       MOTIF NOT KNOWN   \n",
       "filter154                     0.000000                    Sp   \n",
       "filter155                     0.005938       MOTIF NOT KNOWN   \n",
       "filter157                     0.000000       MOTIF NOT KNOWN   \n",
       "filter165                     0.000000                  Irf1   \n",
       "filter166                     0.000000                  Lef1   \n",
       "filter167                     0.000000                  Pax5   \n",
       "filter170                     0.000000       MOTIF NOT KNOWN   \n",
       "filter173                     0.982812               C2H2 ZF   \n",
       "filter174                     0.000000                  Cebp   \n",
       "filter178                     0.001875                    Sp   \n",
       "...                                ...                   ...   \n",
       "filter284                     0.000000           Homeodomain   \n",
       "filter286                     0.000000                 Sfpi1   \n",
       "filter288                     0.000000                 Emoes   \n",
       "filter290                     0.040469                  Mafg   \n",
       "filter292                     0.000000                   Fos   \n",
       "filter297                     0.001875                 Mecp2   \n",
       "filter34                      0.000000                  Cebp   \n",
       "filter35                      0.097187                  Nfix   \n",
       "filter40                      0.000000       MOTIF NOT KNOWN   \n",
       "filter43                      0.287500                  bZip   \n",
       "filter44                      0.000000                Pouf2f   \n",
       "filter47                      0.000000                  Runx   \n",
       "filter50                      0.000000                  Lef1   \n",
       "filter51                      0.761875                  bZip   \n",
       "filter6                       0.000000                  Ebf1   \n",
       "filter65                      0.000000                 Nfkb1   \n",
       "filter66                      0.092500       MOTIF NOT KNOWN   \n",
       "filter67                      0.000000                  Mzf1   \n",
       "filter68                      0.000000                 Nr1d1   \n",
       "filter69                      0.000000                  Ctcf   \n",
       "filter70                      0.081719       MOTIF NOT KNOWN   \n",
       "filter78                      0.666875                  Tcf3   \n",
       "filter8                       0.383125                  Zeb1   \n",
       "filter80                      0.000000                  Lef1   \n",
       "filter85                      0.000000               Zkscan1   \n",
       "filter89                      0.000000                  Irf1   \n",
       "filter9                       0.000000       MOTIF NOT KNOWN   \n",
       "filter93                      0.582812                  Zeb1   \n",
       "filter94                      0.000000                  Pu.1   \n",
       "filter97                      0.000000                 Emoes   \n",
       "\n",
       "          Motif consensus Sequence  B_generated   general  \n",
       "filter1        TGAAGGATACGACGACATG     0.000000  0.000000  \n",
       "filter10       TTTGTGGTTTGAATTGTAA     0.000000  0.000000  \n",
       "filter102      CACCTCCCAGCCTTCTCCC     0.005313  0.075573  \n",
       "filter105      AAGAAGAAGAAAGAAAGGA     0.000000  0.000052  \n",
       "filter106      GAAAAAAAGGAAGTGTGAA     0.000000  0.000052  \n",
       "filter11       AGACAGGAAGTGGGTGTGG     0.005417  0.000260  \n",
       "filter112      AGCCGAAGCAGCTGTTCGC     0.308698  0.000104  \n",
       "filter115      AGCCCTCAGAGTCATTCAA     0.000000  0.000000  \n",
       "filter120      CCCACCCACTTCCGGTCTG     0.000000  0.000000  \n",
       "filter122      TCAGGAAGTGACAGGGATG     0.001146  0.006510  \n",
       "filter123      CCTGAGGCCTCCAGGGGGG     0.769740  0.007708  \n",
       "filter124      TACCCTAAAGTAATGAACC     0.000000  0.000000  \n",
       "filter127      TGGGCCCCGTTCCAGATGT     0.006771  0.000000  \n",
       "filter129      CCAGGTCAGTCATTGGACC     0.000000  0.000104  \n",
       "filter132      TATCTAGAGCAGCAGCTGC     0.189583  0.000000  \n",
       "filter133      TTTTCACTTCCCCTTTTTT     0.000000  0.000000  \n",
       "filter135      CTCCTTCATGCAAATAACC     0.000000  0.000000  \n",
       "filter14       GGACACACTTCTCAATCAT     0.000000  0.000000  \n",
       "filter15       AAACCACAAAAACAAAAAA     0.000000  0.000052  \n",
       "filter151      CGCTGAGGCAGCAGGTTCC     0.004115  0.000000  \n",
       "filter154      GGGGGGGGGGTGGGGGGGT     0.000000  0.142604  \n",
       "filter155      CAGTCAGGAGAGTGATGCA     0.003125  0.000781  \n",
       "filter157      TTCCTCTTGTCAAGAGGCC     0.000052  0.000000  \n",
       "filter165      TAGTTTCAGTTCCTCTTTT     0.000000  0.000000  \n",
       "filter166      TTAATTCCTTTGATGTGGT     0.000000  0.000000  \n",
       "filter167      TGGTCACTCAAGCGTGACA     0.000000  0.000000  \n",
       "filter170      CACAACACTTGATATGATG     0.000000  0.000000  \n",
       "filter173      GTGGCCAGCGGGGGGGGGC     0.610729  0.004844  \n",
       "filter174      TATTGCGCAATACTTTATT     0.000000  0.000000  \n",
       "filter178      CGAAGGAGGTGGGGCAGGT     0.000677  0.183542  \n",
       "...                            ...          ...       ...  \n",
       "filter284      GTGAAGCATAGCTACATCG     0.000000  0.000000  \n",
       "filter286      CTATCTTACTTCCTCTTTT     0.000000  0.000000  \n",
       "filter288      CAACTGGATTTCACACCTT     0.000000  0.000208  \n",
       "filter290      TCATGCTGTGAGCATCATC     0.136250  0.000260  \n",
       "filter292      ATGAGTCATCACTTTACAC     0.000000  0.000000  \n",
       "filter297      CACTGACTGTGGTATTGAG     0.005625  0.000000  \n",
       "filter34       TGAGAAGATATTACGTAAT     0.000000  0.000000  \n",
       "filter35       AGTCTTGGCACGCTGCCAA     0.032396  0.000625  \n",
       "filter40       TTTTTCCAAGTTCTTTTTT     0.000000  0.000000  \n",
       "filter43       TCTGGCAGCAGTGAGAAGG     0.096458  0.000052  \n",
       "filter44       CACCAAGAATATGCATACA     0.000000  0.000000  \n",
       "filter47       AGAGGTGTCTGTGGTTTGT     0.000365  0.000000  \n",
       "filter50       TGCCGACTTCAAAGACCAC     0.000000  0.000000  \n",
       "filter51       AGTTCAGCAGACTGCAGCC     0.254115  0.000313  \n",
       "filter6        TTTCCCAATGGAATTTAAG     0.329427  0.000052  \n",
       "filter65       TGGAAATAACCTCTCGATT     0.000000  0.000052  \n",
       "filter66       GGCCTGCTAATCTTACCTT     0.030833  0.000000  \n",
       "filter67       ACCCTTGGGATAATAGGTG     0.329271  0.000104  \n",
       "filter68       GTAACTAGGTCAGTGTGAA     0.000000  0.000000  \n",
       "filter69       GTCCACTAGGTGGCACTCT     0.000000  0.000000  \n",
       "filter70       GGTCCACTGGACCGTTCCA     0.039688  0.000104  \n",
       "filter78       CACACACCTGTCTCCCTGG     0.250104  0.001250  \n",
       "filter8        GAGGGCGCCCAGGTGAGAG     0.179896  0.002135  \n",
       "filter80       TCAACATCAAAGGAATGAG     0.000000  0.000052  \n",
       "filter85       ATAACGACGTACTTGTCAT     0.000000  0.000000  \n",
       "filter89       GAAACTGAAACTAAAAAGA     0.000000  0.000000  \n",
       "filter9        CGGCTGTACAGTGAACATC     0.000000  0.000052  \n",
       "filter93       TCCAGGTGTGTGGCGGCAC     0.212083  0.000104  \n",
       "filter94       AAACAGAAGTGGAACCTGC     0.000000  0.000000  \n",
       "filter97       GTTAGGGACAAAGGTGTGA     0.000000  0.000052  \n",
       "\n",
       "[99 rows x 16 columns]"
      ]
     },
     "execution_count": 21,
     "metadata": {},
     "output_type": "execute_result"
    }
   ],
   "source": [
    "comparaison_s"
   ]
  },
  {
   "cell_type": "markdown",
   "metadata": {},
   "source": [
    "## Using Sasha Activation Scores"
   ]
  },
  {
   "cell_type": "code",
   "execution_count": 22,
   "metadata": {
    "ExecuteTime": {
     "end_time": "2020-04-22T13:24:51.595914Z",
     "start_time": "2020-04-22T13:24:51.092340Z"
    },
    "scrolled": false
   },
   "outputs": [
    {
     "data": {
      "image/png": "[encoded data removed]",
      "text/plain": [
       "<Figure size 1440x1080 with 1 Axes>"
      ]
     },
     "metadata": {
      "needs_background": "light"
     },
     "output_type": "display_data"
    }
   ],
   "source": [
    "s_importance = pd.read_csv(PDBX+'data/sasha_ATAC/influence_bylineage_signed.csv',index_col=0)\n",
    "\n",
    "comparaison_s = pd.merge(s_importance,\n",
    "                        generated_smotifs,\n",
    "                        left_index=True, right_index=True,\n",
    "                        suffixes=('_be','_generated'), how='left')\n",
    "\n",
    "comparaison_s = comparaison_s.fillna(0)\n",
    "aga = pd.merge(comparaison_s,table[['Reproducibility']], left_index=True, right_index=True)\n",
    "ct = 'B'\n",
    "draw_scatter_importance(aga, ct+'_be', 'general', \"AI-TAC's Importance Metric\",\"Percentage of Presence DNA-GEN\" )\n",
    "plt.title('{} : {}'.format(run, ct))\n",
    "plt.show()"
   ]
  },
  {
   "cell_type": "code",
   "execution_count": null,
   "metadata": {},
   "outputs": [],
   "source": [
    "s_importance = pd.read_csv(PDBX+'data/sasha_ATAC/influence_bylineage_signed.csv',index_col=0)\n",
    "\n",
    "comparaison_s = pd.merge(s_importance,\n",
    "                        generated_smotifs,\n",
    "                        left_index=True, right_index=True,\n",
    "                        suffixes=('_be','_generated'), how='left')\n",
    "\n",
    "comparaison_s = comparaison_s.fillna(0)\n",
    "aga = pd.merge(comparaison_s,table[['Reproducibility']], left_index=True, right_index=True)\n",
    "    \n",
    "for ct in generated_smotifs.drop(columns=['Best overall TF match', 'Motif consensus Sequence']).columns :\n",
    "    if 'shuffled' not in ct :\n",
    "        draw_scatter_importance(aga, ct+'_be', ct+'_generated', \"AI-TAC's Importance Metric\",\"Percentage of Presence DNA-GEN\" )\n",
    "    else : \n",
    "        draw_scatter_importance(aga, ct.replace('shuffled','')+'be', ct, \"AI-TAC's Importance Metric\",\"Percentage of Presence DNA-GEN\" )        \n",
    "    plt.title('{} : {}'.format(run, ct))\n",
    "    plt.show()"
   ]
  },
  {
   "cell_type": "code",
   "execution_count": 93,
   "metadata": {
    "ExecuteTime": {
     "end_time": "2020-04-14T10:50:27.164519Z",
     "start_time": "2020-04-14T10:50:27.135146Z"
    }
   },
   "outputs": [
    {
     "data": {
      "text/plain": [
       "0.00203125"
      ]
     },
     "execution_count": 93,
     "metadata": {},
     "output_type": "execute_result"
    }
   ],
   "source": [
    "comparaison_s['B_generated'].max()"
   ]
  },
  {
   "cell_type": "code",
   "execution_count": null,
   "metadata": {},
   "outputs": [],
   "source": []
  },
  {
   "cell_type": "markdown",
   "metadata": {},
   "source": [
    "## Using Basset E Activation Scores"
   ]
  },
  {
   "cell_type": "code",
   "execution_count": 24,
   "metadata": {
    "ExecuteTime": {
     "end_time": "2020-04-22T13:25:57.991311Z",
     "start_time": "2020-04-22T13:25:57.538911Z"
    }
   },
   "outputs": [
    {
     "data": {
      "image/png": "[encoded data removed]",
      "text/plain": [
       "<Figure size 1440x1080 with 1 Axes>"
      ]
     },
     "metadata": {
      "needs_background": "light"
     },
     "output_type": "display_data"
    }
   ],
   "source": [
    "be_importance = pd.read_csv(PDBX+'data/sasha_ATAC/Activation_BassetE_FilterS.csv',index_col=0).drop(columns=['Best overall TF match','Motif consensus Sequence'])\n",
    "\n",
    "comparaison_be = pd.merge(be_importance,\n",
    "                       generated_smotifs,\n",
    "                       left_index=True, right_index=True, suffixes=('_be','_generated'), how='left')\n",
    "comparaison_be = comparaison_be.fillna(0)\n",
    "aga = pd.merge(comparaison_be,table[['Reproducibility']], left_index=True, right_index=True)\n",
    "draw_scatter_importance(aga, 'B_be', 'general', \"Average Basset-E Importance Score\",\"Percentage of Presence DNA-GEN\" )"
   ]
  }
 ],
 "metadata": {
  "kernelspec": {
   "display_name": "Python 3",
   "language": "python",
   "name": "python3"
  },
  "language_info": {
   "codemirror_mode": {
    "name": "ipython",
    "version": 3
   },
   "file_extension": ".py",
   "mimetype": "text/x-python",
   "name": "python",
   "nbconvert_exporter": "python",
   "pygments_lexer": "ipython3",
   "version": "3.6.9"
  },
  "nteract": {
   "version": "nteract-on-jupyter@2.1.3"
  }
 },
 "nbformat": 4,
 "nbformat_minor": 2
}
