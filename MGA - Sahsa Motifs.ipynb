{
 "cells": [
  {
   "cell_type": "code",
   "execution_count": 1,
   "metadata": {},
   "outputs": [],
   "source": [
    "%load_ext autoreload\n",
    "%autoreload 2"
   ]
  },
  {
   "cell_type": "code",
   "execution_count": 2,
   "metadata": {},
   "outputs": [],
   "source": [
    "import pandas as pd\n",
    "import plotly.graph_objects as go\n",
    "from ipywidgets import interact_manual, widgets\n",
    "import torch\n",
    "import sys\n",
    "import os\n",
    "sys.path.append(os.path.expanduser('~/Desktop/Basset_E/'))\n",
    "from sample.utils.load_model import load_model_E\n",
    "import numpy as np\n",
    "from Interpretation.utils import *\n",
    "import json\n",
    "import seaborn as sns"
   ]
  },
  {
   "cell_type": "code",
   "execution_count": 7,
   "metadata": {},
   "outputs": [],
   "source": [
    "table  = pd.read_excel(PDBX+'data/tableS1A.xlsx',index_col=1)\n",
    "a = table.iloc[0]\n",
    "table = table[1:]\n",
    "table.columns = a"
   ]
  },
  {
   "cell_type": "markdown",
   "metadata": {},
   "source": [
    "\n",
    "# Data Loading"
   ]
  },
  {
   "cell_type": "code",
   "execution_count": 13,
   "metadata": {},
   "outputs": [
    {
     "name": "stdout",
     "output_type": "stream",
     "text": [
      " Activation_BassetE_FilterS.csv   influence_motifs_sasha.csv\r\n",
      " CellOrderFinal.csv               one_hot_seqs.npy\r\n",
      " cell_type_array.npy              peak_names.npy\r\n",
      " cell_type_names.npy              perm_one_hot_seqs.npy\r\n",
      " cell_type_names.txt             'Sasha M - correlations.npy'\r\n",
      " cell_types_name.h5              'Sasha M - test_labels.npy'\r\n",
      " clusters_cell_types.json        'Sasha M - test_OCR_names.npy'\r\n",
      " deeplift_motifs.meme            'Sasha M - test_sequences.npy'\r\n",
      " deeplift_summary_sasha.csv      'Sasha M - train_labels.npy'\r\n",
      " filter_motifs_pwm99.meme        'Sasha M - train_sequences.npy'\r\n",
      " influence_bylineage_signed.csv   tableS1A.xlsx\r\n"
     ]
    }
   ],
   "source": [
    "ls /home/emeunier/Dropbox/UBC/data/sasha_ATAC/"
   ]
  },
  {
   "cell_type": "code",
   "execution_count": 14,
   "metadata": {},
   "outputs": [],
   "source": [
    "run = '/home/emeunier/Dropbox/UBC/data/Runs_GA/Random_Population'\n",
    "run2 = '/home/emeunier/Dropbox/UBC/data/Runs_GA/Run_28_11_F_10In_100It'\n",
    "\n",
    "# Sasha motifs generated count\n",
    "generated_smotifs = pd.read_csv('{}/global_count_motifs_sasha.csv'.format(run),index_col=0)\n",
    "generated_smotifs_2 = pd.read_csv('{}/global_count_motifs_sasha.csv'.format(run2),index_col=0)\n",
    "\n",
    "# Load Model ( please use the same as the one for motif generation)\n",
    "t = torch.load(os.path.expanduser('~/Dropbox/UBC/Models/Basset_2019-11-04_19_23_35/model_loss_0.68.tar'))\n",
    "m, _ = load_model_E()\n",
    "m.load_state_dict(t['model_state_dict'])\n",
    "m.eval();\n",
    "activation = lambda x : 8*torch.sigmoid(x)+1\n",
    "# Load Data\n",
    "x = np.load(os.path.expanduser(os.path.expanduser('~/Dropbox/UBC/data/sasha_ATAC/perm_one_hot_seqs.npy'))) #load permuted sequences\n",
    "x = x.astype(np.float32)"
   ]
  },
  {
   "cell_type": "code",
   "execution_count": 15,
   "metadata": {},
   "outputs": [],
   "source": [
    "groups_publi = {'B':'B', 'myeloid':['DC','MF','Mo','GN'], 'innate.lym':'ILC', 'stem':'Stem', 'abT':'abT', 'gdT':'gdT'}\n",
    "colors_groups = {'B':\"rgb(232,177,21)\", 'myeloid':\"rgb(228,40,141)\", 'innate.lym':\"rgb(115,196,79)\", 'stem':\"rgb(201,201,201)\", 'abT':\"rgb(250,107,68)\", 'gdT':\"rgb(95,115,160)\"}"
   ]
  },
  {
   "cell_type": "markdown",
   "metadata": {},
   "source": [
    "# Analysis"
   ]
  },
  {
   "cell_type": "markdown",
   "metadata": {},
   "source": [
    "\n",
    "## Generated Sequences Analysis"
   ]
  },
  {
   "cell_type": "code",
   "execution_count": 4,
   "metadata": {},
   "outputs": [
    {
     "data": {
      "application/vnd.jupyter.widget-view+json": {
       "model_id": "26647f6584ef4d6e8aa6dd209cd08fc7",
       "version_major": 2,
       "version_minor": 0
      },
      "text/plain": [
       "interactive(children=(Dropdown(description='ct', options=('Random',), value='Random'), Button(description='Run…"
      ]
     },
     "metadata": {},
     "output_type": "display_data"
    }
   ],
   "source": [
    "@interact_manual\n",
    "def motif_frequence_sasha(ct = generated_smotifs.drop(columns=['Best overall TF match','Motif consensus Sequence']).columns) :\n",
    "    go.Figure(go.Bar(y = generated_smotifs[ct], x =generated_smotifs.index)).show()"
   ]
  },
  {
   "cell_type": "code",
   "execution_count": 17,
   "metadata": {},
   "outputs": [
    {
     "data": {
      "application/vnd.jupyter.widget-view+json": {
       "model_id": "ab040ae514b44afeb99089debc562ad1",
       "version_major": 2,
       "version_minor": 0
      },
      "text/plain": [
       "interactive(children=(Dropdown(description='motif', options=('filter173', 'filter242', 'filter43', 'filter123'…"
      ]
     },
     "metadata": {},
     "output_type": "display_data"
    }
   ],
   "source": [
    "@interact_manual\n",
    "def motifs_influence_sasha(motif=generated_smotifs.drop(columns=['Best overall TF match','Motif consensus Sequence']).max(axis=1).sort_values(ascending=False).index) :\n",
    "    dfr = generated_smotifs.drop(columns= ['Best overall TF match','Motif consensus Sequence']).loc[motif]\n",
    "    fig = go.Figure()\n",
    "    fig.update_layout(title=\" Presence of the motif in Generated Sequences : \\n Filter : {} Motif : {} Length : {}\".format(motif,generated_smotifs.loc[motif,'Best overall TF match'],len(generated_smotifs.loc[motif,'Motif consensus Sequence'])))\n",
    "    fig.add_trace(go.Bar(x=dfr.index, y=dfr, name='generated'))\n",
    "    fig.update_layout({\n",
    "                           'yaxis': {'title': 'Presence', 'range': [0, 1]},\n",
    "                           'barmode': 'relative'\n",
    "                      })\n",
    "    fig.show()\n",
    "    h, b, _ = simulate(m, activation, x, motif_string=generated_smotifs.loc[motif,'Motif consensus Sequence'])\n",
    "    b.update_layout({\n",
    "                           'yaxis': {'title': 'Activation Motif', 'range': [1, 9]},\n",
    "                           'barmode': 'relative'\n",
    "                      })\n",
    "    b.update_layout(title=\"Influence of the motif on the activation score\")\n",
    "    b.show()\n",
    "    h.show()"
   ]
  },
  {
   "cell_type": "markdown",
   "metadata": {
    "heading_collapsed": true
   },
   "source": [
    "## Compare Motif Importance - Sasha Importance Score"
   ]
  },
  {
   "cell_type": "code",
   "execution_count": 39,
   "metadata": {
    "hidden": true
   },
   "outputs": [],
   "source": [
    "sasha_importance = pd.read_csv(os.path.expanduser('~/Dropbox/UBC/data/influence_bylineage_signed.csv'),index_col=0)"
   ]
  },
  {
   "cell_type": "code",
   "execution_count": 40,
   "metadata": {
    "hidden": true
   },
   "outputs": [
    {
     "data": {
      "application/vnd.plotly.v1+json": {
       "config": {
        "plotlyServerURL": "https://plot.ly"
       },
       "data": [
        {
         "type": "bar",
         "x": [
          "filter1",
          "filter10",
          "filter102",
          "filter105",
          "filter106",
          "filter11",
          "filter112",
          "filter115",
          "filter120",
          "filter122",
          "filter123",
          "filter124",
          "filter127",
          "filter129",
          "filter132",
          "filter133",
          "filter135",
          "filter14",
          "filter15",
          "filter151",
          "filter154",
          "filter155",
          "filter157",
          "filter165",
          "filter166",
          "filter167",
          "filter170",
          "filter173",
          "filter174",
          "filter178",
          "filter183",
          "filter185",
          "filter186",
          "filter190",
          "filter194",
          "filter195",
          "filter196",
          "filter198",
          "filter202",
          "filter205",
          "filter209",
          "filter214",
          "filter217",
          "filter218",
          "filter219",
          "filter220",
          "filter223",
          "filter224",
          "filter227",
          "filter23",
          "filter230",
          "filter231",
          "filter238",
          "filter242",
          "filter244",
          "filter247",
          "filter250",
          "filter252",
          "filter255",
          "filter257",
          "filter260",
          "filter264",
          "filter270",
          "filter275",
          "filter276",
          "filter279",
          "filter28",
          "filter281",
          "filter283",
          "filter284",
          "filter286",
          "filter288",
          "filter290",
          "filter292",
          "filter297",
          "filter34",
          "filter35",
          "filter40",
          "filter43",
          "filter44",
          "filter47",
          "filter50",
          "filter51",
          "filter6",
          "filter65",
          "filter66",
          "filter67",
          "filter68",
          "filter69",
          "filter70",
          "filter78",
          "filter8",
          "filter80",
          "filter85",
          "filter89",
          "filter9",
          "filter93",
          "filter94",
          "filter97"
         ],
         "y": [
          39.203693,
          -402.54517000000004,
          412.90213,
          5.4272860000000005,
          -58.68184,
          -1090.8273,
          -105.569534,
          106.90898999999999,
          -269.6302,
          175.23782,
          6.974089599999999,
          39.266983,
          145.5155,
          28.971123,
          -126.98443600000002,
          6015.0874,
          -3.6725992999999995,
          62.9225,
          -385.7197,
          68.14161999999999,
          -112.63316999999999,
          40.268035999999995,
          37.789320000000004,
          794.6979,
          -134.8873,
          -106.23656000000001,
          63.113969999999995,
          295.10278,
          8623.075,
          -23.577017,
          328.21477999999996,
          29.690072999999998,
          27.466115999999996,
          -148.02827,
          460.04967999999997,
          -271.9715,
          1.8906319,
          -190.51486,
          13.997015,
          881.9212,
          159.18407,
          -39.94068,
          -157.4451,
          -96.44976,
          -133.45335,
          390.2719,
          10.593132,
          105.91546000000001,
          283.76926000000003,
          -137.49591,
          1166.76,
          -164.51413,
          356.8812,
          620.58093,
          -3.1504812,
          -59.946380000000005,
          96.586395,
          -550.0134,
          10499.1875,
          -19.060497,
          -230.21184,
          -1406.8064,
          -148.21945,
          -112.58523999999998,
          333.07358,
          70.45238499999999,
          -158.83209,
          51.96349,
          -79.38781999999999,
          38.898483,
          632.4139,
          -32.823757,
          -475.07797,
          1378.1564,
          76.926315,
          9585.634,
          77.755554,
          88.83423,
          -217.3566,
          -6.8107085000000005,
          -201.43286,
          -63.632965000000006,
          -1455.3485,
          19.288439,
          -1570.5686,
          2.055244,
          104.61475,
          -98.43805,
          -48.244614,
          21.564291,
          -3675.921,
          -464.38302999999996,
          -75.64233,
          -72.98074,
          317.0207,
          -556.3859,
          -1480.396,
          419.02423,
          11.360511
         ]
        }
       ],
       "layout": {
        "template": {
         "data": {
          "bar": [
           {
            "error_x": {
             "color": "#2a3f5f"
            },
            "error_y": {
             "color": "#2a3f5f"
            },
            "marker": {
             "line": {
              "color": "#E5ECF6",
              "width": 0.5
             }
            },
            "type": "bar"
           }
          ],
          "barpolar": [
           {
            "marker": {
             "line": {
              "color": "#E5ECF6",
              "width": 0.5
             }
            },
            "type": "barpolar"
           }
          ],
          "carpet": [
           {
            "aaxis": {
             "endlinecolor": "#2a3f5f",
             "gridcolor": "white",
             "linecolor": "white",
             "minorgridcolor": "white",
             "startlinecolor": "#2a3f5f"
            },
            "baxis": {
             "endlinecolor": "#2a3f5f",
             "gridcolor": "white",
             "linecolor": "white",
             "minorgridcolor": "white",
             "startlinecolor": "#2a3f5f"
            },
            "type": "carpet"
           }
          ],
          "choropleth": [
           {
            "colorbar": {
             "outlinewidth": 0,
             "ticks": ""
            },
            "type": "choropleth"
           }
          ],
          "contour": [
           {
            "colorbar": {
             "outlinewidth": 0,
             "ticks": ""
            },
            "colorscale": [
             [
              0,
              "#0d0887"
             ],
             [
              0.1111111111111111,
              "#46039f"
             ],
             [
              0.2222222222222222,
              "#7201a8"
             ],
             [
              0.3333333333333333,
              "#9c179e"
             ],
             [
              0.4444444444444444,
              "#bd3786"
             ],
             [
              0.5555555555555556,
              "#d8576b"
             ],
             [
              0.6666666666666666,
              "#ed7953"
             ],
             [
              0.7777777777777778,
              "#fb9f3a"
             ],
             [
              0.8888888888888888,
              "#fdca26"
             ],
             [
              1,
              "#f0f921"
             ]
            ],
            "type": "contour"
           }
          ],
          "contourcarpet": [
           {
            "colorbar": {
             "outlinewidth": 0,
             "ticks": ""
            },
            "type": "contourcarpet"
           }
          ],
          "heatmap": [
           {
            "colorbar": {
             "outlinewidth": 0,
             "ticks": ""
            },
            "colorscale": [
             [
              0,
              "#0d0887"
             ],
             [
              0.1111111111111111,
              "#46039f"
             ],
             [
              0.2222222222222222,
              "#7201a8"
             ],
             [
              0.3333333333333333,
              "#9c179e"
             ],
             [
              0.4444444444444444,
              "#bd3786"
             ],
             [
              0.5555555555555556,
              "#d8576b"
             ],
             [
              0.6666666666666666,
              "#ed7953"
             ],
             [
              0.7777777777777778,
              "#fb9f3a"
             ],
             [
              0.8888888888888888,
              "#fdca26"
             ],
             [
              1,
              "#f0f921"
             ]
            ],
            "type": "heatmap"
           }
          ],
          "heatmapgl": [
           {
            "colorbar": {
             "outlinewidth": 0,
             "ticks": ""
            },
            "colorscale": [
             [
              0,
              "#0d0887"
             ],
             [
              0.1111111111111111,
              "#46039f"
             ],
             [
              0.2222222222222222,
              "#7201a8"
             ],
             [
              0.3333333333333333,
              "#9c179e"
             ],
             [
              0.4444444444444444,
              "#bd3786"
             ],
             [
              0.5555555555555556,
              "#d8576b"
             ],
             [
              0.6666666666666666,
              "#ed7953"
             ],
             [
              0.7777777777777778,
              "#fb9f3a"
             ],
             [
              0.8888888888888888,
              "#fdca26"
             ],
             [
              1,
              "#f0f921"
             ]
            ],
            "type": "heatmapgl"
           }
          ],
          "histogram": [
           {
            "marker": {
             "colorbar": {
              "outlinewidth": 0,
              "ticks": ""
             }
            },
            "type": "histogram"
           }
          ],
          "histogram2d": [
           {
            "colorbar": {
             "outlinewidth": 0,
             "ticks": ""
            },
            "colorscale": [
             [
              0,
              "#0d0887"
             ],
             [
              0.1111111111111111,
              "#46039f"
             ],
             [
              0.2222222222222222,
              "#7201a8"
             ],
             [
              0.3333333333333333,
              "#9c179e"
             ],
             [
              0.4444444444444444,
              "#bd3786"
             ],
             [
              0.5555555555555556,
              "#d8576b"
             ],
             [
              0.6666666666666666,
              "#ed7953"
             ],
             [
              0.7777777777777778,
              "#fb9f3a"
             ],
             [
              0.8888888888888888,
              "#fdca26"
             ],
             [
              1,
              "#f0f921"
             ]
            ],
            "type": "histogram2d"
           }
          ],
          "histogram2dcontour": [
           {
            "colorbar": {
             "outlinewidth": 0,
             "ticks": ""
            },
            "colorscale": [
             [
              0,
              "#0d0887"
             ],
             [
              0.1111111111111111,
              "#46039f"
             ],
             [
              0.2222222222222222,
              "#7201a8"
             ],
             [
              0.3333333333333333,
              "#9c179e"
             ],
             [
              0.4444444444444444,
              "#bd3786"
             ],
             [
              0.5555555555555556,
              "#d8576b"
             ],
             [
              0.6666666666666666,
              "#ed7953"
             ],
             [
              0.7777777777777778,
              "#fb9f3a"
             ],
             [
              0.8888888888888888,
              "#fdca26"
             ],
             [
              1,
              "#f0f921"
             ]
            ],
            "type": "histogram2dcontour"
           }
          ],
          "mesh3d": [
           {
            "colorbar": {
             "outlinewidth": 0,
             "ticks": ""
            },
            "type": "mesh3d"
           }
          ],
          "parcoords": [
           {
            "line": {
             "colorbar": {
              "outlinewidth": 0,
              "ticks": ""
             }
            },
            "type": "parcoords"
           }
          ],
          "pie": [
           {
            "automargin": true,
            "type": "pie"
           }
          ],
          "scatter": [
           {
            "marker": {
             "colorbar": {
              "outlinewidth": 0,
              "ticks": ""
             }
            },
            "type": "scatter"
           }
          ],
          "scatter3d": [
           {
            "line": {
             "colorbar": {
              "outlinewidth": 0,
              "ticks": ""
             }
            },
            "marker": {
             "colorbar": {
              "outlinewidth": 0,
              "ticks": ""
             }
            },
            "type": "scatter3d"
           }
          ],
          "scattercarpet": [
           {
            "marker": {
             "colorbar": {
              "outlinewidth": 0,
              "ticks": ""
             }
            },
            "type": "scattercarpet"
           }
          ],
          "scattergeo": [
           {
            "marker": {
             "colorbar": {
              "outlinewidth": 0,
              "ticks": ""
             }
            },
            "type": "scattergeo"
           }
          ],
          "scattergl": [
           {
            "marker": {
             "colorbar": {
              "outlinewidth": 0,
              "ticks": ""
             }
            },
            "type": "scattergl"
           }
          ],
          "scattermapbox": [
           {
            "marker": {
             "colorbar": {
              "outlinewidth": 0,
              "ticks": ""
             }
            },
            "type": "scattermapbox"
           }
          ],
          "scatterpolar": [
           {
            "marker": {
             "colorbar": {
              "outlinewidth": 0,
              "ticks": ""
             }
            },
            "type": "scatterpolar"
           }
          ],
          "scatterpolargl": [
           {
            "marker": {
             "colorbar": {
              "outlinewidth": 0,
              "ticks": ""
             }
            },
            "type": "scatterpolargl"
           }
          ],
          "scatterternary": [
           {
            "marker": {
             "colorbar": {
              "outlinewidth": 0,
              "ticks": ""
             }
            },
            "type": "scatterternary"
           }
          ],
          "surface": [
           {
            "colorbar": {
             "outlinewidth": 0,
             "ticks": ""
            },
            "colorscale": [
             [
              0,
              "#0d0887"
             ],
             [
              0.1111111111111111,
              "#46039f"
             ],
             [
              0.2222222222222222,
              "#7201a8"
             ],
             [
              0.3333333333333333,
              "#9c179e"
             ],
             [
              0.4444444444444444,
              "#bd3786"
             ],
             [
              0.5555555555555556,
              "#d8576b"
             ],
             [
              0.6666666666666666,
              "#ed7953"
             ],
             [
              0.7777777777777778,
              "#fb9f3a"
             ],
             [
              0.8888888888888888,
              "#fdca26"
             ],
             [
              1,
              "#f0f921"
             ]
            ],
            "type": "surface"
           }
          ],
          "table": [
           {
            "cells": {
             "fill": {
              "color": "#EBF0F8"
             },
             "line": {
              "color": "white"
             }
            },
            "header": {
             "fill": {
              "color": "#C8D4E3"
             },
             "line": {
              "color": "white"
             }
            },
            "type": "table"
           }
          ]
         },
         "layout": {
          "annotationdefaults": {
           "arrowcolor": "#2a3f5f",
           "arrowhead": 0,
           "arrowwidth": 1
          },
          "coloraxis": {
           "colorbar": {
            "outlinewidth": 0,
            "ticks": ""
           }
          },
          "colorscale": {
           "diverging": [
            [
             0,
             "#8e0152"
            ],
            [
             0.1,
             "#c51b7d"
            ],
            [
             0.2,
             "#de77ae"
            ],
            [
             0.3,
             "#f1b6da"
            ],
            [
             0.4,
             "#fde0ef"
            ],
            [
             0.5,
             "#f7f7f7"
            ],
            [
             0.6,
             "#e6f5d0"
            ],
            [
             0.7,
             "#b8e186"
            ],
            [
             0.8,
             "#7fbc41"
            ],
            [
             0.9,
             "#4d9221"
            ],
            [
             1,
             "#276419"
            ]
           ],
           "sequential": [
            [
             0,
             "#0d0887"
            ],
            [
             0.1111111111111111,
             "#46039f"
            ],
            [
             0.2222222222222222,
             "#7201a8"
            ],
            [
             0.3333333333333333,
             "#9c179e"
            ],
            [
             0.4444444444444444,
             "#bd3786"
            ],
            [
             0.5555555555555556,
             "#d8576b"
            ],
            [
             0.6666666666666666,
             "#ed7953"
            ],
            [
             0.7777777777777778,
             "#fb9f3a"
            ],
            [
             0.8888888888888888,
             "#fdca26"
            ],
            [
             1,
             "#f0f921"
            ]
           ],
           "sequentialminus": [
            [
             0,
             "#0d0887"
            ],
            [
             0.1111111111111111,
             "#46039f"
            ],
            [
             0.2222222222222222,
             "#7201a8"
            ],
            [
             0.3333333333333333,
             "#9c179e"
            ],
            [
             0.4444444444444444,
             "#bd3786"
            ],
            [
             0.5555555555555556,
             "#d8576b"
            ],
            [
             0.6666666666666666,
             "#ed7953"
            ],
            [
             0.7777777777777778,
             "#fb9f3a"
            ],
            [
             0.8888888888888888,
             "#fdca26"
            ],
            [
             1,
             "#f0f921"
            ]
           ]
          },
          "colorway": [
           "#636efa",
           "#EF553B",
           "#00cc96",
           "#ab63fa",
           "#FFA15A",
           "#19d3f3",
           "#FF6692",
           "#B6E880",
           "#FF97FF",
           "#FECB52"
          ],
          "font": {
           "color": "#2a3f5f"
          },
          "geo": {
           "bgcolor": "white",
           "lakecolor": "white",
           "landcolor": "#E5ECF6",
           "showlakes": true,
           "showland": true,
           "subunitcolor": "white"
          },
          "hoverlabel": {
           "align": "left"
          },
          "hovermode": "closest",
          "mapbox": {
           "style": "light"
          },
          "paper_bgcolor": "white",
          "plot_bgcolor": "#E5ECF6",
          "polar": {
           "angularaxis": {
            "gridcolor": "white",
            "linecolor": "white",
            "ticks": ""
           },
           "bgcolor": "#E5ECF6",
           "radialaxis": {
            "gridcolor": "white",
            "linecolor": "white",
            "ticks": ""
           }
          },
          "scene": {
           "xaxis": {
            "backgroundcolor": "#E5ECF6",
            "gridcolor": "white",
            "gridwidth": 2,
            "linecolor": "white",
            "showbackground": true,
            "ticks": "",
            "zerolinecolor": "white"
           },
           "yaxis": {
            "backgroundcolor": "#E5ECF6",
            "gridcolor": "white",
            "gridwidth": 2,
            "linecolor": "white",
            "showbackground": true,
            "ticks": "",
            "zerolinecolor": "white"
           },
           "zaxis": {
            "backgroundcolor": "#E5ECF6",
            "gridcolor": "white",
            "gridwidth": 2,
            "linecolor": "white",
            "showbackground": true,
            "ticks": "",
            "zerolinecolor": "white"
           }
          },
          "shapedefaults": {
           "line": {
            "color": "#2a3f5f"
           }
          },
          "ternary": {
           "aaxis": {
            "gridcolor": "white",
            "linecolor": "white",
            "ticks": ""
           },
           "baxis": {
            "gridcolor": "white",
            "linecolor": "white",
            "ticks": ""
           },
           "bgcolor": "#E5ECF6",
           "caxis": {
            "gridcolor": "white",
            "linecolor": "white",
            "ticks": ""
           }
          },
          "title": {
           "x": 0.05
          },
          "xaxis": {
           "automargin": true,
           "gridcolor": "white",
           "linecolor": "white",
           "ticks": "",
           "title": {
            "standoff": 15
           },
           "zerolinecolor": "white",
           "zerolinewidth": 2
          },
          "yaxis": {
           "automargin": true,
           "gridcolor": "white",
           "linecolor": "white",
           "ticks": "",
           "title": {
            "standoff": 15
           },
           "zerolinecolor": "white",
           "zerolinewidth": 2
          }
         }
        },
        "xaxis": {
         "title": {
          "text": "Filter"
         }
        },
        "yaxis": {
         "title": {
          "text": "Importance im Sasha's model"
         }
        }
       }
      },
      "text/html": [
       "<div>\n",
       "        \n",
       "        \n",
       "            <div id=\"e27c247a-5b43-4168-9d0b-3678fe7573c4\" class=\"plotly-graph-div\" style=\"height:525px; width:100%;\"></div>\n",
       "            <script type=\"text/javascript\">\n",
       "                require([\"plotly\"], function(Plotly) {\n",
       "                    window.PLOTLYENV=window.PLOTLYENV || {};\n",
       "                    \n",
       "                if (document.getElementById(\"e27c247a-5b43-4168-9d0b-3678fe7573c4\")) {\n",
       "                    Plotly.newPlot(\n",
       "                        'e27c247a-5b43-4168-9d0b-3678fe7573c4',\n",
       "                        [{\"type\": \"bar\", \"x\": [\"filter1\", \"filter10\", \"filter102\", \"filter105\", \"filter106\", \"filter11\", \"filter112\", \"filter115\", \"filter120\", \"filter122\", \"filter123\", \"filter124\", \"filter127\", \"filter129\", \"filter132\", \"filter133\", \"filter135\", \"filter14\", \"filter15\", \"filter151\", \"filter154\", \"filter155\", \"filter157\", \"filter165\", \"filter166\", \"filter167\", \"filter170\", \"filter173\", \"filter174\", \"filter178\", \"filter183\", \"filter185\", \"filter186\", \"filter190\", \"filter194\", \"filter195\", \"filter196\", \"filter198\", \"filter202\", \"filter205\", \"filter209\", \"filter214\", \"filter217\", \"filter218\", \"filter219\", \"filter220\", \"filter223\", \"filter224\", \"filter227\", \"filter23\", \"filter230\", \"filter231\", \"filter238\", \"filter242\", \"filter244\", \"filter247\", \"filter250\", \"filter252\", \"filter255\", \"filter257\", \"filter260\", \"filter264\", \"filter270\", \"filter275\", \"filter276\", \"filter279\", \"filter28\", \"filter281\", \"filter283\", \"filter284\", \"filter286\", \"filter288\", \"filter290\", \"filter292\", \"filter297\", \"filter34\", \"filter35\", \"filter40\", \"filter43\", \"filter44\", \"filter47\", \"filter50\", \"filter51\", \"filter6\", \"filter65\", \"filter66\", \"filter67\", \"filter68\", \"filter69\", \"filter70\", \"filter78\", \"filter8\", \"filter80\", \"filter85\", \"filter89\", \"filter9\", \"filter93\", \"filter94\", \"filter97\"], \"y\": [39.203693, -402.54517000000004, 412.90213, 5.4272860000000005, -58.68184, -1090.8273, -105.569534, 106.90898999999999, -269.6302, 175.23782, 6.974089599999999, 39.266983, 145.5155, 28.971123, -126.98443600000002, 6015.0874, -3.6725992999999995, 62.9225, -385.7197, 68.14161999999999, -112.63316999999999, 40.268035999999995, 37.789320000000004, 794.6979, -134.8873, -106.23656000000001, 63.113969999999995, 295.10278, 8623.075, -23.577017, 328.21477999999996, 29.690072999999998, 27.466115999999996, -148.02827, 460.04967999999997, -271.9715, 1.8906319, -190.51486, 13.997015, 881.9212, 159.18407, -39.94068, -157.4451, -96.44976, -133.45335, 390.2719, 10.593132, 105.91546000000001, 283.76926000000003, -137.49591, 1166.76, -164.51413, 356.8812, 620.58093, -3.1504812, -59.946380000000005, 96.586395, -550.0134, 10499.1875, -19.060497, -230.21184, -1406.8064, -148.21945, -112.58523999999998, 333.07358, 70.45238499999999, -158.83209, 51.96349, -79.38781999999999, 38.898483, 632.4139, -32.823757, -475.07797, 1378.1564, 76.926315, 9585.634, 77.755554, 88.83423, -217.3566, -6.8107085000000005, -201.43286, -63.632965000000006, -1455.3485, 19.288439, -1570.5686, 2.055244, 104.61475, -98.43805, -48.244614, 21.564291, -3675.921, -464.38302999999996, -75.64233, -72.98074, 317.0207, -556.3859, -1480.396, 419.02423, 11.360511]}],\n",
       "                        {\"template\": {\"data\": {\"bar\": [{\"error_x\": {\"color\": \"#2a3f5f\"}, \"error_y\": {\"color\": \"#2a3f5f\"}, \"marker\": {\"line\": {\"color\": \"#E5ECF6\", \"width\": 0.5}}, \"type\": \"bar\"}], \"barpolar\": [{\"marker\": {\"line\": {\"color\": \"#E5ECF6\", \"width\": 0.5}}, \"type\": \"barpolar\"}], \"carpet\": [{\"aaxis\": {\"endlinecolor\": \"#2a3f5f\", \"gridcolor\": \"white\", \"linecolor\": \"white\", \"minorgridcolor\": \"white\", \"startlinecolor\": \"#2a3f5f\"}, \"baxis\": {\"endlinecolor\": \"#2a3f5f\", \"gridcolor\": \"white\", \"linecolor\": \"white\", \"minorgridcolor\": \"white\", \"startlinecolor\": \"#2a3f5f\"}, \"type\": \"carpet\"}], \"choropleth\": [{\"colorbar\": {\"outlinewidth\": 0, \"ticks\": \"\"}, \"type\": \"choropleth\"}], \"contour\": [{\"colorbar\": {\"outlinewidth\": 0, \"ticks\": \"\"}, \"colorscale\": [[0.0, \"#0d0887\"], [0.1111111111111111, \"#46039f\"], [0.2222222222222222, \"#7201a8\"], [0.3333333333333333, \"#9c179e\"], [0.4444444444444444, \"#bd3786\"], [0.5555555555555556, \"#d8576b\"], [0.6666666666666666, \"#ed7953\"], [0.7777777777777778, \"#fb9f3a\"], [0.8888888888888888, \"#fdca26\"], [1.0, \"#f0f921\"]], \"type\": \"contour\"}], \"contourcarpet\": [{\"colorbar\": {\"outlinewidth\": 0, \"ticks\": \"\"}, \"type\": \"contourcarpet\"}], \"heatmap\": [{\"colorbar\": {\"outlinewidth\": 0, \"ticks\": \"\"}, \"colorscale\": [[0.0, \"#0d0887\"], [0.1111111111111111, \"#46039f\"], [0.2222222222222222, \"#7201a8\"], [0.3333333333333333, \"#9c179e\"], [0.4444444444444444, \"#bd3786\"], [0.5555555555555556, \"#d8576b\"], [0.6666666666666666, \"#ed7953\"], [0.7777777777777778, \"#fb9f3a\"], [0.8888888888888888, \"#fdca26\"], [1.0, \"#f0f921\"]], \"type\": \"heatmap\"}], \"heatmapgl\": [{\"colorbar\": {\"outlinewidth\": 0, \"ticks\": \"\"}, \"colorscale\": [[0.0, \"#0d0887\"], [0.1111111111111111, \"#46039f\"], [0.2222222222222222, \"#7201a8\"], [0.3333333333333333, \"#9c179e\"], [0.4444444444444444, \"#bd3786\"], [0.5555555555555556, \"#d8576b\"], [0.6666666666666666, \"#ed7953\"], [0.7777777777777778, \"#fb9f3a\"], [0.8888888888888888, \"#fdca26\"], [1.0, \"#f0f921\"]], \"type\": \"heatmapgl\"}], \"histogram\": [{\"marker\": {\"colorbar\": {\"outlinewidth\": 0, \"ticks\": \"\"}}, \"type\": \"histogram\"}], \"histogram2d\": [{\"colorbar\": {\"outlinewidth\": 0, \"ticks\": \"\"}, \"colorscale\": [[0.0, \"#0d0887\"], [0.1111111111111111, \"#46039f\"], [0.2222222222222222, \"#7201a8\"], [0.3333333333333333, \"#9c179e\"], [0.4444444444444444, \"#bd3786\"], [0.5555555555555556, \"#d8576b\"], [0.6666666666666666, \"#ed7953\"], [0.7777777777777778, \"#fb9f3a\"], [0.8888888888888888, \"#fdca26\"], [1.0, \"#f0f921\"]], \"type\": \"histogram2d\"}], \"histogram2dcontour\": [{\"colorbar\": {\"outlinewidth\": 0, \"ticks\": \"\"}, \"colorscale\": [[0.0, \"#0d0887\"], [0.1111111111111111, \"#46039f\"], [0.2222222222222222, \"#7201a8\"], [0.3333333333333333, \"#9c179e\"], [0.4444444444444444, \"#bd3786\"], [0.5555555555555556, \"#d8576b\"], [0.6666666666666666, \"#ed7953\"], [0.7777777777777778, \"#fb9f3a\"], [0.8888888888888888, \"#fdca26\"], [1.0, \"#f0f921\"]], \"type\": \"histogram2dcontour\"}], \"mesh3d\": [{\"colorbar\": {\"outlinewidth\": 0, \"ticks\": \"\"}, \"type\": \"mesh3d\"}], \"parcoords\": [{\"line\": {\"colorbar\": {\"outlinewidth\": 0, \"ticks\": \"\"}}, \"type\": \"parcoords\"}], \"pie\": [{\"automargin\": true, \"type\": \"pie\"}], \"scatter\": [{\"marker\": {\"colorbar\": {\"outlinewidth\": 0, \"ticks\": \"\"}}, \"type\": \"scatter\"}], \"scatter3d\": [{\"line\": {\"colorbar\": {\"outlinewidth\": 0, \"ticks\": \"\"}}, \"marker\": {\"colorbar\": {\"outlinewidth\": 0, \"ticks\": \"\"}}, \"type\": \"scatter3d\"}], \"scattercarpet\": [{\"marker\": {\"colorbar\": {\"outlinewidth\": 0, \"ticks\": \"\"}}, \"type\": \"scattercarpet\"}], \"scattergeo\": [{\"marker\": {\"colorbar\": {\"outlinewidth\": 0, \"ticks\": \"\"}}, \"type\": \"scattergeo\"}], \"scattergl\": [{\"marker\": {\"colorbar\": {\"outlinewidth\": 0, \"ticks\": \"\"}}, \"type\": \"scattergl\"}], \"scattermapbox\": [{\"marker\": {\"colorbar\": {\"outlinewidth\": 0, \"ticks\": \"\"}}, \"type\": \"scattermapbox\"}], \"scatterpolar\": [{\"marker\": {\"colorbar\": {\"outlinewidth\": 0, \"ticks\": \"\"}}, \"type\": \"scatterpolar\"}], \"scatterpolargl\": [{\"marker\": {\"colorbar\": {\"outlinewidth\": 0, \"ticks\": \"\"}}, \"type\": \"scatterpolargl\"}], \"scatterternary\": [{\"marker\": {\"colorbar\": {\"outlinewidth\": 0, \"ticks\": \"\"}}, \"type\": \"scatterternary\"}], \"surface\": [{\"colorbar\": {\"outlinewidth\": 0, \"ticks\": \"\"}, \"colorscale\": [[0.0, \"#0d0887\"], [0.1111111111111111, \"#46039f\"], [0.2222222222222222, \"#7201a8\"], [0.3333333333333333, \"#9c179e\"], [0.4444444444444444, \"#bd3786\"], [0.5555555555555556, \"#d8576b\"], [0.6666666666666666, \"#ed7953\"], [0.7777777777777778, \"#fb9f3a\"], [0.8888888888888888, \"#fdca26\"], [1.0, \"#f0f921\"]], \"type\": \"surface\"}], \"table\": [{\"cells\": {\"fill\": {\"color\": \"#EBF0F8\"}, \"line\": {\"color\": \"white\"}}, \"header\": {\"fill\": {\"color\": \"#C8D4E3\"}, \"line\": {\"color\": \"white\"}}, \"type\": \"table\"}]}, \"layout\": {\"annotationdefaults\": {\"arrowcolor\": \"#2a3f5f\", \"arrowhead\": 0, \"arrowwidth\": 1}, \"coloraxis\": {\"colorbar\": {\"outlinewidth\": 0, \"ticks\": \"\"}}, \"colorscale\": {\"diverging\": [[0, \"#8e0152\"], [0.1, \"#c51b7d\"], [0.2, \"#de77ae\"], [0.3, \"#f1b6da\"], [0.4, \"#fde0ef\"], [0.5, \"#f7f7f7\"], [0.6, \"#e6f5d0\"], [0.7, \"#b8e186\"], [0.8, \"#7fbc41\"], [0.9, \"#4d9221\"], [1, \"#276419\"]], \"sequential\": [[0.0, \"#0d0887\"], [0.1111111111111111, \"#46039f\"], [0.2222222222222222, \"#7201a8\"], [0.3333333333333333, \"#9c179e\"], [0.4444444444444444, \"#bd3786\"], [0.5555555555555556, \"#d8576b\"], [0.6666666666666666, \"#ed7953\"], [0.7777777777777778, \"#fb9f3a\"], [0.8888888888888888, \"#fdca26\"], [1.0, \"#f0f921\"]], \"sequentialminus\": [[0.0, \"#0d0887\"], [0.1111111111111111, \"#46039f\"], [0.2222222222222222, \"#7201a8\"], [0.3333333333333333, \"#9c179e\"], [0.4444444444444444, \"#bd3786\"], [0.5555555555555556, \"#d8576b\"], [0.6666666666666666, \"#ed7953\"], [0.7777777777777778, \"#fb9f3a\"], [0.8888888888888888, \"#fdca26\"], [1.0, \"#f0f921\"]]}, \"colorway\": [\"#636efa\", \"#EF553B\", \"#00cc96\", \"#ab63fa\", \"#FFA15A\", \"#19d3f3\", \"#FF6692\", \"#B6E880\", \"#FF97FF\", \"#FECB52\"], \"font\": {\"color\": \"#2a3f5f\"}, \"geo\": {\"bgcolor\": \"white\", \"lakecolor\": \"white\", \"landcolor\": \"#E5ECF6\", \"showlakes\": true, \"showland\": true, \"subunitcolor\": \"white\"}, \"hoverlabel\": {\"align\": \"left\"}, \"hovermode\": \"closest\", \"mapbox\": {\"style\": \"light\"}, \"paper_bgcolor\": \"white\", \"plot_bgcolor\": \"#E5ECF6\", \"polar\": {\"angularaxis\": {\"gridcolor\": \"white\", \"linecolor\": \"white\", \"ticks\": \"\"}, \"bgcolor\": \"#E5ECF6\", \"radialaxis\": {\"gridcolor\": \"white\", \"linecolor\": \"white\", \"ticks\": \"\"}}, \"scene\": {\"xaxis\": {\"backgroundcolor\": \"#E5ECF6\", \"gridcolor\": \"white\", \"gridwidth\": 2, \"linecolor\": \"white\", \"showbackground\": true, \"ticks\": \"\", \"zerolinecolor\": \"white\"}, \"yaxis\": {\"backgroundcolor\": \"#E5ECF6\", \"gridcolor\": \"white\", \"gridwidth\": 2, \"linecolor\": \"white\", \"showbackground\": true, \"ticks\": \"\", \"zerolinecolor\": \"white\"}, \"zaxis\": {\"backgroundcolor\": \"#E5ECF6\", \"gridcolor\": \"white\", \"gridwidth\": 2, \"linecolor\": \"white\", \"showbackground\": true, \"ticks\": \"\", \"zerolinecolor\": \"white\"}}, \"shapedefaults\": {\"line\": {\"color\": \"#2a3f5f\"}}, \"ternary\": {\"aaxis\": {\"gridcolor\": \"white\", \"linecolor\": \"white\", \"ticks\": \"\"}, \"baxis\": {\"gridcolor\": \"white\", \"linecolor\": \"white\", \"ticks\": \"\"}, \"bgcolor\": \"#E5ECF6\", \"caxis\": {\"gridcolor\": \"white\", \"linecolor\": \"white\", \"ticks\": \"\"}}, \"title\": {\"x\": 0.05}, \"xaxis\": {\"automargin\": true, \"gridcolor\": \"white\", \"linecolor\": \"white\", \"ticks\": \"\", \"title\": {\"standoff\": 15}, \"zerolinecolor\": \"white\", \"zerolinewidth\": 2}, \"yaxis\": {\"automargin\": true, \"gridcolor\": \"white\", \"linecolor\": \"white\", \"ticks\": \"\", \"title\": {\"standoff\": 15}, \"zerolinecolor\": \"white\", \"zerolinewidth\": 2}}}, \"xaxis\": {\"title\": {\"text\": \"Filter\"}}, \"yaxis\": {\"title\": {\"text\": \"Importance im Sasha's model\"}}},\n",
       "                        {\"responsive\": true}\n",
       "                    ).then(function(){\n",
       "                            \n",
       "var gd = document.getElementById('e27c247a-5b43-4168-9d0b-3678fe7573c4');\n",
       "var x = new MutationObserver(function (mutations, observer) {{\n",
       "        var display = window.getComputedStyle(gd).display;\n",
       "        if (!display || display === 'none') {{\n",
       "            console.log([gd, 'removed!']);\n",
       "            Plotly.purge(gd);\n",
       "            observer.disconnect();\n",
       "        }}\n",
       "}});\n",
       "\n",
       "// Listen for the removal of the full notebook cells\n",
       "var notebookContainer = gd.closest('#notebook-container');\n",
       "if (notebookContainer) {{\n",
       "    x.observe(notebookContainer, {childList: true});\n",
       "}}\n",
       "\n",
       "// Listen for the clearing of the current output cell\n",
       "var outputEl = gd.closest('.output');\n",
       "if (outputEl) {{\n",
       "    x.observe(outputEl, {childList: true});\n",
       "}}\n",
       "\n",
       "                        })\n",
       "                };\n",
       "                });\n",
       "            </script>\n",
       "        </div>"
      ]
     },
     "metadata": {},
     "output_type": "display_data"
    }
   ],
   "source": [
    "fig = go.Figure(go.Bar(x=sasha_importance.index, y=sasha_importance['myeloid']))\n",
    "fig.update_layout(yaxis_title=\"Importance im Sasha's model\",\n",
    "                      xaxis_title =\"Filter\")\n",
    "fig.show()"
   ]
  },
  {
   "cell_type": "code",
   "execution_count": 41,
   "metadata": {
    "hidden": true
   },
   "outputs": [
    {
     "name": "stdout",
     "output_type": "stream",
     "text": [
      "Number of Motif found : 99/99\n",
      "Number of Motif found in less than 5% of the lineages: 6/99\n"
     ]
    }
   ],
   "source": [
    "print('Number of Motif found : {}/99'.format(len(generated_smotifs.index)))\n",
    "print('Number of Motif found in less than 5% of the lineages: {}/{}'.format(len(generated_smotifs[generated_smotifs.drop(columns=['Best overall TF match','Motif consensus Sequence']).max(1) < 0.05 ].index),len(generated_smotifs.index)))"
   ]
  },
  {
   "cell_type": "code",
   "execution_count": 42,
   "metadata": {
    "hidden": true
   },
   "outputs": [],
   "source": [
    "sasha_importance = sasha_importance.loc[sorted(sasha_importance.index,key = lambda x : int(x.replace('filter','')))]\n",
    "sasha_importance.rename(columns={'lym':'innate.lym'}, inplace=True)\n",
    "#sasha_importance[sasha_importance < 0] = 0\n",
    "#n_sasha_importance = (sasha_importance  - sasha_importance.min(0))/(sasha_importance.max(0)-sasha_importance.min(0))\n",
    "comparaison = pd.merge(sasha_importance, generated_smotifs, left_index=True, right_index=True, suffixes=('_sasha','_generated'), how='left')\n",
    "comparaison = comparaison.fillna(0)"
   ]
  },
  {
   "cell_type": "markdown",
   "metadata": {
    "heading_collapsed": true,
    "hidden": true
   },
   "source": [
    "### Global Importance ( Not Specific to cell types )"
   ]
  },
  {
   "cell_type": "code",
   "execution_count": 32,
   "metadata": {
    "hidden": true
   },
   "outputs": [
    {
     "data": {
      "application/vnd.plotly.v1+json": {
       "config": {
        "plotlyServerURL": "https://plot.ly"
       },
       "data": [
        {
         "type": "bar",
         "x": [
          "filter1",
          "filter6",
          "filter8",
          "filter9",
          "filter10",
          "filter11",
          "filter14",
          "filter15",
          "filter23",
          "filter28",
          "filter34",
          "filter35",
          "filter40",
          "filter43",
          "filter44",
          "filter47",
          "filter50",
          "filter51",
          "filter65",
          "filter66",
          "filter67",
          "filter68",
          "filter69",
          "filter70",
          "filter78",
          "filter80",
          "filter85",
          "filter89",
          "filter93",
          "filter94",
          "filter97",
          "filter102",
          "filter105",
          "filter106",
          "filter112",
          "filter115",
          "filter120",
          "filter122",
          "filter123",
          "filter124",
          "filter127",
          "filter129",
          "filter132",
          "filter133",
          "filter135",
          "filter151",
          "filter154",
          "filter155",
          "filter157",
          "filter165",
          "filter166",
          "filter167",
          "filter170",
          "filter173",
          "filter174",
          "filter178",
          "filter183",
          "filter185",
          "filter186",
          "filter190",
          "filter194",
          "filter195",
          "filter196",
          "filter198",
          "filter202",
          "filter205",
          "filter209",
          "filter214",
          "filter217",
          "filter218",
          "filter219",
          "filter220",
          "filter223",
          "filter224",
          "filter227",
          "filter230",
          "filter231",
          "filter238",
          "filter242",
          "filter244",
          "filter247",
          "filter250",
          "filter252",
          "filter255",
          "filter257",
          "filter260",
          "filter264",
          "filter270",
          "filter275",
          "filter276",
          "filter279",
          "filter281",
          "filter283",
          "filter284",
          "filter286",
          "filter288",
          "filter290",
          "filter292",
          "filter297"
         ],
         "y": [
          null,
          null,
          null,
          null,
          null,
          null,
          null,
          null,
          null,
          null,
          null,
          null,
          null,
          null,
          null,
          null,
          null,
          null,
          null,
          null,
          null,
          null,
          null,
          null,
          null,
          null,
          null,
          null,
          null,
          null,
          null,
          null,
          null,
          null,
          null,
          null,
          null,
          null,
          null,
          null,
          null,
          null,
          null,
          null,
          null,
          null,
          null,
          null,
          null,
          null,
          null,
          null,
          null,
          null,
          null,
          null,
          null,
          null,
          null,
          null,
          null,
          null,
          null,
          null,
          null,
          null,
          null,
          null,
          null,
          null,
          null,
          null,
          null,
          null,
          null,
          null,
          null,
          null,
          null,
          null,
          null,
          null,
          null,
          null,
          null,
          null,
          null,
          null,
          null,
          null,
          null,
          null,
          null,
          null,
          null,
          null,
          null,
          null,
          null
         ]
        },
        {
         "type": "bar",
         "x": [
          "filter1",
          "filter6",
          "filter8",
          "filter9",
          "filter10",
          "filter11",
          "filter14",
          "filter15",
          "filter23",
          "filter28",
          "filter34",
          "filter35",
          "filter40",
          "filter43",
          "filter44",
          "filter47",
          "filter50",
          "filter51",
          "filter65",
          "filter66",
          "filter67",
          "filter68",
          "filter69",
          "filter70",
          "filter78",
          "filter80",
          "filter85",
          "filter89",
          "filter93",
          "filter94",
          "filter97",
          "filter102",
          "filter105",
          "filter106",
          "filter112",
          "filter115",
          "filter120",
          "filter122",
          "filter123",
          "filter124",
          "filter127",
          "filter129",
          "filter132",
          "filter133",
          "filter135",
          "filter151",
          "filter154",
          "filter155",
          "filter157",
          "filter165",
          "filter166",
          "filter167",
          "filter170",
          "filter173",
          "filter174",
          "filter178",
          "filter183",
          "filter185",
          "filter186",
          "filter190",
          "filter194",
          "filter195",
          "filter196",
          "filter198",
          "filter202",
          "filter205",
          "filter209",
          "filter214",
          "filter217",
          "filter218",
          "filter219",
          "filter220",
          "filter223",
          "filter224",
          "filter227",
          "filter230",
          "filter231",
          "filter238",
          "filter242",
          "filter244",
          "filter247",
          "filter250",
          "filter252",
          "filter255",
          "filter257",
          "filter260",
          "filter264",
          "filter270",
          "filter275",
          "filter276",
          "filter279",
          "filter281",
          "filter283",
          "filter284",
          "filter286",
          "filter288",
          "filter290",
          "filter292",
          "filter297"
         ],
         "y": [
          null,
          null,
          null,
          null,
          null,
          null,
          null,
          null,
          null,
          null,
          null,
          null,
          null,
          null,
          null,
          null,
          null,
          null,
          null,
          null,
          null,
          null,
          null,
          null,
          null,
          null,
          null,
          null,
          null,
          null,
          null,
          null,
          null,
          null,
          null,
          null,
          null,
          null,
          null,
          null,
          null,
          null,
          null,
          null,
          null,
          null,
          null,
          null,
          null,
          null,
          null,
          null,
          null,
          null,
          null,
          null,
          null,
          null,
          null,
          null,
          null,
          null,
          null,
          null,
          null,
          null,
          null,
          null,
          null,
          null,
          null,
          null,
          null,
          null,
          null,
          null,
          null,
          null,
          null,
          null,
          null,
          null,
          null,
          null,
          null,
          null,
          null,
          null,
          null,
          null,
          null,
          null,
          null,
          null,
          null,
          null,
          null,
          null,
          null
         ]
        }
       ],
       "layout": {
        "template": {
         "data": {
          "bar": [
           {
            "error_x": {
             "color": "#2a3f5f"
            },
            "error_y": {
             "color": "#2a3f5f"
            },
            "marker": {
             "line": {
              "color": "#E5ECF6",
              "width": 0.5
             }
            },
            "type": "bar"
           }
          ],
          "barpolar": [
           {
            "marker": {
             "line": {
              "color": "#E5ECF6",
              "width": 0.5
             }
            },
            "type": "barpolar"
           }
          ],
          "carpet": [
           {
            "aaxis": {
             "endlinecolor": "#2a3f5f",
             "gridcolor": "white",
             "linecolor": "white",
             "minorgridcolor": "white",
             "startlinecolor": "#2a3f5f"
            },
            "baxis": {
             "endlinecolor": "#2a3f5f",
             "gridcolor": "white",
             "linecolor": "white",
             "minorgridcolor": "white",
             "startlinecolor": "#2a3f5f"
            },
            "type": "carpet"
           }
          ],
          "choropleth": [
           {
            "colorbar": {
             "outlinewidth": 0,
             "ticks": ""
            },
            "type": "choropleth"
           }
          ],
          "contour": [
           {
            "colorbar": {
             "outlinewidth": 0,
             "ticks": ""
            },
            "colorscale": [
             [
              0,
              "#0d0887"
             ],
             [
              0.1111111111111111,
              "#46039f"
             ],
             [
              0.2222222222222222,
              "#7201a8"
             ],
             [
              0.3333333333333333,
              "#9c179e"
             ],
             [
              0.4444444444444444,
              "#bd3786"
             ],
             [
              0.5555555555555556,
              "#d8576b"
             ],
             [
              0.6666666666666666,
              "#ed7953"
             ],
             [
              0.7777777777777778,
              "#fb9f3a"
             ],
             [
              0.8888888888888888,
              "#fdca26"
             ],
             [
              1,
              "#f0f921"
             ]
            ],
            "type": "contour"
           }
          ],
          "contourcarpet": [
           {
            "colorbar": {
             "outlinewidth": 0,
             "ticks": ""
            },
            "type": "contourcarpet"
           }
          ],
          "heatmap": [
           {
            "colorbar": {
             "outlinewidth": 0,
             "ticks": ""
            },
            "colorscale": [
             [
              0,
              "#0d0887"
             ],
             [
              0.1111111111111111,
              "#46039f"
             ],
             [
              0.2222222222222222,
              "#7201a8"
             ],
             [
              0.3333333333333333,
              "#9c179e"
             ],
             [
              0.4444444444444444,
              "#bd3786"
             ],
             [
              0.5555555555555556,
              "#d8576b"
             ],
             [
              0.6666666666666666,
              "#ed7953"
             ],
             [
              0.7777777777777778,
              "#fb9f3a"
             ],
             [
              0.8888888888888888,
              "#fdca26"
             ],
             [
              1,
              "#f0f921"
             ]
            ],
            "type": "heatmap"
           }
          ],
          "heatmapgl": [
           {
            "colorbar": {
             "outlinewidth": 0,
             "ticks": ""
            },
            "colorscale": [
             [
              0,
              "#0d0887"
             ],
             [
              0.1111111111111111,
              "#46039f"
             ],
             [
              0.2222222222222222,
              "#7201a8"
             ],
             [
              0.3333333333333333,
              "#9c179e"
             ],
             [
              0.4444444444444444,
              "#bd3786"
             ],
             [
              0.5555555555555556,
              "#d8576b"
             ],
             [
              0.6666666666666666,
              "#ed7953"
             ],
             [
              0.7777777777777778,
              "#fb9f3a"
             ],
             [
              0.8888888888888888,
              "#fdca26"
             ],
             [
              1,
              "#f0f921"
             ]
            ],
            "type": "heatmapgl"
           }
          ],
          "histogram": [
           {
            "marker": {
             "colorbar": {
              "outlinewidth": 0,
              "ticks": ""
             }
            },
            "type": "histogram"
           }
          ],
          "histogram2d": [
           {
            "colorbar": {
             "outlinewidth": 0,
             "ticks": ""
            },
            "colorscale": [
             [
              0,
              "#0d0887"
             ],
             [
              0.1111111111111111,
              "#46039f"
             ],
             [
              0.2222222222222222,
              "#7201a8"
             ],
             [
              0.3333333333333333,
              "#9c179e"
             ],
             [
              0.4444444444444444,
              "#bd3786"
             ],
             [
              0.5555555555555556,
              "#d8576b"
             ],
             [
              0.6666666666666666,
              "#ed7953"
             ],
             [
              0.7777777777777778,
              "#fb9f3a"
             ],
             [
              0.8888888888888888,
              "#fdca26"
             ],
             [
              1,
              "#f0f921"
             ]
            ],
            "type": "histogram2d"
           }
          ],
          "histogram2dcontour": [
           {
            "colorbar": {
             "outlinewidth": 0,
             "ticks": ""
            },
            "colorscale": [
             [
              0,
              "#0d0887"
             ],
             [
              0.1111111111111111,
              "#46039f"
             ],
             [
              0.2222222222222222,
              "#7201a8"
             ],
             [
              0.3333333333333333,
              "#9c179e"
             ],
             [
              0.4444444444444444,
              "#bd3786"
             ],
             [
              0.5555555555555556,
              "#d8576b"
             ],
             [
              0.6666666666666666,
              "#ed7953"
             ],
             [
              0.7777777777777778,
              "#fb9f3a"
             ],
             [
              0.8888888888888888,
              "#fdca26"
             ],
             [
              1,
              "#f0f921"
             ]
            ],
            "type": "histogram2dcontour"
           }
          ],
          "mesh3d": [
           {
            "colorbar": {
             "outlinewidth": 0,
             "ticks": ""
            },
            "type": "mesh3d"
           }
          ],
          "parcoords": [
           {
            "line": {
             "colorbar": {
              "outlinewidth": 0,
              "ticks": ""
             }
            },
            "type": "parcoords"
           }
          ],
          "pie": [
           {
            "automargin": true,
            "type": "pie"
           }
          ],
          "scatter": [
           {
            "marker": {
             "colorbar": {
              "outlinewidth": 0,
              "ticks": ""
             }
            },
            "type": "scatter"
           }
          ],
          "scatter3d": [
           {
            "line": {
             "colorbar": {
              "outlinewidth": 0,
              "ticks": ""
             }
            },
            "marker": {
             "colorbar": {
              "outlinewidth": 0,
              "ticks": ""
             }
            },
            "type": "scatter3d"
           }
          ],
          "scattercarpet": [
           {
            "marker": {
             "colorbar": {
              "outlinewidth": 0,
              "ticks": ""
             }
            },
            "type": "scattercarpet"
           }
          ],
          "scattergeo": [
           {
            "marker": {
             "colorbar": {
              "outlinewidth": 0,
              "ticks": ""
             }
            },
            "type": "scattergeo"
           }
          ],
          "scattergl": [
           {
            "marker": {
             "colorbar": {
              "outlinewidth": 0,
              "ticks": ""
             }
            },
            "type": "scattergl"
           }
          ],
          "scattermapbox": [
           {
            "marker": {
             "colorbar": {
              "outlinewidth": 0,
              "ticks": ""
             }
            },
            "type": "scattermapbox"
           }
          ],
          "scatterpolar": [
           {
            "marker": {
             "colorbar": {
              "outlinewidth": 0,
              "ticks": ""
             }
            },
            "type": "scatterpolar"
           }
          ],
          "scatterpolargl": [
           {
            "marker": {
             "colorbar": {
              "outlinewidth": 0,
              "ticks": ""
             }
            },
            "type": "scatterpolargl"
           }
          ],
          "scatterternary": [
           {
            "marker": {
             "colorbar": {
              "outlinewidth": 0,
              "ticks": ""
             }
            },
            "type": "scatterternary"
           }
          ],
          "surface": [
           {
            "colorbar": {
             "outlinewidth": 0,
             "ticks": ""
            },
            "colorscale": [
             [
              0,
              "#0d0887"
             ],
             [
              0.1111111111111111,
              "#46039f"
             ],
             [
              0.2222222222222222,
              "#7201a8"
             ],
             [
              0.3333333333333333,
              "#9c179e"
             ],
             [
              0.4444444444444444,
              "#bd3786"
             ],
             [
              0.5555555555555556,
              "#d8576b"
             ],
             [
              0.6666666666666666,
              "#ed7953"
             ],
             [
              0.7777777777777778,
              "#fb9f3a"
             ],
             [
              0.8888888888888888,
              "#fdca26"
             ],
             [
              1,
              "#f0f921"
             ]
            ],
            "type": "surface"
           }
          ],
          "table": [
           {
            "cells": {
             "fill": {
              "color": "#EBF0F8"
             },
             "line": {
              "color": "white"
             }
            },
            "header": {
             "fill": {
              "color": "#C8D4E3"
             },
             "line": {
              "color": "white"
             }
            },
            "type": "table"
           }
          ]
         },
         "layout": {
          "annotationdefaults": {
           "arrowcolor": "#2a3f5f",
           "arrowhead": 0,
           "arrowwidth": 1
          },
          "coloraxis": {
           "colorbar": {
            "outlinewidth": 0,
            "ticks": ""
           }
          },
          "colorscale": {
           "diverging": [
            [
             0,
             "#8e0152"
            ],
            [
             0.1,
             "#c51b7d"
            ],
            [
             0.2,
             "#de77ae"
            ],
            [
             0.3,
             "#f1b6da"
            ],
            [
             0.4,
             "#fde0ef"
            ],
            [
             0.5,
             "#f7f7f7"
            ],
            [
             0.6,
             "#e6f5d0"
            ],
            [
             0.7,
             "#b8e186"
            ],
            [
             0.8,
             "#7fbc41"
            ],
            [
             0.9,
             "#4d9221"
            ],
            [
             1,
             "#276419"
            ]
           ],
           "sequential": [
            [
             0,
             "#0d0887"
            ],
            [
             0.1111111111111111,
             "#46039f"
            ],
            [
             0.2222222222222222,
             "#7201a8"
            ],
            [
             0.3333333333333333,
             "#9c179e"
            ],
            [
             0.4444444444444444,
             "#bd3786"
            ],
            [
             0.5555555555555556,
             "#d8576b"
            ],
            [
             0.6666666666666666,
             "#ed7953"
            ],
            [
             0.7777777777777778,
             "#fb9f3a"
            ],
            [
             0.8888888888888888,
             "#fdca26"
            ],
            [
             1,
             "#f0f921"
            ]
           ],
           "sequentialminus": [
            [
             0,
             "#0d0887"
            ],
            [
             0.1111111111111111,
             "#46039f"
            ],
            [
             0.2222222222222222,
             "#7201a8"
            ],
            [
             0.3333333333333333,
             "#9c179e"
            ],
            [
             0.4444444444444444,
             "#bd3786"
            ],
            [
             0.5555555555555556,
             "#d8576b"
            ],
            [
             0.6666666666666666,
             "#ed7953"
            ],
            [
             0.7777777777777778,
             "#fb9f3a"
            ],
            [
             0.8888888888888888,
             "#fdca26"
            ],
            [
             1,
             "#f0f921"
            ]
           ]
          },
          "colorway": [
           "#636efa",
           "#EF553B",
           "#00cc96",
           "#ab63fa",
           "#FFA15A",
           "#19d3f3",
           "#FF6692",
           "#B6E880",
           "#FF97FF",
           "#FECB52"
          ],
          "font": {
           "color": "#2a3f5f"
          },
          "geo": {
           "bgcolor": "white",
           "lakecolor": "white",
           "landcolor": "#E5ECF6",
           "showlakes": true,
           "showland": true,
           "subunitcolor": "white"
          },
          "hoverlabel": {
           "align": "left"
          },
          "hovermode": "closest",
          "mapbox": {
           "style": "light"
          },
          "paper_bgcolor": "white",
          "plot_bgcolor": "#E5ECF6",
          "polar": {
           "angularaxis": {
            "gridcolor": "white",
            "linecolor": "white",
            "ticks": ""
           },
           "bgcolor": "#E5ECF6",
           "radialaxis": {
            "gridcolor": "white",
            "linecolor": "white",
            "ticks": ""
           }
          },
          "scene": {
           "xaxis": {
            "backgroundcolor": "#E5ECF6",
            "gridcolor": "white",
            "gridwidth": 2,
            "linecolor": "white",
            "showbackground": true,
            "ticks": "",
            "zerolinecolor": "white"
           },
           "yaxis": {
            "backgroundcolor": "#E5ECF6",
            "gridcolor": "white",
            "gridwidth": 2,
            "linecolor": "white",
            "showbackground": true,
            "ticks": "",
            "zerolinecolor": "white"
           },
           "zaxis": {
            "backgroundcolor": "#E5ECF6",
            "gridcolor": "white",
            "gridwidth": 2,
            "linecolor": "white",
            "showbackground": true,
            "ticks": "",
            "zerolinecolor": "white"
           }
          },
          "shapedefaults": {
           "line": {
            "color": "#2a3f5f"
           }
          },
          "ternary": {
           "aaxis": {
            "gridcolor": "white",
            "linecolor": "white",
            "ticks": ""
           },
           "baxis": {
            "gridcolor": "white",
            "linecolor": "white",
            "ticks": ""
           },
           "bgcolor": "#E5ECF6",
           "caxis": {
            "gridcolor": "white",
            "linecolor": "white",
            "ticks": ""
           }
          },
          "title": {
           "x": 0.05
          },
          "xaxis": {
           "automargin": true,
           "gridcolor": "white",
           "linecolor": "white",
           "ticks": "",
           "title": {
            "standoff": 15
           },
           "zerolinecolor": "white",
           "zerolinewidth": 2
          },
          "yaxis": {
           "automargin": true,
           "gridcolor": "white",
           "linecolor": "white",
           "ticks": "",
           "title": {
            "standoff": 15
           },
           "zerolinecolor": "white",
           "zerolinewidth": 2
          }
         }
        }
       }
      },
      "text/html": [
       "<div>\n",
       "        \n",
       "        \n",
       "            <div id=\"6018b050-26f8-4e57-89fd-f3bb3144be25\" class=\"plotly-graph-div\" style=\"height:525px; width:100%;\"></div>\n",
       "            <script type=\"text/javascript\">\n",
       "                require([\"plotly\"], function(Plotly) {\n",
       "                    window.PLOTLYENV=window.PLOTLYENV || {};\n",
       "                    \n",
       "                if (document.getElementById(\"6018b050-26f8-4e57-89fd-f3bb3144be25\")) {\n",
       "                    Plotly.newPlot(\n",
       "                        '6018b050-26f8-4e57-89fd-f3bb3144be25',\n",
       "                        [{\"type\": \"bar\", \"x\": [\"filter1\", \"filter6\", \"filter8\", \"filter9\", \"filter10\", \"filter11\", \"filter14\", \"filter15\", \"filter23\", \"filter28\", \"filter34\", \"filter35\", \"filter40\", \"filter43\", \"filter44\", \"filter47\", \"filter50\", \"filter51\", \"filter65\", \"filter66\", \"filter67\", \"filter68\", \"filter69\", \"filter70\", \"filter78\", \"filter80\", \"filter85\", \"filter89\", \"filter93\", \"filter94\", \"filter97\", \"filter102\", \"filter105\", \"filter106\", \"filter112\", \"filter115\", \"filter120\", \"filter122\", \"filter123\", \"filter124\", \"filter127\", \"filter129\", \"filter132\", \"filter133\", \"filter135\", \"filter151\", \"filter154\", \"filter155\", \"filter157\", \"filter165\", \"filter166\", \"filter167\", \"filter170\", \"filter173\", \"filter174\", \"filter178\", \"filter183\", \"filter185\", \"filter186\", \"filter190\", \"filter194\", \"filter195\", \"filter196\", \"filter198\", \"filter202\", \"filter205\", \"filter209\", \"filter214\", \"filter217\", \"filter218\", \"filter219\", \"filter220\", \"filter223\", \"filter224\", \"filter227\", \"filter230\", \"filter231\", \"filter238\", \"filter242\", \"filter244\", \"filter247\", \"filter250\", \"filter252\", \"filter255\", \"filter257\", \"filter260\", \"filter264\", \"filter270\", \"filter275\", \"filter276\", \"filter279\", \"filter281\", \"filter283\", \"filter284\", \"filter286\", \"filter288\", \"filter290\", \"filter292\", \"filter297\"], \"y\": [null, null, null, null, null, null, null, null, null, null, null, null, null, null, null, null, null, null, null, null, null, null, null, null, null, null, null, null, null, null, null, null, null, null, null, null, null, null, null, null, null, null, null, null, null, null, null, null, null, null, null, null, null, null, null, null, null, null, null, null, null, null, null, null, null, null, null, null, null, null, null, null, null, null, null, null, null, null, null, null, null, null, null, null, null, null, null, null, null, null, null, null, null, null, null, null, null, null, null]}, {\"type\": \"bar\", \"x\": [\"filter1\", \"filter6\", \"filter8\", \"filter9\", \"filter10\", \"filter11\", \"filter14\", \"filter15\", \"filter23\", \"filter28\", \"filter34\", \"filter35\", \"filter40\", \"filter43\", \"filter44\", \"filter47\", \"filter50\", \"filter51\", \"filter65\", \"filter66\", \"filter67\", \"filter68\", \"filter69\", \"filter70\", \"filter78\", \"filter80\", \"filter85\", \"filter89\", \"filter93\", \"filter94\", \"filter97\", \"filter102\", \"filter105\", \"filter106\", \"filter112\", \"filter115\", \"filter120\", \"filter122\", \"filter123\", \"filter124\", \"filter127\", \"filter129\", \"filter132\", \"filter133\", \"filter135\", \"filter151\", \"filter154\", \"filter155\", \"filter157\", \"filter165\", \"filter166\", \"filter167\", \"filter170\", \"filter173\", \"filter174\", \"filter178\", \"filter183\", \"filter185\", \"filter186\", \"filter190\", \"filter194\", \"filter195\", \"filter196\", \"filter198\", \"filter202\", \"filter205\", \"filter209\", \"filter214\", \"filter217\", \"filter218\", \"filter219\", \"filter220\", \"filter223\", \"filter224\", \"filter227\", \"filter230\", \"filter231\", \"filter238\", \"filter242\", \"filter244\", \"filter247\", \"filter250\", \"filter252\", \"filter255\", \"filter257\", \"filter260\", \"filter264\", \"filter270\", \"filter275\", \"filter276\", \"filter279\", \"filter281\", \"filter283\", \"filter284\", \"filter286\", \"filter288\", \"filter290\", \"filter292\", \"filter297\"], \"y\": [null, null, null, null, null, null, null, null, null, null, null, null, null, null, null, null, null, null, null, null, null, null, null, null, null, null, null, null, null, null, null, null, null, null, null, null, null, null, null, null, null, null, null, null, null, null, null, null, null, null, null, null, null, null, null, null, null, null, null, null, null, null, null, null, null, null, null, null, null, null, null, null, null, null, null, null, null, null, null, null, null, null, null, null, null, null, null, null, null, null, null, null, null, null, null, null, null, null, null]}],\n",
       "                        {\"template\": {\"data\": {\"bar\": [{\"error_x\": {\"color\": \"#2a3f5f\"}, \"error_y\": {\"color\": \"#2a3f5f\"}, \"marker\": {\"line\": {\"color\": \"#E5ECF6\", \"width\": 0.5}}, \"type\": \"bar\"}], \"barpolar\": [{\"marker\": {\"line\": {\"color\": \"#E5ECF6\", \"width\": 0.5}}, \"type\": \"barpolar\"}], \"carpet\": [{\"aaxis\": {\"endlinecolor\": \"#2a3f5f\", \"gridcolor\": \"white\", \"linecolor\": \"white\", \"minorgridcolor\": \"white\", \"startlinecolor\": \"#2a3f5f\"}, \"baxis\": {\"endlinecolor\": \"#2a3f5f\", \"gridcolor\": \"white\", \"linecolor\": \"white\", \"minorgridcolor\": \"white\", \"startlinecolor\": \"#2a3f5f\"}, \"type\": \"carpet\"}], \"choropleth\": [{\"colorbar\": {\"outlinewidth\": 0, \"ticks\": \"\"}, \"type\": \"choropleth\"}], \"contour\": [{\"colorbar\": {\"outlinewidth\": 0, \"ticks\": \"\"}, \"colorscale\": [[0.0, \"#0d0887\"], [0.1111111111111111, \"#46039f\"], [0.2222222222222222, \"#7201a8\"], [0.3333333333333333, \"#9c179e\"], [0.4444444444444444, \"#bd3786\"], [0.5555555555555556, \"#d8576b\"], [0.6666666666666666, \"#ed7953\"], [0.7777777777777778, \"#fb9f3a\"], [0.8888888888888888, \"#fdca26\"], [1.0, \"#f0f921\"]], \"type\": \"contour\"}], \"contourcarpet\": [{\"colorbar\": {\"outlinewidth\": 0, \"ticks\": \"\"}, \"type\": \"contourcarpet\"}], \"heatmap\": [{\"colorbar\": {\"outlinewidth\": 0, \"ticks\": \"\"}, \"colorscale\": [[0.0, \"#0d0887\"], [0.1111111111111111, \"#46039f\"], [0.2222222222222222, \"#7201a8\"], [0.3333333333333333, \"#9c179e\"], [0.4444444444444444, \"#bd3786\"], [0.5555555555555556, \"#d8576b\"], [0.6666666666666666, \"#ed7953\"], [0.7777777777777778, \"#fb9f3a\"], [0.8888888888888888, \"#fdca26\"], [1.0, \"#f0f921\"]], \"type\": \"heatmap\"}], \"heatmapgl\": [{\"colorbar\": {\"outlinewidth\": 0, \"ticks\": \"\"}, \"colorscale\": [[0.0, \"#0d0887\"], [0.1111111111111111, \"#46039f\"], [0.2222222222222222, \"#7201a8\"], [0.3333333333333333, \"#9c179e\"], [0.4444444444444444, \"#bd3786\"], [0.5555555555555556, \"#d8576b\"], [0.6666666666666666, \"#ed7953\"], [0.7777777777777778, \"#fb9f3a\"], [0.8888888888888888, \"#fdca26\"], [1.0, \"#f0f921\"]], \"type\": \"heatmapgl\"}], \"histogram\": [{\"marker\": {\"colorbar\": {\"outlinewidth\": 0, \"ticks\": \"\"}}, \"type\": \"histogram\"}], \"histogram2d\": [{\"colorbar\": {\"outlinewidth\": 0, \"ticks\": \"\"}, \"colorscale\": [[0.0, \"#0d0887\"], [0.1111111111111111, \"#46039f\"], [0.2222222222222222, \"#7201a8\"], [0.3333333333333333, \"#9c179e\"], [0.4444444444444444, \"#bd3786\"], [0.5555555555555556, \"#d8576b\"], [0.6666666666666666, \"#ed7953\"], [0.7777777777777778, \"#fb9f3a\"], [0.8888888888888888, \"#fdca26\"], [1.0, \"#f0f921\"]], \"type\": \"histogram2d\"}], \"histogram2dcontour\": [{\"colorbar\": {\"outlinewidth\": 0, \"ticks\": \"\"}, \"colorscale\": [[0.0, \"#0d0887\"], [0.1111111111111111, \"#46039f\"], [0.2222222222222222, \"#7201a8\"], [0.3333333333333333, \"#9c179e\"], [0.4444444444444444, \"#bd3786\"], [0.5555555555555556, \"#d8576b\"], [0.6666666666666666, \"#ed7953\"], [0.7777777777777778, \"#fb9f3a\"], [0.8888888888888888, \"#fdca26\"], [1.0, \"#f0f921\"]], \"type\": \"histogram2dcontour\"}], \"mesh3d\": [{\"colorbar\": {\"outlinewidth\": 0, \"ticks\": \"\"}, \"type\": \"mesh3d\"}], \"parcoords\": [{\"line\": {\"colorbar\": {\"outlinewidth\": 0, \"ticks\": \"\"}}, \"type\": \"parcoords\"}], \"pie\": [{\"automargin\": true, \"type\": \"pie\"}], \"scatter\": [{\"marker\": {\"colorbar\": {\"outlinewidth\": 0, \"ticks\": \"\"}}, \"type\": \"scatter\"}], \"scatter3d\": [{\"line\": {\"colorbar\": {\"outlinewidth\": 0, \"ticks\": \"\"}}, \"marker\": {\"colorbar\": {\"outlinewidth\": 0, \"ticks\": \"\"}}, \"type\": \"scatter3d\"}], \"scattercarpet\": [{\"marker\": {\"colorbar\": {\"outlinewidth\": 0, \"ticks\": \"\"}}, \"type\": \"scattercarpet\"}], \"scattergeo\": [{\"marker\": {\"colorbar\": {\"outlinewidth\": 0, \"ticks\": \"\"}}, \"type\": \"scattergeo\"}], \"scattergl\": [{\"marker\": {\"colorbar\": {\"outlinewidth\": 0, \"ticks\": \"\"}}, \"type\": \"scattergl\"}], \"scattermapbox\": [{\"marker\": {\"colorbar\": {\"outlinewidth\": 0, \"ticks\": \"\"}}, \"type\": \"scattermapbox\"}], \"scatterpolar\": [{\"marker\": {\"colorbar\": {\"outlinewidth\": 0, \"ticks\": \"\"}}, \"type\": \"scatterpolar\"}], \"scatterpolargl\": [{\"marker\": {\"colorbar\": {\"outlinewidth\": 0, \"ticks\": \"\"}}, \"type\": \"scatterpolargl\"}], \"scatterternary\": [{\"marker\": {\"colorbar\": {\"outlinewidth\": 0, \"ticks\": \"\"}}, \"type\": \"scatterternary\"}], \"surface\": [{\"colorbar\": {\"outlinewidth\": 0, \"ticks\": \"\"}, \"colorscale\": [[0.0, \"#0d0887\"], [0.1111111111111111, \"#46039f\"], [0.2222222222222222, \"#7201a8\"], [0.3333333333333333, \"#9c179e\"], [0.4444444444444444, \"#bd3786\"], [0.5555555555555556, \"#d8576b\"], [0.6666666666666666, \"#ed7953\"], [0.7777777777777778, \"#fb9f3a\"], [0.8888888888888888, \"#fdca26\"], [1.0, \"#f0f921\"]], \"type\": \"surface\"}], \"table\": [{\"cells\": {\"fill\": {\"color\": \"#EBF0F8\"}, \"line\": {\"color\": \"white\"}}, \"header\": {\"fill\": {\"color\": \"#C8D4E3\"}, \"line\": {\"color\": \"white\"}}, \"type\": \"table\"}]}, \"layout\": {\"annotationdefaults\": {\"arrowcolor\": \"#2a3f5f\", \"arrowhead\": 0, \"arrowwidth\": 1}, \"coloraxis\": {\"colorbar\": {\"outlinewidth\": 0, \"ticks\": \"\"}}, \"colorscale\": {\"diverging\": [[0, \"#8e0152\"], [0.1, \"#c51b7d\"], [0.2, \"#de77ae\"], [0.3, \"#f1b6da\"], [0.4, \"#fde0ef\"], [0.5, \"#f7f7f7\"], [0.6, \"#e6f5d0\"], [0.7, \"#b8e186\"], [0.8, \"#7fbc41\"], [0.9, \"#4d9221\"], [1, \"#276419\"]], \"sequential\": [[0.0, \"#0d0887\"], [0.1111111111111111, \"#46039f\"], [0.2222222222222222, \"#7201a8\"], [0.3333333333333333, \"#9c179e\"], [0.4444444444444444, \"#bd3786\"], [0.5555555555555556, \"#d8576b\"], [0.6666666666666666, \"#ed7953\"], [0.7777777777777778, \"#fb9f3a\"], [0.8888888888888888, \"#fdca26\"], [1.0, \"#f0f921\"]], \"sequentialminus\": [[0.0, \"#0d0887\"], [0.1111111111111111, \"#46039f\"], [0.2222222222222222, \"#7201a8\"], [0.3333333333333333, \"#9c179e\"], [0.4444444444444444, \"#bd3786\"], [0.5555555555555556, \"#d8576b\"], [0.6666666666666666, \"#ed7953\"], [0.7777777777777778, \"#fb9f3a\"], [0.8888888888888888, \"#fdca26\"], [1.0, \"#f0f921\"]]}, \"colorway\": [\"#636efa\", \"#EF553B\", \"#00cc96\", \"#ab63fa\", \"#FFA15A\", \"#19d3f3\", \"#FF6692\", \"#B6E880\", \"#FF97FF\", \"#FECB52\"], \"font\": {\"color\": \"#2a3f5f\"}, \"geo\": {\"bgcolor\": \"white\", \"lakecolor\": \"white\", \"landcolor\": \"#E5ECF6\", \"showlakes\": true, \"showland\": true, \"subunitcolor\": \"white\"}, \"hoverlabel\": {\"align\": \"left\"}, \"hovermode\": \"closest\", \"mapbox\": {\"style\": \"light\"}, \"paper_bgcolor\": \"white\", \"plot_bgcolor\": \"#E5ECF6\", \"polar\": {\"angularaxis\": {\"gridcolor\": \"white\", \"linecolor\": \"white\", \"ticks\": \"\"}, \"bgcolor\": \"#E5ECF6\", \"radialaxis\": {\"gridcolor\": \"white\", \"linecolor\": \"white\", \"ticks\": \"\"}}, \"scene\": {\"xaxis\": {\"backgroundcolor\": \"#E5ECF6\", \"gridcolor\": \"white\", \"gridwidth\": 2, \"linecolor\": \"white\", \"showbackground\": true, \"ticks\": \"\", \"zerolinecolor\": \"white\"}, \"yaxis\": {\"backgroundcolor\": \"#E5ECF6\", \"gridcolor\": \"white\", \"gridwidth\": 2, \"linecolor\": \"white\", \"showbackground\": true, \"ticks\": \"\", \"zerolinecolor\": \"white\"}, \"zaxis\": {\"backgroundcolor\": \"#E5ECF6\", \"gridcolor\": \"white\", \"gridwidth\": 2, \"linecolor\": \"white\", \"showbackground\": true, \"ticks\": \"\", \"zerolinecolor\": \"white\"}}, \"shapedefaults\": {\"line\": {\"color\": \"#2a3f5f\"}}, \"ternary\": {\"aaxis\": {\"gridcolor\": \"white\", \"linecolor\": \"white\", \"ticks\": \"\"}, \"baxis\": {\"gridcolor\": \"white\", \"linecolor\": \"white\", \"ticks\": \"\"}, \"bgcolor\": \"#E5ECF6\", \"caxis\": {\"gridcolor\": \"white\", \"linecolor\": \"white\", \"ticks\": \"\"}}, \"title\": {\"x\": 0.05}, \"xaxis\": {\"automargin\": true, \"gridcolor\": \"white\", \"linecolor\": \"white\", \"ticks\": \"\", \"title\": {\"standoff\": 15}, \"zerolinecolor\": \"white\", \"zerolinewidth\": 2}, \"yaxis\": {\"automargin\": true, \"gridcolor\": \"white\", \"linecolor\": \"white\", \"ticks\": \"\", \"title\": {\"standoff\": 15}, \"zerolinecolor\": \"white\", \"zerolinewidth\": 2}}}},\n",
       "                        {\"responsive\": true}\n",
       "                    ).then(function(){\n",
       "                            \n",
       "var gd = document.getElementById('6018b050-26f8-4e57-89fd-f3bb3144be25');\n",
       "var x = new MutationObserver(function (mutations, observer) {{\n",
       "        var display = window.getComputedStyle(gd).display;\n",
       "        if (!display || display === 'none') {{\n",
       "            console.log([gd, 'removed!']);\n",
       "            Plotly.purge(gd);\n",
       "            observer.disconnect();\n",
       "        }}\n",
       "}});\n",
       "\n",
       "// Listen for the removal of the full notebook cells\n",
       "var notebookContainer = gd.closest('#notebook-container');\n",
       "if (notebookContainer) {{\n",
       "    x.observe(notebookContainer, {childList: true});\n",
       "}}\n",
       "\n",
       "// Listen for the clearing of the current output cell\n",
       "var outputEl = gd.closest('.output');\n",
       "if (outputEl) {{\n",
       "    x.observe(outputEl, {childList: true});\n",
       "}}\n",
       "\n",
       "                        })\n",
       "                };\n",
       "                });\n",
       "            </script>\n",
       "        </div>"
      ]
     },
     "metadata": {},
     "output_type": "display_data"
    },
    {
     "data": {
      "application/vnd.plotly.v1+json": {
       "config": {
        "plotlyServerURL": "https://plot.ly"
       },
       "data": [
        {
         "mode": "markers",
         "text": [
          "filter1",
          "filter6",
          "filter8",
          "filter9",
          "filter10",
          "filter11",
          "filter14",
          "filter15",
          "filter23",
          "filter28",
          "filter34",
          "filter35",
          "filter40",
          "filter43",
          "filter44",
          "filter47",
          "filter50",
          "filter51",
          "filter65",
          "filter66",
          "filter67",
          "filter68",
          "filter69",
          "filter70",
          "filter78",
          "filter80",
          "filter85",
          "filter89",
          "filter93",
          "filter94",
          "filter97",
          "filter102",
          "filter105",
          "filter106",
          "filter112",
          "filter115",
          "filter120",
          "filter122",
          "filter123",
          "filter124",
          "filter127",
          "filter129",
          "filter132",
          "filter133",
          "filter135",
          "filter151",
          "filter154",
          "filter155",
          "filter157",
          "filter165",
          "filter166",
          "filter167",
          "filter170",
          "filter173",
          "filter174",
          "filter178",
          "filter183",
          "filter185",
          "filter186",
          "filter190",
          "filter194",
          "filter195",
          "filter196",
          "filter198",
          "filter202",
          "filter205",
          "filter209",
          "filter214",
          "filter217",
          "filter218",
          "filter219",
          "filter220",
          "filter223",
          "filter224",
          "filter227",
          "filter230",
          "filter231",
          "filter238",
          "filter242",
          "filter244",
          "filter247",
          "filter250",
          "filter252",
          "filter255",
          "filter257",
          "filter260",
          "filter264",
          "filter270",
          "filter275",
          "filter276",
          "filter279",
          "filter281",
          "filter283",
          "filter284",
          "filter286",
          "filter288",
          "filter290",
          "filter292",
          "filter297"
         ],
         "type": "scatter",
         "x": [
          null,
          null,
          null,
          null,
          null,
          null,
          null,
          null,
          null,
          null,
          null,
          null,
          null,
          null,
          null,
          null,
          null,
          null,
          null,
          null,
          null,
          null,
          null,
          null,
          null,
          null,
          null,
          null,
          null,
          null,
          null,
          null,
          null,
          null,
          null,
          null,
          null,
          null,
          null,
          null,
          null,
          null,
          null,
          null,
          null,
          null,
          null,
          null,
          null,
          null,
          null,
          null,
          null,
          null,
          null,
          null,
          null,
          null,
          null,
          null,
          null,
          null,
          null,
          null,
          null,
          null,
          null,
          null,
          null,
          null,
          null,
          null,
          null,
          null,
          null,
          null,
          null,
          null,
          null,
          null,
          null,
          null,
          null,
          null,
          null,
          null,
          null,
          null,
          null,
          null,
          null,
          null,
          null,
          null,
          null,
          null,
          null,
          null,
          null
         ],
         "y": [
          null,
          null,
          null,
          null,
          null,
          null,
          null,
          null,
          null,
          null,
          null,
          null,
          null,
          null,
          null,
          null,
          null,
          null,
          null,
          null,
          null,
          null,
          null,
          null,
          null,
          null,
          null,
          null,
          null,
          null,
          null,
          null,
          null,
          null,
          null,
          null,
          null,
          null,
          null,
          null,
          null,
          null,
          null,
          null,
          null,
          null,
          null,
          null,
          null,
          null,
          null,
          null,
          null,
          null,
          null,
          null,
          null,
          null,
          null,
          null,
          null,
          null,
          null,
          null,
          null,
          null,
          null,
          null,
          null,
          null,
          null,
          null,
          null,
          null,
          null,
          null,
          null,
          null,
          null,
          null,
          null,
          null,
          null,
          null,
          null,
          null,
          null,
          null,
          null,
          null,
          null,
          null,
          null,
          null,
          null,
          null,
          null,
          null,
          null
         ]
        }
       ],
       "layout": {
        "template": {
         "data": {
          "bar": [
           {
            "error_x": {
             "color": "#2a3f5f"
            },
            "error_y": {
             "color": "#2a3f5f"
            },
            "marker": {
             "line": {
              "color": "#E5ECF6",
              "width": 0.5
             }
            },
            "type": "bar"
           }
          ],
          "barpolar": [
           {
            "marker": {
             "line": {
              "color": "#E5ECF6",
              "width": 0.5
             }
            },
            "type": "barpolar"
           }
          ],
          "carpet": [
           {
            "aaxis": {
             "endlinecolor": "#2a3f5f",
             "gridcolor": "white",
             "linecolor": "white",
             "minorgridcolor": "white",
             "startlinecolor": "#2a3f5f"
            },
            "baxis": {
             "endlinecolor": "#2a3f5f",
             "gridcolor": "white",
             "linecolor": "white",
             "minorgridcolor": "white",
             "startlinecolor": "#2a3f5f"
            },
            "type": "carpet"
           }
          ],
          "choropleth": [
           {
            "colorbar": {
             "outlinewidth": 0,
             "ticks": ""
            },
            "type": "choropleth"
           }
          ],
          "contour": [
           {
            "colorbar": {
             "outlinewidth": 0,
             "ticks": ""
            },
            "colorscale": [
             [
              0,
              "#0d0887"
             ],
             [
              0.1111111111111111,
              "#46039f"
             ],
             [
              0.2222222222222222,
              "#7201a8"
             ],
             [
              0.3333333333333333,
              "#9c179e"
             ],
             [
              0.4444444444444444,
              "#bd3786"
             ],
             [
              0.5555555555555556,
              "#d8576b"
             ],
             [
              0.6666666666666666,
              "#ed7953"
             ],
             [
              0.7777777777777778,
              "#fb9f3a"
             ],
             [
              0.8888888888888888,
              "#fdca26"
             ],
             [
              1,
              "#f0f921"
             ]
            ],
            "type": "contour"
           }
          ],
          "contourcarpet": [
           {
            "colorbar": {
             "outlinewidth": 0,
             "ticks": ""
            },
            "type": "contourcarpet"
           }
          ],
          "heatmap": [
           {
            "colorbar": {
             "outlinewidth": 0,
             "ticks": ""
            },
            "colorscale": [
             [
              0,
              "#0d0887"
             ],
             [
              0.1111111111111111,
              "#46039f"
             ],
             [
              0.2222222222222222,
              "#7201a8"
             ],
             [
              0.3333333333333333,
              "#9c179e"
             ],
             [
              0.4444444444444444,
              "#bd3786"
             ],
             [
              0.5555555555555556,
              "#d8576b"
             ],
             [
              0.6666666666666666,
              "#ed7953"
             ],
             [
              0.7777777777777778,
              "#fb9f3a"
             ],
             [
              0.8888888888888888,
              "#fdca26"
             ],
             [
              1,
              "#f0f921"
             ]
            ],
            "type": "heatmap"
           }
          ],
          "heatmapgl": [
           {
            "colorbar": {
             "outlinewidth": 0,
             "ticks": ""
            },
            "colorscale": [
             [
              0,
              "#0d0887"
             ],
             [
              0.1111111111111111,
              "#46039f"
             ],
             [
              0.2222222222222222,
              "#7201a8"
             ],
             [
              0.3333333333333333,
              "#9c179e"
             ],
             [
              0.4444444444444444,
              "#bd3786"
             ],
             [
              0.5555555555555556,
              "#d8576b"
             ],
             [
              0.6666666666666666,
              "#ed7953"
             ],
             [
              0.7777777777777778,
              "#fb9f3a"
             ],
             [
              0.8888888888888888,
              "#fdca26"
             ],
             [
              1,
              "#f0f921"
             ]
            ],
            "type": "heatmapgl"
           }
          ],
          "histogram": [
           {
            "marker": {
             "colorbar": {
              "outlinewidth": 0,
              "ticks": ""
             }
            },
            "type": "histogram"
           }
          ],
          "histogram2d": [
           {
            "colorbar": {
             "outlinewidth": 0,
             "ticks": ""
            },
            "colorscale": [
             [
              0,
              "#0d0887"
             ],
             [
              0.1111111111111111,
              "#46039f"
             ],
             [
              0.2222222222222222,
              "#7201a8"
             ],
             [
              0.3333333333333333,
              "#9c179e"
             ],
             [
              0.4444444444444444,
              "#bd3786"
             ],
             [
              0.5555555555555556,
              "#d8576b"
             ],
             [
              0.6666666666666666,
              "#ed7953"
             ],
             [
              0.7777777777777778,
              "#fb9f3a"
             ],
             [
              0.8888888888888888,
              "#fdca26"
             ],
             [
              1,
              "#f0f921"
             ]
            ],
            "type": "histogram2d"
           }
          ],
          "histogram2dcontour": [
           {
            "colorbar": {
             "outlinewidth": 0,
             "ticks": ""
            },
            "colorscale": [
             [
              0,
              "#0d0887"
             ],
             [
              0.1111111111111111,
              "#46039f"
             ],
             [
              0.2222222222222222,
              "#7201a8"
             ],
             [
              0.3333333333333333,
              "#9c179e"
             ],
             [
              0.4444444444444444,
              "#bd3786"
             ],
             [
              0.5555555555555556,
              "#d8576b"
             ],
             [
              0.6666666666666666,
              "#ed7953"
             ],
             [
              0.7777777777777778,
              "#fb9f3a"
             ],
             [
              0.8888888888888888,
              "#fdca26"
             ],
             [
              1,
              "#f0f921"
             ]
            ],
            "type": "histogram2dcontour"
           }
          ],
          "mesh3d": [
           {
            "colorbar": {
             "outlinewidth": 0,
             "ticks": ""
            },
            "type": "mesh3d"
           }
          ],
          "parcoords": [
           {
            "line": {
             "colorbar": {
              "outlinewidth": 0,
              "ticks": ""
             }
            },
            "type": "parcoords"
           }
          ],
          "pie": [
           {
            "automargin": true,
            "type": "pie"
           }
          ],
          "scatter": [
           {
            "marker": {
             "colorbar": {
              "outlinewidth": 0,
              "ticks": ""
             }
            },
            "type": "scatter"
           }
          ],
          "scatter3d": [
           {
            "line": {
             "colorbar": {
              "outlinewidth": 0,
              "ticks": ""
             }
            },
            "marker": {
             "colorbar": {
              "outlinewidth": 0,
              "ticks": ""
             }
            },
            "type": "scatter3d"
           }
          ],
          "scattercarpet": [
           {
            "marker": {
             "colorbar": {
              "outlinewidth": 0,
              "ticks": ""
             }
            },
            "type": "scattercarpet"
           }
          ],
          "scattergeo": [
           {
            "marker": {
             "colorbar": {
              "outlinewidth": 0,
              "ticks": ""
             }
            },
            "type": "scattergeo"
           }
          ],
          "scattergl": [
           {
            "marker": {
             "colorbar": {
              "outlinewidth": 0,
              "ticks": ""
             }
            },
            "type": "scattergl"
           }
          ],
          "scattermapbox": [
           {
            "marker": {
             "colorbar": {
              "outlinewidth": 0,
              "ticks": ""
             }
            },
            "type": "scattermapbox"
           }
          ],
          "scatterpolar": [
           {
            "marker": {
             "colorbar": {
              "outlinewidth": 0,
              "ticks": ""
             }
            },
            "type": "scatterpolar"
           }
          ],
          "scatterpolargl": [
           {
            "marker": {
             "colorbar": {
              "outlinewidth": 0,
              "ticks": ""
             }
            },
            "type": "scatterpolargl"
           }
          ],
          "scatterternary": [
           {
            "marker": {
             "colorbar": {
              "outlinewidth": 0,
              "ticks": ""
             }
            },
            "type": "scatterternary"
           }
          ],
          "surface": [
           {
            "colorbar": {
             "outlinewidth": 0,
             "ticks": ""
            },
            "colorscale": [
             [
              0,
              "#0d0887"
             ],
             [
              0.1111111111111111,
              "#46039f"
             ],
             [
              0.2222222222222222,
              "#7201a8"
             ],
             [
              0.3333333333333333,
              "#9c179e"
             ],
             [
              0.4444444444444444,
              "#bd3786"
             ],
             [
              0.5555555555555556,
              "#d8576b"
             ],
             [
              0.6666666666666666,
              "#ed7953"
             ],
             [
              0.7777777777777778,
              "#fb9f3a"
             ],
             [
              0.8888888888888888,
              "#fdca26"
             ],
             [
              1,
              "#f0f921"
             ]
            ],
            "type": "surface"
           }
          ],
          "table": [
           {
            "cells": {
             "fill": {
              "color": "#EBF0F8"
             },
             "line": {
              "color": "white"
             }
            },
            "header": {
             "fill": {
              "color": "#C8D4E3"
             },
             "line": {
              "color": "white"
             }
            },
            "type": "table"
           }
          ]
         },
         "layout": {
          "annotationdefaults": {
           "arrowcolor": "#2a3f5f",
           "arrowhead": 0,
           "arrowwidth": 1
          },
          "coloraxis": {
           "colorbar": {
            "outlinewidth": 0,
            "ticks": ""
           }
          },
          "colorscale": {
           "diverging": [
            [
             0,
             "#8e0152"
            ],
            [
             0.1,
             "#c51b7d"
            ],
            [
             0.2,
             "#de77ae"
            ],
            [
             0.3,
             "#f1b6da"
            ],
            [
             0.4,
             "#fde0ef"
            ],
            [
             0.5,
             "#f7f7f7"
            ],
            [
             0.6,
             "#e6f5d0"
            ],
            [
             0.7,
             "#b8e186"
            ],
            [
             0.8,
             "#7fbc41"
            ],
            [
             0.9,
             "#4d9221"
            ],
            [
             1,
             "#276419"
            ]
           ],
           "sequential": [
            [
             0,
             "#0d0887"
            ],
            [
             0.1111111111111111,
             "#46039f"
            ],
            [
             0.2222222222222222,
             "#7201a8"
            ],
            [
             0.3333333333333333,
             "#9c179e"
            ],
            [
             0.4444444444444444,
             "#bd3786"
            ],
            [
             0.5555555555555556,
             "#d8576b"
            ],
            [
             0.6666666666666666,
             "#ed7953"
            ],
            [
             0.7777777777777778,
             "#fb9f3a"
            ],
            [
             0.8888888888888888,
             "#fdca26"
            ],
            [
             1,
             "#f0f921"
            ]
           ],
           "sequentialminus": [
            [
             0,
             "#0d0887"
            ],
            [
             0.1111111111111111,
             "#46039f"
            ],
            [
             0.2222222222222222,
             "#7201a8"
            ],
            [
             0.3333333333333333,
             "#9c179e"
            ],
            [
             0.4444444444444444,
             "#bd3786"
            ],
            [
             0.5555555555555556,
             "#d8576b"
            ],
            [
             0.6666666666666666,
             "#ed7953"
            ],
            [
             0.7777777777777778,
             "#fb9f3a"
            ],
            [
             0.8888888888888888,
             "#fdca26"
            ],
            [
             1,
             "#f0f921"
            ]
           ]
          },
          "colorway": [
           "#636efa",
           "#EF553B",
           "#00cc96",
           "#ab63fa",
           "#FFA15A",
           "#19d3f3",
           "#FF6692",
           "#B6E880",
           "#FF97FF",
           "#FECB52"
          ],
          "font": {
           "color": "#2a3f5f"
          },
          "geo": {
           "bgcolor": "white",
           "lakecolor": "white",
           "landcolor": "#E5ECF6",
           "showlakes": true,
           "showland": true,
           "subunitcolor": "white"
          },
          "hoverlabel": {
           "align": "left"
          },
          "hovermode": "closest",
          "mapbox": {
           "style": "light"
          },
          "paper_bgcolor": "white",
          "plot_bgcolor": "#E5ECF6",
          "polar": {
           "angularaxis": {
            "gridcolor": "white",
            "linecolor": "white",
            "ticks": ""
           },
           "bgcolor": "#E5ECF6",
           "radialaxis": {
            "gridcolor": "white",
            "linecolor": "white",
            "ticks": ""
           }
          },
          "scene": {
           "xaxis": {
            "backgroundcolor": "#E5ECF6",
            "gridcolor": "white",
            "gridwidth": 2,
            "linecolor": "white",
            "showbackground": true,
            "ticks": "",
            "zerolinecolor": "white"
           },
           "yaxis": {
            "backgroundcolor": "#E5ECF6",
            "gridcolor": "white",
            "gridwidth": 2,
            "linecolor": "white",
            "showbackground": true,
            "ticks": "",
            "zerolinecolor": "white"
           },
           "zaxis": {
            "backgroundcolor": "#E5ECF6",
            "gridcolor": "white",
            "gridwidth": 2,
            "linecolor": "white",
            "showbackground": true,
            "ticks": "",
            "zerolinecolor": "white"
           }
          },
          "shapedefaults": {
           "line": {
            "color": "#2a3f5f"
           }
          },
          "ternary": {
           "aaxis": {
            "gridcolor": "white",
            "linecolor": "white",
            "ticks": ""
           },
           "baxis": {
            "gridcolor": "white",
            "linecolor": "white",
            "ticks": ""
           },
           "bgcolor": "#E5ECF6",
           "caxis": {
            "gridcolor": "white",
            "linecolor": "white",
            "ticks": ""
           }
          },
          "title": {
           "x": 0.05
          },
          "xaxis": {
           "automargin": true,
           "gridcolor": "white",
           "linecolor": "white",
           "ticks": "",
           "title": {
            "standoff": 15
           },
           "zerolinecolor": "white",
           "zerolinewidth": 2
          },
          "yaxis": {
           "automargin": true,
           "gridcolor": "white",
           "linecolor": "white",
           "ticks": "",
           "title": {
            "standoff": 15
           },
           "zerolinecolor": "white",
           "zerolinewidth": 2
          }
         }
        }
       }
      },
      "text/html": [
       "<div>\n",
       "        \n",
       "        \n",
       "            <div id=\"6589a958-532b-473e-9270-3dc6b1e2bb1a\" class=\"plotly-graph-div\" style=\"height:525px; width:100%;\"></div>\n",
       "            <script type=\"text/javascript\">\n",
       "                require([\"plotly\"], function(Plotly) {\n",
       "                    window.PLOTLYENV=window.PLOTLYENV || {};\n",
       "                    \n",
       "                if (document.getElementById(\"6589a958-532b-473e-9270-3dc6b1e2bb1a\")) {\n",
       "                    Plotly.newPlot(\n",
       "                        '6589a958-532b-473e-9270-3dc6b1e2bb1a',\n",
       "                        [{\"mode\": \"markers\", \"text\": [\"filter1\", \"filter6\", \"filter8\", \"filter9\", \"filter10\", \"filter11\", \"filter14\", \"filter15\", \"filter23\", \"filter28\", \"filter34\", \"filter35\", \"filter40\", \"filter43\", \"filter44\", \"filter47\", \"filter50\", \"filter51\", \"filter65\", \"filter66\", \"filter67\", \"filter68\", \"filter69\", \"filter70\", \"filter78\", \"filter80\", \"filter85\", \"filter89\", \"filter93\", \"filter94\", \"filter97\", \"filter102\", \"filter105\", \"filter106\", \"filter112\", \"filter115\", \"filter120\", \"filter122\", \"filter123\", \"filter124\", \"filter127\", \"filter129\", \"filter132\", \"filter133\", \"filter135\", \"filter151\", \"filter154\", \"filter155\", \"filter157\", \"filter165\", \"filter166\", \"filter167\", \"filter170\", \"filter173\", \"filter174\", \"filter178\", \"filter183\", \"filter185\", \"filter186\", \"filter190\", \"filter194\", \"filter195\", \"filter196\", \"filter198\", \"filter202\", \"filter205\", \"filter209\", \"filter214\", \"filter217\", \"filter218\", \"filter219\", \"filter220\", \"filter223\", \"filter224\", \"filter227\", \"filter230\", \"filter231\", \"filter238\", \"filter242\", \"filter244\", \"filter247\", \"filter250\", \"filter252\", \"filter255\", \"filter257\", \"filter260\", \"filter264\", \"filter270\", \"filter275\", \"filter276\", \"filter279\", \"filter281\", \"filter283\", \"filter284\", \"filter286\", \"filter288\", \"filter290\", \"filter292\", \"filter297\"], \"type\": \"scatter\", \"x\": [null, null, null, null, null, null, null, null, null, null, null, null, null, null, null, null, null, null, null, null, null, null, null, null, null, null, null, null, null, null, null, null, null, null, null, null, null, null, null, null, null, null, null, null, null, null, null, null, null, null, null, null, null, null, null, null, null, null, null, null, null, null, null, null, null, null, null, null, null, null, null, null, null, null, null, null, null, null, null, null, null, null, null, null, null, null, null, null, null, null, null, null, null, null, null, null, null, null, null], \"y\": [null, null, null, null, null, null, null, null, null, null, null, null, null, null, null, null, null, null, null, null, null, null, null, null, null, null, null, null, null, null, null, null, null, null, null, null, null, null, null, null, null, null, null, null, null, null, null, null, null, null, null, null, null, null, null, null, null, null, null, null, null, null, null, null, null, null, null, null, null, null, null, null, null, null, null, null, null, null, null, null, null, null, null, null, null, null, null, null, null, null, null, null, null, null, null, null, null, null, null]}],\n",
       "                        {\"template\": {\"data\": {\"bar\": [{\"error_x\": {\"color\": \"#2a3f5f\"}, \"error_y\": {\"color\": \"#2a3f5f\"}, \"marker\": {\"line\": {\"color\": \"#E5ECF6\", \"width\": 0.5}}, \"type\": \"bar\"}], \"barpolar\": [{\"marker\": {\"line\": {\"color\": \"#E5ECF6\", \"width\": 0.5}}, \"type\": \"barpolar\"}], \"carpet\": [{\"aaxis\": {\"endlinecolor\": \"#2a3f5f\", \"gridcolor\": \"white\", \"linecolor\": \"white\", \"minorgridcolor\": \"white\", \"startlinecolor\": \"#2a3f5f\"}, \"baxis\": {\"endlinecolor\": \"#2a3f5f\", \"gridcolor\": \"white\", \"linecolor\": \"white\", \"minorgridcolor\": \"white\", \"startlinecolor\": \"#2a3f5f\"}, \"type\": \"carpet\"}], \"choropleth\": [{\"colorbar\": {\"outlinewidth\": 0, \"ticks\": \"\"}, \"type\": \"choropleth\"}], \"contour\": [{\"colorbar\": {\"outlinewidth\": 0, \"ticks\": \"\"}, \"colorscale\": [[0.0, \"#0d0887\"], [0.1111111111111111, \"#46039f\"], [0.2222222222222222, \"#7201a8\"], [0.3333333333333333, \"#9c179e\"], [0.4444444444444444, \"#bd3786\"], [0.5555555555555556, \"#d8576b\"], [0.6666666666666666, \"#ed7953\"], [0.7777777777777778, \"#fb9f3a\"], [0.8888888888888888, \"#fdca26\"], [1.0, \"#f0f921\"]], \"type\": \"contour\"}], \"contourcarpet\": [{\"colorbar\": {\"outlinewidth\": 0, \"ticks\": \"\"}, \"type\": \"contourcarpet\"}], \"heatmap\": [{\"colorbar\": {\"outlinewidth\": 0, \"ticks\": \"\"}, \"colorscale\": [[0.0, \"#0d0887\"], [0.1111111111111111, \"#46039f\"], [0.2222222222222222, \"#7201a8\"], [0.3333333333333333, \"#9c179e\"], [0.4444444444444444, \"#bd3786\"], [0.5555555555555556, \"#d8576b\"], [0.6666666666666666, \"#ed7953\"], [0.7777777777777778, \"#fb9f3a\"], [0.8888888888888888, \"#fdca26\"], [1.0, \"#f0f921\"]], \"type\": \"heatmap\"}], \"heatmapgl\": [{\"colorbar\": {\"outlinewidth\": 0, \"ticks\": \"\"}, \"colorscale\": [[0.0, \"#0d0887\"], [0.1111111111111111, \"#46039f\"], [0.2222222222222222, \"#7201a8\"], [0.3333333333333333, \"#9c179e\"], [0.4444444444444444, \"#bd3786\"], [0.5555555555555556, \"#d8576b\"], [0.6666666666666666, \"#ed7953\"], [0.7777777777777778, \"#fb9f3a\"], [0.8888888888888888, \"#fdca26\"], [1.0, \"#f0f921\"]], \"type\": \"heatmapgl\"}], \"histogram\": [{\"marker\": {\"colorbar\": {\"outlinewidth\": 0, \"ticks\": \"\"}}, \"type\": \"histogram\"}], \"histogram2d\": [{\"colorbar\": {\"outlinewidth\": 0, \"ticks\": \"\"}, \"colorscale\": [[0.0, \"#0d0887\"], [0.1111111111111111, \"#46039f\"], [0.2222222222222222, \"#7201a8\"], [0.3333333333333333, \"#9c179e\"], [0.4444444444444444, \"#bd3786\"], [0.5555555555555556, \"#d8576b\"], [0.6666666666666666, \"#ed7953\"], [0.7777777777777778, \"#fb9f3a\"], [0.8888888888888888, \"#fdca26\"], [1.0, \"#f0f921\"]], \"type\": \"histogram2d\"}], \"histogram2dcontour\": [{\"colorbar\": {\"outlinewidth\": 0, \"ticks\": \"\"}, \"colorscale\": [[0.0, \"#0d0887\"], [0.1111111111111111, \"#46039f\"], [0.2222222222222222, \"#7201a8\"], [0.3333333333333333, \"#9c179e\"], [0.4444444444444444, \"#bd3786\"], [0.5555555555555556, \"#d8576b\"], [0.6666666666666666, \"#ed7953\"], [0.7777777777777778, \"#fb9f3a\"], [0.8888888888888888, \"#fdca26\"], [1.0, \"#f0f921\"]], \"type\": \"histogram2dcontour\"}], \"mesh3d\": [{\"colorbar\": {\"outlinewidth\": 0, \"ticks\": \"\"}, \"type\": \"mesh3d\"}], \"parcoords\": [{\"line\": {\"colorbar\": {\"outlinewidth\": 0, \"ticks\": \"\"}}, \"type\": \"parcoords\"}], \"pie\": [{\"automargin\": true, \"type\": \"pie\"}], \"scatter\": [{\"marker\": {\"colorbar\": {\"outlinewidth\": 0, \"ticks\": \"\"}}, \"type\": \"scatter\"}], \"scatter3d\": [{\"line\": {\"colorbar\": {\"outlinewidth\": 0, \"ticks\": \"\"}}, \"marker\": {\"colorbar\": {\"outlinewidth\": 0, \"ticks\": \"\"}}, \"type\": \"scatter3d\"}], \"scattercarpet\": [{\"marker\": {\"colorbar\": {\"outlinewidth\": 0, \"ticks\": \"\"}}, \"type\": \"scattercarpet\"}], \"scattergeo\": [{\"marker\": {\"colorbar\": {\"outlinewidth\": 0, \"ticks\": \"\"}}, \"type\": \"scattergeo\"}], \"scattergl\": [{\"marker\": {\"colorbar\": {\"outlinewidth\": 0, \"ticks\": \"\"}}, \"type\": \"scattergl\"}], \"scattermapbox\": [{\"marker\": {\"colorbar\": {\"outlinewidth\": 0, \"ticks\": \"\"}}, \"type\": \"scattermapbox\"}], \"scatterpolar\": [{\"marker\": {\"colorbar\": {\"outlinewidth\": 0, \"ticks\": \"\"}}, \"type\": \"scatterpolar\"}], \"scatterpolargl\": [{\"marker\": {\"colorbar\": {\"outlinewidth\": 0, \"ticks\": \"\"}}, \"type\": \"scatterpolargl\"}], \"scatterternary\": [{\"marker\": {\"colorbar\": {\"outlinewidth\": 0, \"ticks\": \"\"}}, \"type\": \"scatterternary\"}], \"surface\": [{\"colorbar\": {\"outlinewidth\": 0, \"ticks\": \"\"}, \"colorscale\": [[0.0, \"#0d0887\"], [0.1111111111111111, \"#46039f\"], [0.2222222222222222, \"#7201a8\"], [0.3333333333333333, \"#9c179e\"], [0.4444444444444444, \"#bd3786\"], [0.5555555555555556, \"#d8576b\"], [0.6666666666666666, \"#ed7953\"], [0.7777777777777778, \"#fb9f3a\"], [0.8888888888888888, \"#fdca26\"], [1.0, \"#f0f921\"]], \"type\": \"surface\"}], \"table\": [{\"cells\": {\"fill\": {\"color\": \"#EBF0F8\"}, \"line\": {\"color\": \"white\"}}, \"header\": {\"fill\": {\"color\": \"#C8D4E3\"}, \"line\": {\"color\": \"white\"}}, \"type\": \"table\"}]}, \"layout\": {\"annotationdefaults\": {\"arrowcolor\": \"#2a3f5f\", \"arrowhead\": 0, \"arrowwidth\": 1}, \"coloraxis\": {\"colorbar\": {\"outlinewidth\": 0, \"ticks\": \"\"}}, \"colorscale\": {\"diverging\": [[0, \"#8e0152\"], [0.1, \"#c51b7d\"], [0.2, \"#de77ae\"], [0.3, \"#f1b6da\"], [0.4, \"#fde0ef\"], [0.5, \"#f7f7f7\"], [0.6, \"#e6f5d0\"], [0.7, \"#b8e186\"], [0.8, \"#7fbc41\"], [0.9, \"#4d9221\"], [1, \"#276419\"]], \"sequential\": [[0.0, \"#0d0887\"], [0.1111111111111111, \"#46039f\"], [0.2222222222222222, \"#7201a8\"], [0.3333333333333333, \"#9c179e\"], [0.4444444444444444, \"#bd3786\"], [0.5555555555555556, \"#d8576b\"], [0.6666666666666666, \"#ed7953\"], [0.7777777777777778, \"#fb9f3a\"], [0.8888888888888888, \"#fdca26\"], [1.0, \"#f0f921\"]], \"sequentialminus\": [[0.0, \"#0d0887\"], [0.1111111111111111, \"#46039f\"], [0.2222222222222222, \"#7201a8\"], [0.3333333333333333, \"#9c179e\"], [0.4444444444444444, \"#bd3786\"], [0.5555555555555556, \"#d8576b\"], [0.6666666666666666, \"#ed7953\"], [0.7777777777777778, \"#fb9f3a\"], [0.8888888888888888, \"#fdca26\"], [1.0, \"#f0f921\"]]}, \"colorway\": [\"#636efa\", \"#EF553B\", \"#00cc96\", \"#ab63fa\", \"#FFA15A\", \"#19d3f3\", \"#FF6692\", \"#B6E880\", \"#FF97FF\", \"#FECB52\"], \"font\": {\"color\": \"#2a3f5f\"}, \"geo\": {\"bgcolor\": \"white\", \"lakecolor\": \"white\", \"landcolor\": \"#E5ECF6\", \"showlakes\": true, \"showland\": true, \"subunitcolor\": \"white\"}, \"hoverlabel\": {\"align\": \"left\"}, \"hovermode\": \"closest\", \"mapbox\": {\"style\": \"light\"}, \"paper_bgcolor\": \"white\", \"plot_bgcolor\": \"#E5ECF6\", \"polar\": {\"angularaxis\": {\"gridcolor\": \"white\", \"linecolor\": \"white\", \"ticks\": \"\"}, \"bgcolor\": \"#E5ECF6\", \"radialaxis\": {\"gridcolor\": \"white\", \"linecolor\": \"white\", \"ticks\": \"\"}}, \"scene\": {\"xaxis\": {\"backgroundcolor\": \"#E5ECF6\", \"gridcolor\": \"white\", \"gridwidth\": 2, \"linecolor\": \"white\", \"showbackground\": true, \"ticks\": \"\", \"zerolinecolor\": \"white\"}, \"yaxis\": {\"backgroundcolor\": \"#E5ECF6\", \"gridcolor\": \"white\", \"gridwidth\": 2, \"linecolor\": \"white\", \"showbackground\": true, \"ticks\": \"\", \"zerolinecolor\": \"white\"}, \"zaxis\": {\"backgroundcolor\": \"#E5ECF6\", \"gridcolor\": \"white\", \"gridwidth\": 2, \"linecolor\": \"white\", \"showbackground\": true, \"ticks\": \"\", \"zerolinecolor\": \"white\"}}, \"shapedefaults\": {\"line\": {\"color\": \"#2a3f5f\"}}, \"ternary\": {\"aaxis\": {\"gridcolor\": \"white\", \"linecolor\": \"white\", \"ticks\": \"\"}, \"baxis\": {\"gridcolor\": \"white\", \"linecolor\": \"white\", \"ticks\": \"\"}, \"bgcolor\": \"#E5ECF6\", \"caxis\": {\"gridcolor\": \"white\", \"linecolor\": \"white\", \"ticks\": \"\"}}, \"title\": {\"x\": 0.05}, \"xaxis\": {\"automargin\": true, \"gridcolor\": \"white\", \"linecolor\": \"white\", \"ticks\": \"\", \"title\": {\"standoff\": 15}, \"zerolinecolor\": \"white\", \"zerolinewidth\": 2}, \"yaxis\": {\"automargin\": true, \"gridcolor\": \"white\", \"linecolor\": \"white\", \"ticks\": \"\", \"title\": {\"standoff\": 15}, \"zerolinecolor\": \"white\", \"zerolinewidth\": 2}}}},\n",
       "                        {\"responsive\": true}\n",
       "                    ).then(function(){\n",
       "                            \n",
       "var gd = document.getElementById('6589a958-532b-473e-9270-3dc6b1e2bb1a');\n",
       "var x = new MutationObserver(function (mutations, observer) {{\n",
       "        var display = window.getComputedStyle(gd).display;\n",
       "        if (!display || display === 'none') {{\n",
       "            console.log([gd, 'removed!']);\n",
       "            Plotly.purge(gd);\n",
       "            observer.disconnect();\n",
       "        }}\n",
       "}});\n",
       "\n",
       "// Listen for the removal of the full notebook cells\n",
       "var notebookContainer = gd.closest('#notebook-container');\n",
       "if (notebookContainer) {{\n",
       "    x.observe(notebookContainer, {childList: true});\n",
       "}}\n",
       "\n",
       "// Listen for the clearing of the current output cell\n",
       "var outputEl = gd.closest('.output');\n",
       "if (outputEl) {{\n",
       "    x.observe(outputEl, {childList: true});\n",
       "}}\n",
       "\n",
       "                        })\n",
       "                };\n",
       "                });\n",
       "            </script>\n",
       "        </div>"
      ]
     },
     "metadata": {},
     "output_type": "display_data"
    }
   ],
   "source": [
    "fig = go.Figure()\n",
    "fig.add_trace(go.Bar(x=comparaison.index, y=comparaison[[c for c in comparaison.columns if 'sasha' in c]].max(1)))\n",
    "fig.add_trace(go.Bar(x = comparaison.index, y=comparaison[[c for c in comparaison.columns if 'generated' in c]].max(1)))\n",
    "fig.show()\n",
    "go.Figure(go.Scatter(x = comparaison[[c for c in comparaison.columns if 'generated' in c]].max(1),\n",
    "                     y = comparaison[[c for c in comparaison.columns if 'sasha' in c]].max(1),\n",
    "                     mode='markers', text = comparaison.index))"
   ]
  },
  {
   "cell_type": "markdown",
   "metadata": {
    "hidden": true
   },
   "source": [
    "### Importance by cell type"
   ]
  },
  {
   "cell_type": "code",
   "execution_count": 43,
   "metadata": {
    "hidden": true
   },
   "outputs": [
    {
     "data": {
      "application/vnd.jupyter.widget-view+json": {
       "model_id": "f0d88d45bbd04d578b5ee0ef3ff39c54",
       "version_major": 2,
       "version_minor": 0
      },
      "text/plain": [
       "interactive(children=(Dropdown(description='ct', options=('abT', 'stem', 'gdT', 'B', 'innate.lym', 'myeloid'),…"
      ]
     },
     "metadata": {},
     "output_type": "display_data"
    }
   ],
   "source": [
    "@interact_manual\n",
    "def motifs_influence_sasha(ct=generated_smotifs.drop(columns=['Best overall TF match','Motif consensus Sequence']).columns) :\n",
    "    fig = go.Figure(go.Scatter(y = comparaison['{}_generated'.format(ct)],\n",
    "                         x = comparaison['{}_sasha'.format(ct)],\n",
    "                         mode='markers+text',\n",
    "                         text = comparaison['Best overall TF match'],\n",
    "                         hovertext=comparaison.index,\n",
    "                         textposition=\"bottom left\"))\n",
    "    fig.update_layout(title=\"Comparaison of feature importance for Lineage : {}\".format(ct),\n",
    "                      yaxis_title='Generated Motifs',\n",
    "                      xaxis_title =\"Sashas's motif importance\")\n",
    "    fig.show()\n"
   ]
  },
  {
   "cell_type": "markdown",
   "metadata": {
    "heading_collapsed": true,
    "hidden": true
   },
   "source": [
    "### Heatmaps"
   ]
  },
  {
   "cell_type": "code",
   "execution_count": 19,
   "metadata": {
    "hidden": true
   },
   "outputs": [
    {
     "data": {
      "application/vnd.plotly.v1+json": {
       "config": {
        "plotlyServerURL": "https://plot.ly"
       },
       "data": [
        {
         "type": "heatmap",
         "x": [
          "B.",
          "myeloid.",
          "innate.lym.",
          "abT.",
          "stem.",
          "gdT."
         ],
         "y": [
          "filter1",
          "filter6",
          "filter8",
          "filter10",
          "filter11",
          "filter14",
          "filter15",
          "filter23",
          "filter28",
          "filter34",
          "filter35",
          "filter43",
          "filter44",
          "filter47",
          "filter50",
          "filter51",
          "filter65",
          "filter67",
          "filter68",
          "filter69",
          "filter78",
          "filter80",
          "filter85",
          "filter89",
          "filter93",
          "filter94",
          "filter97",
          "filter106",
          "filter112",
          "filter115",
          "filter120",
          "filter122",
          "filter123",
          "filter129",
          "filter133",
          "filter135",
          "filter154",
          "filter165",
          "filter166",
          "filter167",
          "filter173",
          "filter174",
          "filter178",
          "filter190",
          "filter195",
          "filter198",
          "filter205",
          "filter217",
          "filter218",
          "filter220",
          "filter224",
          "filter230",
          "filter231",
          "filter238",
          "filter242",
          "filter244",
          "filter247",
          "filter250",
          "filter252",
          "filter255",
          "filter257",
          "filter260",
          "filter264",
          "filter275",
          "filter276",
          "filter279",
          "filter283",
          "filter284",
          "filter286",
          "filter288",
          "filter290",
          "filter292",
          "filter297"
         ],
         "z": [
          [
           0,
           0.017,
           0.018000000000000002,
           0.035,
           0.003,
           0.001
          ],
          [
           0.006,
           0.15,
           0.003,
           0.002,
           0.013999999999999999,
           0.003
          ],
          [
           0.226,
           0.015,
           0.242,
           0.183,
           0.008,
           0.021
          ],
          [
           0.009000000000000001,
           0,
           0.996,
           0.048,
           0.804,
           0.095
          ],
          [
           0.054000000000000006,
           1,
           0.924,
           0.087,
           0.937,
           0.064
          ],
          [
           0.16399999999999998,
           0.025,
           0.057,
           0.01,
           0.064,
           0
          ],
          [
           0.022000000000000002,
           0,
           0.9940000000000001,
           0.046,
           0.868,
           0.115
          ],
          [
           0.046,
           0.131,
           0.087,
           0.03,
           0.035,
           0
          ],
          [
           0.069,
           0.034,
           0.128,
           0.08800000000000001,
           0.14,
           0.026000000000000002
          ],
          [
           0.003,
           0.006,
           0,
           0,
           0.003,
           0
          ],
          [
           0.003,
           0.006,
           0.045,
           0.006999999999999999,
           0.054000000000000006,
           0
          ],
          [
           0.013000000000000001,
           0.036000000000000004,
           0.076,
           0.04,
           0.267,
           0
          ],
          [
           0.006999999999999999,
           0,
           0.002,
           0.015,
           0.03,
           0.012
          ],
          [
           0.034,
           0.012,
           1,
           0.075,
           0.757,
           0.086
          ],
          [
           0.004,
           0.021,
           0.125,
           0.716,
           0.009000000000000001,
           0.7759999999999999
          ],
          [
           0.03,
           0.026000000000000002,
           0.081,
           0.033,
           0.525,
           0.005
          ],
          [
           0.045,
           0.027999999999999997,
           0.013999999999999999,
           0.039,
           0.204,
           0.004
          ],
          [
           0.005,
           0.061,
           0.01,
           0.027999999999999997,
           0.011000000000000001,
           0.005
          ],
          [
           0.015,
           0.021,
           0.055,
           0.035,
           0.021,
           0.102
          ],
          [
           0.015,
           0.016,
           0.131,
           0.004,
           0.045,
           0.004
          ],
          [
           0.361,
           0.001,
           0.129,
           0.006,
           0.048,
           0
          ],
          [
           0.27,
           0.237,
           0.004,
           0.764,
           0.24600000000000002,
           0.995
          ],
          [
           0,
           0.045,
           0.065,
           0.021,
           0.006,
           0
          ],
          [
           1,
           0.193,
           0.022000000000000002,
           0.027000000000000003,
           0.146,
           0.171
          ],
          [
           0.166,
           0.002,
           0.142,
           0.017,
           0.022000000000000002,
           0
          ],
          [
           1,
           0.958,
           0.035,
           0.02,
           0.247,
           0.247
          ],
          [
           0.019,
           0.045,
           0.23399999999999999,
           0.127,
           0.006,
           0.008
          ],
          [
           0.745,
           0.152,
           0.022000000000000002,
           0.11800000000000001,
           0.017,
           0.073
          ],
          [
           0.009000000000000001,
           0.001,
           0.006999999999999999,
           0,
           0.09300000000000001,
           0
          ],
          [
           0.013999999999999999,
           0.008,
           0.032,
           0.062,
           0.035,
           0.021
          ],
          [
           0.017,
           0.5770000000000001,
           0.9359999999999999,
           0.14800000000000002,
           0.674,
           0
          ],
          [
           0.40399999999999997,
           0.992,
           0.759,
           0.016,
           0.847,
           0.006
          ],
          [
           0.027000000000000003,
           0.09300000000000001,
           0.016,
           0.013000000000000001,
           0.018000000000000002,
           0
          ],
          [
           0.038,
           0.05,
           0.297,
           0.013999999999999999,
           0.047,
           0.001
          ],
          [
           1,
           1,
           0.069,
           0.011000000000000001,
           0.024,
           0.036000000000000004
          ],
          [
           0.002,
           0.001,
           0.022000000000000002,
           0.036000000000000004,
           0.081,
           0.004
          ],
          [
           0.003,
           0.054000000000000006,
           0.87,
           0.195,
           0.016,
           0
          ],
          [
           1,
           0.163,
           0.012,
           0.032,
           0.16699999999999998,
           0.235
          ],
          [
           0.13699999999999998,
           0.031,
           0.071,
           0.922,
           0.026000000000000002,
           1
          ],
          [
           0.004,
           0.043,
           0.061,
           0.008,
           0.051,
           0
          ],
          [
           0,
           0.04,
           0.20800000000000002,
           0,
           0.028999999999999998,
           0
          ],
          [
           0.003,
           0,
           0,
           0.005,
           0.003,
           0.001
          ],
          [
           0.057999999999999996,
           0.353,
           0.336,
           0.2,
           0.006,
           0.023
          ],
          [
           0.022000000000000002,
           0,
           0,
           0.008,
           0.07200000000000001,
           0.013000000000000001
          ],
          [
           0.004,
           0.001,
           0.013000000000000001,
           0.235,
           0.011000000000000001,
           0.10099999999999999
          ],
          [
           0.033,
           0.025,
           0.08199999999999999,
           0.017,
           0.065,
           0.013000000000000001
          ],
          [
           1,
           1,
           0.851,
           0.021,
           0.113,
           0.016
          ],
          [
           0.006,
           0.03,
           0.091,
           0.023,
           0.045,
           0
          ],
          [
           0.019,
           0,
           0,
           0.009000000000000001,
           0.045,
           0.009000000000000001
          ],
          [
           0.006999999999999999,
           0.02,
           0.996,
           0.001,
           0.06,
           0
          ],
          [
           1,
           0.145,
           0.005,
           0.063,
           0.152,
           0.158
          ],
          [
           1,
           1,
           0.449,
           0.013000000000000001,
           0.522,
           0.048
          ],
          [
           0.008,
           0.125,
           0,
           0.004,
           0.009000000000000001,
           0
          ],
          [
           0.005,
           0.038,
           0.728,
           0.003,
           0.037000000000000005,
           0.001
          ],
          [
           0.013999999999999999,
           0.107,
           0.27899999999999997,
           0.171,
           0.011000000000000001,
           0.002
          ],
          [
           0.27,
           0.963,
           0.29100000000000004,
           0.08800000000000001,
           0.667,
           0.068
          ],
          [
           0.066,
           0.138,
           0.048,
           0.053,
           0.026000000000000002,
           0
          ],
          [
           1,
           0.126,
           0.027000000000000003,
           0.019,
           0.084,
           0.05
          ],
          [
           0.071,
           0.986,
           0.914,
           0.083,
           0.9520000000000001,
           0.11900000000000001
          ],
          [
           1,
           1,
           0.092,
           0.013999999999999999,
           0.055,
           0.023
          ],
          [
           0.385,
           0.061,
           0.08,
           0.009000000000000001,
           0.027999999999999997,
           0.002
          ],
          [
           0.002,
           0.025,
           0.008,
           0.002,
           0.001,
           0
          ],
          [
           0.005,
           0.023,
           0.185,
           0.035,
           0.376,
           0
          ],
          [
           0.015,
           0.142,
           0.153,
           0.048,
           0.033,
           0
          ],
          [
           0.996,
           0.975,
           0.008,
           0.004,
           0.1,
           0.28800000000000003
          ],
          [
           0.001,
           0.011000000000000001,
           0.156,
           0.12300000000000001,
           0.003,
           0.013999999999999999
          ],
          [
           0.006999999999999999,
           0.022000000000000002,
           0.146,
           0.034,
           0.7290000000000001,
           0
          ],
          [
           0.006999999999999999,
           0.025,
           0.005,
           0.051,
           0.013999999999999999,
           0.022000000000000002
          ],
          [
           1,
           0.998,
           0.005,
           0.017,
           0.21,
           0.259
          ],
          [
           0.135,
           0.028999999999999998,
           0.033,
           0.14800000000000002,
           0.006,
           0.040999999999999995
          ],
          [
           0.013999999999999999,
           0.021,
           0.038,
           0.019,
           0.316,
           0.001
          ],
          [
           0.01,
           0.013000000000000001,
           0.009000000000000001,
           0.002,
           1,
           0.003
          ],
          [
           0.005,
           0.01,
           0.214,
           0.003,
           0.081,
           0.006
          ]
         ]
        }
       ],
       "layout": {
        "template": {
         "data": {
          "bar": [
           {
            "error_x": {
             "color": "#2a3f5f"
            },
            "error_y": {
             "color": "#2a3f5f"
            },
            "marker": {
             "line": {
              "color": "#E5ECF6",
              "width": 0.5
             }
            },
            "type": "bar"
           }
          ],
          "barpolar": [
           {
            "marker": {
             "line": {
              "color": "#E5ECF6",
              "width": 0.5
             }
            },
            "type": "barpolar"
           }
          ],
          "carpet": [
           {
            "aaxis": {
             "endlinecolor": "#2a3f5f",
             "gridcolor": "white",
             "linecolor": "white",
             "minorgridcolor": "white",
             "startlinecolor": "#2a3f5f"
            },
            "baxis": {
             "endlinecolor": "#2a3f5f",
             "gridcolor": "white",
             "linecolor": "white",
             "minorgridcolor": "white",
             "startlinecolor": "#2a3f5f"
            },
            "type": "carpet"
           }
          ],
          "choropleth": [
           {
            "colorbar": {
             "outlinewidth": 0,
             "ticks": ""
            },
            "type": "choropleth"
           }
          ],
          "contour": [
           {
            "colorbar": {
             "outlinewidth": 0,
             "ticks": ""
            },
            "colorscale": [
             [
              0,
              "#0d0887"
             ],
             [
              0.1111111111111111,
              "#46039f"
             ],
             [
              0.2222222222222222,
              "#7201a8"
             ],
             [
              0.3333333333333333,
              "#9c179e"
             ],
             [
              0.4444444444444444,
              "#bd3786"
             ],
             [
              0.5555555555555556,
              "#d8576b"
             ],
             [
              0.6666666666666666,
              "#ed7953"
             ],
             [
              0.7777777777777778,
              "#fb9f3a"
             ],
             [
              0.8888888888888888,
              "#fdca26"
             ],
             [
              1,
              "#f0f921"
             ]
            ],
            "type": "contour"
           }
          ],
          "contourcarpet": [
           {
            "colorbar": {
             "outlinewidth": 0,
             "ticks": ""
            },
            "type": "contourcarpet"
           }
          ],
          "heatmap": [
           {
            "colorbar": {
             "outlinewidth": 0,
             "ticks": ""
            },
            "colorscale": [
             [
              0,
              "#0d0887"
             ],
             [
              0.1111111111111111,
              "#46039f"
             ],
             [
              0.2222222222222222,
              "#7201a8"
             ],
             [
              0.3333333333333333,
              "#9c179e"
             ],
             [
              0.4444444444444444,
              "#bd3786"
             ],
             [
              0.5555555555555556,
              "#d8576b"
             ],
             [
              0.6666666666666666,
              "#ed7953"
             ],
             [
              0.7777777777777778,
              "#fb9f3a"
             ],
             [
              0.8888888888888888,
              "#fdca26"
             ],
             [
              1,
              "#f0f921"
             ]
            ],
            "type": "heatmap"
           }
          ],
          "heatmapgl": [
           {
            "colorbar": {
             "outlinewidth": 0,
             "ticks": ""
            },
            "colorscale": [
             [
              0,
              "#0d0887"
             ],
             [
              0.1111111111111111,
              "#46039f"
             ],
             [
              0.2222222222222222,
              "#7201a8"
             ],
             [
              0.3333333333333333,
              "#9c179e"
             ],
             [
              0.4444444444444444,
              "#bd3786"
             ],
             [
              0.5555555555555556,
              "#d8576b"
             ],
             [
              0.6666666666666666,
              "#ed7953"
             ],
             [
              0.7777777777777778,
              "#fb9f3a"
             ],
             [
              0.8888888888888888,
              "#fdca26"
             ],
             [
              1,
              "#f0f921"
             ]
            ],
            "type": "heatmapgl"
           }
          ],
          "histogram": [
           {
            "marker": {
             "colorbar": {
              "outlinewidth": 0,
              "ticks": ""
             }
            },
            "type": "histogram"
           }
          ],
          "histogram2d": [
           {
            "colorbar": {
             "outlinewidth": 0,
             "ticks": ""
            },
            "colorscale": [
             [
              0,
              "#0d0887"
             ],
             [
              0.1111111111111111,
              "#46039f"
             ],
             [
              0.2222222222222222,
              "#7201a8"
             ],
             [
              0.3333333333333333,
              "#9c179e"
             ],
             [
              0.4444444444444444,
              "#bd3786"
             ],
             [
              0.5555555555555556,
              "#d8576b"
             ],
             [
              0.6666666666666666,
              "#ed7953"
             ],
             [
              0.7777777777777778,
              "#fb9f3a"
             ],
             [
              0.8888888888888888,
              "#fdca26"
             ],
             [
              1,
              "#f0f921"
             ]
            ],
            "type": "histogram2d"
           }
          ],
          "histogram2dcontour": [
           {
            "colorbar": {
             "outlinewidth": 0,
             "ticks": ""
            },
            "colorscale": [
             [
              0,
              "#0d0887"
             ],
             [
              0.1111111111111111,
              "#46039f"
             ],
             [
              0.2222222222222222,
              "#7201a8"
             ],
             [
              0.3333333333333333,
              "#9c179e"
             ],
             [
              0.4444444444444444,
              "#bd3786"
             ],
             [
              0.5555555555555556,
              "#d8576b"
             ],
             [
              0.6666666666666666,
              "#ed7953"
             ],
             [
              0.7777777777777778,
              "#fb9f3a"
             ],
             [
              0.8888888888888888,
              "#fdca26"
             ],
             [
              1,
              "#f0f921"
             ]
            ],
            "type": "histogram2dcontour"
           }
          ],
          "mesh3d": [
           {
            "colorbar": {
             "outlinewidth": 0,
             "ticks": ""
            },
            "type": "mesh3d"
           }
          ],
          "parcoords": [
           {
            "line": {
             "colorbar": {
              "outlinewidth": 0,
              "ticks": ""
             }
            },
            "type": "parcoords"
           }
          ],
          "pie": [
           {
            "automargin": true,
            "type": "pie"
           }
          ],
          "scatter": [
           {
            "marker": {
             "colorbar": {
              "outlinewidth": 0,
              "ticks": ""
             }
            },
            "type": "scatter"
           }
          ],
          "scatter3d": [
           {
            "line": {
             "colorbar": {
              "outlinewidth": 0,
              "ticks": ""
             }
            },
            "marker": {
             "colorbar": {
              "outlinewidth": 0,
              "ticks": ""
             }
            },
            "type": "scatter3d"
           }
          ],
          "scattercarpet": [
           {
            "marker": {
             "colorbar": {
              "outlinewidth": 0,
              "ticks": ""
             }
            },
            "type": "scattercarpet"
           }
          ],
          "scattergeo": [
           {
            "marker": {
             "colorbar": {
              "outlinewidth": 0,
              "ticks": ""
             }
            },
            "type": "scattergeo"
           }
          ],
          "scattergl": [
           {
            "marker": {
             "colorbar": {
              "outlinewidth": 0,
              "ticks": ""
             }
            },
            "type": "scattergl"
           }
          ],
          "scattermapbox": [
           {
            "marker": {
             "colorbar": {
              "outlinewidth": 0,
              "ticks": ""
             }
            },
            "type": "scattermapbox"
           }
          ],
          "scatterpolar": [
           {
            "marker": {
             "colorbar": {
              "outlinewidth": 0,
              "ticks": ""
             }
            },
            "type": "scatterpolar"
           }
          ],
          "scatterpolargl": [
           {
            "marker": {
             "colorbar": {
              "outlinewidth": 0,
              "ticks": ""
             }
            },
            "type": "scatterpolargl"
           }
          ],
          "scatterternary": [
           {
            "marker": {
             "colorbar": {
              "outlinewidth": 0,
              "ticks": ""
             }
            },
            "type": "scatterternary"
           }
          ],
          "surface": [
           {
            "colorbar": {
             "outlinewidth": 0,
             "ticks": ""
            },
            "colorscale": [
             [
              0,
              "#0d0887"
             ],
             [
              0.1111111111111111,
              "#46039f"
             ],
             [
              0.2222222222222222,
              "#7201a8"
             ],
             [
              0.3333333333333333,
              "#9c179e"
             ],
             [
              0.4444444444444444,
              "#bd3786"
             ],
             [
              0.5555555555555556,
              "#d8576b"
             ],
             [
              0.6666666666666666,
              "#ed7953"
             ],
             [
              0.7777777777777778,
              "#fb9f3a"
             ],
             [
              0.8888888888888888,
              "#fdca26"
             ],
             [
              1,
              "#f0f921"
             ]
            ],
            "type": "surface"
           }
          ],
          "table": [
           {
            "cells": {
             "fill": {
              "color": "#EBF0F8"
             },
             "line": {
              "color": "white"
             }
            },
            "header": {
             "fill": {
              "color": "#C8D4E3"
             },
             "line": {
              "color": "white"
             }
            },
            "type": "table"
           }
          ]
         },
         "layout": {
          "annotationdefaults": {
           "arrowcolor": "#2a3f5f",
           "arrowhead": 0,
           "arrowwidth": 1
          },
          "coloraxis": {
           "colorbar": {
            "outlinewidth": 0,
            "ticks": ""
           }
          },
          "colorscale": {
           "diverging": [
            [
             0,
             "#8e0152"
            ],
            [
             0.1,
             "#c51b7d"
            ],
            [
             0.2,
             "#de77ae"
            ],
            [
             0.3,
             "#f1b6da"
            ],
            [
             0.4,
             "#fde0ef"
            ],
            [
             0.5,
             "#f7f7f7"
            ],
            [
             0.6,
             "#e6f5d0"
            ],
            [
             0.7,
             "#b8e186"
            ],
            [
             0.8,
             "#7fbc41"
            ],
            [
             0.9,
             "#4d9221"
            ],
            [
             1,
             "#276419"
            ]
           ],
           "sequential": [
            [
             0,
             "#0d0887"
            ],
            [
             0.1111111111111111,
             "#46039f"
            ],
            [
             0.2222222222222222,
             "#7201a8"
            ],
            [
             0.3333333333333333,
             "#9c179e"
            ],
            [
             0.4444444444444444,
             "#bd3786"
            ],
            [
             0.5555555555555556,
             "#d8576b"
            ],
            [
             0.6666666666666666,
             "#ed7953"
            ],
            [
             0.7777777777777778,
             "#fb9f3a"
            ],
            [
             0.8888888888888888,
             "#fdca26"
            ],
            [
             1,
             "#f0f921"
            ]
           ],
           "sequentialminus": [
            [
             0,
             "#0d0887"
            ],
            [
             0.1111111111111111,
             "#46039f"
            ],
            [
             0.2222222222222222,
             "#7201a8"
            ],
            [
             0.3333333333333333,
             "#9c179e"
            ],
            [
             0.4444444444444444,
             "#bd3786"
            ],
            [
             0.5555555555555556,
             "#d8576b"
            ],
            [
             0.6666666666666666,
             "#ed7953"
            ],
            [
             0.7777777777777778,
             "#fb9f3a"
            ],
            [
             0.8888888888888888,
             "#fdca26"
            ],
            [
             1,
             "#f0f921"
            ]
           ]
          },
          "colorway": [
           "#636efa",
           "#EF553B",
           "#00cc96",
           "#ab63fa",
           "#FFA15A",
           "#19d3f3",
           "#FF6692",
           "#B6E880",
           "#FF97FF",
           "#FECB52"
          ],
          "font": {
           "color": "#2a3f5f"
          },
          "geo": {
           "bgcolor": "white",
           "lakecolor": "white",
           "landcolor": "#E5ECF6",
           "showlakes": true,
           "showland": true,
           "subunitcolor": "white"
          },
          "hoverlabel": {
           "align": "left"
          },
          "hovermode": "closest",
          "mapbox": {
           "style": "light"
          },
          "paper_bgcolor": "white",
          "plot_bgcolor": "#E5ECF6",
          "polar": {
           "angularaxis": {
            "gridcolor": "white",
            "linecolor": "white",
            "ticks": ""
           },
           "bgcolor": "#E5ECF6",
           "radialaxis": {
            "gridcolor": "white",
            "linecolor": "white",
            "ticks": ""
           }
          },
          "scene": {
           "xaxis": {
            "backgroundcolor": "#E5ECF6",
            "gridcolor": "white",
            "gridwidth": 2,
            "linecolor": "white",
            "showbackground": true,
            "ticks": "",
            "zerolinecolor": "white"
           },
           "yaxis": {
            "backgroundcolor": "#E5ECF6",
            "gridcolor": "white",
            "gridwidth": 2,
            "linecolor": "white",
            "showbackground": true,
            "ticks": "",
            "zerolinecolor": "white"
           },
           "zaxis": {
            "backgroundcolor": "#E5ECF6",
            "gridcolor": "white",
            "gridwidth": 2,
            "linecolor": "white",
            "showbackground": true,
            "ticks": "",
            "zerolinecolor": "white"
           }
          },
          "shapedefaults": {
           "line": {
            "color": "#2a3f5f"
           }
          },
          "ternary": {
           "aaxis": {
            "gridcolor": "white",
            "linecolor": "white",
            "ticks": ""
           },
           "baxis": {
            "gridcolor": "white",
            "linecolor": "white",
            "ticks": ""
           },
           "bgcolor": "#E5ECF6",
           "caxis": {
            "gridcolor": "white",
            "linecolor": "white",
            "ticks": ""
           }
          },
          "title": {
           "x": 0.05
          },
          "xaxis": {
           "automargin": true,
           "gridcolor": "white",
           "linecolor": "white",
           "ticks": "",
           "title": {
            "standoff": 15
           },
           "zerolinecolor": "white",
           "zerolinewidth": 2
          },
          "yaxis": {
           "automargin": true,
           "gridcolor": "white",
           "linecolor": "white",
           "ticks": "",
           "title": {
            "standoff": 15
           },
           "zerolinecolor": "white",
           "zerolinewidth": 2
          }
         }
        },
        "title": {
         "text": "Proportion of the motif in the GA results"
        }
       }
      },
      "text/html": [
       "<div>\n",
       "        \n",
       "        \n",
       "            <div id=\"bb345b4b-b690-4496-8598-58a65636b54b\" class=\"plotly-graph-div\" style=\"height:525px; width:100%;\"></div>\n",
       "            <script type=\"text/javascript\">\n",
       "                require([\"plotly\"], function(Plotly) {\n",
       "                    window.PLOTLYENV=window.PLOTLYENV || {};\n",
       "                    \n",
       "                if (document.getElementById(\"bb345b4b-b690-4496-8598-58a65636b54b\")) {\n",
       "                    Plotly.newPlot(\n",
       "                        'bb345b4b-b690-4496-8598-58a65636b54b',\n",
       "                        [{\"type\": \"heatmap\", \"x\": [\"B.\", \"myeloid.\", \"innate.lym.\", \"abT.\", \"stem.\", \"gdT.\"], \"y\": [\"filter1\", \"filter6\", \"filter8\", \"filter10\", \"filter11\", \"filter14\", \"filter15\", \"filter23\", \"filter28\", \"filter34\", \"filter35\", \"filter43\", \"filter44\", \"filter47\", \"filter50\", \"filter51\", \"filter65\", \"filter67\", \"filter68\", \"filter69\", \"filter78\", \"filter80\", \"filter85\", \"filter89\", \"filter93\", \"filter94\", \"filter97\", \"filter106\", \"filter112\", \"filter115\", \"filter120\", \"filter122\", \"filter123\", \"filter129\", \"filter133\", \"filter135\", \"filter154\", \"filter165\", \"filter166\", \"filter167\", \"filter173\", \"filter174\", \"filter178\", \"filter190\", \"filter195\", \"filter198\", \"filter205\", \"filter217\", \"filter218\", \"filter220\", \"filter224\", \"filter230\", \"filter231\", \"filter238\", \"filter242\", \"filter244\", \"filter247\", \"filter250\", \"filter252\", \"filter255\", \"filter257\", \"filter260\", \"filter264\", \"filter275\", \"filter276\", \"filter279\", \"filter283\", \"filter284\", \"filter286\", \"filter288\", \"filter290\", \"filter292\", \"filter297\"], \"z\": [[0.0, 0.017, 0.018000000000000002, 0.035, 0.003, 0.001], [0.006, 0.15, 0.003, 0.002, 0.013999999999999999, 0.003], [0.226, 0.015, 0.242, 0.183, 0.008, 0.021], [0.009000000000000001, 0.0, 0.996, 0.048, 0.804, 0.095], [0.054000000000000006, 1.0, 0.924, 0.087, 0.937, 0.064], [0.16399999999999998, 0.025, 0.057, 0.01, 0.064, 0.0], [0.022000000000000002, 0.0, 0.9940000000000001, 0.046, 0.868, 0.115], [0.046, 0.131, 0.087, 0.03, 0.035, 0.0], [0.069, 0.034, 0.128, 0.08800000000000001, 0.14, 0.026000000000000002], [0.003, 0.006, 0.0, 0.0, 0.003, 0.0], [0.003, 0.006, 0.045, 0.006999999999999999, 0.054000000000000006, 0.0], [0.013000000000000001, 0.036000000000000004, 0.076, 0.04, 0.267, 0.0], [0.006999999999999999, 0.0, 0.002, 0.015, 0.03, 0.012], [0.034, 0.012, 1.0, 0.075, 0.757, 0.086], [0.004, 0.021, 0.125, 0.716, 0.009000000000000001, 0.7759999999999999], [0.03, 0.026000000000000002, 0.081, 0.033, 0.525, 0.005], [0.045, 0.027999999999999997, 0.013999999999999999, 0.039, 0.204, 0.004], [0.005, 0.061, 0.01, 0.027999999999999997, 0.011000000000000001, 0.005], [0.015, 0.021, 0.055, 0.035, 0.021, 0.102], [0.015, 0.016, 0.131, 0.004, 0.045, 0.004], [0.361, 0.001, 0.129, 0.006, 0.048, 0.0], [0.27, 0.237, 0.004, 0.764, 0.24600000000000002, 0.995], [0.0, 0.045, 0.065, 0.021, 0.006, 0.0], [1.0, 0.193, 0.022000000000000002, 0.027000000000000003, 0.146, 0.171], [0.166, 0.002, 0.142, 0.017, 0.022000000000000002, 0.0], [1.0, 0.958, 0.035, 0.02, 0.247, 0.247], [0.019, 0.045, 0.23399999999999999, 0.127, 0.006, 0.008], [0.745, 0.152, 0.022000000000000002, 0.11800000000000001, 0.017, 0.073], [0.009000000000000001, 0.001, 0.006999999999999999, 0.0, 0.09300000000000001, 0.0], [0.013999999999999999, 0.008, 0.032, 0.062, 0.035, 0.021], [0.017, 0.5770000000000001, 0.9359999999999999, 0.14800000000000002, 0.674, 0.0], [0.40399999999999997, 0.992, 0.759, 0.016, 0.847, 0.006], [0.027000000000000003, 0.09300000000000001, 0.016, 0.013000000000000001, 0.018000000000000002, 0.0], [0.038, 0.05, 0.297, 0.013999999999999999, 0.047, 0.001], [1.0, 1.0, 0.069, 0.011000000000000001, 0.024, 0.036000000000000004], [0.002, 0.001, 0.022000000000000002, 0.036000000000000004, 0.081, 0.004], [0.003, 0.054000000000000006, 0.87, 0.195, 0.016, 0.0], [1.0, 0.163, 0.012, 0.032, 0.16699999999999998, 0.235], [0.13699999999999998, 0.031, 0.071, 0.922, 0.026000000000000002, 1.0], [0.004, 0.043, 0.061, 0.008, 0.051, 0.0], [0.0, 0.04, 0.20800000000000002, 0.0, 0.028999999999999998, 0.0], [0.003, 0.0, 0.0, 0.005, 0.003, 0.001], [0.057999999999999996, 0.353, 0.336, 0.2, 0.006, 0.023], [0.022000000000000002, 0.0, 0.0, 0.008, 0.07200000000000001, 0.013000000000000001], [0.004, 0.001, 0.013000000000000001, 0.235, 0.011000000000000001, 0.10099999999999999], [0.033, 0.025, 0.08199999999999999, 0.017, 0.065, 0.013000000000000001], [1.0, 1.0, 0.851, 0.021, 0.113, 0.016], [0.006, 0.03, 0.091, 0.023, 0.045, 0.0], [0.019, 0.0, 0.0, 0.009000000000000001, 0.045, 0.009000000000000001], [0.006999999999999999, 0.02, 0.996, 0.001, 0.06, 0.0], [1.0, 0.145, 0.005, 0.063, 0.152, 0.158], [1.0, 1.0, 0.449, 0.013000000000000001, 0.522, 0.048], [0.008, 0.125, 0.0, 0.004, 0.009000000000000001, 0.0], [0.005, 0.038, 0.728, 0.003, 0.037000000000000005, 0.001], [0.013999999999999999, 0.107, 0.27899999999999997, 0.171, 0.011000000000000001, 0.002], [0.27, 0.963, 0.29100000000000004, 0.08800000000000001, 0.667, 0.068], [0.066, 0.138, 0.048, 0.053, 0.026000000000000002, 0.0], [1.0, 0.126, 0.027000000000000003, 0.019, 0.084, 0.05], [0.071, 0.986, 0.914, 0.083, 0.9520000000000001, 0.11900000000000001], [1.0, 1.0, 0.092, 0.013999999999999999, 0.055, 0.023], [0.385, 0.061, 0.08, 0.009000000000000001, 0.027999999999999997, 0.002], [0.002, 0.025, 0.008, 0.002, 0.001, 0.0], [0.005, 0.023, 0.185, 0.035, 0.376, 0.0], [0.015, 0.142, 0.153, 0.048, 0.033, 0.0], [0.996, 0.975, 0.008, 0.004, 0.1, 0.28800000000000003], [0.001, 0.011000000000000001, 0.156, 0.12300000000000001, 0.003, 0.013999999999999999], [0.006999999999999999, 0.022000000000000002, 0.146, 0.034, 0.7290000000000001, 0.0], [0.006999999999999999, 0.025, 0.005, 0.051, 0.013999999999999999, 0.022000000000000002], [1.0, 0.998, 0.005, 0.017, 0.21, 0.259], [0.135, 0.028999999999999998, 0.033, 0.14800000000000002, 0.006, 0.040999999999999995], [0.013999999999999999, 0.021, 0.038, 0.019, 0.316, 0.001], [0.01, 0.013000000000000001, 0.009000000000000001, 0.002, 1.0, 0.003], [0.005, 0.01, 0.214, 0.003, 0.081, 0.006]]}],\n",
       "                        {\"template\": {\"data\": {\"bar\": [{\"error_x\": {\"color\": \"#2a3f5f\"}, \"error_y\": {\"color\": \"#2a3f5f\"}, \"marker\": {\"line\": {\"color\": \"#E5ECF6\", \"width\": 0.5}}, \"type\": \"bar\"}], \"barpolar\": [{\"marker\": {\"line\": {\"color\": \"#E5ECF6\", \"width\": 0.5}}, \"type\": \"barpolar\"}], \"carpet\": [{\"aaxis\": {\"endlinecolor\": \"#2a3f5f\", \"gridcolor\": \"white\", \"linecolor\": \"white\", \"minorgridcolor\": \"white\", \"startlinecolor\": \"#2a3f5f\"}, \"baxis\": {\"endlinecolor\": \"#2a3f5f\", \"gridcolor\": \"white\", \"linecolor\": \"white\", \"minorgridcolor\": \"white\", \"startlinecolor\": \"#2a3f5f\"}, \"type\": \"carpet\"}], \"choropleth\": [{\"colorbar\": {\"outlinewidth\": 0, \"ticks\": \"\"}, \"type\": \"choropleth\"}], \"contour\": [{\"colorbar\": {\"outlinewidth\": 0, \"ticks\": \"\"}, \"colorscale\": [[0.0, \"#0d0887\"], [0.1111111111111111, \"#46039f\"], [0.2222222222222222, \"#7201a8\"], [0.3333333333333333, \"#9c179e\"], [0.4444444444444444, \"#bd3786\"], [0.5555555555555556, \"#d8576b\"], [0.6666666666666666, \"#ed7953\"], [0.7777777777777778, \"#fb9f3a\"], [0.8888888888888888, \"#fdca26\"], [1.0, \"#f0f921\"]], \"type\": \"contour\"}], \"contourcarpet\": [{\"colorbar\": {\"outlinewidth\": 0, \"ticks\": \"\"}, \"type\": \"contourcarpet\"}], \"heatmap\": [{\"colorbar\": {\"outlinewidth\": 0, \"ticks\": \"\"}, \"colorscale\": [[0.0, \"#0d0887\"], [0.1111111111111111, \"#46039f\"], [0.2222222222222222, \"#7201a8\"], [0.3333333333333333, \"#9c179e\"], [0.4444444444444444, \"#bd3786\"], [0.5555555555555556, \"#d8576b\"], [0.6666666666666666, \"#ed7953\"], [0.7777777777777778, \"#fb9f3a\"], [0.8888888888888888, \"#fdca26\"], [1.0, \"#f0f921\"]], \"type\": \"heatmap\"}], \"heatmapgl\": [{\"colorbar\": {\"outlinewidth\": 0, \"ticks\": \"\"}, \"colorscale\": [[0.0, \"#0d0887\"], [0.1111111111111111, \"#46039f\"], [0.2222222222222222, \"#7201a8\"], [0.3333333333333333, \"#9c179e\"], [0.4444444444444444, \"#bd3786\"], [0.5555555555555556, \"#d8576b\"], [0.6666666666666666, \"#ed7953\"], [0.7777777777777778, \"#fb9f3a\"], [0.8888888888888888, \"#fdca26\"], [1.0, \"#f0f921\"]], \"type\": \"heatmapgl\"}], \"histogram\": [{\"marker\": {\"colorbar\": {\"outlinewidth\": 0, \"ticks\": \"\"}}, \"type\": \"histogram\"}], \"histogram2d\": [{\"colorbar\": {\"outlinewidth\": 0, \"ticks\": \"\"}, \"colorscale\": [[0.0, \"#0d0887\"], [0.1111111111111111, \"#46039f\"], [0.2222222222222222, \"#7201a8\"], [0.3333333333333333, \"#9c179e\"], [0.4444444444444444, \"#bd3786\"], [0.5555555555555556, \"#d8576b\"], [0.6666666666666666, \"#ed7953\"], [0.7777777777777778, \"#fb9f3a\"], [0.8888888888888888, \"#fdca26\"], [1.0, \"#f0f921\"]], \"type\": \"histogram2d\"}], \"histogram2dcontour\": [{\"colorbar\": {\"outlinewidth\": 0, \"ticks\": \"\"}, \"colorscale\": [[0.0, \"#0d0887\"], [0.1111111111111111, \"#46039f\"], [0.2222222222222222, \"#7201a8\"], [0.3333333333333333, \"#9c179e\"], [0.4444444444444444, \"#bd3786\"], [0.5555555555555556, \"#d8576b\"], [0.6666666666666666, \"#ed7953\"], [0.7777777777777778, \"#fb9f3a\"], [0.8888888888888888, \"#fdca26\"], [1.0, \"#f0f921\"]], \"type\": \"histogram2dcontour\"}], \"mesh3d\": [{\"colorbar\": {\"outlinewidth\": 0, \"ticks\": \"\"}, \"type\": \"mesh3d\"}], \"parcoords\": [{\"line\": {\"colorbar\": {\"outlinewidth\": 0, \"ticks\": \"\"}}, \"type\": \"parcoords\"}], \"pie\": [{\"automargin\": true, \"type\": \"pie\"}], \"scatter\": [{\"marker\": {\"colorbar\": {\"outlinewidth\": 0, \"ticks\": \"\"}}, \"type\": \"scatter\"}], \"scatter3d\": [{\"line\": {\"colorbar\": {\"outlinewidth\": 0, \"ticks\": \"\"}}, \"marker\": {\"colorbar\": {\"outlinewidth\": 0, \"ticks\": \"\"}}, \"type\": \"scatter3d\"}], \"scattercarpet\": [{\"marker\": {\"colorbar\": {\"outlinewidth\": 0, \"ticks\": \"\"}}, \"type\": \"scattercarpet\"}], \"scattergeo\": [{\"marker\": {\"colorbar\": {\"outlinewidth\": 0, \"ticks\": \"\"}}, \"type\": \"scattergeo\"}], \"scattergl\": [{\"marker\": {\"colorbar\": {\"outlinewidth\": 0, \"ticks\": \"\"}}, \"type\": \"scattergl\"}], \"scattermapbox\": [{\"marker\": {\"colorbar\": {\"outlinewidth\": 0, \"ticks\": \"\"}}, \"type\": \"scattermapbox\"}], \"scatterpolar\": [{\"marker\": {\"colorbar\": {\"outlinewidth\": 0, \"ticks\": \"\"}}, \"type\": \"scatterpolar\"}], \"scatterpolargl\": [{\"marker\": {\"colorbar\": {\"outlinewidth\": 0, \"ticks\": \"\"}}, \"type\": \"scatterpolargl\"}], \"scatterternary\": [{\"marker\": {\"colorbar\": {\"outlinewidth\": 0, \"ticks\": \"\"}}, \"type\": \"scatterternary\"}], \"surface\": [{\"colorbar\": {\"outlinewidth\": 0, \"ticks\": \"\"}, \"colorscale\": [[0.0, \"#0d0887\"], [0.1111111111111111, \"#46039f\"], [0.2222222222222222, \"#7201a8\"], [0.3333333333333333, \"#9c179e\"], [0.4444444444444444, \"#bd3786\"], [0.5555555555555556, \"#d8576b\"], [0.6666666666666666, \"#ed7953\"], [0.7777777777777778, \"#fb9f3a\"], [0.8888888888888888, \"#fdca26\"], [1.0, \"#f0f921\"]], \"type\": \"surface\"}], \"table\": [{\"cells\": {\"fill\": {\"color\": \"#EBF0F8\"}, \"line\": {\"color\": \"white\"}}, \"header\": {\"fill\": {\"color\": \"#C8D4E3\"}, \"line\": {\"color\": \"white\"}}, \"type\": \"table\"}]}, \"layout\": {\"annotationdefaults\": {\"arrowcolor\": \"#2a3f5f\", \"arrowhead\": 0, \"arrowwidth\": 1}, \"coloraxis\": {\"colorbar\": {\"outlinewidth\": 0, \"ticks\": \"\"}}, \"colorscale\": {\"diverging\": [[0, \"#8e0152\"], [0.1, \"#c51b7d\"], [0.2, \"#de77ae\"], [0.3, \"#f1b6da\"], [0.4, \"#fde0ef\"], [0.5, \"#f7f7f7\"], [0.6, \"#e6f5d0\"], [0.7, \"#b8e186\"], [0.8, \"#7fbc41\"], [0.9, \"#4d9221\"], [1, \"#276419\"]], \"sequential\": [[0.0, \"#0d0887\"], [0.1111111111111111, \"#46039f\"], [0.2222222222222222, \"#7201a8\"], [0.3333333333333333, \"#9c179e\"], [0.4444444444444444, \"#bd3786\"], [0.5555555555555556, \"#d8576b\"], [0.6666666666666666, \"#ed7953\"], [0.7777777777777778, \"#fb9f3a\"], [0.8888888888888888, \"#fdca26\"], [1.0, \"#f0f921\"]], \"sequentialminus\": [[0.0, \"#0d0887\"], [0.1111111111111111, \"#46039f\"], [0.2222222222222222, \"#7201a8\"], [0.3333333333333333, \"#9c179e\"], [0.4444444444444444, \"#bd3786\"], [0.5555555555555556, \"#d8576b\"], [0.6666666666666666, \"#ed7953\"], [0.7777777777777778, \"#fb9f3a\"], [0.8888888888888888, \"#fdca26\"], [1.0, \"#f0f921\"]]}, \"colorway\": [\"#636efa\", \"#EF553B\", \"#00cc96\", \"#ab63fa\", \"#FFA15A\", \"#19d3f3\", \"#FF6692\", \"#B6E880\", \"#FF97FF\", \"#FECB52\"], \"font\": {\"color\": \"#2a3f5f\"}, \"geo\": {\"bgcolor\": \"white\", \"lakecolor\": \"white\", \"landcolor\": \"#E5ECF6\", \"showlakes\": true, \"showland\": true, \"subunitcolor\": \"white\"}, \"hoverlabel\": {\"align\": \"left\"}, \"hovermode\": \"closest\", \"mapbox\": {\"style\": \"light\"}, \"paper_bgcolor\": \"white\", \"plot_bgcolor\": \"#E5ECF6\", \"polar\": {\"angularaxis\": {\"gridcolor\": \"white\", \"linecolor\": \"white\", \"ticks\": \"\"}, \"bgcolor\": \"#E5ECF6\", \"radialaxis\": {\"gridcolor\": \"white\", \"linecolor\": \"white\", \"ticks\": \"\"}}, \"scene\": {\"xaxis\": {\"backgroundcolor\": \"#E5ECF6\", \"gridcolor\": \"white\", \"gridwidth\": 2, \"linecolor\": \"white\", \"showbackground\": true, \"ticks\": \"\", \"zerolinecolor\": \"white\"}, \"yaxis\": {\"backgroundcolor\": \"#E5ECF6\", \"gridcolor\": \"white\", \"gridwidth\": 2, \"linecolor\": \"white\", \"showbackground\": true, \"ticks\": \"\", \"zerolinecolor\": \"white\"}, \"zaxis\": {\"backgroundcolor\": \"#E5ECF6\", \"gridcolor\": \"white\", \"gridwidth\": 2, \"linecolor\": \"white\", \"showbackground\": true, \"ticks\": \"\", \"zerolinecolor\": \"white\"}}, \"shapedefaults\": {\"line\": {\"color\": \"#2a3f5f\"}}, \"ternary\": {\"aaxis\": {\"gridcolor\": \"white\", \"linecolor\": \"white\", \"ticks\": \"\"}, \"baxis\": {\"gridcolor\": \"white\", \"linecolor\": \"white\", \"ticks\": \"\"}, \"bgcolor\": \"#E5ECF6\", \"caxis\": {\"gridcolor\": \"white\", \"linecolor\": \"white\", \"ticks\": \"\"}}, \"title\": {\"x\": 0.05}, \"xaxis\": {\"automargin\": true, \"gridcolor\": \"white\", \"linecolor\": \"white\", \"ticks\": \"\", \"title\": {\"standoff\": 15}, \"zerolinecolor\": \"white\", \"zerolinewidth\": 2}, \"yaxis\": {\"automargin\": true, \"gridcolor\": \"white\", \"linecolor\": \"white\", \"ticks\": \"\", \"title\": {\"standoff\": 15}, \"zerolinecolor\": \"white\", \"zerolinewidth\": 2}}}, \"title\": {\"text\": \"Proportion of the motif in the GA results\"}},\n",
       "                        {\"responsive\": true}\n",
       "                    ).then(function(){\n",
       "                            \n",
       "var gd = document.getElementById('bb345b4b-b690-4496-8598-58a65636b54b');\n",
       "var x = new MutationObserver(function (mutations, observer) {{\n",
       "        var display = window.getComputedStyle(gd).display;\n",
       "        if (!display || display === 'none') {{\n",
       "            console.log([gd, 'removed!']);\n",
       "            Plotly.purge(gd);\n",
       "            observer.disconnect();\n",
       "        }}\n",
       "}});\n",
       "\n",
       "// Listen for the removal of the full notebook cells\n",
       "var notebookContainer = gd.closest('#notebook-container');\n",
       "if (notebookContainer) {{\n",
       "    x.observe(notebookContainer, {childList: true});\n",
       "}}\n",
       "\n",
       "// Listen for the clearing of the current output cell\n",
       "var outputEl = gd.closest('.output');\n",
       "if (outputEl) {{\n",
       "    x.observe(outputEl, {childList: true});\n",
       "}}\n",
       "\n",
       "                        })\n",
       "                };\n",
       "                });\n",
       "            </script>\n",
       "        </div>"
      ]
     },
     "metadata": {},
     "output_type": "display_data"
    }
   ],
   "source": [
    "ht_map = generated_smotifs[['B.','myeloid.','innate.lym.','abT.','stem.','gdT.']]\n",
    "fig = go.Figure(go.Heatmap(z=ht_map,\n",
    "                     x = ht_map.columns,\n",
    "                     y=ht_map.index))\n",
    "fig.update_layout(title=\"Proportion of the motif in the GA results\")\n",
    "fig.show()"
   ]
  },
  {
   "cell_type": "code",
   "execution_count": 30,
   "metadata": {
    "hidden": true
   },
   "outputs": [
    {
     "data": {
      "application/vnd.plotly.v1+json": {
       "config": {
        "plotlyServerURL": "https://plot.ly"
       },
       "data": [
        {
         "type": "heatmap",
         "x": [
          "B",
          "abT",
          "gdT",
          "myeloid",
          "lym",
          "stem"
         ],
         "y": [
          "filter1",
          "filter10",
          "filter102",
          "filter105",
          "filter106",
          "filter11",
          "filter112",
          "filter115",
          "filter120",
          "filter122",
          "filter123",
          "filter124",
          "filter127",
          "filter129",
          "filter132",
          "filter133",
          "filter135",
          "filter14",
          "filter15",
          "filter151",
          "filter154",
          "filter155",
          "filter157",
          "filter165",
          "filter166",
          "filter167",
          "filter170",
          "filter173",
          "filter174",
          "filter178",
          "filter183",
          "filter185",
          "filter186",
          "filter190",
          "filter194",
          "filter195",
          "filter196",
          "filter198",
          "filter202",
          "filter205",
          "filter209",
          "filter214",
          "filter217",
          "filter218",
          "filter219",
          "filter220",
          "filter223",
          "filter224",
          "filter227",
          "filter23",
          "filter230",
          "filter231",
          "filter238",
          "filter242",
          "filter244",
          "filter247",
          "filter250",
          "filter252",
          "filter255",
          "filter257",
          "filter260",
          "filter264",
          "filter270",
          "filter275",
          "filter276",
          "filter279",
          "filter28",
          "filter281",
          "filter283",
          "filter284",
          "filter286",
          "filter288",
          "filter290",
          "filter292",
          "filter297",
          "filter34",
          "filter35",
          "filter40",
          "filter43",
          "filter44",
          "filter47",
          "filter50",
          "filter51",
          "filter6",
          "filter65",
          "filter66",
          "filter67",
          "filter68",
          "filter69",
          "filter70",
          "filter78",
          "filter8",
          "filter80",
          "filter85",
          "filter89",
          "filter9",
          "filter93",
          "filter94",
          "filter97"
         ],
         "z": [
          [
           2.875371,
           3.9346212999999994,
           4.0304150000000005,
           -39.203693,
           -14.286764000000002,
           3.6450093
          ],
          [
           298.71567000000005,
           -289.61334,
           -302.80753,
           402.54517000000004,
           -1702.5756,
           -735.2234
          ],
          [
           92.42553000000001,
           41.33782,
           34.300816,
           -412.90213,
           53.25833000000001,
           129.69725
          ],
          [
           -32.01562,
           -1.1843241000000002,
           0.5776170999999999,
           -5.4272860000000005,
           25.466425,
           -21.060986
          ],
          [
           -41.98417,
           29.547127000000003,
           59.325343999999994,
           58.68184,
           -1786.195,
           86.32869000000001
          ],
          [
           -6.453993,
           -461.4455,
           -590.3121,
           1090.8273,
           -2191.3308,
           -1178.5892
          ],
          [
           -852.5956,
           -134.86874,
           110.139404,
           105.569534,
           671.7246,
           493.89786
          ],
          [
           -105.17132600000001,
           -27.599287,
           132.36914,
           -106.90898999999999,
           337.56,
           -140.80875
          ],
          [
           30.515359999999998,
           -76.0759,
           -108.65993,
           269.6302,
           -487.6399,
           -163.6227
          ],
          [
           -9.672769,
           40.47968,
           42.842506,
           -175.23782,
           16.898901000000002,
           -64.30067
          ],
          [
           -88.14145,
           23.249561,
           16.129984,
           -6.974089599999999,
           22.452538,
           5.8433003
          ],
          [
           -25.351303,
           16.841412,
           18.122477,
           -39.266983,
           -8.058703999999999,
           -28.216183
          ],
          [
           65.94771999999999,
           27.171114000000003,
           23.22736,
           -145.5155,
           43.861195,
           -192.77358999999998
          ],
          [
           -0.57814664,
           6.52048,
           5.1774926,
           -28.971123,
           13.183141,
           -3.6617646
          ],
          [
           87.23099,
           -145.63362,
           -129.83226000000002,
           126.98443600000002,
           32.712092999999996,
           283.83606000000003
          ],
          [
           -982.28937,
           1782.8942,
           1883.1989999999998,
           -6015.0874,
           1897.4763,
           -1038.7161
          ],
          [
           -56.52545500000001,
           13.946659,
           12.708846000000001,
           3.6725992999999995,
           12.630256,
           7.168982000000001
          ],
          [
           17.820396,
           -48.697514,
           34.152355,
           -62.9225,
           146.83954,
           92.80409
          ],
          [
           249.60692999999998,
           -251.2152,
           -273.05664,
           385.7197,
           -1908.3039999999999,
           -571.7208
          ],
          [
           10.509944,
           5.551601,
           24.869066,
           -68.14161999999999,
           7.906298,
           -75.671616
          ],
          [
           -96.89787,
           -49.982994,
           -62.770244999999996,
           112.63316999999999,
           -168.58267,
           198.72507
          ],
          [
           44.93608,
           10.602892,
           20.294264000000002,
           -40.268035999999995,
           40.468533,
           -68.63794
          ],
          [
           -15.118513,
           14.729373,
           13.494385999999999,
           -37.789320000000004,
           60.167457999999996,
           -17.837822
          ],
          [
           -978.6188400000001,
           461.2893,
           503.30276,
           -794.6979,
           410.6668,
           307.71576
          ],
          [
           77.91861999999999,
           -191.05176,
           -323.40292,
           134.8873,
           -10.721625999999999,
           154.2161
          ],
          [
           -679.5834,
           68.411446,
           61.337031999999994,
           106.23656000000001,
           98.015045,
           81.32871999999999
          ],
          [
           8.274828,
           19.265488,
           14.357793,
           -63.113969999999995,
           -12.419596,
           -99.46294
          ],
          [
           21.936926,
           136.05626999999998,
           270.56528,
           -295.10278,
           -365.20264,
           135.0806
          ],
          [
           830.19727,
           657.9736,
           614.5108,
           -8623.075,
           541.9498,
           518.65594
          ],
          [
           -4.0418906,
           -3.1622486000000003,
           -9.829589,
           23.577017,
           -75.77614,
           21.060776
          ],
          [
           41.131508000000004,
           33.218765000000005,
           37.74024,
           -328.21477999999996,
           4.718585,
           11.325796
          ],
          [
           -18.606942999999998,
           11.603423,
           12.42925,
           -29.690072999999998,
           16.103296,
           -41.672527
          ],
          [
           2.1586522999999995,
           5.539841,
           3.569842,
           -27.466115999999996,
           17.133808,
           5.2535872
          ],
          [
           -615.7492,
           53.569786,
           53.377087,
           148.02827,
           92.08008000000001,
           75.61241
          ],
          [
           115.74386000000001,
           47.681847,
           49.47619,
           -460.04967999999997,
           67.50632,
           14.238406
          ],
          [
           144.73178000000001,
           -67.76269,
           -177.47086000000002,
           271.9715,
           -2.2216277,
           -311.83032000000003
          ],
          [
           -1.5526173,
           0.6944844,
           1.2845528,
           -1.8906319,
           -8.151205000000001,
           2.708259
          ],
          [
           -68.72208,
           -6.0832787,
           -11.98585,
           190.51486,
           -3.3049362,
           2.801627
          ],
          [
           1.369039,
           11.121573,
           6.062551,
           -13.997015,
           -19.757313,
           -25.880676
          ],
          [
           -410.28024,
           312.68878,
           314.5166,
           -881.9212,
           275.43695,
           173.24062
          ],
          [
           85.76847,
           16.289939999999998,
           14.501348000000002,
           -159.18407,
           27.412755999999998,
           1.8742737
          ],
          [
           4.1092005,
           2.4192498,
           -10.978034,
           39.94068,
           -38.34448,
           7.9691515
          ],
          [
           -956.4583,
           97.20345999999999,
           82.58686,
           157.4451,
           143.74857,
           133.83011000000002
          ],
          [
           -515.40753,
           47.847854999999996,
           49.213257,
           96.44976,
           61.932359999999996,
           89.86236600000001
          ],
          [
           -13.783714999999999,
           -98.48196,
           -61.679446999999996,
           133.45335,
           264.23367,
           -26.295746
          ],
          [
           65.08426999999999,
           151.84322,
           100.141655,
           -390.2719,
           -1056.9376,
           145.91673
          ],
          [
           -4.769538,
           -1.6069988000000002,
           -0.7249922,
           -10.593132,
           10.587489999999999,
           8.870686
          ],
          [
           -309.4107,
           109.60441999999999,
           115.86507399999999,
           -105.91546000000001,
           79.90119,
           76.0094
          ],
          [
           22.136389,
           93.592636,
           84.405754,
           -283.76926000000003,
           -213.46489,
           116.88371000000001
          ],
          [
           65.36966,
           -51.1755,
           -73.925896,
           137.49591,
           78.53768000000001,
           -55.21801
          ],
          [
           -116.63456000000001,
           322.78662,
           354.3854,
           -1166.76,
           321.38318,
           -690.53107
          ],
          [
           -89.49701999999999,
           -6.2611403,
           8.707947,
           164.51413,
           -171.8992,
           53.116690000000006
          ],
          [
           77.45571,
           172.85733000000002,
           94.50603000000001,
           -356.8812,
           -1716.4332,
           145.05591
          ],
          [
           -74.42113499999999,
           61.971405000000004,
           86.944016,
           -620.58093,
           263.32602,
           14.872617000000002
          ],
          [
           -6.793510400000001,
           -9.231607,
           -9.960932000000001,
           3.1504812,
           12.430098,
           -30.292571999999996
          ],
          [
           -26.670586,
           0.47928017,
           -0.4596495,
           59.946380000000005,
           -5.3203096,
           -9.628695500000001
          ],
          [
           -47.747723,
           36.158253,
           41.125885,
           -96.586395,
           1.8004563999999998,
           -7.248819999999999
          ],
          [
           -7.5025395999999995,
           -215.61035,
           -257.21857,
           550.0134,
           -727.6862,
           -290.2746
          ],
          [
           -1311.5651,
           2661.625,
           2802.7852,
           -10499.1875,
           3112.6540000000005,
           -1346.9187
          ],
          [
           -109.43628999999999,
           13.018632,
           10.990909,
           19.060497,
           21.976264999999998,
           20.667362
          ],
          [
           -1288.9545,
           130.36592,
           104.24067,
           230.21184,
           97.99096,
           197.4504
          ],
          [
           166.45515,
           -295.49627999999996,
           -335.4565,
           1406.8064,
           -189.48672,
           176.3597
          ],
          [
           42.344498,
           -118.59494,
           -93.41314,
           148.21945,
           210.74419,
           114.1308
          ],
          [
           23.294815,
           -18.587194,
           -38.86153,
           112.58523999999998,
           28.387445,
           -56.559948
          ],
          [
           -124.84432,
           112.83663,
           141.29315,
           -333.07358,
           174.14427,
           -220.3461
          ],
          [
           74.53602,
           -4.4874220000000005,
           36.06588,
           -70.45238499999999,
           -1704.5735,
           178.30261000000002
          ],
          [
           0.10717222,
           -29.010346999999996,
           -4.845888599999999,
           158.83209,
           21.36179,
           136.06465
          ],
          [
           8.220982000000001,
           12.492963,
           14.8917265,
           -51.96349,
           -104.63204,
           42.21046
          ],
          [
           -10.051777000000001,
           5.051767,
           0.3741402,
           79.38781999999999,
           -103.65584,
           14.071451000000001
          ],
          [
           -9.497314999999999,
           12.193401,
           33.85329,
           -38.898483,
           38.013103,
           -97.44308000000001
          ],
          [
           -260.0933,
           266.95364,
           329.84238,
           -632.4139,
           328.47638,
           -675.3043
          ],
          [
           43.28844,
           17.227524,
           52.165863,
           32.823757,
           -2063.2166,
           88.62923
          ],
          [
           -96.19494,
           14.877727499999999,
           28.236103000000004,
           475.07797,
           -157.13194,
           2.7679259999999997
          ],
          [
           311.86072,
           2.67312,
           139.76001000000002,
           -1378.1564,
           -135.31673999999998,
           -1092.1965
          ],
          [
           116.06926999999999,
           -98.90478,
           -40.613673999999996,
           -76.926315,
           -181.87599999999998,
           -75.47821
          ],
          [
           915.3367,
           748.16437,
           713.56335,
           -9585.634,
           691.0921,
           584.28015
          ],
          [
           31.910172999999997,
           19.169653,
           26.673384000000002,
           -77.755554,
           -19.01965,
           -923.5097699999999
          ],
          [
           -641.2795,
           71.97745,
           17.192854,
           -88.83423,
           -1123.6521,
           406.00897000000003
          ],
          [
           -20.755856,
           -11.402614999999999,
           -18.480116,
           217.3566,
           -164.02158,
           198.02202
          ],
          [
           -11.798959,
           4.1147966,
           5.0589260000000005,
           6.8107085000000005,
           4.6320752999999995,
           7.9189367
          ],
          [
           -61.494305000000004,
           -23.920881,
           -24.290056,
           201.43286,
           -234.7692,
           -127.40028999999998
          ],
          [
           16.719501,
           -48.388706,
           -84.97381999999999,
           63.632965000000006,
           -64.004906,
           60.15955699999999
          ],
          [
           -39.972935,
           -378.25766,
           -192.61836,
           1455.3485,
           543.4158,
           349.86652000000004
          ],
          [
           -36.521698,
           12.93343,
           12.417781,
           -19.288439,
           26.009624,
           7.069177000000001
          ],
          [
           48.007509999999996,
           -329.86453,
           -359.67093,
           1570.5686,
           165.65308000000002,
           -169.50592
          ],
          [
           -6.433173,
           5.486496,
           6.738842999999999,
           -2.055244,
           -1.2083734,
           -26.38587
          ],
          [
           48.66933,
           25.464073000000003,
           28.033094000000002,
           -104.61475,
           128.5012,
           31.734283
          ],
          [
           1.2005633999999998,
           12.120286,
           -42.50524,
           98.43805,
           -1060.475,
           54.336372
          ],
          [
           -0.28455803,
           -6.8722243,
           -8.983022,
           48.244614,
           -50.394115,
           -9.556643
          ],
          [
           -7.738241,
           26.184729,
           21.224115,
           -21.564291,
           -62.997780000000006,
           10.721879
          ],
          [
           -364.8111,
           -382.72107,
           -350.2578,
           3675.921,
           -223.13785,
           309.84045
          ],
          [
           -35.533825,
           -80.36155,
           -67.39686999999999,
           464.38302999999996,
           -50.63212,
           103.63086
          ],
          [
           22.151861,
           -65.889626,
           -112.31501999999999,
           75.64233,
           12.619161,
           44.010838
          ],
          [
           -61.78423299999999,
           37.783226,
           8.967288,
           72.98074,
           63.36040500000001,
           -511.06145999999995
          ],
          [
           -912.2847,
           326.81122,
           369.42438,
           -317.0207,
           192.54478,
           224.06535
          ],
          [
           -60.308758,
           -284.07596,
           -244.07426,
           556.3859,
           681.3944,
           -118.931175
          ],
          [
           -126.47016,
           -152.93884,
           -133.17193999999998,
           1480.396,
           10.595131,
           150.04918
          ],
          [
           -299.65112,
           190.43254,
           209.271,
           -419.02423,
           181.08324,
           -38.178112
          ],
          [
           30.439213,
           16.077204000000002,
           45.085762,
           -11.360511,
           -1435.1262,
           115.95828999999999
          ]
         ]
        }
       ],
       "layout": {
        "template": {
         "data": {
          "bar": [
           {
            "error_x": {
             "color": "#2a3f5f"
            },
            "error_y": {
             "color": "#2a3f5f"
            },
            "marker": {
             "line": {
              "color": "#E5ECF6",
              "width": 0.5
             }
            },
            "type": "bar"
           }
          ],
          "barpolar": [
           {
            "marker": {
             "line": {
              "color": "#E5ECF6",
              "width": 0.5
             }
            },
            "type": "barpolar"
           }
          ],
          "carpet": [
           {
            "aaxis": {
             "endlinecolor": "#2a3f5f",
             "gridcolor": "white",
             "linecolor": "white",
             "minorgridcolor": "white",
             "startlinecolor": "#2a3f5f"
            },
            "baxis": {
             "endlinecolor": "#2a3f5f",
             "gridcolor": "white",
             "linecolor": "white",
             "minorgridcolor": "white",
             "startlinecolor": "#2a3f5f"
            },
            "type": "carpet"
           }
          ],
          "choropleth": [
           {
            "colorbar": {
             "outlinewidth": 0,
             "ticks": ""
            },
            "type": "choropleth"
           }
          ],
          "contour": [
           {
            "colorbar": {
             "outlinewidth": 0,
             "ticks": ""
            },
            "colorscale": [
             [
              0,
              "#0d0887"
             ],
             [
              0.1111111111111111,
              "#46039f"
             ],
             [
              0.2222222222222222,
              "#7201a8"
             ],
             [
              0.3333333333333333,
              "#9c179e"
             ],
             [
              0.4444444444444444,
              "#bd3786"
             ],
             [
              0.5555555555555556,
              "#d8576b"
             ],
             [
              0.6666666666666666,
              "#ed7953"
             ],
             [
              0.7777777777777778,
              "#fb9f3a"
             ],
             [
              0.8888888888888888,
              "#fdca26"
             ],
             [
              1,
              "#f0f921"
             ]
            ],
            "type": "contour"
           }
          ],
          "contourcarpet": [
           {
            "colorbar": {
             "outlinewidth": 0,
             "ticks": ""
            },
            "type": "contourcarpet"
           }
          ],
          "heatmap": [
           {
            "colorbar": {
             "outlinewidth": 0,
             "ticks": ""
            },
            "colorscale": [
             [
              0,
              "#0d0887"
             ],
             [
              0.1111111111111111,
              "#46039f"
             ],
             [
              0.2222222222222222,
              "#7201a8"
             ],
             [
              0.3333333333333333,
              "#9c179e"
             ],
             [
              0.4444444444444444,
              "#bd3786"
             ],
             [
              0.5555555555555556,
              "#d8576b"
             ],
             [
              0.6666666666666666,
              "#ed7953"
             ],
             [
              0.7777777777777778,
              "#fb9f3a"
             ],
             [
              0.8888888888888888,
              "#fdca26"
             ],
             [
              1,
              "#f0f921"
             ]
            ],
            "type": "heatmap"
           }
          ],
          "heatmapgl": [
           {
            "colorbar": {
             "outlinewidth": 0,
             "ticks": ""
            },
            "colorscale": [
             [
              0,
              "#0d0887"
             ],
             [
              0.1111111111111111,
              "#46039f"
             ],
             [
              0.2222222222222222,
              "#7201a8"
             ],
             [
              0.3333333333333333,
              "#9c179e"
             ],
             [
              0.4444444444444444,
              "#bd3786"
             ],
             [
              0.5555555555555556,
              "#d8576b"
             ],
             [
              0.6666666666666666,
              "#ed7953"
             ],
             [
              0.7777777777777778,
              "#fb9f3a"
             ],
             [
              0.8888888888888888,
              "#fdca26"
             ],
             [
              1,
              "#f0f921"
             ]
            ],
            "type": "heatmapgl"
           }
          ],
          "histogram": [
           {
            "marker": {
             "colorbar": {
              "outlinewidth": 0,
              "ticks": ""
             }
            },
            "type": "histogram"
           }
          ],
          "histogram2d": [
           {
            "colorbar": {
             "outlinewidth": 0,
             "ticks": ""
            },
            "colorscale": [
             [
              0,
              "#0d0887"
             ],
             [
              0.1111111111111111,
              "#46039f"
             ],
             [
              0.2222222222222222,
              "#7201a8"
             ],
             [
              0.3333333333333333,
              "#9c179e"
             ],
             [
              0.4444444444444444,
              "#bd3786"
             ],
             [
              0.5555555555555556,
              "#d8576b"
             ],
             [
              0.6666666666666666,
              "#ed7953"
             ],
             [
              0.7777777777777778,
              "#fb9f3a"
             ],
             [
              0.8888888888888888,
              "#fdca26"
             ],
             [
              1,
              "#f0f921"
             ]
            ],
            "type": "histogram2d"
           }
          ],
          "histogram2dcontour": [
           {
            "colorbar": {
             "outlinewidth": 0,
             "ticks": ""
            },
            "colorscale": [
             [
              0,
              "#0d0887"
             ],
             [
              0.1111111111111111,
              "#46039f"
             ],
             [
              0.2222222222222222,
              "#7201a8"
             ],
             [
              0.3333333333333333,
              "#9c179e"
             ],
             [
              0.4444444444444444,
              "#bd3786"
             ],
             [
              0.5555555555555556,
              "#d8576b"
             ],
             [
              0.6666666666666666,
              "#ed7953"
             ],
             [
              0.7777777777777778,
              "#fb9f3a"
             ],
             [
              0.8888888888888888,
              "#fdca26"
             ],
             [
              1,
              "#f0f921"
             ]
            ],
            "type": "histogram2dcontour"
           }
          ],
          "mesh3d": [
           {
            "colorbar": {
             "outlinewidth": 0,
             "ticks": ""
            },
            "type": "mesh3d"
           }
          ],
          "parcoords": [
           {
            "line": {
             "colorbar": {
              "outlinewidth": 0,
              "ticks": ""
             }
            },
            "type": "parcoords"
           }
          ],
          "pie": [
           {
            "automargin": true,
            "type": "pie"
           }
          ],
          "scatter": [
           {
            "marker": {
             "colorbar": {
              "outlinewidth": 0,
              "ticks": ""
             }
            },
            "type": "scatter"
           }
          ],
          "scatter3d": [
           {
            "line": {
             "colorbar": {
              "outlinewidth": 0,
              "ticks": ""
             }
            },
            "marker": {
             "colorbar": {
              "outlinewidth": 0,
              "ticks": ""
             }
            },
            "type": "scatter3d"
           }
          ],
          "scattercarpet": [
           {
            "marker": {
             "colorbar": {
              "outlinewidth": 0,
              "ticks": ""
             }
            },
            "type": "scattercarpet"
           }
          ],
          "scattergeo": [
           {
            "marker": {
             "colorbar": {
              "outlinewidth": 0,
              "ticks": ""
             }
            },
            "type": "scattergeo"
           }
          ],
          "scattergl": [
           {
            "marker": {
             "colorbar": {
              "outlinewidth": 0,
              "ticks": ""
             }
            },
            "type": "scattergl"
           }
          ],
          "scattermapbox": [
           {
            "marker": {
             "colorbar": {
              "outlinewidth": 0,
              "ticks": ""
             }
            },
            "type": "scattermapbox"
           }
          ],
          "scatterpolar": [
           {
            "marker": {
             "colorbar": {
              "outlinewidth": 0,
              "ticks": ""
             }
            },
            "type": "scatterpolar"
           }
          ],
          "scatterpolargl": [
           {
            "marker": {
             "colorbar": {
              "outlinewidth": 0,
              "ticks": ""
             }
            },
            "type": "scatterpolargl"
           }
          ],
          "scatterternary": [
           {
            "marker": {
             "colorbar": {
              "outlinewidth": 0,
              "ticks": ""
             }
            },
            "type": "scatterternary"
           }
          ],
          "surface": [
           {
            "colorbar": {
             "outlinewidth": 0,
             "ticks": ""
            },
            "colorscale": [
             [
              0,
              "#0d0887"
             ],
             [
              0.1111111111111111,
              "#46039f"
             ],
             [
              0.2222222222222222,
              "#7201a8"
             ],
             [
              0.3333333333333333,
              "#9c179e"
             ],
             [
              0.4444444444444444,
              "#bd3786"
             ],
             [
              0.5555555555555556,
              "#d8576b"
             ],
             [
              0.6666666666666666,
              "#ed7953"
             ],
             [
              0.7777777777777778,
              "#fb9f3a"
             ],
             [
              0.8888888888888888,
              "#fdca26"
             ],
             [
              1,
              "#f0f921"
             ]
            ],
            "type": "surface"
           }
          ],
          "table": [
           {
            "cells": {
             "fill": {
              "color": "#EBF0F8"
             },
             "line": {
              "color": "white"
             }
            },
            "header": {
             "fill": {
              "color": "#C8D4E3"
             },
             "line": {
              "color": "white"
             }
            },
            "type": "table"
           }
          ]
         },
         "layout": {
          "annotationdefaults": {
           "arrowcolor": "#2a3f5f",
           "arrowhead": 0,
           "arrowwidth": 1
          },
          "coloraxis": {
           "colorbar": {
            "outlinewidth": 0,
            "ticks": ""
           }
          },
          "colorscale": {
           "diverging": [
            [
             0,
             "#8e0152"
            ],
            [
             0.1,
             "#c51b7d"
            ],
            [
             0.2,
             "#de77ae"
            ],
            [
             0.3,
             "#f1b6da"
            ],
            [
             0.4,
             "#fde0ef"
            ],
            [
             0.5,
             "#f7f7f7"
            ],
            [
             0.6,
             "#e6f5d0"
            ],
            [
             0.7,
             "#b8e186"
            ],
            [
             0.8,
             "#7fbc41"
            ],
            [
             0.9,
             "#4d9221"
            ],
            [
             1,
             "#276419"
            ]
           ],
           "sequential": [
            [
             0,
             "#0d0887"
            ],
            [
             0.1111111111111111,
             "#46039f"
            ],
            [
             0.2222222222222222,
             "#7201a8"
            ],
            [
             0.3333333333333333,
             "#9c179e"
            ],
            [
             0.4444444444444444,
             "#bd3786"
            ],
            [
             0.5555555555555556,
             "#d8576b"
            ],
            [
             0.6666666666666666,
             "#ed7953"
            ],
            [
             0.7777777777777778,
             "#fb9f3a"
            ],
            [
             0.8888888888888888,
             "#fdca26"
            ],
            [
             1,
             "#f0f921"
            ]
           ],
           "sequentialminus": [
            [
             0,
             "#0d0887"
            ],
            [
             0.1111111111111111,
             "#46039f"
            ],
            [
             0.2222222222222222,
             "#7201a8"
            ],
            [
             0.3333333333333333,
             "#9c179e"
            ],
            [
             0.4444444444444444,
             "#bd3786"
            ],
            [
             0.5555555555555556,
             "#d8576b"
            ],
            [
             0.6666666666666666,
             "#ed7953"
            ],
            [
             0.7777777777777778,
             "#fb9f3a"
            ],
            [
             0.8888888888888888,
             "#fdca26"
            ],
            [
             1,
             "#f0f921"
            ]
           ]
          },
          "colorway": [
           "#636efa",
           "#EF553B",
           "#00cc96",
           "#ab63fa",
           "#FFA15A",
           "#19d3f3",
           "#FF6692",
           "#B6E880",
           "#FF97FF",
           "#FECB52"
          ],
          "font": {
           "color": "#2a3f5f"
          },
          "geo": {
           "bgcolor": "white",
           "lakecolor": "white",
           "landcolor": "#E5ECF6",
           "showlakes": true,
           "showland": true,
           "subunitcolor": "white"
          },
          "hoverlabel": {
           "align": "left"
          },
          "hovermode": "closest",
          "mapbox": {
           "style": "light"
          },
          "paper_bgcolor": "white",
          "plot_bgcolor": "#E5ECF6",
          "polar": {
           "angularaxis": {
            "gridcolor": "white",
            "linecolor": "white",
            "ticks": ""
           },
           "bgcolor": "#E5ECF6",
           "radialaxis": {
            "gridcolor": "white",
            "linecolor": "white",
            "ticks": ""
           }
          },
          "scene": {
           "xaxis": {
            "backgroundcolor": "#E5ECF6",
            "gridcolor": "white",
            "gridwidth": 2,
            "linecolor": "white",
            "showbackground": true,
            "ticks": "",
            "zerolinecolor": "white"
           },
           "yaxis": {
            "backgroundcolor": "#E5ECF6",
            "gridcolor": "white",
            "gridwidth": 2,
            "linecolor": "white",
            "showbackground": true,
            "ticks": "",
            "zerolinecolor": "white"
           },
           "zaxis": {
            "backgroundcolor": "#E5ECF6",
            "gridcolor": "white",
            "gridwidth": 2,
            "linecolor": "white",
            "showbackground": true,
            "ticks": "",
            "zerolinecolor": "white"
           }
          },
          "shapedefaults": {
           "line": {
            "color": "#2a3f5f"
           }
          },
          "ternary": {
           "aaxis": {
            "gridcolor": "white",
            "linecolor": "white",
            "ticks": ""
           },
           "baxis": {
            "gridcolor": "white",
            "linecolor": "white",
            "ticks": ""
           },
           "bgcolor": "#E5ECF6",
           "caxis": {
            "gridcolor": "white",
            "linecolor": "white",
            "ticks": ""
           }
          },
          "title": {
           "x": 0.05
          },
          "xaxis": {
           "automargin": true,
           "gridcolor": "white",
           "linecolor": "white",
           "ticks": "",
           "title": {
            "standoff": 15
           },
           "zerolinecolor": "white",
           "zerolinewidth": 2
          },
          "yaxis": {
           "automargin": true,
           "gridcolor": "white",
           "linecolor": "white",
           "ticks": "",
           "title": {
            "standoff": 15
           },
           "zerolinecolor": "white",
           "zerolinewidth": 2
          }
         }
        },
        "title": {
         "text": "Proportion of the motif in the GA results"
        }
       }
      },
      "text/html": [
       "<div>\n",
       "        \n",
       "        \n",
       "            <div id=\"4bdbeeda-0e1c-49a3-804e-69a8c5badaa3\" class=\"plotly-graph-div\" style=\"height:525px; width:100%;\"></div>\n",
       "            <script type=\"text/javascript\">\n",
       "                require([\"plotly\"], function(Plotly) {\n",
       "                    window.PLOTLYENV=window.PLOTLYENV || {};\n",
       "                    \n",
       "                if (document.getElementById(\"4bdbeeda-0e1c-49a3-804e-69a8c5badaa3\")) {\n",
       "                    Plotly.newPlot(\n",
       "                        '4bdbeeda-0e1c-49a3-804e-69a8c5badaa3',\n",
       "                        [{\"type\": \"heatmap\", \"x\": [\"B\", \"abT\", \"gdT\", \"myeloid\", \"lym\", \"stem\"], \"y\": [\"filter1\", \"filter10\", \"filter102\", \"filter105\", \"filter106\", \"filter11\", \"filter112\", \"filter115\", \"filter120\", \"filter122\", \"filter123\", \"filter124\", \"filter127\", \"filter129\", \"filter132\", \"filter133\", \"filter135\", \"filter14\", \"filter15\", \"filter151\", \"filter154\", \"filter155\", \"filter157\", \"filter165\", \"filter166\", \"filter167\", \"filter170\", \"filter173\", \"filter174\", \"filter178\", \"filter183\", \"filter185\", \"filter186\", \"filter190\", \"filter194\", \"filter195\", \"filter196\", \"filter198\", \"filter202\", \"filter205\", \"filter209\", \"filter214\", \"filter217\", \"filter218\", \"filter219\", \"filter220\", \"filter223\", \"filter224\", \"filter227\", \"filter23\", \"filter230\", \"filter231\", \"filter238\", \"filter242\", \"filter244\", \"filter247\", \"filter250\", \"filter252\", \"filter255\", \"filter257\", \"filter260\", \"filter264\", \"filter270\", \"filter275\", \"filter276\", \"filter279\", \"filter28\", \"filter281\", \"filter283\", \"filter284\", \"filter286\", \"filter288\", \"filter290\", \"filter292\", \"filter297\", \"filter34\", \"filter35\", \"filter40\", \"filter43\", \"filter44\", \"filter47\", \"filter50\", \"filter51\", \"filter6\", \"filter65\", \"filter66\", \"filter67\", \"filter68\", \"filter69\", \"filter70\", \"filter78\", \"filter8\", \"filter80\", \"filter85\", \"filter89\", \"filter9\", \"filter93\", \"filter94\", \"filter97\"], \"z\": [[2.875371, 3.9346212999999994, 4.0304150000000005, -39.203693, -14.286764000000002, 3.6450093], [298.71567000000005, -289.61334, -302.80753, 402.54517000000004, -1702.5756, -735.2234], [92.42553000000001, 41.33782, 34.300816, -412.90213, 53.25833000000001, 129.69725], [-32.01562, -1.1843241000000002, 0.5776170999999999, -5.4272860000000005, 25.466425, -21.060986], [-41.98417, 29.547127000000003, 59.325343999999994, 58.68184, -1786.195, 86.32869000000001], [-6.453993, -461.4455, -590.3121, 1090.8273, -2191.3308, -1178.5892], [-852.5956, -134.86874, 110.139404, 105.569534, 671.7246, 493.89786], [-105.17132600000001, -27.599287, 132.36914, -106.90898999999999, 337.56, -140.80875], [30.515359999999998, -76.0759, -108.65993, 269.6302, -487.6399, -163.6227], [-9.672769, 40.47968, 42.842506, -175.23782, 16.898901000000002, -64.30067], [-88.14145, 23.249561, 16.129984, -6.974089599999999, 22.452538, 5.8433003], [-25.351303, 16.841412, 18.122477, -39.266983, -8.058703999999999, -28.216183], [65.94771999999999, 27.171114000000003, 23.22736, -145.5155, 43.861195, -192.77358999999998], [-0.57814664, 6.52048, 5.1774926, -28.971123, 13.183141, -3.6617646], [87.23099, -145.63362, -129.83226000000002, 126.98443600000002, 32.712092999999996, 283.83606000000003], [-982.28937, 1782.8942, 1883.1989999999998, -6015.0874, 1897.4763, -1038.7161], [-56.52545500000001, 13.946659, 12.708846000000001, 3.6725992999999995, 12.630256, 7.168982000000001], [17.820396, -48.697514, 34.152355, -62.9225, 146.83954, 92.80409], [249.60692999999998, -251.2152, -273.05664, 385.7197, -1908.3039999999999, -571.7208], [10.509944, 5.551601, 24.869066, -68.14161999999999, 7.906298, -75.671616], [-96.89787, -49.982994, -62.770244999999996, 112.63316999999999, -168.58267, 198.72507], [44.93608, 10.602892, 20.294264000000002, -40.268035999999995, 40.468533, -68.63794], [-15.118513, 14.729373, 13.494385999999999, -37.789320000000004, 60.167457999999996, -17.837822], [-978.6188400000001, 461.2893, 503.30276, -794.6979, 410.6668, 307.71576], [77.91861999999999, -191.05176, -323.40292, 134.8873, -10.721625999999999, 154.2161], [-679.5834, 68.411446, 61.337031999999994, 106.23656000000001, 98.015045, 81.32871999999999], [8.274828, 19.265488, 14.357793, -63.113969999999995, -12.419596, -99.46294], [21.936926, 136.05626999999998, 270.56528, -295.10278, -365.20264, 135.0806], [830.19727, 657.9736, 614.5108, -8623.075, 541.9498, 518.65594], [-4.0418906, -3.1622486000000003, -9.829589, 23.577017, -75.77614, 21.060776], [41.131508000000004, 33.218765000000005, 37.74024, -328.21477999999996, 4.718585, 11.325796], [-18.606942999999998, 11.603423, 12.42925, -29.690072999999998, 16.103296, -41.672527], [2.1586522999999995, 5.539841, 3.569842, -27.466115999999996, 17.133808, 5.2535872], [-615.7492, 53.569786, 53.377087, 148.02827, 92.08008000000001, 75.61241], [115.74386000000001, 47.681847, 49.47619, -460.04967999999997, 67.50632, 14.238406], [144.73178000000001, -67.76269, -177.47086000000002, 271.9715, -2.2216277, -311.83032000000003], [-1.5526173, 0.6944844, 1.2845528, -1.8906319, -8.151205000000001, 2.708259], [-68.72208, -6.0832787, -11.98585, 190.51486, -3.3049362, 2.801627], [1.369039, 11.121573, 6.062551, -13.997015, -19.757313, -25.880676], [-410.28024, 312.68878, 314.5166, -881.9212, 275.43695, 173.24062], [85.76847, 16.289939999999998, 14.501348000000002, -159.18407, 27.412755999999998, 1.8742737], [4.1092005, 2.4192498, -10.978034, 39.94068, -38.34448, 7.9691515], [-956.4583, 97.20345999999999, 82.58686, 157.4451, 143.74857, 133.83011000000002], [-515.40753, 47.847854999999996, 49.213257, 96.44976, 61.932359999999996, 89.86236600000001], [-13.783714999999999, -98.48196, -61.679446999999996, 133.45335, 264.23367, -26.295746], [65.08426999999999, 151.84322, 100.141655, -390.2719, -1056.9376, 145.91673], [-4.769538, -1.6069988000000002, -0.7249922, -10.593132, 10.587489999999999, 8.870686], [-309.4107, 109.60441999999999, 115.86507399999999, -105.91546000000001, 79.90119, 76.0094], [22.136389, 93.592636, 84.405754, -283.76926000000003, -213.46489, 116.88371000000001], [65.36966, -51.1755, -73.925896, 137.49591, 78.53768000000001, -55.21801], [-116.63456000000001, 322.78662, 354.3854, -1166.76, 321.38318, -690.53107], [-89.49701999999999, -6.2611403, 8.707947, 164.51413, -171.8992, 53.116690000000006], [77.45571, 172.85733000000002, 94.50603000000001, -356.8812, -1716.4332, 145.05591], [-74.42113499999999, 61.971405000000004, 86.944016, -620.58093, 263.32602, 14.872617000000002], [-6.793510400000001, -9.231607, -9.960932000000001, 3.1504812, 12.430098, -30.292571999999996], [-26.670586, 0.47928017, -0.4596495, 59.946380000000005, -5.3203096, -9.628695500000001], [-47.747723, 36.158253, 41.125885, -96.586395, 1.8004563999999998, -7.248819999999999], [-7.5025395999999995, -215.61035, -257.21857, 550.0134, -727.6862, -290.2746], [-1311.5651, 2661.625, 2802.7852, -10499.1875, 3112.6540000000005, -1346.9187], [-109.43628999999999, 13.018632, 10.990909, 19.060497, 21.976264999999998, 20.667362], [-1288.9545, 130.36592, 104.24067, 230.21184, 97.99096, 197.4504], [166.45515, -295.49627999999996, -335.4565, 1406.8064, -189.48672, 176.3597], [42.344498, -118.59494, -93.41314, 148.21945, 210.74419, 114.1308], [23.294815, -18.587194, -38.86153, 112.58523999999998, 28.387445, -56.559948], [-124.84432, 112.83663, 141.29315, -333.07358, 174.14427, -220.3461], [74.53602, -4.4874220000000005, 36.06588, -70.45238499999999, -1704.5735, 178.30261000000002], [0.10717222, -29.010346999999996, -4.845888599999999, 158.83209, 21.36179, 136.06465], [8.220982000000001, 12.492963, 14.8917265, -51.96349, -104.63204, 42.21046], [-10.051777000000001, 5.051767, 0.3741402, 79.38781999999999, -103.65584, 14.071451000000001], [-9.497314999999999, 12.193401, 33.85329, -38.898483, 38.013103, -97.44308000000001], [-260.0933, 266.95364, 329.84238, -632.4139, 328.47638, -675.3043], [43.28844, 17.227524, 52.165863, 32.823757, -2063.2166, 88.62923], [-96.19494, 14.877727499999999, 28.236103000000004, 475.07797, -157.13194, 2.7679259999999997], [311.86072, 2.67312, 139.76001000000002, -1378.1564, -135.31673999999998, -1092.1965], [116.06926999999999, -98.90478, -40.613673999999996, -76.926315, -181.87599999999998, -75.47821], [915.3367, 748.16437, 713.56335, -9585.634, 691.0921, 584.28015], [31.910172999999997, 19.169653, 26.673384000000002, -77.755554, -19.01965, -923.5097699999999], [-641.2795, 71.97745, 17.192854, -88.83423, -1123.6521, 406.00897000000003], [-20.755856, -11.402614999999999, -18.480116, 217.3566, -164.02158, 198.02202], [-11.798959, 4.1147966, 5.0589260000000005, 6.8107085000000005, 4.6320752999999995, 7.9189367], [-61.494305000000004, -23.920881, -24.290056, 201.43286, -234.7692, -127.40028999999998], [16.719501, -48.388706, -84.97381999999999, 63.632965000000006, -64.004906, 60.15955699999999], [-39.972935, -378.25766, -192.61836, 1455.3485, 543.4158, 349.86652000000004], [-36.521698, 12.93343, 12.417781, -19.288439, 26.009624, 7.069177000000001], [48.007509999999996, -329.86453, -359.67093, 1570.5686, 165.65308000000002, -169.50592], [-6.433173, 5.486496, 6.738842999999999, -2.055244, -1.2083734, -26.38587], [48.66933, 25.464073000000003, 28.033094000000002, -104.61475, 128.5012, 31.734283], [1.2005633999999998, 12.120286, -42.50524, 98.43805, -1060.475, 54.336372], [-0.28455803, -6.8722243, -8.983022, 48.244614, -50.394115, -9.556643], [-7.738241, 26.184729, 21.224115, -21.564291, -62.997780000000006, 10.721879], [-364.8111, -382.72107, -350.2578, 3675.921, -223.13785, 309.84045], [-35.533825, -80.36155, -67.39686999999999, 464.38302999999996, -50.63212, 103.63086], [22.151861, -65.889626, -112.31501999999999, 75.64233, 12.619161, 44.010838], [-61.78423299999999, 37.783226, 8.967288, 72.98074, 63.36040500000001, -511.06145999999995], [-912.2847, 326.81122, 369.42438, -317.0207, 192.54478, 224.06535], [-60.308758, -284.07596, -244.07426, 556.3859, 681.3944, -118.931175], [-126.47016, -152.93884, -133.17193999999998, 1480.396, 10.595131, 150.04918], [-299.65112, 190.43254, 209.271, -419.02423, 181.08324, -38.178112], [30.439213, 16.077204000000002, 45.085762, -11.360511, -1435.1262, 115.95828999999999]]}],\n",
       "                        {\"template\": {\"data\": {\"bar\": [{\"error_x\": {\"color\": \"#2a3f5f\"}, \"error_y\": {\"color\": \"#2a3f5f\"}, \"marker\": {\"line\": {\"color\": \"#E5ECF6\", \"width\": 0.5}}, \"type\": \"bar\"}], \"barpolar\": [{\"marker\": {\"line\": {\"color\": \"#E5ECF6\", \"width\": 0.5}}, \"type\": \"barpolar\"}], \"carpet\": [{\"aaxis\": {\"endlinecolor\": \"#2a3f5f\", \"gridcolor\": \"white\", \"linecolor\": \"white\", \"minorgridcolor\": \"white\", \"startlinecolor\": \"#2a3f5f\"}, \"baxis\": {\"endlinecolor\": \"#2a3f5f\", \"gridcolor\": \"white\", \"linecolor\": \"white\", \"minorgridcolor\": \"white\", \"startlinecolor\": \"#2a3f5f\"}, \"type\": \"carpet\"}], \"choropleth\": [{\"colorbar\": {\"outlinewidth\": 0, \"ticks\": \"\"}, \"type\": \"choropleth\"}], \"contour\": [{\"colorbar\": {\"outlinewidth\": 0, \"ticks\": \"\"}, \"colorscale\": [[0.0, \"#0d0887\"], [0.1111111111111111, \"#46039f\"], [0.2222222222222222, \"#7201a8\"], [0.3333333333333333, \"#9c179e\"], [0.4444444444444444, \"#bd3786\"], [0.5555555555555556, \"#d8576b\"], [0.6666666666666666, \"#ed7953\"], [0.7777777777777778, \"#fb9f3a\"], [0.8888888888888888, \"#fdca26\"], [1.0, \"#f0f921\"]], \"type\": \"contour\"}], \"contourcarpet\": [{\"colorbar\": {\"outlinewidth\": 0, \"ticks\": \"\"}, \"type\": \"contourcarpet\"}], \"heatmap\": [{\"colorbar\": {\"outlinewidth\": 0, \"ticks\": \"\"}, \"colorscale\": [[0.0, \"#0d0887\"], [0.1111111111111111, \"#46039f\"], [0.2222222222222222, \"#7201a8\"], [0.3333333333333333, \"#9c179e\"], [0.4444444444444444, \"#bd3786\"], [0.5555555555555556, \"#d8576b\"], [0.6666666666666666, \"#ed7953\"], [0.7777777777777778, \"#fb9f3a\"], [0.8888888888888888, \"#fdca26\"], [1.0, \"#f0f921\"]], \"type\": \"heatmap\"}], \"heatmapgl\": [{\"colorbar\": {\"outlinewidth\": 0, \"ticks\": \"\"}, \"colorscale\": [[0.0, \"#0d0887\"], [0.1111111111111111, \"#46039f\"], [0.2222222222222222, \"#7201a8\"], [0.3333333333333333, \"#9c179e\"], [0.4444444444444444, \"#bd3786\"], [0.5555555555555556, \"#d8576b\"], [0.6666666666666666, \"#ed7953\"], [0.7777777777777778, \"#fb9f3a\"], [0.8888888888888888, \"#fdca26\"], [1.0, \"#f0f921\"]], \"type\": \"heatmapgl\"}], \"histogram\": [{\"marker\": {\"colorbar\": {\"outlinewidth\": 0, \"ticks\": \"\"}}, \"type\": \"histogram\"}], \"histogram2d\": [{\"colorbar\": {\"outlinewidth\": 0, \"ticks\": \"\"}, \"colorscale\": [[0.0, \"#0d0887\"], [0.1111111111111111, \"#46039f\"], [0.2222222222222222, \"#7201a8\"], [0.3333333333333333, \"#9c179e\"], [0.4444444444444444, \"#bd3786\"], [0.5555555555555556, \"#d8576b\"], [0.6666666666666666, \"#ed7953\"], [0.7777777777777778, \"#fb9f3a\"], [0.8888888888888888, \"#fdca26\"], [1.0, \"#f0f921\"]], \"type\": \"histogram2d\"}], \"histogram2dcontour\": [{\"colorbar\": {\"outlinewidth\": 0, \"ticks\": \"\"}, \"colorscale\": [[0.0, \"#0d0887\"], [0.1111111111111111, \"#46039f\"], [0.2222222222222222, \"#7201a8\"], [0.3333333333333333, \"#9c179e\"], [0.4444444444444444, \"#bd3786\"], [0.5555555555555556, \"#d8576b\"], [0.6666666666666666, \"#ed7953\"], [0.7777777777777778, \"#fb9f3a\"], [0.8888888888888888, \"#fdca26\"], [1.0, \"#f0f921\"]], \"type\": \"histogram2dcontour\"}], \"mesh3d\": [{\"colorbar\": {\"outlinewidth\": 0, \"ticks\": \"\"}, \"type\": \"mesh3d\"}], \"parcoords\": [{\"line\": {\"colorbar\": {\"outlinewidth\": 0, \"ticks\": \"\"}}, \"type\": \"parcoords\"}], \"pie\": [{\"automargin\": true, \"type\": \"pie\"}], \"scatter\": [{\"marker\": {\"colorbar\": {\"outlinewidth\": 0, \"ticks\": \"\"}}, \"type\": \"scatter\"}], \"scatter3d\": [{\"line\": {\"colorbar\": {\"outlinewidth\": 0, \"ticks\": \"\"}}, \"marker\": {\"colorbar\": {\"outlinewidth\": 0, \"ticks\": \"\"}}, \"type\": \"scatter3d\"}], \"scattercarpet\": [{\"marker\": {\"colorbar\": {\"outlinewidth\": 0, \"ticks\": \"\"}}, \"type\": \"scattercarpet\"}], \"scattergeo\": [{\"marker\": {\"colorbar\": {\"outlinewidth\": 0, \"ticks\": \"\"}}, \"type\": \"scattergeo\"}], \"scattergl\": [{\"marker\": {\"colorbar\": {\"outlinewidth\": 0, \"ticks\": \"\"}}, \"type\": \"scattergl\"}], \"scattermapbox\": [{\"marker\": {\"colorbar\": {\"outlinewidth\": 0, \"ticks\": \"\"}}, \"type\": \"scattermapbox\"}], \"scatterpolar\": [{\"marker\": {\"colorbar\": {\"outlinewidth\": 0, \"ticks\": \"\"}}, \"type\": \"scatterpolar\"}], \"scatterpolargl\": [{\"marker\": {\"colorbar\": {\"outlinewidth\": 0, \"ticks\": \"\"}}, \"type\": \"scatterpolargl\"}], \"scatterternary\": [{\"marker\": {\"colorbar\": {\"outlinewidth\": 0, \"ticks\": \"\"}}, \"type\": \"scatterternary\"}], \"surface\": [{\"colorbar\": {\"outlinewidth\": 0, \"ticks\": \"\"}, \"colorscale\": [[0.0, \"#0d0887\"], [0.1111111111111111, \"#46039f\"], [0.2222222222222222, \"#7201a8\"], [0.3333333333333333, \"#9c179e\"], [0.4444444444444444, \"#bd3786\"], [0.5555555555555556, \"#d8576b\"], [0.6666666666666666, \"#ed7953\"], [0.7777777777777778, \"#fb9f3a\"], [0.8888888888888888, \"#fdca26\"], [1.0, \"#f0f921\"]], \"type\": \"surface\"}], \"table\": [{\"cells\": {\"fill\": {\"color\": \"#EBF0F8\"}, \"line\": {\"color\": \"white\"}}, \"header\": {\"fill\": {\"color\": \"#C8D4E3\"}, \"line\": {\"color\": \"white\"}}, \"type\": \"table\"}]}, \"layout\": {\"annotationdefaults\": {\"arrowcolor\": \"#2a3f5f\", \"arrowhead\": 0, \"arrowwidth\": 1}, \"coloraxis\": {\"colorbar\": {\"outlinewidth\": 0, \"ticks\": \"\"}}, \"colorscale\": {\"diverging\": [[0, \"#8e0152\"], [0.1, \"#c51b7d\"], [0.2, \"#de77ae\"], [0.3, \"#f1b6da\"], [0.4, \"#fde0ef\"], [0.5, \"#f7f7f7\"], [0.6, \"#e6f5d0\"], [0.7, \"#b8e186\"], [0.8, \"#7fbc41\"], [0.9, \"#4d9221\"], [1, \"#276419\"]], \"sequential\": [[0.0, \"#0d0887\"], [0.1111111111111111, \"#46039f\"], [0.2222222222222222, \"#7201a8\"], [0.3333333333333333, \"#9c179e\"], [0.4444444444444444, \"#bd3786\"], [0.5555555555555556, \"#d8576b\"], [0.6666666666666666, \"#ed7953\"], [0.7777777777777778, \"#fb9f3a\"], [0.8888888888888888, \"#fdca26\"], [1.0, \"#f0f921\"]], \"sequentialminus\": [[0.0, \"#0d0887\"], [0.1111111111111111, \"#46039f\"], [0.2222222222222222, \"#7201a8\"], [0.3333333333333333, \"#9c179e\"], [0.4444444444444444, \"#bd3786\"], [0.5555555555555556, \"#d8576b\"], [0.6666666666666666, \"#ed7953\"], [0.7777777777777778, \"#fb9f3a\"], [0.8888888888888888, \"#fdca26\"], [1.0, \"#f0f921\"]]}, \"colorway\": [\"#636efa\", \"#EF553B\", \"#00cc96\", \"#ab63fa\", \"#FFA15A\", \"#19d3f3\", \"#FF6692\", \"#B6E880\", \"#FF97FF\", \"#FECB52\"], \"font\": {\"color\": \"#2a3f5f\"}, \"geo\": {\"bgcolor\": \"white\", \"lakecolor\": \"white\", \"landcolor\": \"#E5ECF6\", \"showlakes\": true, \"showland\": true, \"subunitcolor\": \"white\"}, \"hoverlabel\": {\"align\": \"left\"}, \"hovermode\": \"closest\", \"mapbox\": {\"style\": \"light\"}, \"paper_bgcolor\": \"white\", \"plot_bgcolor\": \"#E5ECF6\", \"polar\": {\"angularaxis\": {\"gridcolor\": \"white\", \"linecolor\": \"white\", \"ticks\": \"\"}, \"bgcolor\": \"#E5ECF6\", \"radialaxis\": {\"gridcolor\": \"white\", \"linecolor\": \"white\", \"ticks\": \"\"}}, \"scene\": {\"xaxis\": {\"backgroundcolor\": \"#E5ECF6\", \"gridcolor\": \"white\", \"gridwidth\": 2, \"linecolor\": \"white\", \"showbackground\": true, \"ticks\": \"\", \"zerolinecolor\": \"white\"}, \"yaxis\": {\"backgroundcolor\": \"#E5ECF6\", \"gridcolor\": \"white\", \"gridwidth\": 2, \"linecolor\": \"white\", \"showbackground\": true, \"ticks\": \"\", \"zerolinecolor\": \"white\"}, \"zaxis\": {\"backgroundcolor\": \"#E5ECF6\", \"gridcolor\": \"white\", \"gridwidth\": 2, \"linecolor\": \"white\", \"showbackground\": true, \"ticks\": \"\", \"zerolinecolor\": \"white\"}}, \"shapedefaults\": {\"line\": {\"color\": \"#2a3f5f\"}}, \"ternary\": {\"aaxis\": {\"gridcolor\": \"white\", \"linecolor\": \"white\", \"ticks\": \"\"}, \"baxis\": {\"gridcolor\": \"white\", \"linecolor\": \"white\", \"ticks\": \"\"}, \"bgcolor\": \"#E5ECF6\", \"caxis\": {\"gridcolor\": \"white\", \"linecolor\": \"white\", \"ticks\": \"\"}}, \"title\": {\"x\": 0.05}, \"xaxis\": {\"automargin\": true, \"gridcolor\": \"white\", \"linecolor\": \"white\", \"ticks\": \"\", \"title\": {\"standoff\": 15}, \"zerolinecolor\": \"white\", \"zerolinewidth\": 2}, \"yaxis\": {\"automargin\": true, \"gridcolor\": \"white\", \"linecolor\": \"white\", \"ticks\": \"\", \"title\": {\"standoff\": 15}, \"zerolinecolor\": \"white\", \"zerolinewidth\": 2}}}, \"title\": {\"text\": \"Proportion of the motif in the GA results\"}},\n",
       "                        {\"responsive\": true}\n",
       "                    ).then(function(){\n",
       "                            \n",
       "var gd = document.getElementById('4bdbeeda-0e1c-49a3-804e-69a8c5badaa3');\n",
       "var x = new MutationObserver(function (mutations, observer) {{\n",
       "        var display = window.getComputedStyle(gd).display;\n",
       "        if (!display || display === 'none') {{\n",
       "            console.log([gd, 'removed!']);\n",
       "            Plotly.purge(gd);\n",
       "            observer.disconnect();\n",
       "        }}\n",
       "}});\n",
       "\n",
       "// Listen for the removal of the full notebook cells\n",
       "var notebookContainer = gd.closest('#notebook-container');\n",
       "if (notebookContainer) {{\n",
       "    x.observe(notebookContainer, {childList: true});\n",
       "}}\n",
       "\n",
       "// Listen for the clearing of the current output cell\n",
       "var outputEl = gd.closest('.output');\n",
       "if (outputEl) {{\n",
       "    x.observe(outputEl, {childList: true});\n",
       "}}\n",
       "\n",
       "                        })\n",
       "                };\n",
       "                });\n",
       "            </script>\n",
       "        </div>"
      ]
     },
     "metadata": {},
     "output_type": "display_data"
    }
   ],
   "source": [
    "fig = go.Figure(go.Heatmap(z=sasha_importance,\n",
    "                     x = sasha_importance.columns,\n",
    "                     y=sasha_importance.index))\n",
    "fig.update_layout(title=\"Proportion of the motif in the GA results\")\n",
    "fig.show()"
   ]
  },
  {
   "cell_type": "markdown",
   "metadata": {},
   "source": [
    "## Compare Motif Importance - BassetE Importance Score"
   ]
  },
  {
   "cell_type": "code",
   "execution_count": 5,
   "metadata": {},
   "outputs": [],
   "source": [
    "be_importance = pd.read_csv(os.path.expanduser('~/Dropbox/UBC/data/Activation_BassetE_FilterS.csv'),index_col=0).drop(columns=['Best overall TF match','Motif consensus Sequence'])\n",
    "#be_importance = (be_importance - 1)/8\n",
    "be_importance['mean_importance'] =  be_importance.mean(axis=1)\n",
    "comparaison_be = pd.merge(be_importance,\n",
    "                       generated_smotifs,\n",
    "                       left_index=True, right_index=True, suffixes=('_be','_generated'), how='left')\n",
    "comparaison_be = comparaison_be.fillna(0)"
   ]
  },
  {
   "cell_type": "code",
   "execution_count": 74,
   "metadata": {},
   "outputs": [
    {
     "data": {
      "text/html": [
       "<div>\n",
       "<style scoped>\n",
       "    .dataframe tbody tr th:only-of-type {\n",
       "        vertical-align: middle;\n",
       "    }\n",
       "\n",
       "    .dataframe tbody tr th {\n",
       "        vertical-align: top;\n",
       "    }\n",
       "\n",
       "    .dataframe thead th {\n",
       "        text-align: right;\n",
       "    }\n",
       "</style>\n",
       "<table border=\"1\" class=\"dataframe\">\n",
       "  <thead>\n",
       "    <tr style=\"text-align: right;\">\n",
       "      <th></th>\n",
       "      <th>B</th>\n",
       "      <th>myeloid</th>\n",
       "      <th>innate.lym</th>\n",
       "      <th>stem</th>\n",
       "      <th>abT</th>\n",
       "      <th>gdT</th>\n",
       "      <th>mean_importance</th>\n",
       "      <th>Random</th>\n",
       "      <th>Best overall TF match</th>\n",
       "      <th>Motif consensus Sequence</th>\n",
       "    </tr>\n",
       "  </thead>\n",
       "  <tbody>\n",
       "    <tr>\n",
       "      <th>filter1</th>\n",
       "      <td>3.308</td>\n",
       "      <td>3.100</td>\n",
       "      <td>3.662</td>\n",
       "      <td>3.179</td>\n",
       "      <td>4.210</td>\n",
       "      <td>4.251</td>\n",
       "      <td>3.618333</td>\n",
       "      <td>0.0598</td>\n",
       "      <td>Atf3</td>\n",
       "      <td>TGAAGGATACGACGACATG</td>\n",
       "    </tr>\n",
       "    <tr>\n",
       "      <th>filter6</th>\n",
       "      <td>3.925</td>\n",
       "      <td>4.307</td>\n",
       "      <td>3.640</td>\n",
       "      <td>3.594</td>\n",
       "      <td>3.788</td>\n",
       "      <td>3.801</td>\n",
       "      <td>3.842500</td>\n",
       "      <td>0.0458</td>\n",
       "      <td>Ebf1</td>\n",
       "      <td>TTTCCCAATGGAATTTAAG</td>\n",
       "    </tr>\n",
       "    <tr>\n",
       "      <th>filter8</th>\n",
       "      <td>4.244</td>\n",
       "      <td>2.844</td>\n",
       "      <td>3.778</td>\n",
       "      <td>3.253</td>\n",
       "      <td>4.814</td>\n",
       "      <td>4.753</td>\n",
       "      <td>3.947667</td>\n",
       "      <td>0.0620</td>\n",
       "      <td>Zeb1</td>\n",
       "      <td>GAGGGCGCCCAGGTGAGAG</td>\n",
       "    </tr>\n",
       "    <tr>\n",
       "      <th>filter9</th>\n",
       "      <td>3.491</td>\n",
       "      <td>3.081</td>\n",
       "      <td>3.844</td>\n",
       "      <td>3.176</td>\n",
       "      <td>4.006</td>\n",
       "      <td>3.995</td>\n",
       "      <td>3.598833</td>\n",
       "      <td>0.0470</td>\n",
       "      <td>MOTIF NOT KNOWN</td>\n",
       "      <td>CGGCTGTACAGTGAACATC</td>\n",
       "    </tr>\n",
       "    <tr>\n",
       "      <th>filter10</th>\n",
       "      <td>3.386</td>\n",
       "      <td>2.743</td>\n",
       "      <td>4.238</td>\n",
       "      <td>3.952</td>\n",
       "      <td>4.381</td>\n",
       "      <td>4.479</td>\n",
       "      <td>3.863167</td>\n",
       "      <td>0.0470</td>\n",
       "      <td>Runx</td>\n",
       "      <td>TTTGTGGTTTGAATTGTAA</td>\n",
       "    </tr>\n",
       "    <tr>\n",
       "      <th>...</th>\n",
       "      <td>...</td>\n",
       "      <td>...</td>\n",
       "      <td>...</td>\n",
       "      <td>...</td>\n",
       "      <td>...</td>\n",
       "      <td>...</td>\n",
       "      <td>...</td>\n",
       "      <td>...</td>\n",
       "      <td>...</td>\n",
       "      <td>...</td>\n",
       "    </tr>\n",
       "    <tr>\n",
       "      <th>filter286</th>\n",
       "      <td>6.188</td>\n",
       "      <td>5.778</td>\n",
       "      <td>3.369</td>\n",
       "      <td>6.940</td>\n",
       "      <td>3.891</td>\n",
       "      <td>3.558</td>\n",
       "      <td>4.954000</td>\n",
       "      <td>0.0404</td>\n",
       "      <td>Sfpi1</td>\n",
       "      <td>CTATCTTACTTCCTCTTTT</td>\n",
       "    </tr>\n",
       "    <tr>\n",
       "      <th>filter288</th>\n",
       "      <td>3.324</td>\n",
       "      <td>3.145</td>\n",
       "      <td>4.448</td>\n",
       "      <td>3.193</td>\n",
       "      <td>4.091</td>\n",
       "      <td>3.914</td>\n",
       "      <td>3.685833</td>\n",
       "      <td>0.0494</td>\n",
       "      <td>Emoes</td>\n",
       "      <td>CAACTGGATTTCACACCTT</td>\n",
       "    </tr>\n",
       "    <tr>\n",
       "      <th>filter290</th>\n",
       "      <td>3.405</td>\n",
       "      <td>2.881</td>\n",
       "      <td>3.624</td>\n",
       "      <td>3.102</td>\n",
       "      <td>4.092</td>\n",
       "      <td>4.093</td>\n",
       "      <td>3.532833</td>\n",
       "      <td>0.0540</td>\n",
       "      <td>Mafg</td>\n",
       "      <td>TCATGCTGTGAGCATCATC</td>\n",
       "    </tr>\n",
       "    <tr>\n",
       "      <th>filter292</th>\n",
       "      <td>3.069</td>\n",
       "      <td>4.116</td>\n",
       "      <td>3.596</td>\n",
       "      <td>3.905</td>\n",
       "      <td>3.894</td>\n",
       "      <td>3.478</td>\n",
       "      <td>3.676333</td>\n",
       "      <td>0.0306</td>\n",
       "      <td>Fos</td>\n",
       "      <td>ATGAGTCATCACTTTACAC</td>\n",
       "    </tr>\n",
       "    <tr>\n",
       "      <th>filter297</th>\n",
       "      <td>3.245</td>\n",
       "      <td>2.935</td>\n",
       "      <td>3.810</td>\n",
       "      <td>3.459</td>\n",
       "      <td>3.715</td>\n",
       "      <td>3.772</td>\n",
       "      <td>3.489333</td>\n",
       "      <td>0.0452</td>\n",
       "      <td>Mecp2</td>\n",
       "      <td>CACTGACTGTGGTATTGAG</td>\n",
       "    </tr>\n",
       "  </tbody>\n",
       "</table>\n",
       "<p>99 rows × 10 columns</p>\n",
       "</div>"
      ],
      "text/plain": [
       "               B  myeloid  innate.lym   stem    abT    gdT  mean_importance  \\\n",
       "filter1    3.308    3.100       3.662  3.179  4.210  4.251         3.618333   \n",
       "filter6    3.925    4.307       3.640  3.594  3.788  3.801         3.842500   \n",
       "filter8    4.244    2.844       3.778  3.253  4.814  4.753         3.947667   \n",
       "filter9    3.491    3.081       3.844  3.176  4.006  3.995         3.598833   \n",
       "filter10   3.386    2.743       4.238  3.952  4.381  4.479         3.863167   \n",
       "...          ...      ...         ...    ...    ...    ...              ...   \n",
       "filter286  6.188    5.778       3.369  6.940  3.891  3.558         4.954000   \n",
       "filter288  3.324    3.145       4.448  3.193  4.091  3.914         3.685833   \n",
       "filter290  3.405    2.881       3.624  3.102  4.092  4.093         3.532833   \n",
       "filter292  3.069    4.116       3.596  3.905  3.894  3.478         3.676333   \n",
       "filter297  3.245    2.935       3.810  3.459  3.715  3.772         3.489333   \n",
       "\n",
       "           Random Best overall TF match Motif consensus Sequence  \n",
       "filter1    0.0598                  Atf3      TGAAGGATACGACGACATG  \n",
       "filter6    0.0458                  Ebf1      TTTCCCAATGGAATTTAAG  \n",
       "filter8    0.0620                  Zeb1      GAGGGCGCCCAGGTGAGAG  \n",
       "filter9    0.0470       MOTIF NOT KNOWN      CGGCTGTACAGTGAACATC  \n",
       "filter10   0.0470                  Runx      TTTGTGGTTTGAATTGTAA  \n",
       "...           ...                   ...                      ...  \n",
       "filter286  0.0404                 Sfpi1      CTATCTTACTTCCTCTTTT  \n",
       "filter288  0.0494                 Emoes      CAACTGGATTTCACACCTT  \n",
       "filter290  0.0540                  Mafg      TCATGCTGTGAGCATCATC  \n",
       "filter292  0.0306                   Fos      ATGAGTCATCACTTTACAC  \n",
       "filter297  0.0452                 Mecp2      CACTGACTGTGGTATTGAG  \n",
       "\n",
       "[99 rows x 10 columns]"
      ]
     },
     "execution_count": 74,
     "metadata": {},
     "output_type": "execute_result"
    }
   ],
   "source": [
    "comparaison_be"
   ]
  },
  {
   "cell_type": "code",
   "execution_count": 63,
   "metadata": {},
   "outputs": [
    {
     "data": {
      "text/html": [
       "<div>\n",
       "<style scoped>\n",
       "    .dataframe tbody tr th:only-of-type {\n",
       "        vertical-align: middle;\n",
       "    }\n",
       "\n",
       "    .dataframe tbody tr th {\n",
       "        vertical-align: top;\n",
       "    }\n",
       "\n",
       "    .dataframe thead th {\n",
       "        text-align: right;\n",
       "    }\n",
       "</style>\n",
       "<table border=\"1\" class=\"dataframe\">\n",
       "  <thead>\n",
       "    <tr style=\"text-align: right;\">\n",
       "      <th></th>\n",
       "      <th>B</th>\n",
       "      <th>myeloid</th>\n",
       "      <th>innate.lym</th>\n",
       "      <th>stem</th>\n",
       "      <th>abT</th>\n",
       "      <th>gdT</th>\n",
       "      <th>Random</th>\n",
       "      <th>Best overall TF match</th>\n",
       "      <th>Motif consensus Sequence</th>\n",
       "    </tr>\n",
       "  </thead>\n",
       "  <tbody>\n",
       "    <tr>\n",
       "      <th>filter1</th>\n",
       "      <td>3.308</td>\n",
       "      <td>3.100</td>\n",
       "      <td>3.662</td>\n",
       "      <td>3.179</td>\n",
       "      <td>4.210</td>\n",
       "      <td>4.251</td>\n",
       "      <td>0.0598</td>\n",
       "      <td>Atf3</td>\n",
       "      <td>TGAAGGATACGACGACATG</td>\n",
       "    </tr>\n",
       "    <tr>\n",
       "      <th>filter6</th>\n",
       "      <td>3.925</td>\n",
       "      <td>4.307</td>\n",
       "      <td>3.640</td>\n",
       "      <td>3.594</td>\n",
       "      <td>3.788</td>\n",
       "      <td>3.801</td>\n",
       "      <td>0.0458</td>\n",
       "      <td>Ebf1</td>\n",
       "      <td>TTTCCCAATGGAATTTAAG</td>\n",
       "    </tr>\n",
       "    <tr>\n",
       "      <th>filter8</th>\n",
       "      <td>4.244</td>\n",
       "      <td>2.844</td>\n",
       "      <td>3.778</td>\n",
       "      <td>3.253</td>\n",
       "      <td>4.814</td>\n",
       "      <td>4.753</td>\n",
       "      <td>0.0620</td>\n",
       "      <td>Zeb1</td>\n",
       "      <td>GAGGGCGCCCAGGTGAGAG</td>\n",
       "    </tr>\n",
       "    <tr>\n",
       "      <th>filter9</th>\n",
       "      <td>3.491</td>\n",
       "      <td>3.081</td>\n",
       "      <td>3.844</td>\n",
       "      <td>3.176</td>\n",
       "      <td>4.006</td>\n",
       "      <td>3.995</td>\n",
       "      <td>0.0470</td>\n",
       "      <td>MOTIF NOT KNOWN</td>\n",
       "      <td>CGGCTGTACAGTGAACATC</td>\n",
       "    </tr>\n",
       "    <tr>\n",
       "      <th>filter10</th>\n",
       "      <td>3.386</td>\n",
       "      <td>2.743</td>\n",
       "      <td>4.238</td>\n",
       "      <td>3.952</td>\n",
       "      <td>4.381</td>\n",
       "      <td>4.479</td>\n",
       "      <td>0.0470</td>\n",
       "      <td>Runx</td>\n",
       "      <td>TTTGTGGTTTGAATTGTAA</td>\n",
       "    </tr>\n",
       "    <tr>\n",
       "      <th>...</th>\n",
       "      <td>...</td>\n",
       "      <td>...</td>\n",
       "      <td>...</td>\n",
       "      <td>...</td>\n",
       "      <td>...</td>\n",
       "      <td>...</td>\n",
       "      <td>...</td>\n",
       "      <td>...</td>\n",
       "      <td>...</td>\n",
       "    </tr>\n",
       "    <tr>\n",
       "      <th>filter286</th>\n",
       "      <td>6.188</td>\n",
       "      <td>5.778</td>\n",
       "      <td>3.369</td>\n",
       "      <td>6.940</td>\n",
       "      <td>3.891</td>\n",
       "      <td>3.558</td>\n",
       "      <td>0.0404</td>\n",
       "      <td>Sfpi1</td>\n",
       "      <td>CTATCTTACTTCCTCTTTT</td>\n",
       "    </tr>\n",
       "    <tr>\n",
       "      <th>filter288</th>\n",
       "      <td>3.324</td>\n",
       "      <td>3.145</td>\n",
       "      <td>4.448</td>\n",
       "      <td>3.193</td>\n",
       "      <td>4.091</td>\n",
       "      <td>3.914</td>\n",
       "      <td>0.0494</td>\n",
       "      <td>Emoes</td>\n",
       "      <td>CAACTGGATTTCACACCTT</td>\n",
       "    </tr>\n",
       "    <tr>\n",
       "      <th>filter290</th>\n",
       "      <td>3.405</td>\n",
       "      <td>2.881</td>\n",
       "      <td>3.624</td>\n",
       "      <td>3.102</td>\n",
       "      <td>4.092</td>\n",
       "      <td>4.093</td>\n",
       "      <td>0.0540</td>\n",
       "      <td>Mafg</td>\n",
       "      <td>TCATGCTGTGAGCATCATC</td>\n",
       "    </tr>\n",
       "    <tr>\n",
       "      <th>filter292</th>\n",
       "      <td>3.069</td>\n",
       "      <td>4.116</td>\n",
       "      <td>3.596</td>\n",
       "      <td>3.905</td>\n",
       "      <td>3.894</td>\n",
       "      <td>3.478</td>\n",
       "      <td>0.0306</td>\n",
       "      <td>Fos</td>\n",
       "      <td>ATGAGTCATCACTTTACAC</td>\n",
       "    </tr>\n",
       "    <tr>\n",
       "      <th>filter297</th>\n",
       "      <td>3.245</td>\n",
       "      <td>2.935</td>\n",
       "      <td>3.810</td>\n",
       "      <td>3.459</td>\n",
       "      <td>3.715</td>\n",
       "      <td>3.772</td>\n",
       "      <td>0.0452</td>\n",
       "      <td>Mecp2</td>\n",
       "      <td>CACTGACTGTGGTATTGAG</td>\n",
       "    </tr>\n",
       "  </tbody>\n",
       "</table>\n",
       "<p>99 rows × 9 columns</p>\n",
       "</div>"
      ],
      "text/plain": [
       "               B  myeloid  innate.lym   stem    abT    gdT  Random  \\\n",
       "filter1    3.308    3.100       3.662  3.179  4.210  4.251  0.0598   \n",
       "filter6    3.925    4.307       3.640  3.594  3.788  3.801  0.0458   \n",
       "filter8    4.244    2.844       3.778  3.253  4.814  4.753  0.0620   \n",
       "filter9    3.491    3.081       3.844  3.176  4.006  3.995  0.0470   \n",
       "filter10   3.386    2.743       4.238  3.952  4.381  4.479  0.0470   \n",
       "...          ...      ...         ...    ...    ...    ...     ...   \n",
       "filter286  6.188    5.778       3.369  6.940  3.891  3.558  0.0404   \n",
       "filter288  3.324    3.145       4.448  3.193  4.091  3.914  0.0494   \n",
       "filter290  3.405    2.881       3.624  3.102  4.092  4.093  0.0540   \n",
       "filter292  3.069    4.116       3.596  3.905  3.894  3.478  0.0306   \n",
       "filter297  3.245    2.935       3.810  3.459  3.715  3.772  0.0452   \n",
       "\n",
       "          Best overall TF match Motif consensus Sequence  \n",
       "filter1                    Atf3      TGAAGGATACGACGACATG  \n",
       "filter6                    Ebf1      TTTCCCAATGGAATTTAAG  \n",
       "filter8                    Zeb1      GAGGGCGCCCAGGTGAGAG  \n",
       "filter9         MOTIF NOT KNOWN      CGGCTGTACAGTGAACATC  \n",
       "filter10                   Runx      TTTGTGGTTTGAATTGTAA  \n",
       "...                         ...                      ...  \n",
       "filter286                 Sfpi1      CTATCTTACTTCCTCTTTT  \n",
       "filter288                 Emoes      CAACTGGATTTCACACCTT  \n",
       "filter290                  Mafg      TCATGCTGTGAGCATCATC  \n",
       "filter292                   Fos      ATGAGTCATCACTTTACAC  \n",
       "filter297                 Mecp2      CACTGACTGTGGTATTGAG  \n",
       "\n",
       "[99 rows x 9 columns]"
      ]
     },
     "execution_count": 63,
     "metadata": {},
     "output_type": "execute_result"
    }
   ],
   "source": [
    "comparaison_be"
   ]
  },
  {
   "cell_type": "code",
   "execution_count": 6,
   "metadata": {},
   "outputs": [],
   "source": [
    "be_importance = pd.read_csv(os.path.expanduser('~/Dropbox/UBC/data/Activation_BassetE_FilterS.csv'),index_col=0).drop(columns=['Best overall TF match','Motif consensus Sequence'])\n",
    "comparaison_be_2 = pd.merge(be_importance,\n",
    "                       generated_smotifs_2,\n",
    "                       left_index=True, right_index=True, suffixes=('_be','_generated'), how='left')\n",
    "comparaison_be_2 = comparaison_be_2.fillna(0)"
   ]
  },
  {
   "cell_type": "code",
   "execution_count": 78,
   "metadata": {},
   "outputs": [
    {
     "data": {
      "text/html": [
       "<div>\n",
       "<style scoped>\n",
       "    .dataframe tbody tr th:only-of-type {\n",
       "        vertical-align: middle;\n",
       "    }\n",
       "\n",
       "    .dataframe tbody tr th {\n",
       "        vertical-align: top;\n",
       "    }\n",
       "\n",
       "    .dataframe thead th {\n",
       "        text-align: right;\n",
       "    }\n",
       "</style>\n",
       "<table border=\"1\" class=\"dataframe\">\n",
       "  <thead>\n",
       "    <tr style=\"text-align: right;\">\n",
       "      <th></th>\n",
       "      <th>B_be</th>\n",
       "      <th>myeloid_be</th>\n",
       "      <th>innate.lym_be</th>\n",
       "      <th>stem_be</th>\n",
       "      <th>abT_be</th>\n",
       "      <th>gdT_be</th>\n",
       "      <th>mean_importance_be</th>\n",
       "      <th>abT_generated</th>\n",
       "      <th>stem_generated</th>\n",
       "      <th>gdT_generated</th>\n",
       "      <th>B_generated</th>\n",
       "      <th>innate.lym_generated</th>\n",
       "      <th>myeloid_generated</th>\n",
       "      <th>Best overall TF match</th>\n",
       "      <th>Motif consensus Sequence</th>\n",
       "      <th>mean_importance_generated</th>\n",
       "    </tr>\n",
       "  </thead>\n",
       "  <tbody>\n",
       "    <tr>\n",
       "      <th>filter1</th>\n",
       "      <td>3.308</td>\n",
       "      <td>3.100</td>\n",
       "      <td>3.662</td>\n",
       "      <td>3.179</td>\n",
       "      <td>4.210</td>\n",
       "      <td>4.251</td>\n",
       "      <td>3.618333</td>\n",
       "      <td>0.013656</td>\n",
       "      <td>0.000667</td>\n",
       "      <td>0.005787</td>\n",
       "      <td>0.013164</td>\n",
       "      <td>0.024554</td>\n",
       "      <td>0.013628</td>\n",
       "      <td>Atf3</td>\n",
       "      <td>TGAAGGATACGACGACATG</td>\n",
       "      <td>0.011909</td>\n",
       "    </tr>\n",
       "    <tr>\n",
       "      <th>filter6</th>\n",
       "      <td>3.925</td>\n",
       "      <td>4.307</td>\n",
       "      <td>3.640</td>\n",
       "      <td>3.594</td>\n",
       "      <td>3.788</td>\n",
       "      <td>3.801</td>\n",
       "      <td>3.842500</td>\n",
       "      <td>0.002686</td>\n",
       "      <td>0.025550</td>\n",
       "      <td>0.006009</td>\n",
       "      <td>0.330210</td>\n",
       "      <td>0.002009</td>\n",
       "      <td>0.214477</td>\n",
       "      <td>Ebf1</td>\n",
       "      <td>TTTCCCAATGGAATTTAAG</td>\n",
       "      <td>0.096824</td>\n",
       "    </tr>\n",
       "    <tr>\n",
       "      <th>filter8</th>\n",
       "      <td>4.244</td>\n",
       "      <td>2.844</td>\n",
       "      <td>3.778</td>\n",
       "      <td>3.253</td>\n",
       "      <td>4.814</td>\n",
       "      <td>4.753</td>\n",
       "      <td>3.947667</td>\n",
       "      <td>0.062458</td>\n",
       "      <td>0.003333</td>\n",
       "      <td>0.018028</td>\n",
       "      <td>0.556002</td>\n",
       "      <td>0.188393</td>\n",
       "      <td>0.002904</td>\n",
       "      <td>Zeb1</td>\n",
       "      <td>GAGGGCGCCCAGGTGAGAG</td>\n",
       "      <td>0.138520</td>\n",
       "    </tr>\n",
       "    <tr>\n",
       "      <th>filter9</th>\n",
       "      <td>3.491</td>\n",
       "      <td>3.081</td>\n",
       "      <td>3.844</td>\n",
       "      <td>3.176</td>\n",
       "      <td>4.006</td>\n",
       "      <td>3.995</td>\n",
       "      <td>3.598833</td>\n",
       "      <td>0.012089</td>\n",
       "      <td>0.009331</td>\n",
       "      <td>0.057868</td>\n",
       "      <td>0.011156</td>\n",
       "      <td>0.021429</td>\n",
       "      <td>0.009383</td>\n",
       "      <td>MOTIF NOT KNOWN</td>\n",
       "      <td>CGGCTGTACAGTGAACATC</td>\n",
       "      <td>0.020209</td>\n",
       "    </tr>\n",
       "    <tr>\n",
       "      <th>filter10</th>\n",
       "      <td>3.386</td>\n",
       "      <td>2.743</td>\n",
       "      <td>4.238</td>\n",
       "      <td>3.952</td>\n",
       "      <td>4.381</td>\n",
       "      <td>4.479</td>\n",
       "      <td>3.863167</td>\n",
       "      <td>0.125140</td>\n",
       "      <td>0.409465</td>\n",
       "      <td>0.099711</td>\n",
       "      <td>0.005578</td>\n",
       "      <td>0.788393</td>\n",
       "      <td>0.027927</td>\n",
       "      <td>Runx</td>\n",
       "      <td>TTTGTGGTTTGAATTGTAA</td>\n",
       "      <td>0.242702</td>\n",
       "    </tr>\n",
       "    <tr>\n",
       "      <th>...</th>\n",
       "      <td>...</td>\n",
       "      <td>...</td>\n",
       "      <td>...</td>\n",
       "      <td>...</td>\n",
       "      <td>...</td>\n",
       "      <td>...</td>\n",
       "      <td>...</td>\n",
       "      <td>...</td>\n",
       "      <td>...</td>\n",
       "      <td>...</td>\n",
       "      <td>...</td>\n",
       "      <td>...</td>\n",
       "      <td>...</td>\n",
       "      <td>...</td>\n",
       "      <td>...</td>\n",
       "      <td>...</td>\n",
       "    </tr>\n",
       "    <tr>\n",
       "      <th>filter286</th>\n",
       "      <td>6.188</td>\n",
       "      <td>5.778</td>\n",
       "      <td>3.369</td>\n",
       "      <td>6.940</td>\n",
       "      <td>3.891</td>\n",
       "      <td>3.558</td>\n",
       "      <td>4.954000</td>\n",
       "      <td>0.010298</td>\n",
       "      <td>0.197512</td>\n",
       "      <td>0.030492</td>\n",
       "      <td>0.689201</td>\n",
       "      <td>0.007366</td>\n",
       "      <td>0.991957</td>\n",
       "      <td>Sfpi1</td>\n",
       "      <td>CTATCTTACTTCCTCTTTT</td>\n",
       "      <td>0.321138</td>\n",
       "    </tr>\n",
       "    <tr>\n",
       "      <th>filter288</th>\n",
       "      <td>3.324</td>\n",
       "      <td>3.145</td>\n",
       "      <td>4.448</td>\n",
       "      <td>3.193</td>\n",
       "      <td>4.091</td>\n",
       "      <td>3.914</td>\n",
       "      <td>3.685833</td>\n",
       "      <td>0.121782</td>\n",
       "      <td>0.005110</td>\n",
       "      <td>0.192744</td>\n",
       "      <td>0.050201</td>\n",
       "      <td>0.128795</td>\n",
       "      <td>0.010054</td>\n",
       "      <td>Emoes</td>\n",
       "      <td>CAACTGGATTTCACACCTT</td>\n",
       "      <td>0.084781</td>\n",
       "    </tr>\n",
       "    <tr>\n",
       "      <th>filter290</th>\n",
       "      <td>3.405</td>\n",
       "      <td>2.881</td>\n",
       "      <td>3.624</td>\n",
       "      <td>3.102</td>\n",
       "      <td>4.092</td>\n",
       "      <td>4.093</td>\n",
       "      <td>3.532833</td>\n",
       "      <td>0.051936</td>\n",
       "      <td>0.130860</td>\n",
       "      <td>0.026708</td>\n",
       "      <td>0.040161</td>\n",
       "      <td>0.029687</td>\n",
       "      <td>0.024576</td>\n",
       "      <td>Mafg</td>\n",
       "      <td>TCATGCTGTGAGCATCATC</td>\n",
       "      <td>0.050655</td>\n",
       "    </tr>\n",
       "    <tr>\n",
       "      <th>filter292</th>\n",
       "      <td>3.069</td>\n",
       "      <td>4.116</td>\n",
       "      <td>3.596</td>\n",
       "      <td>3.905</td>\n",
       "      <td>3.894</td>\n",
       "      <td>3.478</td>\n",
       "      <td>3.676333</td>\n",
       "      <td>0.004030</td>\n",
       "      <td>0.344368</td>\n",
       "      <td>0.001558</td>\n",
       "      <td>0.005578</td>\n",
       "      <td>0.001786</td>\n",
       "      <td>0.027480</td>\n",
       "      <td>Fos</td>\n",
       "      <td>ATGAGTCATCACTTTACAC</td>\n",
       "      <td>0.064133</td>\n",
       "    </tr>\n",
       "    <tr>\n",
       "      <th>filter297</th>\n",
       "      <td>3.245</td>\n",
       "      <td>2.935</td>\n",
       "      <td>3.810</td>\n",
       "      <td>3.459</td>\n",
       "      <td>3.715</td>\n",
       "      <td>3.772</td>\n",
       "      <td>3.489333</td>\n",
       "      <td>0.004253</td>\n",
       "      <td>0.020884</td>\n",
       "      <td>0.008012</td>\n",
       "      <td>0.029005</td>\n",
       "      <td>0.103795</td>\n",
       "      <td>0.049821</td>\n",
       "      <td>Mecp2</td>\n",
       "      <td>CACTGACTGTGGTATTGAG</td>\n",
       "      <td>0.035962</td>\n",
       "    </tr>\n",
       "  </tbody>\n",
       "</table>\n",
       "<p>99 rows × 16 columns</p>\n",
       "</div>"
      ],
      "text/plain": [
       "            B_be  myeloid_be  innate.lym_be  stem_be  abT_be  gdT_be  \\\n",
       "filter1    3.308       3.100          3.662    3.179   4.210   4.251   \n",
       "filter6    3.925       4.307          3.640    3.594   3.788   3.801   \n",
       "filter8    4.244       2.844          3.778    3.253   4.814   4.753   \n",
       "filter9    3.491       3.081          3.844    3.176   4.006   3.995   \n",
       "filter10   3.386       2.743          4.238    3.952   4.381   4.479   \n",
       "...          ...         ...            ...      ...     ...     ...   \n",
       "filter286  6.188       5.778          3.369    6.940   3.891   3.558   \n",
       "filter288  3.324       3.145          4.448    3.193   4.091   3.914   \n",
       "filter290  3.405       2.881          3.624    3.102   4.092   4.093   \n",
       "filter292  3.069       4.116          3.596    3.905   3.894   3.478   \n",
       "filter297  3.245       2.935          3.810    3.459   3.715   3.772   \n",
       "\n",
       "           mean_importance_be  abT_generated  stem_generated  gdT_generated  \\\n",
       "filter1              3.618333       0.013656        0.000667       0.005787   \n",
       "filter6              3.842500       0.002686        0.025550       0.006009   \n",
       "filter8              3.947667       0.062458        0.003333       0.018028   \n",
       "filter9              3.598833       0.012089        0.009331       0.057868   \n",
       "filter10             3.863167       0.125140        0.409465       0.099711   \n",
       "...                       ...            ...             ...            ...   \n",
       "filter286            4.954000       0.010298        0.197512       0.030492   \n",
       "filter288            3.685833       0.121782        0.005110       0.192744   \n",
       "filter290            3.532833       0.051936        0.130860       0.026708   \n",
       "filter292            3.676333       0.004030        0.344368       0.001558   \n",
       "filter297            3.489333       0.004253        0.020884       0.008012   \n",
       "\n",
       "           B_generated  innate.lym_generated  myeloid_generated  \\\n",
       "filter1       0.013164              0.024554           0.013628   \n",
       "filter6       0.330210              0.002009           0.214477   \n",
       "filter8       0.556002              0.188393           0.002904   \n",
       "filter9       0.011156              0.021429           0.009383   \n",
       "filter10      0.005578              0.788393           0.027927   \n",
       "...                ...                   ...                ...   \n",
       "filter286     0.689201              0.007366           0.991957   \n",
       "filter288     0.050201              0.128795           0.010054   \n",
       "filter290     0.040161              0.029687           0.024576   \n",
       "filter292     0.005578              0.001786           0.027480   \n",
       "filter297     0.029005              0.103795           0.049821   \n",
       "\n",
       "          Best overall TF match Motif consensus Sequence  \\\n",
       "filter1                    Atf3      TGAAGGATACGACGACATG   \n",
       "filter6                    Ebf1      TTTCCCAATGGAATTTAAG   \n",
       "filter8                    Zeb1      GAGGGCGCCCAGGTGAGAG   \n",
       "filter9         MOTIF NOT KNOWN      CGGCTGTACAGTGAACATC   \n",
       "filter10                   Runx      TTTGTGGTTTGAATTGTAA   \n",
       "...                         ...                      ...   \n",
       "filter286                 Sfpi1      CTATCTTACTTCCTCTTTT   \n",
       "filter288                 Emoes      CAACTGGATTTCACACCTT   \n",
       "filter290                  Mafg      TCATGCTGTGAGCATCATC   \n",
       "filter292                   Fos      ATGAGTCATCACTTTACAC   \n",
       "filter297                 Mecp2      CACTGACTGTGGTATTGAG   \n",
       "\n",
       "           mean_importance_generated  \n",
       "filter1                     0.011909  \n",
       "filter6                     0.096824  \n",
       "filter8                     0.138520  \n",
       "filter9                     0.020209  \n",
       "filter10                    0.242702  \n",
       "...                              ...  \n",
       "filter286                   0.321138  \n",
       "filter288                   0.084781  \n",
       "filter290                   0.050655  \n",
       "filter292                   0.064133  \n",
       "filter297                   0.035962  \n",
       "\n",
       "[99 rows x 16 columns]"
      ]
     },
     "execution_count": 78,
     "metadata": {},
     "output_type": "execute_result"
    }
   ],
   "source": [
    "comparaison_be_2"
   ]
  },
  {
   "cell_type": "code",
   "execution_count": 79,
   "metadata": {},
   "outputs": [
    {
     "data": {
      "text/html": [
       "<div>\n",
       "<style scoped>\n",
       "    .dataframe tbody tr th:only-of-type {\n",
       "        vertical-align: middle;\n",
       "    }\n",
       "\n",
       "    .dataframe tbody tr th {\n",
       "        vertical-align: top;\n",
       "    }\n",
       "\n",
       "    .dataframe thead th {\n",
       "        text-align: right;\n",
       "    }\n",
       "</style>\n",
       "<table border=\"1\" class=\"dataframe\">\n",
       "  <thead>\n",
       "    <tr style=\"text-align: right;\">\n",
       "      <th></th>\n",
       "      <th>B_be</th>\n",
       "      <th>myeloid_be</th>\n",
       "      <th>innate.lym_be</th>\n",
       "      <th>stem_be</th>\n",
       "      <th>abT_be</th>\n",
       "      <th>gdT_be</th>\n",
       "      <th>mean_importance_be</th>\n",
       "      <th>abT_generated</th>\n",
       "      <th>stem_generated</th>\n",
       "      <th>gdT_generated</th>\n",
       "      <th>B_generated</th>\n",
       "      <th>innate.lym_generated</th>\n",
       "      <th>myeloid_generated</th>\n",
       "      <th>Best overall TF match</th>\n",
       "      <th>Motif consensus Sequence</th>\n",
       "      <th>mean_importance_generated</th>\n",
       "      <th>Reproducibility</th>\n",
       "    </tr>\n",
       "  </thead>\n",
       "  <tbody>\n",
       "    <tr>\n",
       "      <th>filter1</th>\n",
       "      <td>3.308</td>\n",
       "      <td>3.100</td>\n",
       "      <td>3.662</td>\n",
       "      <td>3.179</td>\n",
       "      <td>4.210</td>\n",
       "      <td>4.251</td>\n",
       "      <td>3.618333</td>\n",
       "      <td>0.013656</td>\n",
       "      <td>0.000667</td>\n",
       "      <td>0.005787</td>\n",
       "      <td>0.013164</td>\n",
       "      <td>0.024554</td>\n",
       "      <td>0.013628</td>\n",
       "      <td>Atf3</td>\n",
       "      <td>TGAAGGATACGACGACATG</td>\n",
       "      <td>0.011909</td>\n",
       "      <td>10</td>\n",
       "    </tr>\n",
       "    <tr>\n",
       "      <th>filter6</th>\n",
       "      <td>3.925</td>\n",
       "      <td>4.307</td>\n",
       "      <td>3.640</td>\n",
       "      <td>3.594</td>\n",
       "      <td>3.788</td>\n",
       "      <td>3.801</td>\n",
       "      <td>3.842500</td>\n",
       "      <td>0.002686</td>\n",
       "      <td>0.025550</td>\n",
       "      <td>0.006009</td>\n",
       "      <td>0.330210</td>\n",
       "      <td>0.002009</td>\n",
       "      <td>0.214477</td>\n",
       "      <td>Ebf1</td>\n",
       "      <td>TTTCCCAATGGAATTTAAG</td>\n",
       "      <td>0.096824</td>\n",
       "      <td>10</td>\n",
       "    </tr>\n",
       "    <tr>\n",
       "      <th>filter8</th>\n",
       "      <td>4.244</td>\n",
       "      <td>2.844</td>\n",
       "      <td>3.778</td>\n",
       "      <td>3.253</td>\n",
       "      <td>4.814</td>\n",
       "      <td>4.753</td>\n",
       "      <td>3.947667</td>\n",
       "      <td>0.062458</td>\n",
       "      <td>0.003333</td>\n",
       "      <td>0.018028</td>\n",
       "      <td>0.556002</td>\n",
       "      <td>0.188393</td>\n",
       "      <td>0.002904</td>\n",
       "      <td>Zeb1</td>\n",
       "      <td>GAGGGCGCCCAGGTGAGAG</td>\n",
       "      <td>0.138520</td>\n",
       "      <td>10</td>\n",
       "    </tr>\n",
       "    <tr>\n",
       "      <th>filter9</th>\n",
       "      <td>3.491</td>\n",
       "      <td>3.081</td>\n",
       "      <td>3.844</td>\n",
       "      <td>3.176</td>\n",
       "      <td>4.006</td>\n",
       "      <td>3.995</td>\n",
       "      <td>3.598833</td>\n",
       "      <td>0.012089</td>\n",
       "      <td>0.009331</td>\n",
       "      <td>0.057868</td>\n",
       "      <td>0.011156</td>\n",
       "      <td>0.021429</td>\n",
       "      <td>0.009383</td>\n",
       "      <td>MOTIF NOT KNOWN</td>\n",
       "      <td>CGGCTGTACAGTGAACATC</td>\n",
       "      <td>0.020209</td>\n",
       "      <td>10</td>\n",
       "    </tr>\n",
       "    <tr>\n",
       "      <th>filter10</th>\n",
       "      <td>3.386</td>\n",
       "      <td>2.743</td>\n",
       "      <td>4.238</td>\n",
       "      <td>3.952</td>\n",
       "      <td>4.381</td>\n",
       "      <td>4.479</td>\n",
       "      <td>3.863167</td>\n",
       "      <td>0.125140</td>\n",
       "      <td>0.409465</td>\n",
       "      <td>0.099711</td>\n",
       "      <td>0.005578</td>\n",
       "      <td>0.788393</td>\n",
       "      <td>0.027927</td>\n",
       "      <td>Runx</td>\n",
       "      <td>TTTGTGGTTTGAATTGTAA</td>\n",
       "      <td>0.242702</td>\n",
       "      <td>10</td>\n",
       "    </tr>\n",
       "    <tr>\n",
       "      <th>...</th>\n",
       "      <td>...</td>\n",
       "      <td>...</td>\n",
       "      <td>...</td>\n",
       "      <td>...</td>\n",
       "      <td>...</td>\n",
       "      <td>...</td>\n",
       "      <td>...</td>\n",
       "      <td>...</td>\n",
       "      <td>...</td>\n",
       "      <td>...</td>\n",
       "      <td>...</td>\n",
       "      <td>...</td>\n",
       "      <td>...</td>\n",
       "      <td>...</td>\n",
       "      <td>...</td>\n",
       "      <td>...</td>\n",
       "      <td>...</td>\n",
       "    </tr>\n",
       "    <tr>\n",
       "      <th>filter286</th>\n",
       "      <td>6.188</td>\n",
       "      <td>5.778</td>\n",
       "      <td>3.369</td>\n",
       "      <td>6.940</td>\n",
       "      <td>3.891</td>\n",
       "      <td>3.558</td>\n",
       "      <td>4.954000</td>\n",
       "      <td>0.010298</td>\n",
       "      <td>0.197512</td>\n",
       "      <td>0.030492</td>\n",
       "      <td>0.689201</td>\n",
       "      <td>0.007366</td>\n",
       "      <td>0.991957</td>\n",
       "      <td>Sfpi1</td>\n",
       "      <td>CTATCTTACTTCCTCTTTT</td>\n",
       "      <td>0.321138</td>\n",
       "      <td>10</td>\n",
       "    </tr>\n",
       "    <tr>\n",
       "      <th>filter288</th>\n",
       "      <td>3.324</td>\n",
       "      <td>3.145</td>\n",
       "      <td>4.448</td>\n",
       "      <td>3.193</td>\n",
       "      <td>4.091</td>\n",
       "      <td>3.914</td>\n",
       "      <td>3.685833</td>\n",
       "      <td>0.121782</td>\n",
       "      <td>0.005110</td>\n",
       "      <td>0.192744</td>\n",
       "      <td>0.050201</td>\n",
       "      <td>0.128795</td>\n",
       "      <td>0.010054</td>\n",
       "      <td>Emoes</td>\n",
       "      <td>CAACTGGATTTCACACCTT</td>\n",
       "      <td>0.084781</td>\n",
       "      <td>10</td>\n",
       "    </tr>\n",
       "    <tr>\n",
       "      <th>filter290</th>\n",
       "      <td>3.405</td>\n",
       "      <td>2.881</td>\n",
       "      <td>3.624</td>\n",
       "      <td>3.102</td>\n",
       "      <td>4.092</td>\n",
       "      <td>4.093</td>\n",
       "      <td>3.532833</td>\n",
       "      <td>0.051936</td>\n",
       "      <td>0.130860</td>\n",
       "      <td>0.026708</td>\n",
       "      <td>0.040161</td>\n",
       "      <td>0.029687</td>\n",
       "      <td>0.024576</td>\n",
       "      <td>Mafg</td>\n",
       "      <td>TCATGCTGTGAGCATCATC</td>\n",
       "      <td>0.050655</td>\n",
       "      <td>9</td>\n",
       "    </tr>\n",
       "    <tr>\n",
       "      <th>filter292</th>\n",
       "      <td>3.069</td>\n",
       "      <td>4.116</td>\n",
       "      <td>3.596</td>\n",
       "      <td>3.905</td>\n",
       "      <td>3.894</td>\n",
       "      <td>3.478</td>\n",
       "      <td>3.676333</td>\n",
       "      <td>0.004030</td>\n",
       "      <td>0.344368</td>\n",
       "      <td>0.001558</td>\n",
       "      <td>0.005578</td>\n",
       "      <td>0.001786</td>\n",
       "      <td>0.027480</td>\n",
       "      <td>Fos</td>\n",
       "      <td>ATGAGTCATCACTTTACAC</td>\n",
       "      <td>0.064133</td>\n",
       "      <td>10</td>\n",
       "    </tr>\n",
       "    <tr>\n",
       "      <th>filter297</th>\n",
       "      <td>3.245</td>\n",
       "      <td>2.935</td>\n",
       "      <td>3.810</td>\n",
       "      <td>3.459</td>\n",
       "      <td>3.715</td>\n",
       "      <td>3.772</td>\n",
       "      <td>3.489333</td>\n",
       "      <td>0.004253</td>\n",
       "      <td>0.020884</td>\n",
       "      <td>0.008012</td>\n",
       "      <td>0.029005</td>\n",
       "      <td>0.103795</td>\n",
       "      <td>0.049821</td>\n",
       "      <td>Mecp2</td>\n",
       "      <td>CACTGACTGTGGTATTGAG</td>\n",
       "      <td>0.035962</td>\n",
       "      <td>10</td>\n",
       "    </tr>\n",
       "  </tbody>\n",
       "</table>\n",
       "<p>99 rows × 17 columns</p>\n",
       "</div>"
      ],
      "text/plain": [
       "            B_be  myeloid_be  innate.lym_be  stem_be  abT_be  gdT_be  \\\n",
       "filter1    3.308       3.100          3.662    3.179   4.210   4.251   \n",
       "filter6    3.925       4.307          3.640    3.594   3.788   3.801   \n",
       "filter8    4.244       2.844          3.778    3.253   4.814   4.753   \n",
       "filter9    3.491       3.081          3.844    3.176   4.006   3.995   \n",
       "filter10   3.386       2.743          4.238    3.952   4.381   4.479   \n",
       "...          ...         ...            ...      ...     ...     ...   \n",
       "filter286  6.188       5.778          3.369    6.940   3.891   3.558   \n",
       "filter288  3.324       3.145          4.448    3.193   4.091   3.914   \n",
       "filter290  3.405       2.881          3.624    3.102   4.092   4.093   \n",
       "filter292  3.069       4.116          3.596    3.905   3.894   3.478   \n",
       "filter297  3.245       2.935          3.810    3.459   3.715   3.772   \n",
       "\n",
       "           mean_importance_be  abT_generated  stem_generated  gdT_generated  \\\n",
       "filter1              3.618333       0.013656        0.000667       0.005787   \n",
       "filter6              3.842500       0.002686        0.025550       0.006009   \n",
       "filter8              3.947667       0.062458        0.003333       0.018028   \n",
       "filter9              3.598833       0.012089        0.009331       0.057868   \n",
       "filter10             3.863167       0.125140        0.409465       0.099711   \n",
       "...                       ...            ...             ...            ...   \n",
       "filter286            4.954000       0.010298        0.197512       0.030492   \n",
       "filter288            3.685833       0.121782        0.005110       0.192744   \n",
       "filter290            3.532833       0.051936        0.130860       0.026708   \n",
       "filter292            3.676333       0.004030        0.344368       0.001558   \n",
       "filter297            3.489333       0.004253        0.020884       0.008012   \n",
       "\n",
       "           B_generated  innate.lym_generated  myeloid_generated  \\\n",
       "filter1       0.013164              0.024554           0.013628   \n",
       "filter6       0.330210              0.002009           0.214477   \n",
       "filter8       0.556002              0.188393           0.002904   \n",
       "filter9       0.011156              0.021429           0.009383   \n",
       "filter10      0.005578              0.788393           0.027927   \n",
       "...                ...                   ...                ...   \n",
       "filter286     0.689201              0.007366           0.991957   \n",
       "filter288     0.050201              0.128795           0.010054   \n",
       "filter290     0.040161              0.029687           0.024576   \n",
       "filter292     0.005578              0.001786           0.027480   \n",
       "filter297     0.029005              0.103795           0.049821   \n",
       "\n",
       "          Best overall TF match Motif consensus Sequence  \\\n",
       "filter1                    Atf3      TGAAGGATACGACGACATG   \n",
       "filter6                    Ebf1      TTTCCCAATGGAATTTAAG   \n",
       "filter8                    Zeb1      GAGGGCGCCCAGGTGAGAG   \n",
       "filter9         MOTIF NOT KNOWN      CGGCTGTACAGTGAACATC   \n",
       "filter10                   Runx      TTTGTGGTTTGAATTGTAA   \n",
       "...                         ...                      ...   \n",
       "filter286                 Sfpi1      CTATCTTACTTCCTCTTTT   \n",
       "filter288                 Emoes      CAACTGGATTTCACACCTT   \n",
       "filter290                  Mafg      TCATGCTGTGAGCATCATC   \n",
       "filter292                   Fos      ATGAGTCATCACTTTACAC   \n",
       "filter297                 Mecp2      CACTGACTGTGGTATTGAG   \n",
       "\n",
       "           mean_importance_generated Reproducibility  \n",
       "filter1                     0.011909              10  \n",
       "filter6                     0.096824              10  \n",
       "filter8                     0.138520              10  \n",
       "filter9                     0.020209              10  \n",
       "filter10                    0.242702              10  \n",
       "...                              ...             ...  \n",
       "filter286                   0.321138              10  \n",
       "filter288                   0.084781              10  \n",
       "filter290                   0.050655               9  \n",
       "filter292                   0.064133              10  \n",
       "filter297                   0.035962              10  \n",
       "\n",
       "[99 rows x 17 columns]"
      ]
     },
     "execution_count": 79,
     "metadata": {},
     "output_type": "execute_result"
    }
   ],
   "source": [
    "pd.merge(comparaison_be_2,table[['Reproducibility']], left_index=True, right_index=True)"
   ]
  },
  {
   "cell_type": "code",
   "execution_count": 52,
   "metadata": {},
   "outputs": [
    {
     "data": {
      "application/vnd.plotly.v1+json": {
       "config": {
        "plotlyServerURL": "https://plot.ly"
       },
       "data": [
        {
         "hovertext": [
          "filter1",
          "filter6",
          "filter8",
          "filter9",
          "filter10",
          "filter11",
          "filter14",
          "filter15",
          "filter23",
          "filter28",
          "filter34",
          "filter35",
          "filter40",
          "filter43",
          "filter44",
          "filter47",
          "filter50",
          "filter51",
          "filter65",
          "filter66",
          "filter67",
          "filter68",
          "filter69",
          "filter70",
          "filter78",
          "filter80",
          "filter85",
          "filter89",
          "filter93",
          "filter94",
          "filter97",
          "filter102",
          "filter105",
          "filter106",
          "filter112",
          "filter115",
          "filter120",
          "filter122",
          "filter123",
          "filter124",
          "filter127",
          "filter129",
          "filter132",
          "filter133",
          "filter135",
          "filter151",
          "filter154",
          "filter155",
          "filter157",
          "filter165",
          "filter166",
          "filter167",
          "filter170",
          "filter173",
          "filter174",
          "filter178",
          "filter183",
          "filter185",
          "filter186",
          "filter190",
          "filter194",
          "filter195",
          "filter196",
          "filter198",
          "filter202",
          "filter205",
          "filter209",
          "filter214",
          "filter217",
          "filter218",
          "filter219",
          "filter220",
          "filter223",
          "filter224",
          "filter227",
          "filter230",
          "filter231",
          "filter238",
          "filter242",
          "filter244",
          "filter247",
          "filter250",
          "filter252",
          "filter255",
          "filter257",
          "filter260",
          "filter264",
          "filter270",
          "filter275",
          "filter276",
          "filter279",
          "filter281",
          "filter283",
          "filter284",
          "filter286",
          "filter288",
          "filter290",
          "filter292",
          "filter297"
         ],
         "mode": "markers+text",
         "text": [
          "Atf3",
          "Ebf1",
          "Zeb1",
          "MOTIF NOT KNOWN",
          "Runx",
          "Ets1",
          "Sox13",
          "Runx",
          "Ctcf",
          "Mafg",
          "Cebp",
          "Nfix",
          "MOTIF NOT KNOWN",
          "bZip",
          "Pouf2f",
          "Runx",
          "Lef1",
          "bZip",
          "Nfkb1",
          "MOTIF NOT KNOWN",
          "Mzf1",
          "Nr1d1",
          "Ctcf",
          "MOTIF NOT KNOWN",
          "Tcf3",
          "Lef1",
          "Zkscan1",
          "Irf1",
          "Zeb1",
          "Pu.1",
          "Emoes",
          "MOTIF NOT KNOWN",
          "MOTIF NOT KNOWN",
          "Tbx21",
          "Tcf3",
          "Hlx",
          "Ets",
          "Ellf1",
          "Ebf1",
          "MOTIF NOT KNOWN",
          "MOTIF NOT KNOWN",
          "Nr2f6",
          "MOTIF NOT KNOWN",
          "Sfpi1",
          "Pou2f2",
          "MOTIF NOT KNOWN",
          "Sp",
          "MOTIF NOT KNOWN",
          "MOTIF NOT KNOWN",
          "Irf1",
          "Lef1",
          "Pax5",
          "MOTIF NOT KNOWN",
          "C2H2 ZF",
          "Cebp",
          "Sp",
          "MOTIF NOT KNOWN",
          "MOTIF NOT KNOWN",
          "MOTIF NOT KNOWN",
          "Pou2f2",
          "MOTIF NOT KNOWN",
          "Gata",
          "MOTIF NOT KNOWN",
          "Pax5",
          "MOTIF NOT KNOWN",
          "Bcl11a",
          "MOTIF NOT KNOWN",
          "MOTIF NOT KNOWN",
          "Pax5",
          "Pouf2f",
          "MOTIF NOT KNOWN",
          "Nr2f6",
          "MOTIF NOT KNOWN",
          "Irf1",
          "MOTIF NOT KNOWN",
          "Sfpi1",
          "Nfkb1",
          "Nr1d1",
          "Sp",
          "Erg",
          "Nfkb2",
          "Irf1",
          "Ets",
          "Sfpi1",
          "Pax5",
          "Ebf1",
          "Mafg",
          "MOTIF NOT KNOWN",
          "Ctcf",
          "Sfpi1",
          "Eomes",
          "MOTIF NOT KNOWN",
          "bZip",
          "Homeodomain",
          "Sfpi1",
          "Emoes",
          "Mafg",
          "Fos",
          "Mecp2"
         ],
         "textposition": "bottom left",
         "type": "scatter",
         "x": [
          3.3080000000000003,
          3.925,
          4.244,
          3.491,
          3.386,
          3.2969999999999997,
          3.207,
          3.323,
          6.12,
          3.429,
          3.167,
          3.2289999999999996,
          3.28,
          3.2939999999999996,
          4.104,
          3.272,
          3.347,
          3.398,
          3.452,
          3.3739999999999997,
          4.0569999999999995,
          3.182,
          5.379,
          3.909,
          3.903,
          3.073,
          3.102,
          3.75,
          4.0969999999999995,
          3.7569999999999997,
          3.344,
          3.292,
          3.2430000000000003,
          4.522,
          3.661,
          3.3789999999999996,
          3.215,
          3.167,
          4.393,
          3.5380000000000003,
          3.4960000000000004,
          3.383,
          3.511,
          7.415,
          4.7589999999999995,
          3.2939999999999996,
          3.6069999999999998,
          3.443,
          3.272,
          8.555,
          3.1289999999999996,
          4.9719999999999995,
          3.06,
          3.9010000000000002,
          3.127,
          3.362,
          3.208,
          3.199,
          3.228,
          5.144,
          3.279,
          3.182,
          3.79,
          3.883,
          3.676,
          5.778,
          3.141,
          3.387,
          4.297,
          5.178,
          3.3760000000000003,
          3.082,
          3.43,
          5.2139999999999995,
          3.324,
          5.846,
          3.523,
          3.108,
          4.007,
          3.585,
          3.582,
          3.477,
          3.2110000000000003,
          6.095,
          4.046,
          5.557,
          3.2030000000000003,
          3.281,
          5.558,
          5.039,
          3.378,
          3.373,
          3.207,
          3.753,
          6.188,
          3.324,
          3.405,
          3.069,
          3.245
         ],
         "y": [
          0.0598,
          0.0458,
          0.062,
          0.047,
          0.047,
          0.0518,
          0.0506,
          0.0504,
          0.0704,
          0.0602,
          0.033,
          0.0502,
          0.0374,
          0.0798,
          0.0276,
          0.0524,
          0.0442,
          0.0614,
          0.0476,
          0.0468,
          0.0668,
          0.0422,
          0.0554,
          0.0584,
          0.0642,
          0.0316,
          0.0606,
          0.0378,
          0.0688,
          0.047,
          0.055,
          0.0744,
          0.0428,
          0.0434,
          0.043,
          0.0514,
          0.07200000000000001,
          0.0582,
          0.0794,
          0.0392,
          0.0646,
          0.0586,
          0.0506,
          0.045,
          0.0346,
          0.0756,
          0.0676,
          0.06,
          0.0582,
          0.0336,
          0.0372,
          0.0528,
          0.0496,
          0.0846,
          0.0282,
          0.0622,
          0.036000000000000004,
          0.0524,
          0.0506,
          0.0294,
          0.0496,
          0.0352,
          0.0626,
          0.0616,
          0.0674,
          0.0478,
          0.0492,
          0.062,
          0.0476,
          0.028999999999999998,
          0.0482,
          0.0598,
          0.062,
          0.0368,
          0.063,
          0.0404,
          0.0464,
          0.0582,
          0.084,
          0.055999999999999994,
          0.0568,
          0.0382,
          0.0524,
          0.0482,
          0.0588,
          0.0438,
          0.0668,
          0.0444,
          0.077,
          0.0346,
          0.0544,
          0.063,
          0.0654,
          0.0464,
          0.0404,
          0.0494,
          0.054000000000000006,
          0.0306,
          0.0452
         ]
        }
       ],
       "layout": {
        "template": {
         "data": {
          "bar": [
           {
            "error_x": {
             "color": "#2a3f5f"
            },
            "error_y": {
             "color": "#2a3f5f"
            },
            "marker": {
             "line": {
              "color": "#E5ECF6",
              "width": 0.5
             }
            },
            "type": "bar"
           }
          ],
          "barpolar": [
           {
            "marker": {
             "line": {
              "color": "#E5ECF6",
              "width": 0.5
             }
            },
            "type": "barpolar"
           }
          ],
          "carpet": [
           {
            "aaxis": {
             "endlinecolor": "#2a3f5f",
             "gridcolor": "white",
             "linecolor": "white",
             "minorgridcolor": "white",
             "startlinecolor": "#2a3f5f"
            },
            "baxis": {
             "endlinecolor": "#2a3f5f",
             "gridcolor": "white",
             "linecolor": "white",
             "minorgridcolor": "white",
             "startlinecolor": "#2a3f5f"
            },
            "type": "carpet"
           }
          ],
          "choropleth": [
           {
            "colorbar": {
             "outlinewidth": 0,
             "ticks": ""
            },
            "type": "choropleth"
           }
          ],
          "contour": [
           {
            "colorbar": {
             "outlinewidth": 0,
             "ticks": ""
            },
            "colorscale": [
             [
              0,
              "#0d0887"
             ],
             [
              0.1111111111111111,
              "#46039f"
             ],
             [
              0.2222222222222222,
              "#7201a8"
             ],
             [
              0.3333333333333333,
              "#9c179e"
             ],
             [
              0.4444444444444444,
              "#bd3786"
             ],
             [
              0.5555555555555556,
              "#d8576b"
             ],
             [
              0.6666666666666666,
              "#ed7953"
             ],
             [
              0.7777777777777778,
              "#fb9f3a"
             ],
             [
              0.8888888888888888,
              "#fdca26"
             ],
             [
              1,
              "#f0f921"
             ]
            ],
            "type": "contour"
           }
          ],
          "contourcarpet": [
           {
            "colorbar": {
             "outlinewidth": 0,
             "ticks": ""
            },
            "type": "contourcarpet"
           }
          ],
          "heatmap": [
           {
            "colorbar": {
             "outlinewidth": 0,
             "ticks": ""
            },
            "colorscale": [
             [
              0,
              "#0d0887"
             ],
             [
              0.1111111111111111,
              "#46039f"
             ],
             [
              0.2222222222222222,
              "#7201a8"
             ],
             [
              0.3333333333333333,
              "#9c179e"
             ],
             [
              0.4444444444444444,
              "#bd3786"
             ],
             [
              0.5555555555555556,
              "#d8576b"
             ],
             [
              0.6666666666666666,
              "#ed7953"
             ],
             [
              0.7777777777777778,
              "#fb9f3a"
             ],
             [
              0.8888888888888888,
              "#fdca26"
             ],
             [
              1,
              "#f0f921"
             ]
            ],
            "type": "heatmap"
           }
          ],
          "heatmapgl": [
           {
            "colorbar": {
             "outlinewidth": 0,
             "ticks": ""
            },
            "colorscale": [
             [
              0,
              "#0d0887"
             ],
             [
              0.1111111111111111,
              "#46039f"
             ],
             [
              0.2222222222222222,
              "#7201a8"
             ],
             [
              0.3333333333333333,
              "#9c179e"
             ],
             [
              0.4444444444444444,
              "#bd3786"
             ],
             [
              0.5555555555555556,
              "#d8576b"
             ],
             [
              0.6666666666666666,
              "#ed7953"
             ],
             [
              0.7777777777777778,
              "#fb9f3a"
             ],
             [
              0.8888888888888888,
              "#fdca26"
             ],
             [
              1,
              "#f0f921"
             ]
            ],
            "type": "heatmapgl"
           }
          ],
          "histogram": [
           {
            "marker": {
             "colorbar": {
              "outlinewidth": 0,
              "ticks": ""
             }
            },
            "type": "histogram"
           }
          ],
          "histogram2d": [
           {
            "colorbar": {
             "outlinewidth": 0,
             "ticks": ""
            },
            "colorscale": [
             [
              0,
              "#0d0887"
             ],
             [
              0.1111111111111111,
              "#46039f"
             ],
             [
              0.2222222222222222,
              "#7201a8"
             ],
             [
              0.3333333333333333,
              "#9c179e"
             ],
             [
              0.4444444444444444,
              "#bd3786"
             ],
             [
              0.5555555555555556,
              "#d8576b"
             ],
             [
              0.6666666666666666,
              "#ed7953"
             ],
             [
              0.7777777777777778,
              "#fb9f3a"
             ],
             [
              0.8888888888888888,
              "#fdca26"
             ],
             [
              1,
              "#f0f921"
             ]
            ],
            "type": "histogram2d"
           }
          ],
          "histogram2dcontour": [
           {
            "colorbar": {
             "outlinewidth": 0,
             "ticks": ""
            },
            "colorscale": [
             [
              0,
              "#0d0887"
             ],
             [
              0.1111111111111111,
              "#46039f"
             ],
             [
              0.2222222222222222,
              "#7201a8"
             ],
             [
              0.3333333333333333,
              "#9c179e"
             ],
             [
              0.4444444444444444,
              "#bd3786"
             ],
             [
              0.5555555555555556,
              "#d8576b"
             ],
             [
              0.6666666666666666,
              "#ed7953"
             ],
             [
              0.7777777777777778,
              "#fb9f3a"
             ],
             [
              0.8888888888888888,
              "#fdca26"
             ],
             [
              1,
              "#f0f921"
             ]
            ],
            "type": "histogram2dcontour"
           }
          ],
          "mesh3d": [
           {
            "colorbar": {
             "outlinewidth": 0,
             "ticks": ""
            },
            "type": "mesh3d"
           }
          ],
          "parcoords": [
           {
            "line": {
             "colorbar": {
              "outlinewidth": 0,
              "ticks": ""
             }
            },
            "type": "parcoords"
           }
          ],
          "pie": [
           {
            "automargin": true,
            "type": "pie"
           }
          ],
          "scatter": [
           {
            "marker": {
             "colorbar": {
              "outlinewidth": 0,
              "ticks": ""
             }
            },
            "type": "scatter"
           }
          ],
          "scatter3d": [
           {
            "line": {
             "colorbar": {
              "outlinewidth": 0,
              "ticks": ""
             }
            },
            "marker": {
             "colorbar": {
              "outlinewidth": 0,
              "ticks": ""
             }
            },
            "type": "scatter3d"
           }
          ],
          "scattercarpet": [
           {
            "marker": {
             "colorbar": {
              "outlinewidth": 0,
              "ticks": ""
             }
            },
            "type": "scattercarpet"
           }
          ],
          "scattergeo": [
           {
            "marker": {
             "colorbar": {
              "outlinewidth": 0,
              "ticks": ""
             }
            },
            "type": "scattergeo"
           }
          ],
          "scattergl": [
           {
            "marker": {
             "colorbar": {
              "outlinewidth": 0,
              "ticks": ""
             }
            },
            "type": "scattergl"
           }
          ],
          "scattermapbox": [
           {
            "marker": {
             "colorbar": {
              "outlinewidth": 0,
              "ticks": ""
             }
            },
            "type": "scattermapbox"
           }
          ],
          "scatterpolar": [
           {
            "marker": {
             "colorbar": {
              "outlinewidth": 0,
              "ticks": ""
             }
            },
            "type": "scatterpolar"
           }
          ],
          "scatterpolargl": [
           {
            "marker": {
             "colorbar": {
              "outlinewidth": 0,
              "ticks": ""
             }
            },
            "type": "scatterpolargl"
           }
          ],
          "scatterternary": [
           {
            "marker": {
             "colorbar": {
              "outlinewidth": 0,
              "ticks": ""
             }
            },
            "type": "scatterternary"
           }
          ],
          "surface": [
           {
            "colorbar": {
             "outlinewidth": 0,
             "ticks": ""
            },
            "colorscale": [
             [
              0,
              "#0d0887"
             ],
             [
              0.1111111111111111,
              "#46039f"
             ],
             [
              0.2222222222222222,
              "#7201a8"
             ],
             [
              0.3333333333333333,
              "#9c179e"
             ],
             [
              0.4444444444444444,
              "#bd3786"
             ],
             [
              0.5555555555555556,
              "#d8576b"
             ],
             [
              0.6666666666666666,
              "#ed7953"
             ],
             [
              0.7777777777777778,
              "#fb9f3a"
             ],
             [
              0.8888888888888888,
              "#fdca26"
             ],
             [
              1,
              "#f0f921"
             ]
            ],
            "type": "surface"
           }
          ],
          "table": [
           {
            "cells": {
             "fill": {
              "color": "#EBF0F8"
             },
             "line": {
              "color": "white"
             }
            },
            "header": {
             "fill": {
              "color": "#C8D4E3"
             },
             "line": {
              "color": "white"
             }
            },
            "type": "table"
           }
          ]
         },
         "layout": {
          "annotationdefaults": {
           "arrowcolor": "#2a3f5f",
           "arrowhead": 0,
           "arrowwidth": 1
          },
          "coloraxis": {
           "colorbar": {
            "outlinewidth": 0,
            "ticks": ""
           }
          },
          "colorscale": {
           "diverging": [
            [
             0,
             "#8e0152"
            ],
            [
             0.1,
             "#c51b7d"
            ],
            [
             0.2,
             "#de77ae"
            ],
            [
             0.3,
             "#f1b6da"
            ],
            [
             0.4,
             "#fde0ef"
            ],
            [
             0.5,
             "#f7f7f7"
            ],
            [
             0.6,
             "#e6f5d0"
            ],
            [
             0.7,
             "#b8e186"
            ],
            [
             0.8,
             "#7fbc41"
            ],
            [
             0.9,
             "#4d9221"
            ],
            [
             1,
             "#276419"
            ]
           ],
           "sequential": [
            [
             0,
             "#0d0887"
            ],
            [
             0.1111111111111111,
             "#46039f"
            ],
            [
             0.2222222222222222,
             "#7201a8"
            ],
            [
             0.3333333333333333,
             "#9c179e"
            ],
            [
             0.4444444444444444,
             "#bd3786"
            ],
            [
             0.5555555555555556,
             "#d8576b"
            ],
            [
             0.6666666666666666,
             "#ed7953"
            ],
            [
             0.7777777777777778,
             "#fb9f3a"
            ],
            [
             0.8888888888888888,
             "#fdca26"
            ],
            [
             1,
             "#f0f921"
            ]
           ],
           "sequentialminus": [
            [
             0,
             "#0d0887"
            ],
            [
             0.1111111111111111,
             "#46039f"
            ],
            [
             0.2222222222222222,
             "#7201a8"
            ],
            [
             0.3333333333333333,
             "#9c179e"
            ],
            [
             0.4444444444444444,
             "#bd3786"
            ],
            [
             0.5555555555555556,
             "#d8576b"
            ],
            [
             0.6666666666666666,
             "#ed7953"
            ],
            [
             0.7777777777777778,
             "#fb9f3a"
            ],
            [
             0.8888888888888888,
             "#fdca26"
            ],
            [
             1,
             "#f0f921"
            ]
           ]
          },
          "colorway": [
           "#636efa",
           "#EF553B",
           "#00cc96",
           "#ab63fa",
           "#FFA15A",
           "#19d3f3",
           "#FF6692",
           "#B6E880",
           "#FF97FF",
           "#FECB52"
          ],
          "font": {
           "color": "#2a3f5f"
          },
          "geo": {
           "bgcolor": "white",
           "lakecolor": "white",
           "landcolor": "#E5ECF6",
           "showlakes": true,
           "showland": true,
           "subunitcolor": "white"
          },
          "hoverlabel": {
           "align": "left"
          },
          "hovermode": "closest",
          "mapbox": {
           "style": "light"
          },
          "paper_bgcolor": "white",
          "plot_bgcolor": "#E5ECF6",
          "polar": {
           "angularaxis": {
            "gridcolor": "white",
            "linecolor": "white",
            "ticks": ""
           },
           "bgcolor": "#E5ECF6",
           "radialaxis": {
            "gridcolor": "white",
            "linecolor": "white",
            "ticks": ""
           }
          },
          "scene": {
           "xaxis": {
            "backgroundcolor": "#E5ECF6",
            "gridcolor": "white",
            "gridwidth": 2,
            "linecolor": "white",
            "showbackground": true,
            "ticks": "",
            "zerolinecolor": "white"
           },
           "yaxis": {
            "backgroundcolor": "#E5ECF6",
            "gridcolor": "white",
            "gridwidth": 2,
            "linecolor": "white",
            "showbackground": true,
            "ticks": "",
            "zerolinecolor": "white"
           },
           "zaxis": {
            "backgroundcolor": "#E5ECF6",
            "gridcolor": "white",
            "gridwidth": 2,
            "linecolor": "white",
            "showbackground": true,
            "ticks": "",
            "zerolinecolor": "white"
           }
          },
          "shapedefaults": {
           "line": {
            "color": "#2a3f5f"
           }
          },
          "ternary": {
           "aaxis": {
            "gridcolor": "white",
            "linecolor": "white",
            "ticks": ""
           },
           "baxis": {
            "gridcolor": "white",
            "linecolor": "white",
            "ticks": ""
           },
           "bgcolor": "#E5ECF6",
           "caxis": {
            "gridcolor": "white",
            "linecolor": "white",
            "ticks": ""
           }
          },
          "title": {
           "x": 0.05
          },
          "xaxis": {
           "automargin": true,
           "gridcolor": "white",
           "linecolor": "white",
           "ticks": "",
           "title": {
            "standoff": 15
           },
           "zerolinecolor": "white",
           "zerolinewidth": 2
          },
          "yaxis": {
           "automargin": true,
           "gridcolor": "white",
           "linecolor": "white",
           "ticks": "",
           "title": {
            "standoff": 15
           },
           "zerolinecolor": "white",
           "zerolinewidth": 2
          }
         }
        },
        "title": {
         "text": "Comparaison of feature importance for Lineage : B"
        },
        "xaxis": {
         "title": {
          "text": "BassetE's motif importance"
         }
        },
        "yaxis": {
         "title": {
          "text": "Generated Motifs"
         }
        }
       }
      },
      "text/html": [
       "<div>\n",
       "        \n",
       "        \n",
       "            <div id=\"317633f8-4da0-4018-ace3-da8b84f8fc13\" class=\"plotly-graph-div\" style=\"height:525px; width:100%;\"></div>\n",
       "            <script type=\"text/javascript\">\n",
       "                require([\"plotly\"], function(Plotly) {\n",
       "                    window.PLOTLYENV=window.PLOTLYENV || {};\n",
       "                    \n",
       "                if (document.getElementById(\"317633f8-4da0-4018-ace3-da8b84f8fc13\")) {\n",
       "                    Plotly.newPlot(\n",
       "                        '317633f8-4da0-4018-ace3-da8b84f8fc13',\n",
       "                        [{\"hovertext\": [\"filter1\", \"filter6\", \"filter8\", \"filter9\", \"filter10\", \"filter11\", \"filter14\", \"filter15\", \"filter23\", \"filter28\", \"filter34\", \"filter35\", \"filter40\", \"filter43\", \"filter44\", \"filter47\", \"filter50\", \"filter51\", \"filter65\", \"filter66\", \"filter67\", \"filter68\", \"filter69\", \"filter70\", \"filter78\", \"filter80\", \"filter85\", \"filter89\", \"filter93\", \"filter94\", \"filter97\", \"filter102\", \"filter105\", \"filter106\", \"filter112\", \"filter115\", \"filter120\", \"filter122\", \"filter123\", \"filter124\", \"filter127\", \"filter129\", \"filter132\", \"filter133\", \"filter135\", \"filter151\", \"filter154\", \"filter155\", \"filter157\", \"filter165\", \"filter166\", \"filter167\", \"filter170\", \"filter173\", \"filter174\", \"filter178\", \"filter183\", \"filter185\", \"filter186\", \"filter190\", \"filter194\", \"filter195\", \"filter196\", \"filter198\", \"filter202\", \"filter205\", \"filter209\", \"filter214\", \"filter217\", \"filter218\", \"filter219\", \"filter220\", \"filter223\", \"filter224\", \"filter227\", \"filter230\", \"filter231\", \"filter238\", \"filter242\", \"filter244\", \"filter247\", \"filter250\", \"filter252\", \"filter255\", \"filter257\", \"filter260\", \"filter264\", \"filter270\", \"filter275\", \"filter276\", \"filter279\", \"filter281\", \"filter283\", \"filter284\", \"filter286\", \"filter288\", \"filter290\", \"filter292\", \"filter297\"], \"mode\": \"markers+text\", \"text\": [\"Atf3\", \"Ebf1\", \"Zeb1\", \"MOTIF NOT KNOWN\", \"Runx\", \"Ets1\", \"Sox13\", \"Runx\", \"Ctcf\", \"Mafg\", \"Cebp\", \"Nfix\", \"MOTIF NOT KNOWN\", \"bZip\", \"Pouf2f\", \"Runx\", \"Lef1\", \"bZip\", \"Nfkb1\", \"MOTIF NOT KNOWN\", \"Mzf1\", \"Nr1d1\", \"Ctcf\", \"MOTIF NOT KNOWN\", \"Tcf3\", \"Lef1\", \"Zkscan1\", \"Irf1\", \"Zeb1\", \"Pu.1\", \"Emoes\", \"MOTIF NOT KNOWN\", \"MOTIF NOT KNOWN\", \"Tbx21\", \"Tcf3\", \"Hlx\", \"Ets\", \"Ellf1\", \"Ebf1\", \"MOTIF NOT KNOWN\", \"MOTIF NOT KNOWN\", \"Nr2f6\", \"MOTIF NOT KNOWN\", \"Sfpi1\", \"Pou2f2\", \"MOTIF NOT KNOWN\", \"Sp\", \"MOTIF NOT KNOWN\", \"MOTIF NOT KNOWN\", \"Irf1\", \"Lef1\", \"Pax5\", \"MOTIF NOT KNOWN\", \"C2H2 ZF\", \"Cebp\", \"Sp\", \"MOTIF NOT KNOWN\", \"MOTIF NOT KNOWN\", \"MOTIF NOT KNOWN\", \"Pou2f2\", \"MOTIF NOT KNOWN\", \"Gata\", \"MOTIF NOT KNOWN\", \"Pax5\", \"MOTIF NOT KNOWN\", \"Bcl11a\", \"MOTIF NOT KNOWN\", \"MOTIF NOT KNOWN\", \"Pax5\", \"Pouf2f\", \"MOTIF NOT KNOWN\", \"Nr2f6\", \"MOTIF NOT KNOWN\", \"Irf1\", \"MOTIF NOT KNOWN\", \"Sfpi1\", \"Nfkb1\", \"Nr1d1\", \"Sp\", \"Erg\", \"Nfkb2\", \"Irf1\", \"Ets\", \"Sfpi1\", \"Pax5\", \"Ebf1\", \"Mafg\", \"MOTIF NOT KNOWN\", \"Ctcf\", \"Sfpi1\", \"Eomes\", \"MOTIF NOT KNOWN\", \"bZip\", \"Homeodomain\", \"Sfpi1\", \"Emoes\", \"Mafg\", \"Fos\", \"Mecp2\"], \"textposition\": \"bottom left\", \"type\": \"scatter\", \"x\": [3.3080000000000003, 3.925, 4.244, 3.491, 3.386, 3.2969999999999997, 3.207, 3.323, 6.12, 3.429, 3.167, 3.2289999999999996, 3.28, 3.2939999999999996, 4.104, 3.272, 3.347, 3.398, 3.452, 3.3739999999999997, 4.0569999999999995, 3.182, 5.379, 3.909, 3.903, 3.073, 3.102, 3.75, 4.0969999999999995, 3.7569999999999997, 3.344, 3.292, 3.2430000000000003, 4.522, 3.661, 3.3789999999999996, 3.215, 3.167, 4.393, 3.5380000000000003, 3.4960000000000004, 3.383, 3.511, 7.415, 4.7589999999999995, 3.2939999999999996, 3.6069999999999998, 3.443, 3.272, 8.555, 3.1289999999999996, 4.9719999999999995, 3.06, 3.9010000000000002, 3.127, 3.362, 3.208, 3.199, 3.228, 5.144, 3.279, 3.182, 3.79, 3.883, 3.676, 5.778, 3.141, 3.387, 4.297, 5.178, 3.3760000000000003, 3.082, 3.43, 5.2139999999999995, 3.324, 5.846, 3.523, 3.108, 4.007, 3.585, 3.582, 3.477, 3.2110000000000003, 6.095, 4.046, 5.557, 3.2030000000000003, 3.281, 5.558, 5.039, 3.378, 3.373, 3.207, 3.753, 6.188, 3.324, 3.405, 3.069, 3.245], \"y\": [0.0598, 0.0458, 0.062, 0.047, 0.047, 0.0518, 0.0506, 0.0504, 0.0704, 0.0602, 0.033, 0.0502, 0.0374, 0.0798, 0.0276, 0.0524, 0.0442, 0.0614, 0.0476, 0.0468, 0.0668, 0.0422, 0.0554, 0.0584, 0.0642, 0.0316, 0.0606, 0.0378, 0.0688, 0.047, 0.055, 0.0744, 0.0428, 0.0434, 0.043, 0.0514, 0.07200000000000001, 0.0582, 0.0794, 0.0392, 0.0646, 0.0586, 0.0506, 0.045, 0.0346, 0.0756, 0.0676, 0.06, 0.0582, 0.0336, 0.0372, 0.0528, 0.0496, 0.0846, 0.0282, 0.0622, 0.036000000000000004, 0.0524, 0.0506, 0.0294, 0.0496, 0.0352, 0.0626, 0.0616, 0.0674, 0.0478, 0.0492, 0.062, 0.0476, 0.028999999999999998, 0.0482, 0.0598, 0.062, 0.0368, 0.063, 0.0404, 0.0464, 0.0582, 0.084, 0.055999999999999994, 0.0568, 0.0382, 0.0524, 0.0482, 0.0588, 0.0438, 0.0668, 0.0444, 0.077, 0.0346, 0.0544, 0.063, 0.0654, 0.0464, 0.0404, 0.0494, 0.054000000000000006, 0.0306, 0.0452]}],\n",
       "                        {\"template\": {\"data\": {\"bar\": [{\"error_x\": {\"color\": \"#2a3f5f\"}, \"error_y\": {\"color\": \"#2a3f5f\"}, \"marker\": {\"line\": {\"color\": \"#E5ECF6\", \"width\": 0.5}}, \"type\": \"bar\"}], \"barpolar\": [{\"marker\": {\"line\": {\"color\": \"#E5ECF6\", \"width\": 0.5}}, \"type\": \"barpolar\"}], \"carpet\": [{\"aaxis\": {\"endlinecolor\": \"#2a3f5f\", \"gridcolor\": \"white\", \"linecolor\": \"white\", \"minorgridcolor\": \"white\", \"startlinecolor\": \"#2a3f5f\"}, \"baxis\": {\"endlinecolor\": \"#2a3f5f\", \"gridcolor\": \"white\", \"linecolor\": \"white\", \"minorgridcolor\": \"white\", \"startlinecolor\": \"#2a3f5f\"}, \"type\": \"carpet\"}], \"choropleth\": [{\"colorbar\": {\"outlinewidth\": 0, \"ticks\": \"\"}, \"type\": \"choropleth\"}], \"contour\": [{\"colorbar\": {\"outlinewidth\": 0, \"ticks\": \"\"}, \"colorscale\": [[0.0, \"#0d0887\"], [0.1111111111111111, \"#46039f\"], [0.2222222222222222, \"#7201a8\"], [0.3333333333333333, \"#9c179e\"], [0.4444444444444444, \"#bd3786\"], [0.5555555555555556, \"#d8576b\"], [0.6666666666666666, \"#ed7953\"], [0.7777777777777778, \"#fb9f3a\"], [0.8888888888888888, \"#fdca26\"], [1.0, \"#f0f921\"]], \"type\": \"contour\"}], \"contourcarpet\": [{\"colorbar\": {\"outlinewidth\": 0, \"ticks\": \"\"}, \"type\": \"contourcarpet\"}], \"heatmap\": [{\"colorbar\": {\"outlinewidth\": 0, \"ticks\": \"\"}, \"colorscale\": [[0.0, \"#0d0887\"], [0.1111111111111111, \"#46039f\"], [0.2222222222222222, \"#7201a8\"], [0.3333333333333333, \"#9c179e\"], [0.4444444444444444, \"#bd3786\"], [0.5555555555555556, \"#d8576b\"], [0.6666666666666666, \"#ed7953\"], [0.7777777777777778, \"#fb9f3a\"], [0.8888888888888888, \"#fdca26\"], [1.0, \"#f0f921\"]], \"type\": \"heatmap\"}], \"heatmapgl\": [{\"colorbar\": {\"outlinewidth\": 0, \"ticks\": \"\"}, \"colorscale\": [[0.0, \"#0d0887\"], [0.1111111111111111, \"#46039f\"], [0.2222222222222222, \"#7201a8\"], [0.3333333333333333, \"#9c179e\"], [0.4444444444444444, \"#bd3786\"], [0.5555555555555556, \"#d8576b\"], [0.6666666666666666, \"#ed7953\"], [0.7777777777777778, \"#fb9f3a\"], [0.8888888888888888, \"#fdca26\"], [1.0, \"#f0f921\"]], \"type\": \"heatmapgl\"}], \"histogram\": [{\"marker\": {\"colorbar\": {\"outlinewidth\": 0, \"ticks\": \"\"}}, \"type\": \"histogram\"}], \"histogram2d\": [{\"colorbar\": {\"outlinewidth\": 0, \"ticks\": \"\"}, \"colorscale\": [[0.0, \"#0d0887\"], [0.1111111111111111, \"#46039f\"], [0.2222222222222222, \"#7201a8\"], [0.3333333333333333, \"#9c179e\"], [0.4444444444444444, \"#bd3786\"], [0.5555555555555556, \"#d8576b\"], [0.6666666666666666, \"#ed7953\"], [0.7777777777777778, \"#fb9f3a\"], [0.8888888888888888, \"#fdca26\"], [1.0, \"#f0f921\"]], \"type\": \"histogram2d\"}], \"histogram2dcontour\": [{\"colorbar\": {\"outlinewidth\": 0, \"ticks\": \"\"}, \"colorscale\": [[0.0, \"#0d0887\"], [0.1111111111111111, \"#46039f\"], [0.2222222222222222, \"#7201a8\"], [0.3333333333333333, \"#9c179e\"], [0.4444444444444444, \"#bd3786\"], [0.5555555555555556, \"#d8576b\"], [0.6666666666666666, \"#ed7953\"], [0.7777777777777778, \"#fb9f3a\"], [0.8888888888888888, \"#fdca26\"], [1.0, \"#f0f921\"]], \"type\": \"histogram2dcontour\"}], \"mesh3d\": [{\"colorbar\": {\"outlinewidth\": 0, \"ticks\": \"\"}, \"type\": \"mesh3d\"}], \"parcoords\": [{\"line\": {\"colorbar\": {\"outlinewidth\": 0, \"ticks\": \"\"}}, \"type\": \"parcoords\"}], \"pie\": [{\"automargin\": true, \"type\": \"pie\"}], \"scatter\": [{\"marker\": {\"colorbar\": {\"outlinewidth\": 0, \"ticks\": \"\"}}, \"type\": \"scatter\"}], \"scatter3d\": [{\"line\": {\"colorbar\": {\"outlinewidth\": 0, \"ticks\": \"\"}}, \"marker\": {\"colorbar\": {\"outlinewidth\": 0, \"ticks\": \"\"}}, \"type\": \"scatter3d\"}], \"scattercarpet\": [{\"marker\": {\"colorbar\": {\"outlinewidth\": 0, \"ticks\": \"\"}}, \"type\": \"scattercarpet\"}], \"scattergeo\": [{\"marker\": {\"colorbar\": {\"outlinewidth\": 0, \"ticks\": \"\"}}, \"type\": \"scattergeo\"}], \"scattergl\": [{\"marker\": {\"colorbar\": {\"outlinewidth\": 0, \"ticks\": \"\"}}, \"type\": \"scattergl\"}], \"scattermapbox\": [{\"marker\": {\"colorbar\": {\"outlinewidth\": 0, \"ticks\": \"\"}}, \"type\": \"scattermapbox\"}], \"scatterpolar\": [{\"marker\": {\"colorbar\": {\"outlinewidth\": 0, \"ticks\": \"\"}}, \"type\": \"scatterpolar\"}], \"scatterpolargl\": [{\"marker\": {\"colorbar\": {\"outlinewidth\": 0, \"ticks\": \"\"}}, \"type\": \"scatterpolargl\"}], \"scatterternary\": [{\"marker\": {\"colorbar\": {\"outlinewidth\": 0, \"ticks\": \"\"}}, \"type\": \"scatterternary\"}], \"surface\": [{\"colorbar\": {\"outlinewidth\": 0, \"ticks\": \"\"}, \"colorscale\": [[0.0, \"#0d0887\"], [0.1111111111111111, \"#46039f\"], [0.2222222222222222, \"#7201a8\"], [0.3333333333333333, \"#9c179e\"], [0.4444444444444444, \"#bd3786\"], [0.5555555555555556, \"#d8576b\"], [0.6666666666666666, \"#ed7953\"], [0.7777777777777778, \"#fb9f3a\"], [0.8888888888888888, \"#fdca26\"], [1.0, \"#f0f921\"]], \"type\": \"surface\"}], \"table\": [{\"cells\": {\"fill\": {\"color\": \"#EBF0F8\"}, \"line\": {\"color\": \"white\"}}, \"header\": {\"fill\": {\"color\": \"#C8D4E3\"}, \"line\": {\"color\": \"white\"}}, \"type\": \"table\"}]}, \"layout\": {\"annotationdefaults\": {\"arrowcolor\": \"#2a3f5f\", \"arrowhead\": 0, \"arrowwidth\": 1}, \"coloraxis\": {\"colorbar\": {\"outlinewidth\": 0, \"ticks\": \"\"}}, \"colorscale\": {\"diverging\": [[0, \"#8e0152\"], [0.1, \"#c51b7d\"], [0.2, \"#de77ae\"], [0.3, \"#f1b6da\"], [0.4, \"#fde0ef\"], [0.5, \"#f7f7f7\"], [0.6, \"#e6f5d0\"], [0.7, \"#b8e186\"], [0.8, \"#7fbc41\"], [0.9, \"#4d9221\"], [1, \"#276419\"]], \"sequential\": [[0.0, \"#0d0887\"], [0.1111111111111111, \"#46039f\"], [0.2222222222222222, \"#7201a8\"], [0.3333333333333333, \"#9c179e\"], [0.4444444444444444, \"#bd3786\"], [0.5555555555555556, \"#d8576b\"], [0.6666666666666666, \"#ed7953\"], [0.7777777777777778, \"#fb9f3a\"], [0.8888888888888888, \"#fdca26\"], [1.0, \"#f0f921\"]], \"sequentialminus\": [[0.0, \"#0d0887\"], [0.1111111111111111, \"#46039f\"], [0.2222222222222222, \"#7201a8\"], [0.3333333333333333, \"#9c179e\"], [0.4444444444444444, \"#bd3786\"], [0.5555555555555556, \"#d8576b\"], [0.6666666666666666, \"#ed7953\"], [0.7777777777777778, \"#fb9f3a\"], [0.8888888888888888, \"#fdca26\"], [1.0, \"#f0f921\"]]}, \"colorway\": [\"#636efa\", \"#EF553B\", \"#00cc96\", \"#ab63fa\", \"#FFA15A\", \"#19d3f3\", \"#FF6692\", \"#B6E880\", \"#FF97FF\", \"#FECB52\"], \"font\": {\"color\": \"#2a3f5f\"}, \"geo\": {\"bgcolor\": \"white\", \"lakecolor\": \"white\", \"landcolor\": \"#E5ECF6\", \"showlakes\": true, \"showland\": true, \"subunitcolor\": \"white\"}, \"hoverlabel\": {\"align\": \"left\"}, \"hovermode\": \"closest\", \"mapbox\": {\"style\": \"light\"}, \"paper_bgcolor\": \"white\", \"plot_bgcolor\": \"#E5ECF6\", \"polar\": {\"angularaxis\": {\"gridcolor\": \"white\", \"linecolor\": \"white\", \"ticks\": \"\"}, \"bgcolor\": \"#E5ECF6\", \"radialaxis\": {\"gridcolor\": \"white\", \"linecolor\": \"white\", \"ticks\": \"\"}}, \"scene\": {\"xaxis\": {\"backgroundcolor\": \"#E5ECF6\", \"gridcolor\": \"white\", \"gridwidth\": 2, \"linecolor\": \"white\", \"showbackground\": true, \"ticks\": \"\", \"zerolinecolor\": \"white\"}, \"yaxis\": {\"backgroundcolor\": \"#E5ECF6\", \"gridcolor\": \"white\", \"gridwidth\": 2, \"linecolor\": \"white\", \"showbackground\": true, \"ticks\": \"\", \"zerolinecolor\": \"white\"}, \"zaxis\": {\"backgroundcolor\": \"#E5ECF6\", \"gridcolor\": \"white\", \"gridwidth\": 2, \"linecolor\": \"white\", \"showbackground\": true, \"ticks\": \"\", \"zerolinecolor\": \"white\"}}, \"shapedefaults\": {\"line\": {\"color\": \"#2a3f5f\"}}, \"ternary\": {\"aaxis\": {\"gridcolor\": \"white\", \"linecolor\": \"white\", \"ticks\": \"\"}, \"baxis\": {\"gridcolor\": \"white\", \"linecolor\": \"white\", \"ticks\": \"\"}, \"bgcolor\": \"#E5ECF6\", \"caxis\": {\"gridcolor\": \"white\", \"linecolor\": \"white\", \"ticks\": \"\"}}, \"title\": {\"x\": 0.05}, \"xaxis\": {\"automargin\": true, \"gridcolor\": \"white\", \"linecolor\": \"white\", \"ticks\": \"\", \"title\": {\"standoff\": 15}, \"zerolinecolor\": \"white\", \"zerolinewidth\": 2}, \"yaxis\": {\"automargin\": true, \"gridcolor\": \"white\", \"linecolor\": \"white\", \"ticks\": \"\", \"title\": {\"standoff\": 15}, \"zerolinecolor\": \"white\", \"zerolinewidth\": 2}}}, \"title\": {\"text\": \"Comparaison of feature importance for Lineage : B\"}, \"xaxis\": {\"title\": {\"text\": \"BassetE's motif importance\"}}, \"yaxis\": {\"title\": {\"text\": \"Generated Motifs\"}}},\n",
       "                        {\"responsive\": true}\n",
       "                    ).then(function(){\n",
       "                            \n",
       "var gd = document.getElementById('317633f8-4da0-4018-ace3-da8b84f8fc13');\n",
       "var x = new MutationObserver(function (mutations, observer) {{\n",
       "        var display = window.getComputedStyle(gd).display;\n",
       "        if (!display || display === 'none') {{\n",
       "            console.log([gd, 'removed!']);\n",
       "            Plotly.purge(gd);\n",
       "            observer.disconnect();\n",
       "        }}\n",
       "}});\n",
       "\n",
       "// Listen for the removal of the full notebook cells\n",
       "var notebookContainer = gd.closest('#notebook-container');\n",
       "if (notebookContainer) {{\n",
       "    x.observe(notebookContainer, {childList: true});\n",
       "}}\n",
       "\n",
       "// Listen for the clearing of the current output cell\n",
       "var outputEl = gd.closest('.output');\n",
       "if (outputEl) {{\n",
       "    x.observe(outputEl, {childList: true});\n",
       "}}\n",
       "\n",
       "                        })\n",
       "                };\n",
       "                });\n",
       "            </script>\n",
       "        </div>"
      ]
     },
     "metadata": {},
     "output_type": "display_data"
    }
   ],
   "source": [
    "fig = go.Figure(go.Scatter(y = comparaison_be['Random'],\n",
    "                     x = comparaison_be['memoryview'],\n",
    "                     mode='markers+text',\n",
    "                     text = comparaison_be['Best overall TF match'],\n",
    "                     hovertext=comparaison_be.index,\n",
    "                     textposition=\"bottom left\"))\n",
    "fig.update_layout(title=\"Comparaison of feature importance for Lineage : {}\".format('B'),\n",
    "                  yaxis_title='Generated Motifs',\n",
    "                  xaxis_title =\"BassetE's motif importance\")\n",
    "fig.show()"
   ]
  },
  {
   "cell_type": "code",
   "execution_count": 49,
   "metadata": {},
   "outputs": [
    {
     "data": {
      "application/vnd.jupyter.widget-view+json": {
       "model_id": "d42e6b9b7fc34ca0b4e2360a681ce288",
       "version_major": 2,
       "version_minor": 0
      },
      "text/plain": [
       "interactive(children=(Dropdown(description='ct', options=('abT', 'stem', 'gdT', 'B', 'innate.lym', 'myeloid', …"
      ]
     },
     "metadata": {},
     "output_type": "display_data"
    }
   ],
   "source": [
    "@interact_manual\n",
    "def motifs_influence_sasha(ct=generated_smotifs_2.drop(columns=['Best overall TF match','Motif consensus Sequence']).columns) :\n",
    "    fig = go.Figure(go.Scatter(y = comparaison_be_2['{}_generated'.format(ct)],\n",
    "                         x = comparaison_be_2['{}_be'.format(ct)],\n",
    "                         mode='markers+text',\n",
    "                         text = comparaison_be_2['Best overall TF match'],\n",
    "                         hovertext=comparaison_be_2.index,\n",
    "                         textposition=\"bottom left\"))\n",
    "    fig.update_layout(title=\"Comparaison of feature importance for Lineage : {}\".format(ct),\n",
    "                      yaxis_title='Generated Motifs',\n",
    "                      xaxis_title =\"BassetE's motif importance\")\n",
    "    fig.show()\n"
   ]
  },
  {
   "cell_type": "markdown",
   "metadata": {},
   "source": [
    "# Graph Poster"
   ]
  },
  {
   "cell_type": "code",
   "execution_count": 10,
   "metadata": {},
   "outputs": [],
   "source": [
    "be_importance = pd.read_csv(os.path.expanduser('~/Dropbox/UBC/data/Activation_BassetE_FilterS.csv'),index_col=0).drop(columns=['Best overall TF match','Motif consensus Sequence'])\n",
    "comparaison_be_2 = pd.merge(be_importance,\n",
    "                       generated_smotifs_2,\n",
    "                       left_index=True, right_index=True, suffixes=('_be','_generated'), how='left')\n",
    "comparaison_be_2 = comparaison_be_2.fillna(0)\n",
    "aga = pd.merge(comparaison_be_2,table[['Reproducibility']], left_index=True, right_index=True)"
   ]
  },
  {
   "cell_type": "code",
   "execution_count": 16,
   "metadata": {},
   "outputs": [
    {
     "data": {
      "text/plain": [
       "3"
      ]
     },
     "execution_count": 16,
     "metadata": {},
     "output_type": "execute_result"
    }
   ],
   "source": [
    "aga['Reproducibility'].nunique()"
   ]
  },
  {
   "cell_type": "code",
   "execution_count": 19,
   "metadata": {},
   "outputs": [
    {
     "data": {
      "text/plain": [
       "<matplotlib.axes._subplots.AxesSubplot at 0x7fbe4a4b8cc0>"
      ]
     },
     "execution_count": 19,
     "metadata": {},
     "output_type": "execute_result"
    },
    {
     "data": {
      "image/png": "[encoded data removed]",
      "text/plain": [
       "<Figure size 432x288 with 1 Axes>"
      ]
     },
     "metadata": {
      "needs_background": "light"
     },
     "output_type": "display_data"
    }
   ],
   "source": [
    "sns.scatterplot(x='B_be', y='B_generated', hue='Reproducibility', palette=sns.color_palette('rainbow',3), s=40, linewidth=0,legend='full',data=aga)\n",
    "plt.xlabel(\"Average DeepLIFT Importance Score\", fontsize=15)\n",
    "plt.ylabel(\"Log of Influence of Best Match\", fontsize=15)"
   ]
  }
 ],
 "metadata": {
  "kernelspec": {
   "display_name": "Python 3",
   "language": "python",
   "name": "python3"
  },
  "language_info": {
   "codemirror_mode": {
    "name": "ipython",
    "version": 3
   },
   "file_extension": ".py",
   "mimetype": "text/x-python",
   "name": "python",
   "nbconvert_exporter": "python",
   "pygments_lexer": "ipython3",
   "version": "3.6.9"
  }
 },
 "nbformat": 4,
 "nbformat_minor": 2
}
